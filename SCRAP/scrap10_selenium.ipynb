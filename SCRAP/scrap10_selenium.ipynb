{
 "cells": [
  {
   "cell_type": "code",
   "execution_count": 2,
   "id": "cd58c854",
   "metadata": {},
   "outputs": [],
   "source": [
    "import pandas as pd\n",
    "import time\n",
    "from selenium import webdriver"
   ]
  },
  {
   "cell_type": "code",
   "execution_count": 3,
   "id": "5039c3e9",
   "metadata": {},
   "outputs": [],
   "source": [
    "import warnings\n",
    "warnings.filterwarnings(action='ignore')"
   ]
  },
  {
   "cell_type": "code",
   "execution_count": 4,
   "id": "19e10a2f",
   "metadata": {},
   "outputs": [],
   "source": [
    "import urllib.request\n",
    "import os"
   ]
  },
  {
   "cell_type": "code",
   "execution_count": 5,
   "id": "27d7a42e",
   "metadata": {},
   "outputs": [
    {
     "data": {
      "text/plain": [
       "('output/flower.jpg', <http.client.HTTPMessage at 0x7ff022877be0>)"
      ]
     },
     "execution_count": 5,
     "metadata": {},
     "output_type": "execute_result"
    }
   ],
   "source": [
    "# 이미저 저장하기\n",
    "# urllib.request.urlretrieve(imgURL, targetPath)\n",
    "\n",
    "imgURL = 'https://www.ikea.com/kr/en/images/products/smycka-artificial-flower-carnation-dark-lilac__0636966_pe698127_s5.jpg'\n",
    "targetPath = 'output/flower.jpg'\n",
    "urllib.request.urlretrieve(imgURL, targetPath)"
   ]
  },
  {
   "cell_type": "code",
   "execution_count": 6,
   "id": "87e43279",
   "metadata": {},
   "outputs": [
    {
     "name": "stdout",
     "output_type": "stream",
     "text": [
      "total 3432\r\n",
      "drwxr-xr-x@ 14 jaehyeong  staff     448 10 18 16:13 \u001b[34m.\u001b[m\u001b[m/\r\n",
      "drwxr-xr-x  16 jaehyeong  staff     512 10 18 16:11 \u001b[34m..\u001b[m\u001b[m/\r\n",
      "-rw-r--r--   1 jaehyeong  staff  392684 10 14 14:24 aladin.html\r\n",
      "-rw-r--r--   1 jaehyeong  staff  510568 10 14 14:46 aladin2.html\r\n",
      "-rw-r--r--   1 jaehyeong  staff    4116 10 15 10:33 alexa.csv\r\n",
      "-rw-r--r--   1 jaehyeong  staff     852 10 15 10:42 alexa2.csv\r\n",
      "-rw-r--r--   1 jaehyeong  staff   12283 10 14 17:22 color.csv\r\n",
      "-rw-r--r--   1 jaehyeong  staff   69038 10 18 16:13 flower.jpg\r\n",
      "-rw-r--r--   1 jaehyeong  staff   14424 10 15 15:53 movieKid.csv\r\n",
      "-rw-r--r--   1 jaehyeong  staff   11557 10 15 15:09 naverMovie.csv\r\n",
      "-rw-r--r--   1 jaehyeong  staff     973 10 15 13:01 naverWebtoon10.csv\r\n",
      "-rw-r--r--   1 jaehyeong  staff    1717 10 15 11:42 yes24.csv\r\n",
      "-rw-r--r--@  1 jaehyeong  staff  554931 10 14 14:10 yes24.html\r\n",
      "-rw-r--r--   1 jaehyeong  staff  163096 10 18 11:24 yes24999.csv\r\n"
     ]
    }
   ],
   "source": [
    "ls -al output"
   ]
  },
  {
   "cell_type": "code",
   "execution_count": 7,
   "id": "eb9d6155",
   "metadata": {},
   "outputs": [],
   "source": [
    "driver = webdriver.Chrome(executable_path='./chromedriver')\n",
    "time.sleep(2)\n",
    "\n",
    "url = 'https://www.google.co.kr/imghp?hl=ko&tab=ri&ogbl'\n",
    "driver.get(url)\n",
    "\n",
    "driver.find_element_by_name('q').send_keys('노고단')\n",
    "driver.find_element_by_name('q').submit()\n",
    "\n",
    "SCROLL_PAUSE_TIME = 2"
   ]
  },
  {
   "cell_type": "code",
   "execution_count": 12,
   "id": "2f285cdf",
   "metadata": {},
   "outputs": [],
   "source": [
    "# javascript 연동\n",
    "driver.execute_script('console.log(\"Hello World!\")')"
   ]
  },
  {
   "cell_type": "code",
   "execution_count": 14,
   "id": "fbabe58d",
   "metadata": {},
   "outputs": [],
   "source": [
    "driver.execute_script('window.alert(\"Hello Python!\")')"
   ]
  },
  {
   "cell_type": "code",
   "execution_count": 43,
   "id": "aeea272a",
   "metadata": {},
   "outputs": [
    {
     "name": "stdout",
     "output_type": "stream",
     "text": [
      "6696\n",
      "13000\n",
      "18820\n",
      "24644\n",
      "24725\n",
      "24725\n",
      "29959\n",
      "35291\n",
      "40393\n",
      "46459\n",
      "52279\n",
      "55268\n"
     ]
    }
   ],
   "source": [
    "driver = webdriver.Chrome(executable_path='./chromedriver')\n",
    "time.sleep(2)\n",
    "\n",
    "url = 'https://www.google.co.kr/imghp?hl=ko&tab=ri&ogbl'\n",
    "driver.get(url)\n",
    "\n",
    "driver.find_element_by_name('q').send_keys('노고단')\n",
    "driver.find_element_by_name('q').submit()\n",
    "\n",
    "# 스크롤링 타임 지정\n",
    "SCROLL_PAUSE_TIME = 2\n",
    "\n",
    "# 웹브라우저의 현재 전체 스크롤바 높이 반환\n",
    "last_height = driver.execute_script('return document.body.scrollHeight')\n",
    "\n",
    "while True:\n",
    "    driver.execute_script('window.scrollTo(0, document.body.scrollHeight)')\n",
    "    \n",
    "    time.sleep(SCROLL_PAUSE_TIME)\n",
    "\n",
    "    new_height = driver.execute_script('return document.body.scrollHeight')\n",
    "    if last_height == new_height:\n",
    "        try:\n",
    "            driver.find_element_by_css_selector('input.mye4qd').click()\n",
    "        except:\n",
    "            break\n",
    "    last_height = new_height\n",
    "    print(last_height)\n",
    "    "
   ]
  },
  {
   "cell_type": "code",
   "execution_count": 44,
   "id": "052aae93",
   "metadata": {},
   "outputs": [
    {
     "data": {
      "text/plain": [
       "947"
      ]
     },
     "execution_count": 44,
     "metadata": {},
     "output_type": "execute_result"
    }
   ],
   "source": [
    "# 이미지 저장\n",
    "img_list = driver.find_elements_by_css_selector('.rg_i')\n",
    "img_url_list = []\n",
    "for item in img_list:\n",
    "    img_url_list.append(item.get_attribute('src'))\n",
    "\n",
    "len(img_url_list)"
   ]
  },
  {
   "cell_type": "code",
   "execution_count": 45,
   "id": "dd4d2c88",
   "metadata": {},
   "outputs": [
    {
     "data": {
      "text/plain": [
       "'data:image/jpeg;base64,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'"
      ]
     },
     "execution_count": 45,
     "metadata": {},
     "output_type": "execute_result"
    }
   ],
   "source": [
    "img_url_list[0]"
   ]
  },
  {
   "cell_type": "code",
   "execution_count": 36,
   "id": "09c3a2cc",
   "metadata": {},
   "outputs": [],
   "source": [
    "n = 5\n",
    "for i in range(n):\n",
    "    path = f'output/mountain_{i}.jpg'\n",
    "    urllib.request.urlretrieve(img_url_list[i], path)"
   ]
  },
  {
   "cell_type": "code",
   "execution_count": 37,
   "id": "3d385939",
   "metadata": {},
   "outputs": [
    {
     "name": "stdout",
     "output_type": "stream",
     "text": [
      "total 3536\r\n",
      "drwxr-xr-x@ 19 jaehyeong  staff     608 10 18 17:13 \u001b[34m.\u001b[m\u001b[m/\r\n",
      "drwxr-xr-x  16 jaehyeong  staff     512 10 18 17:11 \u001b[34m..\u001b[m\u001b[m/\r\n",
      "-rw-r--r--   1 jaehyeong  staff  392684 10 14 14:24 aladin.html\r\n",
      "-rw-r--r--   1 jaehyeong  staff  510568 10 14 14:46 aladin2.html\r\n",
      "-rw-r--r--   1 jaehyeong  staff    4116 10 15 10:33 alexa.csv\r\n",
      "-rw-r--r--   1 jaehyeong  staff     852 10 15 10:42 alexa2.csv\r\n",
      "-rw-r--r--   1 jaehyeong  staff   12283 10 14 17:22 color.csv\r\n",
      "-rw-r--r--   1 jaehyeong  staff   69038 10 18 16:13 flower.jpg\r\n",
      "-rw-r--r--   1 jaehyeong  staff    9302 10 18 17:13 mountain_0.jpg\r\n",
      "-rw-r--r--   1 jaehyeong  staff    9170 10 18 17:13 mountain_1.jpg\r\n",
      "-rw-r--r--   1 jaehyeong  staff    7015 10 18 17:13 mountain_2.jpg\r\n",
      "-rw-r--r--   1 jaehyeong  staff    7692 10 18 17:13 mountain_3.jpg\r\n",
      "-rw-r--r--   1 jaehyeong  staff   11246 10 18 17:13 mountain_4.jpg\r\n",
      "-rw-r--r--   1 jaehyeong  staff   14424 10 15 15:53 movieKid.csv\r\n",
      "-rw-r--r--   1 jaehyeong  staff   11557 10 15 15:09 naverMovie.csv\r\n",
      "-rw-r--r--   1 jaehyeong  staff     973 10 15 13:01 naverWebtoon10.csv\r\n",
      "-rw-r--r--   1 jaehyeong  staff    1717 10 15 11:42 yes24.csv\r\n",
      "-rw-r--r--@  1 jaehyeong  staff  554931 10 14 14:10 yes24.html\r\n",
      "-rw-r--r--   1 jaehyeong  staff  163096 10 18 11:24 yes24999.csv\r\n"
     ]
    }
   ],
   "source": [
    "ls -al output"
   ]
  },
  {
   "cell_type": "code",
   "execution_count": null,
   "id": "39d81c7f",
   "metadata": {},
   "outputs": [],
   "source": []
  },
  {
   "cell_type": "code",
   "execution_count": null,
   "id": "c374bad2",
   "metadata": {},
   "outputs": [],
   "source": []
  }
 ],
 "metadata": {
  "kernelspec": {
   "display_name": "Python 3",
   "language": "python",
   "name": "python3"
  },
  "language_info": {
   "codemirror_mode": {
    "name": "ipython",
    "version": 3
   },
   "file_extension": ".py",
   "mimetype": "text/x-python",
   "name": "python",
   "nbconvert_exporter": "python",
   "pygments_lexer": "ipython3",
   "version": "3.8.8"
  }
 },
 "nbformat": 4,
 "nbformat_minor": 5
}
