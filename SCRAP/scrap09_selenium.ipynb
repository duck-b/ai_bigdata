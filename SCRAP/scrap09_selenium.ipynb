{
 "cells": [
  {
   "cell_type": "code",
   "execution_count": 3,
   "id": "a6a6fe34",
   "metadata": {},
   "outputs": [],
   "source": [
    "# pip list\n",
    "# pip install selenium"
   ]
  },
  {
   "cell_type": "code",
   "execution_count": 40,
   "id": "4a0cb10b",
   "metadata": {},
   "outputs": [],
   "source": [
    "# 1) 관련 모듈 임포트 \n",
    "import pandas as pd\n",
    "import time\n",
    "from selenium import webdriver"
   ]
  },
  {
   "cell_type": "code",
   "execution_count": 41,
   "id": "2d93f70f",
   "metadata": {},
   "outputs": [],
   "source": [
    "# !xattr -d com.apple.quarantine chromedriver"
   ]
  },
  {
   "cell_type": "code",
   "execution_count": 42,
   "id": "74611101",
   "metadata": {},
   "outputs": [
    {
     "name": "stderr",
     "output_type": "stream",
     "text": [
      "<ipython-input-42-6c6ab988565e>:2: DeprecationWarning: executable_path has been deprecated, please pass in a Service object\n",
      "  driver = webdriver.Chrome(executable_path='./chromedriver')\n"
     ]
    }
   ],
   "source": [
    "# 2) 셀레니움 드라이버 객체 생성\n",
    "driver = webdriver.Chrome(executable_path='./chromedriver')\n",
    "\n",
    "# 3) 지연시간 지정 후에 웹브라우저 주소로 이동\n",
    "time.sleep(2)\n",
    "\n",
    "url = 'http://google.com'\n",
    "driver.get(url)"
   ]
  },
  {
   "cell_type": "code",
   "execution_count": 43,
   "id": "ba70b8df",
   "metadata": {},
   "outputs": [
    {
     "name": "stderr",
     "output_type": "stream",
     "text": [
      "<ipython-input-43-ef5e8cd69431>:2: DeprecationWarning: find_element_by_* commands are deprecated. Please use find_element() instead\n",
      "  driver.find_element_by_name('q').send_keys('파이썬')\n",
      "<ipython-input-43-ef5e8cd69431>:3: DeprecationWarning: find_element_by_* commands are deprecated. Please use find_element() instead\n",
      "  driver.find_element_by_name('q').submit()\n"
     ]
    }
   ],
   "source": [
    "# 4) 구글 검색창에 검색어를 입력하고 결과 페이지를 출력하기\n",
    "driver.find_element_by_name('q').send_keys('파이썬')\n",
    "driver.find_element_by_name('q').submit()"
   ]
  },
  {
   "cell_type": "code",
   "execution_count": 44,
   "id": "29d60426",
   "metadata": {},
   "outputs": [],
   "source": [
    "# 5) 지연시간 후에 웹브라우저 닫기\n",
    "time.sleep(5)\n",
    "driver.close()"
   ]
  },
  {
   "cell_type": "code",
   "execution_count": 45,
   "id": "fe630ced",
   "metadata": {},
   "outputs": [],
   "source": [
    "# 경고 메세지 출력 X\n",
    "import warnings\n",
    "warnings.filterwarnings(action='ignore')\n",
    "# 다시 나오게하려면 \n",
    "# warnings.filterwarnings(action='default')"
   ]
  },
  {
   "cell_type": "code",
   "execution_count": 46,
   "id": "8d51f527",
   "metadata": {},
   "outputs": [],
   "source": [
    "driver = webdriver.Chrome(executable_path='./chromedriver')\n",
    "time.sleep(2)\n",
    "\n",
    "url = 'http://google.com'\n",
    "driver.get(url)\n",
    "\n",
    "time.sleep(2)\n",
    "\n",
    "driver.find_element_by_name('q').send_keys('파이썬')\n",
    "driver.find_element_by_name('q').submit()"
   ]
  },
  {
   "cell_type": "code",
   "execution_count": 61,
   "id": "277535ff",
   "metadata": {},
   "outputs": [
    {
     "name": "stdout",
     "output_type": "stream",
     "text": [
      "Welcome to Python.org\n",
      "https://www.python.org/\n",
      "The official home of the Python Programming Language.\n"
     ]
    }
   ],
   "source": [
    "target = 'div.yuRUbf > a > h3'\n",
    "title = driver.find_element_by_css_selector(target)\n",
    "print(title.text)\n",
    "\n",
    "target = 'div.yuRUbf > a'\n",
    "url = driver.find_element_by_css_selector(target)\n",
    "print(url.get_attribute('href'))\n",
    "\n",
    "target = 'div.VwiC3b > span'\n",
    "desc = driver.find_element_by_css_selector(target)\n",
    "print(desc.text)"
   ]
  },
  {
   "cell_type": "code",
   "execution_count": 74,
   "id": "608a0f62",
   "metadata": {},
   "outputs": [
    {
     "name": "stdout",
     "output_type": "stream",
     "text": [
      "['Welcome to Python.org', '파이썬 - 위키백과, 우리 모두의 백과사전', 'Python - 나무위키', '1 파이썬 시작하기 - 왕초보를 위한 Python - 위키독스', 'SUB) Why You Should Learn Python | Free Live Lecture', '모두를 위한 프로그래밍 : 파이썬 강좌소개 - edwith', '파이썬이란? - 코딩의 시작, TCP School']\n"
     ]
    },
    {
     "data": {
      "text/plain": [
       "7"
      ]
     },
     "execution_count": 74,
     "metadata": {},
     "output_type": "execute_result"
    }
   ],
   "source": [
    "search_list1 = []\n",
    "\n",
    "target = 'div.yuRUbf > a > h3'\n",
    "title_list = driver.find_elements_by_css_selector(target)\n",
    "for item in title_list:\n",
    "    search_list1.append(item.text)\n",
    "    \n",
    "print(search_list1)\n",
    "len(search_list1)"
   ]
  },
  {
   "cell_type": "code",
   "execution_count": 73,
   "id": "d6f0905e",
   "metadata": {},
   "outputs": [
    {
     "name": "stdout",
     "output_type": "stream",
     "text": [
      "['https://www.python.org/', 'https://ko.wikipedia.org/wiki/%ED%8C%8C%EC%9D%B4%EC%8D%AC', 'https://namu.wiki/w/Python', 'https://wikidocs.net/43', 'https://www.youtube.com/watch?v=8vjgx7joCqg', 'https://www.edwith.org/pythonforeverybody', 'http://tcpschool.com/python/intro']\n"
     ]
    },
    {
     "data": {
      "text/plain": [
       "7"
      ]
     },
     "execution_count": 73,
     "metadata": {},
     "output_type": "execute_result"
    }
   ],
   "source": [
    "search_list2 = []\n",
    "\n",
    "target = 'div.yuRUbf > a'\n",
    "url_list = driver.find_elements_by_css_selector(target)\n",
    "for item in url_list:\n",
    "    search_list2.append(item.get_attribute('href'))\n",
    "    \n",
    "print(search_list2)\n",
    "len(search_list2)"
   ]
  },
  {
   "cell_type": "code",
   "execution_count": 72,
   "id": "0d500d5a",
   "metadata": {},
   "outputs": [
    {
     "name": "stdout",
     "output_type": "stream",
     "text": [
      "['The official home of the Python Programming Language.', '파이썬(영어: Python)은 1991년 프로그래머인 귀도 반 로섬이 발표한 고급 프로그래밍 언어로, 플랫폼에 독립적이며 인터프리터식, 객체지향적, ...', '파이썬은 위의 특징 때문에 교육용 프로그래밍 언어로 각광받고 있다. 한국, 미국의 여러 대학교 프로그래밍 교육들은 개론 수업 언어를 C, C++나 Java에서 Python으로 ...', '우리가 앞으로 배울 파이썬 언어는, 배우기 쉬우면서도 프로그램을 빨리 개발할 수 있고, 기능도 뛰어나답니다. 이 강좌는 프로그래밍을 처음 하는 분들을 위해서 파이썬을 ...', '파이썬이 요즘 왜 이렇게 인기가 많은지 이유를 알아보는 영상입니다. 파이썬은 정말 배우기 쉽고 쓸 곳이 많으며 많은 사람들이 쓰고 있습니다.', \"커넥트재단은 '커넥트 번역 서포터즈'와 함께 Python for Everybody 강의를 번역하여 제공합니다. 퀴즈를 제외한 모든 강의의 저작권은 Charles Severance 교수님에게 ...\", '파이썬(Python) ... 파이썬은 1989년 귀도 반 로썸(Guido van Rossum)에 의해 개발된 고급 프로그래밍 언어로, 2018년 현재 실무와 교육 양쪽 모두에서 엄청난 인기를 끌고 ...']\n"
     ]
    },
    {
     "data": {
      "text/plain": [
       "7"
      ]
     },
     "execution_count": 72,
     "metadata": {},
     "output_type": "execute_result"
    }
   ],
   "source": [
    "search_list3 = []\n",
    "\n",
    "target = 'div.IsZvec > div > span'\n",
    "desc_list = driver.find_elements_by_css_selector(target)\n",
    "for item in desc_list:\n",
    "    search_list3.append(item.text)\n",
    "    \n",
    "print(search_list3)\n",
    "len(search_list3)"
   ]
  },
  {
   "cell_type": "code",
   "execution_count": 75,
   "id": "0a2dc26d",
   "metadata": {},
   "outputs": [
    {
     "data": {
      "text/html": [
       "<div>\n",
       "<style scoped>\n",
       "    .dataframe tbody tr th:only-of-type {\n",
       "        vertical-align: middle;\n",
       "    }\n",
       "\n",
       "    .dataframe tbody tr th {\n",
       "        vertical-align: top;\n",
       "    }\n",
       "\n",
       "    .dataframe thead th {\n",
       "        text-align: right;\n",
       "    }\n",
       "</style>\n",
       "<table border=\"1\" class=\"dataframe\">\n",
       "  <thead>\n",
       "    <tr style=\"text-align: right;\">\n",
       "      <th></th>\n",
       "      <th>title</th>\n",
       "      <th>URL</th>\n",
       "      <th>desc</th>\n",
       "    </tr>\n",
       "  </thead>\n",
       "  <tbody>\n",
       "    <tr>\n",
       "      <th>0</th>\n",
       "      <td>Welcome to Python.org</td>\n",
       "      <td>https://www.python.org/</td>\n",
       "      <td>The official home of the Python Programming La...</td>\n",
       "    </tr>\n",
       "    <tr>\n",
       "      <th>1</th>\n",
       "      <td>파이썬 - 위키백과, 우리 모두의 백과사전</td>\n",
       "      <td>https://ko.wikipedia.org/wiki/%ED%8C%8C%EC%9D%...</td>\n",
       "      <td>파이썬(영어: Python)은 1991년 프로그래머인 귀도 반 로섬이 발표한 고급 ...</td>\n",
       "    </tr>\n",
       "    <tr>\n",
       "      <th>2</th>\n",
       "      <td>Python - 나무위키</td>\n",
       "      <td>https://namu.wiki/w/Python</td>\n",
       "      <td>파이썬은 위의 특징 때문에 교육용 프로그래밍 언어로 각광받고 있다. 한국, 미국의 ...</td>\n",
       "    </tr>\n",
       "    <tr>\n",
       "      <th>3</th>\n",
       "      <td>1 파이썬 시작하기 - 왕초보를 위한 Python - 위키독스</td>\n",
       "      <td>https://wikidocs.net/43</td>\n",
       "      <td>우리가 앞으로 배울 파이썬 언어는, 배우기 쉬우면서도 프로그램을 빨리 개발할 수 있...</td>\n",
       "    </tr>\n",
       "    <tr>\n",
       "      <th>4</th>\n",
       "      <td>SUB) Why You Should Learn Python | Free Live L...</td>\n",
       "      <td>https://www.youtube.com/watch?v=8vjgx7joCqg</td>\n",
       "      <td>파이썬이 요즘 왜 이렇게 인기가 많은지 이유를 알아보는 영상입니다. 파이썬은 정말 ...</td>\n",
       "    </tr>\n",
       "    <tr>\n",
       "      <th>5</th>\n",
       "      <td>모두를 위한 프로그래밍 : 파이썬 강좌소개 - edwith</td>\n",
       "      <td>https://www.edwith.org/pythonforeverybody</td>\n",
       "      <td>커넥트재단은 '커넥트 번역 서포터즈'와 함께 Python for Everybody ...</td>\n",
       "    </tr>\n",
       "    <tr>\n",
       "      <th>6</th>\n",
       "      <td>파이썬이란? - 코딩의 시작, TCP School</td>\n",
       "      <td>http://tcpschool.com/python/intro</td>\n",
       "      <td>파이썬(Python) ... 파이썬은 1989년 귀도 반 로썸(Guido van R...</td>\n",
       "    </tr>\n",
       "  </tbody>\n",
       "</table>\n",
       "</div>"
      ],
      "text/plain": [
       "                                               title  \\\n",
       "0                              Welcome to Python.org   \n",
       "1                            파이썬 - 위키백과, 우리 모두의 백과사전   \n",
       "2                                      Python - 나무위키   \n",
       "3                 1 파이썬 시작하기 - 왕초보를 위한 Python - 위키독스   \n",
       "4  SUB) Why You Should Learn Python | Free Live L...   \n",
       "5                   모두를 위한 프로그래밍 : 파이썬 강좌소개 - edwith   \n",
       "6                        파이썬이란? - 코딩의 시작, TCP School   \n",
       "\n",
       "                                                 URL  \\\n",
       "0                            https://www.python.org/   \n",
       "1  https://ko.wikipedia.org/wiki/%ED%8C%8C%EC%9D%...   \n",
       "2                         https://namu.wiki/w/Python   \n",
       "3                            https://wikidocs.net/43   \n",
       "4        https://www.youtube.com/watch?v=8vjgx7joCqg   \n",
       "5          https://www.edwith.org/pythonforeverybody   \n",
       "6                  http://tcpschool.com/python/intro   \n",
       "\n",
       "                                                desc  \n",
       "0  The official home of the Python Programming La...  \n",
       "1  파이썬(영어: Python)은 1991년 프로그래머인 귀도 반 로섬이 발표한 고급 ...  \n",
       "2  파이썬은 위의 특징 때문에 교육용 프로그래밍 언어로 각광받고 있다. 한국, 미국의 ...  \n",
       "3  우리가 앞으로 배울 파이썬 언어는, 배우기 쉬우면서도 프로그램을 빨리 개발할 수 있...  \n",
       "4  파이썬이 요즘 왜 이렇게 인기가 많은지 이유를 알아보는 영상입니다. 파이썬은 정말 ...  \n",
       "5  커넥트재단은 '커넥트 번역 서포터즈'와 함께 Python for Everybody ...  \n",
       "6  파이썬(Python) ... 파이썬은 1989년 귀도 반 로썸(Guido van R...  "
      ]
     },
     "execution_count": 75,
     "metadata": {},
     "output_type": "execute_result"
    }
   ],
   "source": [
    "# 2차원 리스트로 저장후 데이터프레임\n",
    "result_list = []\n",
    "for i in range(len(search_list1)):\n",
    "    result_list.append([search_list1[i], search_list2[i], search_list3[i]])\n",
    "\n",
    "df = pd.DataFrame(result_list, columns=['title', 'URL', 'desc'])    \n",
    "df"
   ]
  },
  {
   "cell_type": "code",
   "execution_count": 76,
   "id": "8cfcace2",
   "metadata": {},
   "outputs": [],
   "source": [
    "driver.close()"
   ]
  },
  {
   "cell_type": "code",
   "execution_count": 77,
   "id": "19df369e",
   "metadata": {},
   "outputs": [],
   "source": [
    "driver = webdriver.Chrome(executable_path='./chromedriver')\n",
    "time.sleep(2)\n",
    "\n",
    "url = 'http://google.com'\n",
    "driver.get(url)\n",
    "\n",
    "time.sleep(2)\n",
    "\n",
    "driver.find_element_by_name('q').send_keys('파이썬')\n",
    "driver.find_element_by_name('q').submit()"
   ]
  },
  {
   "cell_type": "code",
   "execution_count": 84,
   "id": "bc63e985",
   "metadata": {},
   "outputs": [
    {
     "name": "stdout",
     "output_type": "stream",
     "text": [
      "[<selenium.webdriver.remote.webelement.WebElement (session=\"998e00871ff317cce5046a6dbda72b7e\", element=\"420f235b-84e4-4cc4-b1f1-c3d2ba334087\")>, <selenium.webdriver.remote.webelement.WebElement (session=\"998e00871ff317cce5046a6dbda72b7e\", element=\"33737528-1c19-4f2f-9f45-8ae0c290bb18\")>, <selenium.webdriver.remote.webelement.WebElement (session=\"998e00871ff317cce5046a6dbda72b7e\", element=\"c3149b21-6f38-4ce6-8a45-d5f27ef14120\")>, <selenium.webdriver.remote.webelement.WebElement (session=\"998e00871ff317cce5046a6dbda72b7e\", element=\"9f9f2792-5f44-4062-8794-d8ff8ffe12c3\")>, <selenium.webdriver.remote.webelement.WebElement (session=\"998e00871ff317cce5046a6dbda72b7e\", element=\"7aad132f-6838-4636-870a-57defa4cedc0\")>, <selenium.webdriver.remote.webelement.WebElement (session=\"998e00871ff317cce5046a6dbda72b7e\", element=\"12860f48-baac-4daa-87c5-6eb7d5185e06\")>, <selenium.webdriver.remote.webelement.WebElement (session=\"998e00871ff317cce5046a6dbda72b7e\", element=\"aef518ff-4441-45fa-861b-169d518959e4\")>]\n"
     ]
    },
    {
     "data": {
      "text/plain": [
       "7"
      ]
     },
     "execution_count": 84,
     "metadata": {},
     "output_type": "execute_result"
    }
   ],
   "source": [
    "target = 'div.tF2Cxc'\n",
    "temp_list = driver.find_elements_by_css_selector(target)\n",
    "print(temp_list)\n",
    "len(temp_list)"
   ]
  },
  {
   "cell_type": "code",
   "execution_count": 90,
   "id": "19594377",
   "metadata": {},
   "outputs": [
    {
     "name": "stdout",
     "output_type": "stream",
     "text": [
      "Welcome to Python.org\n",
      "https://www.python.org/\n"
     ]
    }
   ],
   "source": [
    "print(temp_list[0].find_element_by_css_selector('h3').text)\n",
    "print(temp_list[0].find_element_by_css_selector('a').get_attribute('href'))"
   ]
  },
  {
   "cell_type": "code",
   "execution_count": 93,
   "id": "44a44c1c",
   "metadata": {},
   "outputs": [
    {
     "data": {
      "text/html": [
       "<div>\n",
       "<style scoped>\n",
       "    .dataframe tbody tr th:only-of-type {\n",
       "        vertical-align: middle;\n",
       "    }\n",
       "\n",
       "    .dataframe tbody tr th {\n",
       "        vertical-align: top;\n",
       "    }\n",
       "\n",
       "    .dataframe thead th {\n",
       "        text-align: right;\n",
       "    }\n",
       "</style>\n",
       "<table border=\"1\" class=\"dataframe\">\n",
       "  <thead>\n",
       "    <tr style=\"text-align: right;\">\n",
       "      <th></th>\n",
       "      <th>title</th>\n",
       "      <th>url</th>\n",
       "    </tr>\n",
       "  </thead>\n",
       "  <tbody>\n",
       "    <tr>\n",
       "      <th>0</th>\n",
       "      <td>Welcome to Python.org</td>\n",
       "      <td>https://www.python.org/</td>\n",
       "    </tr>\n",
       "    <tr>\n",
       "      <th>1</th>\n",
       "      <td>파이썬 - 위키백과, 우리 모두의 백과사전</td>\n",
       "      <td>https://ko.wikipedia.org/wiki/%ED%8C%8C%EC%9D%...</td>\n",
       "    </tr>\n",
       "    <tr>\n",
       "      <th>2</th>\n",
       "      <td>Python - 나무위키</td>\n",
       "      <td>https://namu.wiki/w/Python</td>\n",
       "    </tr>\n",
       "    <tr>\n",
       "      <th>3</th>\n",
       "      <td>01-4 파이썬 설치하기</td>\n",
       "      <td>https://wikidocs.net/8</td>\n",
       "    </tr>\n",
       "    <tr>\n",
       "      <th>4</th>\n",
       "      <td>SUB) Why You Should Learn Python | Free Live L...</td>\n",
       "      <td>https://www.youtube.com/watch?v=8vjgx7joCqg</td>\n",
       "    </tr>\n",
       "    <tr>\n",
       "      <th>5</th>\n",
       "      <td>모두를 위한 프로그래밍 : 파이썬 강좌소개 - edwith</td>\n",
       "      <td>https://www.edwith.org/pythonforeverybody</td>\n",
       "    </tr>\n",
       "    <tr>\n",
       "      <th>6</th>\n",
       "      <td>파이썬이란? - 코딩의 시작, TCP School</td>\n",
       "      <td>http://tcpschool.com/python/intro</td>\n",
       "    </tr>\n",
       "  </tbody>\n",
       "</table>\n",
       "</div>"
      ],
      "text/plain": [
       "                                               title  \\\n",
       "0                              Welcome to Python.org   \n",
       "1                            파이썬 - 위키백과, 우리 모두의 백과사전   \n",
       "2                                      Python - 나무위키   \n",
       "3                                      01-4 파이썬 설치하기   \n",
       "4  SUB) Why You Should Learn Python | Free Live L...   \n",
       "5                   모두를 위한 프로그래밍 : 파이썬 강좌소개 - edwith   \n",
       "6                        파이썬이란? - 코딩의 시작, TCP School   \n",
       "\n",
       "                                                 url  \n",
       "0                            https://www.python.org/  \n",
       "1  https://ko.wikipedia.org/wiki/%ED%8C%8C%EC%9D%...  \n",
       "2                         https://namu.wiki/w/Python  \n",
       "3                             https://wikidocs.net/8  \n",
       "4        https://www.youtube.com/watch?v=8vjgx7joCqg  \n",
       "5          https://www.edwith.org/pythonforeverybody  \n",
       "6                  http://tcpschool.com/python/intro  "
      ]
     },
     "execution_count": 93,
     "metadata": {},
     "output_type": "execute_result"
    }
   ],
   "source": [
    "result_list = []\n",
    "for item in temp_list:\n",
    "    title = item.find_element_by_css_selector('h3').text\n",
    "    url = item.find_element_by_css_selector('a').get_attribute('href')\n",
    "    result_list.append([title, url])\n",
    "    \n",
    "df = pd.DataFrame(result_list, columns= ['title', 'url'])\n",
    "df"
   ]
  },
  {
   "cell_type": "code",
   "execution_count": 94,
   "id": "af7d617a",
   "metadata": {},
   "outputs": [],
   "source": [
    "driver.close()"
   ]
  },
  {
   "cell_type": "code",
   "execution_count": 140,
   "id": "05ea599d",
   "metadata": {},
   "outputs": [],
   "source": [
    "driver = webdriver.Chrome(executable_path='./chromedriver')\n",
    "time.sleep(2)\n",
    "\n",
    "url = 'http://google.com'\n",
    "driver.get(url)\n",
    "\n",
    "time.sleep(2)\n",
    "\n",
    "driver.find_element_by_name('q').send_keys('신사와아가씨')\n",
    "driver.find_element_by_name('q').submit()"
   ]
  },
  {
   "cell_type": "code",
   "execution_count": 98,
   "id": "384a06a3",
   "metadata": {},
   "outputs": [
    {
     "name": "stdout",
     "output_type": "stream",
     "text": [
      "page = 1\n",
      "page = 2\n",
      "page = 3\n"
     ]
    }
   ],
   "source": [
    "search_list = []\n",
    "target = 'div.tF2Cxc'\n",
    "page = 0\n",
    "last_page = 3\n",
    "\n",
    "while (page < last_page):\n",
    "    temp_list = driver.find_elements_by_css_selector(target)\n",
    "    \n",
    "    for item in temp_list:\n",
    "        title = item.find_element_by_css_selector('h3').text\n",
    "        url = item.find_element_by_css_selector('a').get_attribute('href')\n",
    "        search_list.append([title, url])\n",
    "    \n",
    "    page += 1\n",
    "    print(f'page = {page}')\n",
    "    driver.find_element_by_css_selector('#pnnext').click()\n",
    "    time.sleep(2)"
   ]
  },
  {
   "cell_type": "code",
   "execution_count": 100,
   "id": "dfeda9f6",
   "metadata": {},
   "outputs": [
    {
     "data": {
      "text/plain": [
       "26"
      ]
     },
     "execution_count": 100,
     "metadata": {},
     "output_type": "execute_result"
    }
   ],
   "source": [
    "len(search_list)"
   ]
  },
  {
   "cell_type": "code",
   "execution_count": 103,
   "id": "648e4f78",
   "metadata": {},
   "outputs": [
    {
     "data": {
      "text/html": [
       "<div>\n",
       "<style scoped>\n",
       "    .dataframe tbody tr th:only-of-type {\n",
       "        vertical-align: middle;\n",
       "    }\n",
       "\n",
       "    .dataframe tbody tr th {\n",
       "        vertical-align: top;\n",
       "    }\n",
       "\n",
       "    .dataframe thead th {\n",
       "        text-align: right;\n",
       "    }\n",
       "</style>\n",
       "<table border=\"1\" class=\"dataframe\">\n",
       "  <thead>\n",
       "    <tr style=\"text-align: right;\">\n",
       "      <th></th>\n",
       "      <th>title</th>\n",
       "      <th>url</th>\n",
       "    </tr>\n",
       "  </thead>\n",
       "  <tbody>\n",
       "    <tr>\n",
       "      <th>0</th>\n",
       "      <td>신사와 아가씨 | 디지털 KBS</td>\n",
       "      <td>https://program.kbs.co.kr/2tv/drama/youngladyg...</td>\n",
       "    </tr>\n",
       "    <tr>\n",
       "      <th>1</th>\n",
       "      <td>신사와 아가씨 - 나무위키</td>\n",
       "      <td>https://namu.wiki/w/%EC%8B%A0%EC%82%AC%EC%99%8...</td>\n",
       "    </tr>\n",
       "    <tr>\n",
       "      <th>2</th>\n",
       "      <td>신사와 아가씨 - 위키백과, 우리 모두의 백과사전</td>\n",
       "      <td>https://ko.wikipedia.org/wiki/%EC%8B%A0%EC%82%...</td>\n",
       "    </tr>\n",
       "    <tr>\n",
       "      <th>3</th>\n",
       "      <td>'신사와 아가씨' 몇부작·등장인물·인물관계도·OST는? - 국제뉴스</td>\n",
       "      <td>https://www.gukjenews.com/news/articleView.htm...</td>\n",
       "    </tr>\n",
       "    <tr>\n",
       "      <th>4</th>\n",
       "      <td>주말드라마 '신사와 아가씨' 7·8회 줄거리, 이종원 가족을 지켜 ...</td>\n",
       "      <td>http://www.lecturernews.com/news/articleView.h...</td>\n",
       "    </tr>\n",
       "    <tr>\n",
       "      <th>5</th>\n",
       "      <td>'기생충' 서사 빌려와 신데렐라 판타지로 바꿔놓은 '신사와 아가씨'</td>\n",
       "      <td>https://www.entermedia.co.kr/news/articleView....</td>\n",
       "    </tr>\n",
       "    <tr>\n",
       "      <th>6</th>\n",
       "      <td>[#신사와아가씨] '아들을 아들이라 부르지 못하고…' 친아들 옆 ...</td>\n",
       "      <td>https://www.youtube.com/watch?v=vFSRX-nYB3s</td>\n",
       "    </tr>\n",
       "    <tr>\n",
       "      <th>7</th>\n",
       "      <td>[5회 예고] 박 선생이 나 좀 도와줘요.. [신사와 아가씨] | KBS 방송</td>\n",
       "      <td>https://www.youtube.com/watch?v=JY_E2AckfVg</td>\n",
       "    </tr>\n",
       "    <tr>\n",
       "      <th>8</th>\n",
       "      <td>[M/V] 송유진 - 사랑이야 :: 신사와 아가씨(Young Lady and ...</td>\n",
       "      <td>https://www.youtube.com/watch?v=I0ICz0gIlkY</td>\n",
       "    </tr>\n",
       "    <tr>\n",
       "      <th>9</th>\n",
       "      <td>[9회 예고] 세종이가 없어졌다고요!?.. [신사와 아가씨] | KBS 방송</td>\n",
       "      <td>https://www.youtube.com/watch?v=IFt3U_SYbSw</td>\n",
       "    </tr>\n",
       "    <tr>\n",
       "      <th>10</th>\n",
       "      <td>'신사와 아가씨' 지현우, 연기력 논란 와글와글 왜? - 네이트 뉴스</td>\n",
       "      <td>https://news.nate.com/view/20211011n14829</td>\n",
       "    </tr>\n",
       "    <tr>\n",
       "      <th>11</th>\n",
       "      <td>'신사와 아가씨' 지현우·이세희, 놀이동산 데이트? 맞잡은 손 [N컷]</td>\n",
       "      <td>https://moneys.mt.co.kr/news/mwView.php?no=202...</td>\n",
       "    </tr>\n",
       "    <tr>\n",
       "      <th>12</th>\n",
       "      <td>[SE 현장]'신사와 아가씨' 14살 연상도 괜찮아요…유쾌한 명랑 ...</td>\n",
       "      <td>https://www.sedaily.com/NewsVIew/22RL8YZIXS</td>\n",
       "    </tr>\n",
       "    <tr>\n",
       "      <th>13</th>\n",
       "      <td>신사와 아가씨 6화 다시보기</td>\n",
       "      <td>https://noonoo.tv/drama/2944</td>\n",
       "    </tr>\n",
       "    <tr>\n",
       "      <th>14</th>\n",
       "      <td>신사와 아가씨 8회 2021-10-17 다시보기 - 호박티비</td>\n",
       "      <td>https://l70.hobaktv.xyz/show/drama/34207/%EC%8...</td>\n",
       "    </tr>\n",
       "    <tr>\n",
       "      <th>15</th>\n",
       "      <td>역시 임영웅…'신사와 아가씨' OST로도 화제 - 한국일보</td>\n",
       "      <td>https://www.hankookilbo.com/News/Read/A2021101...</td>\n",
       "    </tr>\n",
       "    <tr>\n",
       "      <th>16</th>\n",
       "      <td>신사와 아가씨 8회 2021-10-17 다시보기 - 호박티비</td>\n",
       "      <td>https://l70.hobaktv.xyz/show/drama/34207/%EC%8...</td>\n",
       "    </tr>\n",
       "    <tr>\n",
       "      <th>17</th>\n",
       "      <td>신사와 아가씨 인물관계도 관심...몇부작일까? - 금강일보</td>\n",
       "      <td>http://www.ggilbo.com/news/articleView.html?id...</td>\n",
       "    </tr>\n",
       "    <tr>\n",
       "      <th>18</th>\n",
       "      <td>`신사와 아가씨` 지현우 이세희 핑크빛 로맨스…시청률 30% 눈앞</td>\n",
       "      <td>https://www.mk.co.kr/star/broadcasting-service...</td>\n",
       "    </tr>\n",
       "    <tr>\n",
       "      <th>19</th>\n",
       "      <td>\"'기생충' 유쾌한 버전\"…지현우·이세희, '신사와 아가씨'(종합)</td>\n",
       "      <td>https://newsis.com/view/?id=NISX20210924_00015...</td>\n",
       "    </tr>\n",
       "    <tr>\n",
       "      <th>20</th>\n",
       "      <td>'신사와 아가씨' 이휘향-차화연, 알고보니 40년 전 절친 ... - Daum</td>\n",
       "      <td>https://v.daum.net/v/20211017204510208</td>\n",
       "    </tr>\n",
       "    <tr>\n",
       "      <th>21</th>\n",
       "      <td>신사와 아가씨 | Rakuten Viki</td>\n",
       "      <td>https://www.viki.com/tv/38057c-young-lady-and-...</td>\n",
       "    </tr>\n",
       "    <tr>\n",
       "      <th>22</th>\n",
       "      <td>KBS 2TV 새 주말극 '신사와 아가씨' 22.7％ 출발 | 연합뉴스</td>\n",
       "      <td>https://www.yna.co.kr/view/AKR20210926011200005</td>\n",
       "    </tr>\n",
       "    <tr>\n",
       "      <th>23</th>\n",
       "      <td>'신사와 아가씨' 등장인물, '불어라 미풍아' 작가 화제...OST는 ...</td>\n",
       "      <td>http://www.kgdm.co.kr/news/articleView.html?id...</td>\n",
       "    </tr>\n",
       "    <tr>\n",
       "      <th>24</th>\n",
       "      <td>드라마 '신사와 아가씨' 등장인물 인물관계도 보니?…'오케이 광 ...</td>\n",
       "      <td>http://www.topstarnews.net/news/articleView.ht...</td>\n",
       "    </tr>\n",
       "    <tr>\n",
       "      <th>25</th>\n",
       "      <td>`신흥 시청률 여신` 이세희, `신사와 아가씨`서 `슬픔+코믹` 눈물 ...</td>\n",
       "      <td>https://www.wowtv.co.kr/NewsCenter/News/Read?a...</td>\n",
       "    </tr>\n",
       "  </tbody>\n",
       "</table>\n",
       "</div>"
      ],
      "text/plain": [
       "                                             title  \\\n",
       "0                                신사와 아가씨 | 디지털 KBS   \n",
       "1                                   신사와 아가씨 - 나무위키   \n",
       "2                      신사와 아가씨 - 위키백과, 우리 모두의 백과사전   \n",
       "3            '신사와 아가씨' 몇부작·등장인물·인물관계도·OST는? - 국제뉴스   \n",
       "4         주말드라마 '신사와 아가씨' 7·8회 줄거리, 이종원 가족을 지켜 ...   \n",
       "5            '기생충' 서사 빌려와 신데렐라 판타지로 바꿔놓은 '신사와 아가씨'   \n",
       "6          [#신사와아가씨] '아들을 아들이라 부르지 못하고…' 친아들 옆 ...   \n",
       "7      [5회 예고] 박 선생이 나 좀 도와줘요.. [신사와 아가씨] | KBS 방송   \n",
       "8   [M/V] 송유진 - 사랑이야 :: 신사와 아가씨(Young Lady and ...   \n",
       "9       [9회 예고] 세종이가 없어졌다고요!?.. [신사와 아가씨] | KBS 방송   \n",
       "10          '신사와 아가씨' 지현우, 연기력 논란 와글와글 왜? - 네이트 뉴스   \n",
       "11         '신사와 아가씨' 지현우·이세희, 놀이동산 데이트? 맞잡은 손 [N컷]   \n",
       "12        [SE 현장]'신사와 아가씨' 14살 연상도 괜찮아요…유쾌한 명랑 ...   \n",
       "13                                 신사와 아가씨 6화 다시보기   \n",
       "14               신사와 아가씨 8회 2021-10-17 다시보기 - 호박티비   \n",
       "15                역시 임영웅…'신사와 아가씨' OST로도 화제 - 한국일보   \n",
       "16               신사와 아가씨 8회 2021-10-17 다시보기 - 호박티비   \n",
       "17                신사와 아가씨 인물관계도 관심...몇부작일까? - 금강일보   \n",
       "18            `신사와 아가씨` 지현우 이세희 핑크빛 로맨스…시청률 30% 눈앞   \n",
       "19           \"'기생충' 유쾌한 버전\"…지현우·이세희, '신사와 아가씨'(종합)   \n",
       "20     '신사와 아가씨' 이휘향-차화연, 알고보니 40년 전 절친 ... - Daum   \n",
       "21                          신사와 아가씨 | Rakuten Viki   \n",
       "22         KBS 2TV 새 주말극 '신사와 아가씨' 22.7％ 출발 | 연합뉴스   \n",
       "23      '신사와 아가씨' 등장인물, '불어라 미풍아' 작가 화제...OST는 ...   \n",
       "24         드라마 '신사와 아가씨' 등장인물 인물관계도 보니?…'오케이 광 ...   \n",
       "25      `신흥 시청률 여신` 이세희, `신사와 아가씨`서 `슬픔+코믹` 눈물 ...   \n",
       "\n",
       "                                                  url  \n",
       "0   https://program.kbs.co.kr/2tv/drama/youngladyg...  \n",
       "1   https://namu.wiki/w/%EC%8B%A0%EC%82%AC%EC%99%8...  \n",
       "2   https://ko.wikipedia.org/wiki/%EC%8B%A0%EC%82%...  \n",
       "3   https://www.gukjenews.com/news/articleView.htm...  \n",
       "4   http://www.lecturernews.com/news/articleView.h...  \n",
       "5   https://www.entermedia.co.kr/news/articleView....  \n",
       "6         https://www.youtube.com/watch?v=vFSRX-nYB3s  \n",
       "7         https://www.youtube.com/watch?v=JY_E2AckfVg  \n",
       "8         https://www.youtube.com/watch?v=I0ICz0gIlkY  \n",
       "9         https://www.youtube.com/watch?v=IFt3U_SYbSw  \n",
       "10          https://news.nate.com/view/20211011n14829  \n",
       "11  https://moneys.mt.co.kr/news/mwView.php?no=202...  \n",
       "12        https://www.sedaily.com/NewsVIew/22RL8YZIXS  \n",
       "13                       https://noonoo.tv/drama/2944  \n",
       "14  https://l70.hobaktv.xyz/show/drama/34207/%EC%8...  \n",
       "15  https://www.hankookilbo.com/News/Read/A2021101...  \n",
       "16  https://l70.hobaktv.xyz/show/drama/34207/%EC%8...  \n",
       "17  http://www.ggilbo.com/news/articleView.html?id...  \n",
       "18  https://www.mk.co.kr/star/broadcasting-service...  \n",
       "19  https://newsis.com/view/?id=NISX20210924_00015...  \n",
       "20             https://v.daum.net/v/20211017204510208  \n",
       "21  https://www.viki.com/tv/38057c-young-lady-and-...  \n",
       "22    https://www.yna.co.kr/view/AKR20210926011200005  \n",
       "23  http://www.kgdm.co.kr/news/articleView.html?id...  \n",
       "24  http://www.topstarnews.net/news/articleView.ht...  \n",
       "25  https://www.wowtv.co.kr/NewsCenter/News/Read?a...  "
      ]
     },
     "execution_count": 103,
     "metadata": {},
     "output_type": "execute_result"
    }
   ],
   "source": [
    "df = pd.DataFrame(search_list, columns = ['title', 'url'])\n",
    "df"
   ]
  },
  {
   "cell_type": "code",
   "execution_count": 151,
   "id": "67039dae",
   "metadata": {},
   "outputs": [],
   "source": [
    "driver.close()"
   ]
  },
  {
   "cell_type": "code",
   "execution_count": 162,
   "id": "ec8378d5",
   "metadata": {},
   "outputs": [],
   "source": [
    "def search_drama(drama):\n",
    "    driver = webdriver.Chrome(executable_path='./chromedriver')\n",
    "    time.sleep(2)\n",
    "\n",
    "    url = 'http://google.com'\n",
    "    driver.get(url)\n",
    "\n",
    "    time.sleep(2)\n",
    "\n",
    "    driver.find_element_by_name('q').send_keys(drama)\n",
    "    driver.find_element_by_name('q').submit()\n",
    "\n",
    "    search_list = []\n",
    "    page = 0\n",
    "    target = 'div.tF2Cxc'\n",
    "\n",
    "    while True:\n",
    "        page += 1\n",
    "        print(f'page: {page}')\n",
    "        temp_list = driver.find_elements_by_css_selector(target)\n",
    "\n",
    "        for item in temp_list:\n",
    "            title = item.find_element_by_css_selector('h3').text\n",
    "            url = item.find_element_by_css_selector('a').get_attribute('href')\n",
    "            search_list.append([title, url])\n",
    "        \n",
    "        time.sleep(2)\n",
    "        \n",
    "        if driver.find_elements_by_css_selector('td.d6cvqb')[1].text != '':\n",
    "            driver.find_element_by_css_selector('#pnnext').click()\n",
    "        else:\n",
    "            break\n",
    "        \n",
    "    df = pd.DataFrame(search_list, columns = ['title', 'url'])\n",
    "    df\n",
    "    driver.close()\n",
    "    return df"
   ]
  },
  {
   "cell_type": "code",
   "execution_count": 164,
   "id": "f695fc17",
   "metadata": {},
   "outputs": [
    {
     "name": "stdout",
     "output_type": "stream",
     "text": [
      "page: 1\n",
      "page: 2\n",
      "page: 3\n",
      "page: 4\n",
      "page: 5\n",
      "page: 6\n",
      "page: 7\n",
      "page: 8\n",
      "page: 9\n"
     ]
    },
    {
     "data": {
      "text/html": [
       "<div>\n",
       "<style scoped>\n",
       "    .dataframe tbody tr th:only-of-type {\n",
       "        vertical-align: middle;\n",
       "    }\n",
       "\n",
       "    .dataframe tbody tr th {\n",
       "        vertical-align: top;\n",
       "    }\n",
       "\n",
       "    .dataframe thead th {\n",
       "        text-align: right;\n",
       "    }\n",
       "</style>\n",
       "<table border=\"1\" class=\"dataframe\">\n",
       "  <thead>\n",
       "    <tr style=\"text-align: right;\">\n",
       "      <th></th>\n",
       "      <th>title</th>\n",
       "      <th>url</th>\n",
       "    </tr>\n",
       "  </thead>\n",
       "  <tbody>\n",
       "    <tr>\n",
       "      <th>0</th>\n",
       "      <td>신사와 아가씨 | 디지털 KBS</td>\n",
       "      <td>https://program.kbs.co.kr/2tv/drama/youngladyg...</td>\n",
       "    </tr>\n",
       "    <tr>\n",
       "      <th>1</th>\n",
       "      <td>신사와 아가씨 - 나무위키</td>\n",
       "      <td>https://namu.wiki/w/%EC%8B%A0%EC%82%AC%EC%99%8...</td>\n",
       "    </tr>\n",
       "    <tr>\n",
       "      <th>2</th>\n",
       "      <td>신사와 아가씨 - 위키백과, 우리 모두의 백과사전</td>\n",
       "      <td>https://ko.wikipedia.org/wiki/%EC%8B%A0%EC%82%...</td>\n",
       "    </tr>\n",
       "    <tr>\n",
       "      <th>3</th>\n",
       "      <td>'신사와 아가씨' 몇부작·등장인물·인물관계도·OST는? - 국제뉴스</td>\n",
       "      <td>https://www.gukjenews.com/news/articleView.htm...</td>\n",
       "    </tr>\n",
       "    <tr>\n",
       "      <th>4</th>\n",
       "      <td>주말드라마 '신사와 아가씨' 7·8회 줄거리, 이종원 가족을 지켜 ...</td>\n",
       "      <td>http://www.lecturernews.com/news/articleView.h...</td>\n",
       "    </tr>\n",
       "    <tr>\n",
       "      <th>...</th>\n",
       "      <td>...</td>\n",
       "      <td>...</td>\n",
       "    </tr>\n",
       "    <tr>\n",
       "      <th>81</th>\n",
       "      <td>악마신사와 달콤한 가정부 1 - Google 도서 검색결과</td>\n",
       "      <td>https://books.google.co.kr/books?id=Zgw4DwAAQB...</td>\n",
       "    </tr>\n",
       "    <tr>\n",
       "      <th>82</th>\n",
       "      <td>노래의 책: 열린책들 세계문학 234 - Google 도서 검색결과</td>\n",
       "      <td>https://books.google.co.kr/books?id=TuR_DQAAQB...</td>\n",
       "    </tr>\n",
       "    <tr>\n",
       "      <th>83</th>\n",
       "      <td>요마와 아가씨 1 - Google 도서 검색결과</td>\n",
       "      <td>https://books.google.co.kr/books?id=vLoREAAAQB...</td>\n",
       "    </tr>\n",
       "    <tr>\n",
       "      <th>84</th>\n",
       "      <td>세계문학 단편선 01.어니스트 헤밍웨이 - Google 도서 검색결과</td>\n",
       "      <td>https://books.google.co.kr/books?id=-j0RBAAAQB...</td>\n",
       "    </tr>\n",
       "    <tr>\n",
       "      <th>85</th>\n",
       "      <td>대공과 후작 사이에 친구가 어디 있어? 2 - Google 도서 검색결과</td>\n",
       "      <td>https://books.google.co.kr/books?id=AcUlEAAAQB...</td>\n",
       "    </tr>\n",
       "  </tbody>\n",
       "</table>\n",
       "<p>86 rows × 2 columns</p>\n",
       "</div>"
      ],
      "text/plain": [
       "                                       title  \\\n",
       "0                          신사와 아가씨 | 디지털 KBS   \n",
       "1                             신사와 아가씨 - 나무위키   \n",
       "2                신사와 아가씨 - 위키백과, 우리 모두의 백과사전   \n",
       "3      '신사와 아가씨' 몇부작·등장인물·인물관계도·OST는? - 국제뉴스   \n",
       "4   주말드라마 '신사와 아가씨' 7·8회 줄거리, 이종원 가족을 지켜 ...   \n",
       "..                                       ...   \n",
       "81          악마신사와 달콤한 가정부 1 - Google 도서 검색결과   \n",
       "82     노래의 책: 열린책들 세계문학 234 - Google 도서 검색결과   \n",
       "83                요마와 아가씨 1 - Google 도서 검색결과   \n",
       "84    세계문학 단편선 01.어니스트 헤밍웨이 - Google 도서 검색결과   \n",
       "85  대공과 후작 사이에 친구가 어디 있어? 2 - Google 도서 검색결과   \n",
       "\n",
       "                                                  url  \n",
       "0   https://program.kbs.co.kr/2tv/drama/youngladyg...  \n",
       "1   https://namu.wiki/w/%EC%8B%A0%EC%82%AC%EC%99%8...  \n",
       "2   https://ko.wikipedia.org/wiki/%EC%8B%A0%EC%82%...  \n",
       "3   https://www.gukjenews.com/news/articleView.htm...  \n",
       "4   http://www.lecturernews.com/news/articleView.h...  \n",
       "..                                                ...  \n",
       "81  https://books.google.co.kr/books?id=Zgw4DwAAQB...  \n",
       "82  https://books.google.co.kr/books?id=TuR_DQAAQB...  \n",
       "83  https://books.google.co.kr/books?id=vLoREAAAQB...  \n",
       "84  https://books.google.co.kr/books?id=-j0RBAAAQB...  \n",
       "85  https://books.google.co.kr/books?id=AcUlEAAAQB...  \n",
       "\n",
       "[86 rows x 2 columns]"
      ]
     },
     "execution_count": 164,
     "metadata": {},
     "output_type": "execute_result"
    }
   ],
   "source": [
    "search_drama('신사와아가씨')"
   ]
  },
  {
   "cell_type": "code",
   "execution_count": null,
   "id": "093c0a77",
   "metadata": {},
   "outputs": [],
   "source": []
  }
 ],
 "metadata": {
  "kernelspec": {
   "display_name": "Python 3",
   "language": "python",
   "name": "python3"
  },
  "language_info": {
   "codemirror_mode": {
    "name": "ipython",
    "version": 3
   },
   "file_extension": ".py",
   "mimetype": "text/x-python",
   "name": "python",
   "nbconvert_exporter": "python",
   "pygments_lexer": "ipython3",
   "version": "3.8.8"
  }
 },
 "nbformat": 4,
 "nbformat_minor": 5
}
