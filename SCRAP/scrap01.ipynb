{
 "cells": [
  {
   "cell_type": "code",
   "execution_count": 7,
   "id": "fc6ce1ba",
   "metadata": {},
   "outputs": [],
   "source": [
    "# requests 모듈이 있는지 확인, 설치, 임폴트\n",
    "# pip list\n",
    "# !pip install requests\n",
    "import requests\n",
    "# dir(requests)"
   ]
  },
  {
   "cell_type": "code",
   "execution_count": 8,
   "id": "27756674",
   "metadata": {},
   "outputs": [
    {
     "data": {
      "text/plain": [
       "<Response [200]>"
      ]
     },
     "execution_count": 8,
     "metadata": {},
     "output_type": "execute_result"
    }
   ],
   "source": [
    "# google의 시작페이지 요청하기\n",
    "url = \"http://google.com\"\n",
    "res = requests.get(url)\n",
    "res"
   ]
  },
  {
   "cell_type": "code",
   "execution_count": 9,
   "id": "3f649232",
   "metadata": {},
   "outputs": [
    {
     "data": {
      "text/plain": [
       "'ISO-8859-1'"
      ]
     },
     "execution_count": 9,
     "metadata": {},
     "output_type": "execute_result"
    }
   ],
   "source": [
    "res.encoding"
   ]
  },
  {
   "cell_type": "code",
   "execution_count": 13,
   "id": "ac086f13",
   "metadata": {},
   "outputs": [
    {
     "data": {
      "text/plain": [
       "(<Response [200]>, 'UTF-8')"
      ]
     },
     "execution_count": 13,
     "metadata": {},
     "output_type": "execute_result"
    }
   ],
   "source": [
    "url = \"http://naver.com\"\n",
    "res = requests.get(url)\n",
    "res, res.encoding"
   ]
  },
  {
   "cell_type": "code",
   "execution_count": 14,
   "id": "e91e5d21",
   "metadata": {
    "scrolled": true
   },
   "outputs": [
    {
     "data": {
      "text/plain": [
       "{'Server': 'NWS', 'Date': 'Thu, 14 Oct 2021 04:30:14 GMT', 'Content-Type': 'text/html; charset=UTF-8', 'Transfer-Encoding': 'chunked', 'Connection': 'keep-alive', 'Set-Cookie': 'PM_CK_loc=ef305f57f4f836001fc597dafdc2897364553520cff4b8f1647d8c44f231fb96; Expires=Fri, 15 Oct 2021 04:30:14 GMT; Path=/; HttpOnly', 'Cache-Control': 'no-cache, no-store, must-revalidate', 'Pragma': 'no-cache', 'P3P': 'CP=\"CAO DSP CURa ADMa TAIa PSAa OUR LAW STP PHY ONL UNI PUR FIN COM NAV INT DEM STA PRE\"', 'X-Frame-Options': 'DENY', 'X-XSS-Protection': '1; mode=block', 'Content-Encoding': 'gzip', 'Strict-Transport-Security': 'max-age=63072000; includeSubdomains', 'Referrer-Policy': 'unsafe-url'}"
      ]
     },
     "execution_count": 14,
     "metadata": {},
     "output_type": "execute_result"
    }
   ],
   "source": [
    "res.headers"
   ]
  },
  {
   "cell_type": "code",
   "execution_count": 23,
   "id": "f9a572a4",
   "metadata": {},
   "outputs": [],
   "source": [
    "# 요청한 url의 html 소스 확인과 저장하기\n",
    "url = \"http://yes24.com\"\n",
    "res = requests.get(url)\n",
    "html_str = res.text"
   ]
  },
  {
   "cell_type": "code",
   "execution_count": 26,
   "id": "f2b3d95f",
   "metadata": {},
   "outputs": [],
   "source": [
    "# 출력용 폴더 생성\n",
    "# import os\n",
    "\n",
    "# os.mkdir('output')"
   ]
  },
  {
   "cell_type": "code",
   "execution_count": 27,
   "id": "ba442c19",
   "metadata": {},
   "outputs": [
    {
     "name": "stdout",
     "output_type": "stream",
     "text": [
      "\u001b[34moutput\u001b[m\u001b[m/        scrap01.ipynb\r\n"
     ]
    }
   ],
   "source": [
    "ls"
   ]
  },
  {
   "cell_type": "code",
   "execution_count": 30,
   "id": "ae6e4a02",
   "metadata": {},
   "outputs": [],
   "source": [
    "# html 문서 저장\n",
    "with open('output/yes24.html','w', encoding='ks_c_5601-1987') as f:\n",
    "    f.write(html_str)"
   ]
  },
  {
   "cell_type": "code",
   "execution_count": 31,
   "id": "cabf6744",
   "metadata": {},
   "outputs": [],
   "source": [
    "# 모듈 임포트\n",
    "from urllib.request import urlopen"
   ]
  },
  {
   "cell_type": "code",
   "execution_count": 32,
   "id": "62c287b8",
   "metadata": {},
   "outputs": [
    {
     "data": {
      "text/plain": [
       "<http.client.HTTPResponse at 0x7fa732b14580>"
      ]
     },
     "execution_count": 32,
     "metadata": {},
     "output_type": "execute_result"
    }
   ],
   "source": [
    "url = 'http://google.com'\n",
    "res = urlopen(url)\n",
    "res"
   ]
  },
  {
   "cell_type": "code",
   "execution_count": 33,
   "id": "5c719c13",
   "metadata": {},
   "outputs": [
    {
     "data": {
      "text/plain": [
       "(200, <http.client.HTTPMessage at 0x7fa732b146d0>)"
      ]
     },
     "execution_count": 33,
     "metadata": {},
     "output_type": "execute_result"
    }
   ],
   "source": [
    "res.code, res.headers"
   ]
  },
  {
   "cell_type": "code",
   "execution_count": 34,
   "id": "badfc7bc",
   "metadata": {},
   "outputs": [
    {
     "data": {
      "text/plain": [
       "200"
      ]
     },
     "execution_count": 34,
     "metadata": {},
     "output_type": "execute_result"
    }
   ],
   "source": [
    "url = 'https://www.aladin.co.kr'\n",
    "res = urlopen(url)\n",
    "res.code"
   ]
  },
  {
   "cell_type": "code",
   "execution_count": 35,
   "id": "b1b0831c",
   "metadata": {},
   "outputs": [
    {
     "data": {
      "text/plain": [
       "bytes"
      ]
     },
     "execution_count": 35,
     "metadata": {},
     "output_type": "execute_result"
    }
   ],
   "source": [
    "html_str = res.read()\n",
    "type(html_str)"
   ]
  },
  {
   "cell_type": "code",
   "execution_count": 37,
   "id": "149d4a87",
   "metadata": {},
   "outputs": [],
   "source": [
    "with open('output/aladin.html','wb') as f:\n",
    "    f.write(html_str)"
   ]
  },
  {
   "cell_type": "code",
   "execution_count": 38,
   "id": "9a0e316c",
   "metadata": {},
   "outputs": [],
   "source": [
    "html_str2 = str(html_str)\n",
    "with open('output/aladin2.html','w') as f:\n",
    "    f.write(html_str2)"
   ]
  },
  {
   "cell_type": "code",
   "execution_count": null,
   "id": "4460c95e",
   "metadata": {},
   "outputs": [],
   "source": []
  },
  {
   "cell_type": "code",
   "execution_count": null,
   "id": "6ada653a",
   "metadata": {},
   "outputs": [],
   "source": []
  },
  {
   "cell_type": "code",
   "execution_count": null,
   "id": "83300a1c",
   "metadata": {},
   "outputs": [],
   "source": []
  },
  {
   "cell_type": "code",
   "execution_count": null,
   "id": "672a46df",
   "metadata": {},
   "outputs": [],
   "source": []
  },
  {
   "cell_type": "code",
   "execution_count": null,
   "id": "bbdd692a",
   "metadata": {},
   "outputs": [],
   "source": []
  },
  {
   "cell_type": "code",
   "execution_count": null,
   "id": "69f46e4d",
   "metadata": {},
   "outputs": [],
   "source": []
  },
  {
   "cell_type": "code",
   "execution_count": null,
   "id": "2a954ffd",
   "metadata": {},
   "outputs": [],
   "source": []
  },
  {
   "cell_type": "code",
   "execution_count": null,
   "id": "9d9d7b33",
   "metadata": {},
   "outputs": [],
   "source": []
  },
  {
   "cell_type": "code",
   "execution_count": null,
   "id": "79551f87",
   "metadata": {},
   "outputs": [],
   "source": []
  },
  {
   "cell_type": "code",
   "execution_count": null,
   "id": "a600932b",
   "metadata": {},
   "outputs": [],
   "source": []
  }
 ],
 "metadata": {
  "kernelspec": {
   "display_name": "Python 3",
   "language": "python",
   "name": "python3"
  },
  "language_info": {
   "codemirror_mode": {
    "name": "ipython",
    "version": 3
   },
   "file_extension": ".py",
   "mimetype": "text/x-python",
   "name": "python",
   "nbconvert_exporter": "python",
   "pygments_lexer": "ipython3",
   "version": "3.8.8"
  }
 },
 "nbformat": 4,
 "nbformat_minor": 5
}
