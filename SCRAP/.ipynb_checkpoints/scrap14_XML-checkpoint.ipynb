{
 "cells": [
  {
   "cell_type": "code",
   "execution_count": 4,
   "id": "5fdee0a6",
   "metadata": {},
   "outputs": [],
   "source": [
    "from xml.etree.ElementTree import *\n",
    "import pandas as pd"
   ]
  },
  {
   "cell_type": "code",
   "execution_count": 17,
   "id": "4f7aa023",
   "metadata": {},
   "outputs": [
    {
     "data": {
      "text/plain": [
       "(<xml.etree.ElementTree.ElementTree at 0x7fed998e9520>,\n",
       " xml.etree.ElementTree.ElementTree)"
      ]
     },
     "execution_count": 17,
     "metadata": {},
     "output_type": "execute_result"
    }
   ],
   "source": [
    "tree = parse('country_data.xml')\n",
    "tree, type(tree)"
   ]
  },
  {
   "cell_type": "code",
   "execution_count": 18,
   "id": "7c5f83a9",
   "metadata": {},
   "outputs": [
    {
     "data": {
      "text/plain": [
       "(<Element 'data' at 0x7fed9954ddb0>, xml.etree.ElementTree.Element)"
      ]
     },
     "execution_count": 18,
     "metadata": {},
     "output_type": "execute_result"
    }
   ],
   "source": [
    "root = tree.getroot()\n",
    "root, type(root)"
   ]
  },
  {
   "cell_type": "code",
   "execution_count": 21,
   "id": "b4c30da0",
   "metadata": {},
   "outputs": [
    {
     "name": "stdout",
     "output_type": "stream",
     "text": [
      "<Element 'country' at 0x7fed9954d270> country {'name': 'Liechtenstein'}\n",
      "<Element 'country' at 0x7fed9955d8b0> country {'name': 'Singapore'}\n",
      "<Element 'country' at 0x7fed9955da40> country {'name': 'Panama'}\n"
     ]
    }
   ],
   "source": [
    "for child in root:\n",
    "    print(child, child.tag, child.attrib)"
   ]
  },
  {
   "cell_type": "code",
   "execution_count": 28,
   "id": "7a0dae5c",
   "metadata": {},
   "outputs": [
    {
     "data": {
      "text/plain": [
       "<Element 'country' at 0x7fed9954d270>"
      ]
     },
     "execution_count": 28,
     "metadata": {},
     "output_type": "execute_result"
    }
   ],
   "source": [
    "country_list = root.findall('country')\n",
    "country_list[0]"
   ]
  },
  {
   "cell_type": "code",
   "execution_count": 29,
   "id": "a3fd54c6",
   "metadata": {},
   "outputs": [
    {
     "data": {
      "text/plain": [
       "'Liechtenstein'"
      ]
     },
     "execution_count": 29,
     "metadata": {},
     "output_type": "execute_result"
    }
   ],
   "source": [
    "country_list[0].get('name')"
   ]
  },
  {
   "cell_type": "code",
   "execution_count": 41,
   "id": "e0dd719c",
   "metadata": {},
   "outputs": [
    {
     "name": "stdout",
     "output_type": "stream",
     "text": [
      "country \t Liechtenstein \t Liechtenstein\n",
      "==================================================\n",
      "country \t Singapore \t Singapore\n",
      "==================================================\n",
      "country \t Panama \t Panama\n",
      "==================================================\n"
     ]
    }
   ],
   "source": [
    "for country in country_list:\n",
    "    print(country.tag, '\\t', country.attrib['name'], '\\t', country.get('name'))\n",
    "    print('='*50)"
   ]
  },
  {
   "cell_type": "code",
   "execution_count": 51,
   "id": "72ec1e23",
   "metadata": {},
   "outputs": [
    {
     "name": "stdout",
     "output_type": "stream",
     "text": [
      "rank 1\n",
      "year 2008\n",
      "gdppc 141100\n",
      "neighbor Austria E\n",
      "==================================================\n",
      "rank 4\n",
      "year 2011\n",
      "gdppc 59900\n",
      "neighbor Malaysia N\n",
      "==================================================\n",
      "rank 68\n",
      "year 2011\n",
      "gdppc 13600\n",
      "neighbor Costa Rica W\n",
      "==================================================\n"
     ]
    }
   ],
   "source": [
    "for country in country_list:\n",
    "    print(country.find('rank').tag, country.find('rank').text)\n",
    "    print(country.find('year').tag, country.find('year').text)\n",
    "    print(country.find('gdppc').tag, country.find('gdppc').text)\n",
    "    print(country.findall('neighbor')[0].tag, country.findall('neighbor')[0].get('name'), country.findall('neighbor')[0].get('direction'))\n",
    "    print('='*50)"
   ]
  },
  {
   "cell_type": "code",
   "execution_count": 54,
   "id": "45ed35b5",
   "metadata": {},
   "outputs": [
    {
     "data": {
      "text/plain": [
       "[['1', '2008', '141100'], ['4', '2011', '59900'], ['68', '2011', '13600']]"
      ]
     },
     "execution_count": 54,
     "metadata": {},
     "output_type": "execute_result"
    }
   ],
   "source": [
    "country_list2 = []\n",
    "for country in country_list:\n",
    "    rank = country.find('rank').text\n",
    "    year = country.find('year').text\n",
    "    gdppc = country.find('gdppc').text\n",
    "    country_list2.append([rank, year, gdppc])\n",
    "    \n",
    "country_list2"
   ]
  },
  {
   "cell_type": "code",
   "execution_count": 57,
   "id": "737c78c9",
   "metadata": {},
   "outputs": [
    {
     "data": {
      "text/html": [
       "<div>\n",
       "<style scoped>\n",
       "    .dataframe tbody tr th:only-of-type {\n",
       "        vertical-align: middle;\n",
       "    }\n",
       "\n",
       "    .dataframe tbody tr th {\n",
       "        vertical-align: top;\n",
       "    }\n",
       "\n",
       "    .dataframe thead th {\n",
       "        text-align: right;\n",
       "    }\n",
       "</style>\n",
       "<table border=\"1\" class=\"dataframe\">\n",
       "  <thead>\n",
       "    <tr style=\"text-align: right;\">\n",
       "      <th></th>\n",
       "      <th>rank</th>\n",
       "      <th>year</th>\n",
       "      <th>gdppc</th>\n",
       "    </tr>\n",
       "  </thead>\n",
       "  <tbody>\n",
       "    <tr>\n",
       "      <th>0</th>\n",
       "      <td>1</td>\n",
       "      <td>2008</td>\n",
       "      <td>141100</td>\n",
       "    </tr>\n",
       "    <tr>\n",
       "      <th>1</th>\n",
       "      <td>4</td>\n",
       "      <td>2011</td>\n",
       "      <td>59900</td>\n",
       "    </tr>\n",
       "    <tr>\n",
       "      <th>2</th>\n",
       "      <td>68</td>\n",
       "      <td>2011</td>\n",
       "      <td>13600</td>\n",
       "    </tr>\n",
       "  </tbody>\n",
       "</table>\n",
       "</div>"
      ],
      "text/plain": [
       "  rank  year   gdppc\n",
       "0    1  2008  141100\n",
       "1    4  2011   59900\n",
       "2   68  2011   13600"
      ]
     },
     "execution_count": 57,
     "metadata": {},
     "output_type": "execute_result"
    }
   ],
   "source": [
    "df_country = pd.DataFrame(country_list2, columns = ['rank', 'year', 'gdppc'])\n",
    "df_country"
   ]
  }
 ],
 "metadata": {
  "kernelspec": {
   "display_name": "Python 3",
   "language": "python",
   "name": "python3"
  },
  "language_info": {
   "codemirror_mode": {
    "name": "ipython",
    "version": 3
   },
   "file_extension": ".py",
   "mimetype": "text/x-python",
   "name": "python",
   "nbconvert_exporter": "python",
   "pygments_lexer": "ipython3",
   "version": "3.8.8"
  }
 },
 "nbformat": 4,
 "nbformat_minor": 5
}
