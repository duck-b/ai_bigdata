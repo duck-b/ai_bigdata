{
 "cells": [
  {
   "cell_type": "code",
   "execution_count": 1,
   "id": "912bf5e5",
   "metadata": {},
   "outputs": [],
   "source": [
    "import pandas as pd\n",
    "import numpy as np\n",
    "import matplotlib.pyplot as plt\n",
    "from scipy import stats"
   ]
  },
  {
   "cell_type": "code",
   "execution_count": 7,
   "id": "b82fdb30",
   "metadata": {},
   "outputs": [
    {
     "data": {
      "text/html": [
       "<div>\n",
       "<style scoped>\n",
       "    .dataframe tbody tr th:only-of-type {\n",
       "        vertical-align: middle;\n",
       "    }\n",
       "\n",
       "    .dataframe tbody tr th {\n",
       "        vertical-align: top;\n",
       "    }\n",
       "\n",
       "    .dataframe thead th {\n",
       "        text-align: right;\n",
       "    }\n",
       "</style>\n",
       "<table border=\"1\" class=\"dataframe\">\n",
       "  <thead>\n",
       "    <tr style=\"text-align: right;\">\n",
       "      <th></th>\n",
       "      <th>score</th>\n",
       "    </tr>\n",
       "  </thead>\n",
       "  <tbody>\n",
       "    <tr>\n",
       "      <th>0</th>\n",
       "      <td>76</td>\n",
       "    </tr>\n",
       "    <tr>\n",
       "      <th>1</th>\n",
       "      <td>55</td>\n",
       "    </tr>\n",
       "    <tr>\n",
       "      <th>2</th>\n",
       "      <td>80</td>\n",
       "    </tr>\n",
       "    <tr>\n",
       "      <th>3</th>\n",
       "      <td>80</td>\n",
       "    </tr>\n",
       "    <tr>\n",
       "      <th>4</th>\n",
       "      <td>74</td>\n",
       "    </tr>\n",
       "    <tr>\n",
       "      <th>...</th>\n",
       "      <td>...</td>\n",
       "    </tr>\n",
       "    <tr>\n",
       "      <th>395</th>\n",
       "      <td>77</td>\n",
       "    </tr>\n",
       "    <tr>\n",
       "      <th>396</th>\n",
       "      <td>60</td>\n",
       "    </tr>\n",
       "    <tr>\n",
       "      <th>397</th>\n",
       "      <td>83</td>\n",
       "    </tr>\n",
       "    <tr>\n",
       "      <th>398</th>\n",
       "      <td>80</td>\n",
       "    </tr>\n",
       "    <tr>\n",
       "      <th>399</th>\n",
       "      <td>85</td>\n",
       "    </tr>\n",
       "  </tbody>\n",
       "</table>\n",
       "<p>400 rows × 1 columns</p>\n",
       "</div>"
      ],
      "text/plain": [
       "     score\n",
       "0       76\n",
       "1       55\n",
       "2       80\n",
       "3       80\n",
       "4       74\n",
       "..     ...\n",
       "395     77\n",
       "396     60\n",
       "397     83\n",
       "398     80\n",
       "399     85\n",
       "\n",
       "[400 rows x 1 columns]"
      ]
     },
     "execution_count": 7,
     "metadata": {},
     "output_type": "execute_result"
    }
   ],
   "source": [
    "df = pd.read_csv('./data/ch4_scores400.csv')\n",
    "df"
   ]
  },
  {
   "cell_type": "code",
   "execution_count": 8,
   "id": "2d68c2f8",
   "metadata": {},
   "outputs": [
    {
     "data": {
      "text/plain": [
       "array([76, 55, 80, 80, 74, 61, 81, 76, 23, 80])"
      ]
     },
     "execution_count": 8,
     "metadata": {},
     "output_type": "execute_result"
    }
   ],
   "source": [
    "scores = np.array(df['score'])\n",
    "scores[:10]"
   ]
  },
  {
   "cell_type": "code",
   "execution_count": 9,
   "id": "d29088df",
   "metadata": {},
   "outputs": [
    {
     "data": {
      "text/plain": [
       "array([3, 1, 4])"
      ]
     },
     "execution_count": 9,
     "metadata": {},
     "output_type": "execute_result"
    }
   ],
   "source": [
    "# replace = True : 복원 추출, False : 비복원 추출\n",
    "# np.random.seed(0) : 랜덤을 고정\n",
    "np.random.choice([1,2,3,4,5,6], 3 , replace=True)"
   ]
  },
  {
   "cell_type": "code",
   "execution_count": 10,
   "id": "7eb61684",
   "metadata": {},
   "outputs": [
    {
     "data": {
      "text/plain": [
       "70.4"
      ]
     },
     "execution_count": 10,
     "metadata": {},
     "output_type": "execute_result"
    }
   ],
   "source": [
    "np.random.seed(0)\n",
    "sample = np.random.choice(scores, 20)\n",
    "sample.mean()"
   ]
  },
  {
   "cell_type": "code",
   "execution_count": 11,
   "id": "d750a8f3",
   "metadata": {},
   "outputs": [
    {
     "data": {
      "text/plain": [
       "69.53"
      ]
     },
     "execution_count": 11,
     "metadata": {},
     "output_type": "execute_result"
    }
   ],
   "source": [
    "scores.mean()"
   ]
  },
  {
   "cell_type": "code",
   "execution_count": 12,
   "id": "80815586",
   "metadata": {},
   "outputs": [
    {
     "name": "stdout",
     "output_type": "stream",
     "text": [
      "1번째 무작위 추출로 얻은 표본평균 72.45\n",
      "2번째 무작위 추출로 얻은 표본평균 63.7\n",
      "3번째 무작위 추출로 얻은 표본평균 66.05\n",
      "4번째 무작위 추출로 얻은 표본평균 71.7\n",
      "5번째 무작위 추출로 얻은 표본평균 74.15\n"
     ]
    }
   ],
   "source": [
    "for i in range(5):\n",
    "    sample = np.random.choice(scores, 20)\n",
    "    print(f'{i+1}번째 무작위 추출로 얻은 표본평균',sample.mean())"
   ]
  },
  {
   "cell_type": "code",
   "execution_count": 13,
   "id": "dc107bf6",
   "metadata": {},
   "outputs": [
    {
     "data": {
      "text/plain": [
       "array([1, 4, 6, 4, 5, 5, 6, 6, 3, 5, 6, 5, 6, 6, 2, 3, 1, 6, 5, 6, 3, 4,\n",
       "       5, 3, 4, 3, 5, 5, 4, 4, 6, 4, 6, 5, 6, 5, 4, 6, 2, 6, 4, 5, 3, 4,\n",
       "       6, 5, 5, 5, 3, 4, 5, 4, 4, 6, 4, 4, 6, 6, 2, 2, 4, 5, 1, 6, 4, 3,\n",
       "       2, 2, 6, 3, 5, 4, 2, 4, 4, 6, 6, 1, 5, 3, 6, 6, 4, 2, 1, 6, 4, 4,\n",
       "       2, 4, 1, 3, 6, 6, 6, 4, 5, 4, 3, 3])"
      ]
     },
     "execution_count": 13,
     "metadata": {},
     "output_type": "execute_result"
    }
   ],
   "source": [
    "dice = [1,2,3,4,5,6]\n",
    "prob = [1/21, 2/21, 3/21, 4/21, 5/21, 6/21]\n",
    "num_trial = 100\n",
    "sample = np.random.choice(dice, num_trial, p=prob)\n",
    "sample"
   ]
  },
  {
   "cell_type": "code",
   "execution_count": 14,
   "id": "ae7f01c5",
   "metadata": {},
   "outputs": [
    {
     "data": {
      "text/html": [
       "<div>\n",
       "<style scoped>\n",
       "    .dataframe tbody tr th:only-of-type {\n",
       "        vertical-align: middle;\n",
       "    }\n",
       "\n",
       "    .dataframe tbody tr th {\n",
       "        vertical-align: top;\n",
       "    }\n",
       "\n",
       "    .dataframe thead th {\n",
       "        text-align: right;\n",
       "    }\n",
       "</style>\n",
       "<table border=\"1\" class=\"dataframe\">\n",
       "  <thead>\n",
       "    <tr style=\"text-align: right;\">\n",
       "      <th></th>\n",
       "      <th>frequency</th>\n",
       "      <th>relative frequency</th>\n",
       "    </tr>\n",
       "    <tr>\n",
       "      <th>dice</th>\n",
       "      <th></th>\n",
       "      <th></th>\n",
       "    </tr>\n",
       "  </thead>\n",
       "  <tbody>\n",
       "    <tr>\n",
       "      <th>1</th>\n",
       "      <td>6</td>\n",
       "      <td>0.06</td>\n",
       "    </tr>\n",
       "    <tr>\n",
       "      <th>2</th>\n",
       "      <td>9</td>\n",
       "      <td>0.09</td>\n",
       "    </tr>\n",
       "    <tr>\n",
       "      <th>3</th>\n",
       "      <td>13</td>\n",
       "      <td>0.13</td>\n",
       "    </tr>\n",
       "    <tr>\n",
       "      <th>4</th>\n",
       "      <td>26</td>\n",
       "      <td>0.26</td>\n",
       "    </tr>\n",
       "    <tr>\n",
       "      <th>5</th>\n",
       "      <td>19</td>\n",
       "      <td>0.19</td>\n",
       "    </tr>\n",
       "    <tr>\n",
       "      <th>6</th>\n",
       "      <td>27</td>\n",
       "      <td>0.27</td>\n",
       "    </tr>\n",
       "  </tbody>\n",
       "</table>\n",
       "</div>"
      ],
      "text/plain": [
       "      frequency  relative frequency\n",
       "dice                               \n",
       "1             6                0.06\n",
       "2             9                0.09\n",
       "3            13                0.13\n",
       "4            26                0.26\n",
       "5            19                0.19\n",
       "6            27                0.27"
      ]
     },
     "execution_count": 14,
     "metadata": {},
     "output_type": "execute_result"
    }
   ],
   "source": [
    "freq, _ = np.histogram(sample, bins=6, range=(1,7))\n",
    "pd.DataFrame({'frequency': freq, 'relative frequency': freq / num_trial}, index=pd.Index(np.arange(1,7), name='dice'))"
   ]
  },
  {
   "cell_type": "code",
   "execution_count": 15,
   "id": "c6a3efb1",
   "metadata": {},
   "outputs": [
    {
     "data": {
      "image/png": "[encoded data removed]",
      "text/plain": [
       "<Figure size 720x432 with 1 Axes>"
      ]
     },
     "metadata": {
      "needs_background": "light"
     },
     "output_type": "display_data"
    }
   ],
   "source": [
    "fig = plt.figure(figsize=(10,6))\n",
    "ax = fig.add_subplot(111)\n",
    "ax.hist(sample, bins=6, range=(1,7), density=True, rwidth=0.8)\n",
    "ax.hlines(prob, np.arange(1,7), np.arange(2,8), colors='gray')\n",
    "\n",
    "ax.set_xticks(np.linspace(1.5, 6.5, 6))\n",
    "ax.set_xticklabels(np.arange(1,7))\n",
    "\n",
    "ax.set_xlabel('Dice')\n",
    "ax.set_ylabel('Relative Frequency')\n",
    "plt.show()"
   ]
  },
  {
   "cell_type": "code",
   "execution_count": 16,
   "id": "f447a90f",
   "metadata": {},
   "outputs": [
    {
     "data": {
      "image/png": "[encoded data removed]",
      "text/plain": [
       "<Figure size 720x432 with 1 Axes>"
      ]
     },
     "metadata": {
      "needs_background": "light"
     },
     "output_type": "display_data"
    }
   ],
   "source": [
    "num_trial = 10000\n",
    "sample = np.random.choice(dice, num_trial, p=prob)\n",
    "fig = plt.figure(figsize=(10,6))\n",
    "ax = fig.add_subplot(111)\n",
    "ax.hist(sample, bins=6, range=(1,7), density=True, rwidth=0.8)\n",
    "ax.hlines(prob, np.arange(1,7), np.arange(2,8), colors='gray')\n",
    "\n",
    "ax.set_xticks(np.linspace(1.5, 6.5, 6))\n",
    "ax.set_xticklabels(np.arange(1,7))\n",
    "\n",
    "ax.set_xlabel('Dice')\n",
    "ax.set_ylabel('Relative Frequency')\n",
    "plt.show()"
   ]
  },
  {
   "cell_type": "code",
   "execution_count": 17,
   "id": "31f46dbb",
   "metadata": {},
   "outputs": [
    {
     "data": {
      "image/png": "[encoded data removed]",
      "text/plain": [
       "<Figure size 720x432 with 1 Axes>"
      ]
     },
     "metadata": {
      "needs_background": "light"
     },
     "output_type": "display_data"
    }
   ],
   "source": [
    "fig = plt.figure(figsize=(10,6))\n",
    "ax = fig.add_subplot(111)\n",
    "ax.hist(scores, bins=100, range=(0,100), density=True)\n",
    "ax.set_xlim(20,100)\n",
    "ax.set_ylim(0, 0.042)\n",
    "ax.set_xlabel('Score')\n",
    "ax.set_ylabel('Relative Frequency')\n",
    "plt.show()"
   ]
  },
  {
   "cell_type": "code",
   "execution_count": 18,
   "id": "bf11f9a7",
   "metadata": {},
   "outputs": [
    {
     "data": {
      "text/plain": [
       "79"
      ]
     },
     "execution_count": 18,
     "metadata": {},
     "output_type": "execute_result"
    }
   ],
   "source": [
    "np.random.choice(scores)"
   ]
  },
  {
   "cell_type": "code",
   "execution_count": 19,
   "id": "b13f5199",
   "metadata": {},
   "outputs": [
    {
     "data": {
      "image/png": "[encoded data removed]",
      "text/plain": [
       "<Figure size 720x432 with 1 Axes>"
      ]
     },
     "metadata": {
      "needs_background": "light"
     },
     "output_type": "display_data"
    }
   ],
   "source": [
    "sample = np.random.choice(scores, 10000)\n",
    "\n",
    "fig = plt.figure(figsize=(10,6))\n",
    "ax= fig.add_subplot(111)\n",
    "ax.hist(sample, bins=100, range=(0,100), density=True)\n",
    "ax.set_xlim(20, 100)\n",
    "ax.set_ylim(0, 0.042)\n",
    "ax.set_xlabel('Score')\n",
    "ax.set_ylabel('Relatvie Frequency')\n",
    "plt.show()"
   ]
  },
  {
   "cell_type": "code",
   "execution_count": 20,
   "id": "e3a58f6b",
   "metadata": {},
   "outputs": [
    {
     "data": {
      "image/png": "[encoded data removed]",
      "text/plain": [
       "<Figure size 720x432 with 1 Axes>"
      ]
     },
     "metadata": {
      "needs_background": "light"
     },
     "output_type": "display_data"
    }
   ],
   "source": [
    "sample_means = [np.random.choice(scores, 20).mean() for _ in range(10000)]\n",
    "\n",
    "fig = plt.figure(figsize=(10,6))\n",
    "ax = fig.add_subplot(111)\n",
    "ax.hist(sample_means, bins=100, range=(0,100), density=True)\n",
    "ax.vlines(np.mean(scores), 0, 0.2, 'gray')\n",
    "ax.set_xlim(50, 90)\n",
    "ax.set_ylim(0, 0.13)\n",
    "ax.set_xlabel('Score')\n",
    "ax.set_ylabel('Relative Frequency')\n",
    "\n",
    "plt.show()"
   ]
  },
  {
   "cell_type": "code",
   "execution_count": 21,
   "id": "8732a960",
   "metadata": {},
   "outputs": [],
   "source": [
    "x_set = np.array([1,2,3,4,5,6])\n",
    "def f(x):\n",
    "    if x in x_set:\n",
    "        return x / 21\n",
    "    else:\n",
    "        return 0"
   ]
  },
  {
   "cell_type": "code",
   "execution_count": 22,
   "id": "21e4f953",
   "metadata": {},
   "outputs": [],
   "source": [
    "X = [x_set, f]"
   ]
  },
  {
   "cell_type": "code",
   "execution_count": 23,
   "id": "3fc148a5",
   "metadata": {},
   "outputs": [
    {
     "data": {
      "text/plain": [
       "{1: 0.047619047619047616,\n",
       " 2: 0.09523809523809523,\n",
       " 3: 0.14285714285714285,\n",
       " 4: 0.19047619047619047,\n",
       " 5: 0.23809523809523808,\n",
       " 6: 0.2857142857142857}"
      ]
     },
     "execution_count": 23,
     "metadata": {},
     "output_type": "execute_result"
    }
   ],
   "source": [
    "prob = np.array([f(x_k) for x_k in x_set])\n",
    "dict(zip(x_set, prob))"
   ]
  },
  {
   "cell_type": "code",
   "execution_count": 24,
   "id": "78da513d",
   "metadata": {},
   "outputs": [
    {
     "data": {
      "image/png": "[encoded data removed]",
      "text/plain": [
       "<Figure size 720x432 with 1 Axes>"
      ]
     },
     "metadata": {
      "needs_background": "light"
     },
     "output_type": "display_data"
    }
   ],
   "source": [
    "fig = plt.figure(figsize=(10,6))\n",
    "ax = fig.add_subplot(111)\n",
    "ax.bar(x_set, prob)\n",
    "ax.set_xlabel('Value')\n",
    "ax.set_ylabel('Probability')\n",
    "plt.show()"
   ]
  },
  {
   "cell_type": "code",
   "execution_count": 25,
   "id": "d442a0b5",
   "metadata": {},
   "outputs": [
    {
     "data": {
      "text/plain": [
       "True"
      ]
     },
     "execution_count": 25,
     "metadata": {},
     "output_type": "execute_result"
    }
   ],
   "source": [
    "np.all(prob >= 0)"
   ]
  },
  {
   "cell_type": "code",
   "execution_count": 26,
   "id": "b0a5ee0f",
   "metadata": {},
   "outputs": [
    {
     "data": {
      "text/plain": [
       "0.9999999999999999"
      ]
     },
     "execution_count": 26,
     "metadata": {},
     "output_type": "execute_result"
    }
   ],
   "source": [
    "np.sum(prob)"
   ]
  },
  {
   "cell_type": "code",
   "execution_count": 27,
   "id": "8643b2e4",
   "metadata": {},
   "outputs": [
    {
     "data": {
      "text/plain": [
       "False"
      ]
     },
     "execution_count": 27,
     "metadata": {},
     "output_type": "execute_result"
    }
   ],
   "source": [
    "lst = np.array([1,2,3,4,5,0])\n",
    "np.all(lst)"
   ]
  },
  {
   "cell_type": "code",
   "execution_count": 28,
   "id": "43a8bf6f",
   "metadata": {},
   "outputs": [
    {
     "data": {
      "text/plain": [
       "True"
      ]
     },
     "execution_count": 28,
     "metadata": {},
     "output_type": "execute_result"
    }
   ],
   "source": [
    "np.any(lst)"
   ]
  },
  {
   "cell_type": "code",
   "execution_count": 29,
   "id": "b41a9ee3",
   "metadata": {},
   "outputs": [],
   "source": [
    "def F(x):\n",
    "    return np.sum([f(x_k) for x_k in x_set if x_k <= x])"
   ]
  },
  {
   "cell_type": "code",
   "execution_count": 30,
   "id": "c153dc67",
   "metadata": {},
   "outputs": [
    {
     "data": {
      "text/plain": [
       "0.2857142857142857"
      ]
     },
     "execution_count": 30,
     "metadata": {},
     "output_type": "execute_result"
    }
   ],
   "source": [
    "F(3)"
   ]
  },
  {
   "cell_type": "code",
   "execution_count": 31,
   "id": "2d5c432b",
   "metadata": {},
   "outputs": [
    {
     "data": {
      "text/plain": [
       "{5: 0.047619047619047616,\n",
       " 7: 0.09523809523809523,\n",
       " 9: 0.14285714285714285,\n",
       " 11: 0.19047619047619047,\n",
       " 13: 0.23809523809523808,\n",
       " 15: 0.2857142857142857}"
      ]
     },
     "execution_count": 31,
     "metadata": {},
     "output_type": "execute_result"
    }
   ],
   "source": [
    "y_set = np.array([2 * x_k + 3 for x_k in x_set])\n",
    "prob = np.array([f(x_k) for x_k in x_set])\n",
    "dict(zip(y_set, prob))"
   ]
  },
  {
   "cell_type": "code",
   "execution_count": 32,
   "id": "3a96549d",
   "metadata": {},
   "outputs": [
    {
     "data": {
      "text/plain": [
       "4.333333333333333"
      ]
     },
     "execution_count": 32,
     "metadata": {},
     "output_type": "execute_result"
    }
   ],
   "source": [
    "np.sum([x_k * f(x_k) for x_k in x_set])"
   ]
  },
  {
   "cell_type": "code",
   "execution_count": 33,
   "id": "0b18b7a8",
   "metadata": {},
   "outputs": [
    {
     "data": {
      "text/plain": [
       "4.334015"
      ]
     },
     "execution_count": 33,
     "metadata": {},
     "output_type": "execute_result"
    }
   ],
   "source": [
    "sample = np.random.choice(x_set, int(1e6), p=prob)\n",
    "np.mean(sample)"
   ]
  },
  {
   "cell_type": "code",
   "execution_count": 34,
   "id": "3de1213c",
   "metadata": {},
   "outputs": [],
   "source": [
    "def E(X, g=lambda x: x):\n",
    "    x_set, f = X\n",
    "    return np.sum([g(x_k) * f(x_k) for x_k in x_set])"
   ]
  },
  {
   "cell_type": "code",
   "execution_count": 35,
   "id": "728d41c0",
   "metadata": {},
   "outputs": [
    {
     "data": {
      "text/plain": [
       "4.333333333333333"
      ]
     },
     "execution_count": 35,
     "metadata": {},
     "output_type": "execute_result"
    }
   ],
   "source": [
    "E(X)"
   ]
  },
  {
   "cell_type": "code",
   "execution_count": 36,
   "id": "3bd5926c",
   "metadata": {},
   "outputs": [
    {
     "data": {
      "text/plain": [
       "11.666666666666664"
      ]
     },
     "execution_count": 36,
     "metadata": {},
     "output_type": "execute_result"
    }
   ],
   "source": [
    "E(X, g=lambda x: 2*x+3)"
   ]
  },
  {
   "cell_type": "code",
   "execution_count": 37,
   "id": "f9a3e0be",
   "metadata": {},
   "outputs": [
    {
     "data": {
      "text/plain": [
       "11.666666666666666"
      ]
     },
     "execution_count": 37,
     "metadata": {},
     "output_type": "execute_result"
    }
   ],
   "source": [
    "2*E(X)+3"
   ]
  },
  {
   "cell_type": "code",
   "execution_count": 38,
   "id": "0bc2f501",
   "metadata": {},
   "outputs": [
    {
     "data": {
      "text/plain": [
       "2.2222222222222223"
      ]
     },
     "execution_count": 38,
     "metadata": {},
     "output_type": "execute_result"
    }
   ],
   "source": [
    "mean = E(X)\n",
    "np.sum([(x_k-mean)**2 * f(x_k) for x_k in x_set])"
   ]
  },
  {
   "cell_type": "code",
   "execution_count": 39,
   "id": "a6f1bbb1",
   "metadata": {},
   "outputs": [],
   "source": [
    "def V(X, g=lambda x: x):\n",
    "    x_set, f = X\n",
    "    mean = E(X,g)\n",
    "    return np.sum([(g(x_k)-mean)**2 * f(x_k) for x_k in x_set])"
   ]
  },
  {
   "cell_type": "code",
   "execution_count": 40,
   "id": "91ccbe3b",
   "metadata": {},
   "outputs": [
    {
     "data": {
      "text/plain": [
       "2.2222222222222223"
      ]
     },
     "execution_count": 40,
     "metadata": {},
     "output_type": "execute_result"
    }
   ],
   "source": [
    "V(X)"
   ]
  },
  {
   "cell_type": "code",
   "execution_count": 41,
   "id": "4234f24c",
   "metadata": {},
   "outputs": [
    {
     "data": {
      "text/plain": [
       "8.88888888888889"
      ]
     },
     "execution_count": 41,
     "metadata": {},
     "output_type": "execute_result"
    }
   ],
   "source": [
    "V(X, g=lambda x : 2*x+3)"
   ]
  },
  {
   "cell_type": "code",
   "execution_count": 42,
   "id": "9f1437db",
   "metadata": {},
   "outputs": [
    {
     "data": {
      "text/plain": [
       "8.88888888888889"
      ]
     },
     "execution_count": 42,
     "metadata": {},
     "output_type": "execute_result"
    }
   ],
   "source": [
    "2**2*V(X)"
   ]
  },
  {
   "cell_type": "code",
   "execution_count": 43,
   "id": "6b418105",
   "metadata": {},
   "outputs": [],
   "source": [
    "x_set = np.arange(2, 13)\n",
    "y_set = np.arange(1,7)"
   ]
  },
  {
   "cell_type": "code",
   "execution_count": 44,
   "id": "13fe102f",
   "metadata": {},
   "outputs": [],
   "source": [
    "def f_XY(x,y):\n",
    "    if 1 <= y <= 6 and 1 <= x-y <=6:\n",
    "        return y*(x-y)/441\n",
    "    else:\n",
    "        return 0"
   ]
  },
  {
   "cell_type": "code",
   "execution_count": 45,
   "id": "b02edd51",
   "metadata": {},
   "outputs": [
    {
     "data": {
      "text/plain": [
       "[array([ 2,  3,  4,  5,  6,  7,  8,  9, 10, 11, 12]),\n",
       " array([1, 2, 3, 4, 5, 6]),\n",
       " <function __main__.f_XY(x, y)>]"
      ]
     },
     "execution_count": 45,
     "metadata": {},
     "output_type": "execute_result"
    }
   ],
   "source": [
    "XY = [x_set, y_set, f_XY]\n",
    "XY"
   ]
  },
  {
   "cell_type": "code",
   "execution_count": 46,
   "id": "2eca3343",
   "metadata": {},
   "outputs": [
    {
     "data": {
      "image/png": "[encoded data removed]",
      "text/plain": [
       "<Figure size 720x576 with 2 Axes>"
      ]
     },
     "metadata": {
      "needs_background": "light"
     },
     "output_type": "display_data"
    }
   ],
   "source": [
    "prob = np.array([[f_XY(x_i, y_j) for y_j in y_set] for x_i in x_set])\n",
    "\n",
    "fig = plt.figure(figsize=(10,8))\n",
    "ax = fig.add_subplot(111)\n",
    "\n",
    "c = ax.pcolor(prob)\n",
    "ax.set_xticks(np.arange(prob.shape[1])+0.5, minor=False)\n",
    "ax.set_yticks(np.arange(prob.shape[0])+0.5, minor=False)\n",
    "ax.set_xticklabels(np.arange(1,7), minor=False)\n",
    "ax.set_yticklabels(np.arange(2,13), minor=False)\n",
    "\n",
    "ax.invert_yaxis()\n",
    "ax.xaxis.tick_top()\n",
    "\n",
    "fig.colorbar(c, ax=ax)\n",
    "plt.show()"
   ]
  },
  {
   "cell_type": "code",
   "execution_count": 47,
   "id": "ebdcf887",
   "metadata": {},
   "outputs": [
    {
     "data": {
      "text/plain": [
       "True"
      ]
     },
     "execution_count": 47,
     "metadata": {},
     "output_type": "execute_result"
    }
   ],
   "source": [
    "np.all(prob >=0)"
   ]
  },
  {
   "cell_type": "code",
   "execution_count": 48,
   "id": "69bf3f2b",
   "metadata": {},
   "outputs": [
    {
     "data": {
      "text/plain": [
       "1.0"
      ]
     },
     "execution_count": 48,
     "metadata": {},
     "output_type": "execute_result"
    }
   ],
   "source": [
    "np.sum(prob)"
   ]
  },
  {
   "cell_type": "code",
   "execution_count": 84,
   "id": "73542734",
   "metadata": {},
   "outputs": [],
   "source": [
    "def f_X(x):\n",
    "    return np.sum([f_XY(x, y_k) for y_k in y_set])"
   ]
  },
  {
   "cell_type": "code",
   "execution_count": 85,
   "id": "fa6c5888",
   "metadata": {},
   "outputs": [],
   "source": [
    "def f_Y(y):\n",
    "    return np.sum([f_XY(x_k, y) for x_k in x_set])"
   ]
  },
  {
   "cell_type": "code",
   "execution_count": 51,
   "id": "1031e817",
   "metadata": {},
   "outputs": [],
   "source": [
    "X = [x_set, f_X]\n",
    "Y = [y_set, f_Y]"
   ]
  },
  {
   "cell_type": "code",
   "execution_count": 52,
   "id": "477f39bb",
   "metadata": {},
   "outputs": [
    {
     "data": {
      "image/png": "[encoded data removed]",
      "text/plain": [
       "<Figure size 864x288 with 2 Axes>"
      ]
     },
     "metadata": {
      "needs_background": "light"
     },
     "output_type": "display_data"
    }
   ],
   "source": [
    "prob_x = np.array([f_X(x_k) for x_k in x_set])\n",
    "prob_y = np.array([f_Y(y_k) for y_k in y_set])\n",
    "\n",
    "fig = plt.figure(figsize=(12,4))\n",
    "ax1 = fig.add_subplot(121)\n",
    "ax2 = fig.add_subplot(122)\n",
    "\n",
    "ax1.bar(x_set, prob_x)\n",
    "ax1.set_title('X_marginal probability distribution')\n",
    "ax1.set_xlabel('X_value')\n",
    "ax1.set_xticks(x_set)\n",
    "\n",
    "ax2.bar(y_set, prob_y)\n",
    "ax2.set_title('Y_marginal probability distribution')\n",
    "ax2.set_xlabel('Y_value')\n",
    "ax2.set_xticks(y_set)\n",
    "\n",
    "plt.show()"
   ]
  },
  {
   "cell_type": "code",
   "execution_count": 53,
   "id": "7bdde0c6",
   "metadata": {},
   "outputs": [
    {
     "data": {
      "text/plain": [
       "8.666666666666666"
      ]
     },
     "execution_count": 53,
     "metadata": {},
     "output_type": "execute_result"
    }
   ],
   "source": [
    "np.sum([x_i * f_XY(x_i, y_j) for x_i in x_set for y_j in y_set])"
   ]
  },
  {
   "cell_type": "code",
   "execution_count": 77,
   "id": "6937f0b8",
   "metadata": {},
   "outputs": [],
   "source": [
    "def E(XY, g):\n",
    "    x_set, y_set, f_XY = XY\n",
    "    return np.sum([g(x_i, y_j)*f_XY(x_i, y_j) for x_i in x_set for y_j in y_set])"
   ]
  },
  {
   "cell_type": "code",
   "execution_count": 55,
   "id": "89aaa08a",
   "metadata": {},
   "outputs": [
    {
     "data": {
      "text/plain": [
       "8.666666666666666"
      ]
     },
     "execution_count": 55,
     "metadata": {},
     "output_type": "execute_result"
    }
   ],
   "source": [
    "mean_X = E(XY, lambda x, y: x)\n",
    "mean_X"
   ]
  },
  {
   "cell_type": "code",
   "execution_count": 56,
   "id": "d42f59ee",
   "metadata": {},
   "outputs": [
    {
     "data": {
      "text/plain": [
       "4.333333333333333"
      ]
     },
     "execution_count": 56,
     "metadata": {},
     "output_type": "execute_result"
    }
   ],
   "source": [
    "mean_Y = E(XY, lambda x, y: y)\n",
    "mean_Y"
   ]
  },
  {
   "cell_type": "code",
   "execution_count": 57,
   "id": "ce1b5374",
   "metadata": {},
   "outputs": [
    {
     "data": {
      "text/plain": [
       "30.333333333333332"
      ]
     },
     "execution_count": 57,
     "metadata": {},
     "output_type": "execute_result"
    }
   ],
   "source": [
    "a, b = 2, 3\n",
    "E(XY, lambda x,y: a*x+b*y)"
   ]
  },
  {
   "cell_type": "code",
   "execution_count": 58,
   "id": "84002e41",
   "metadata": {},
   "outputs": [
    {
     "data": {
      "text/plain": [
       "30.333333333333332"
      ]
     },
     "execution_count": 58,
     "metadata": {},
     "output_type": "execute_result"
    }
   ],
   "source": [
    "a*mean_X + b*mean_Y"
   ]
  },
  {
   "cell_type": "code",
   "execution_count": 59,
   "id": "92d71093",
   "metadata": {},
   "outputs": [
    {
     "data": {
      "text/plain": [
       "4.444444444444444"
      ]
     },
     "execution_count": 59,
     "metadata": {},
     "output_type": "execute_result"
    }
   ],
   "source": [
    "np.sum([(x_i-mean_X)**2 * f_XY(x_i, y_j) for x_i in x_set for y_j in y_set])"
   ]
  },
  {
   "cell_type": "code",
   "execution_count": 78,
   "id": "579ede1f",
   "metadata": {},
   "outputs": [],
   "source": [
    "def V(XY, g):\n",
    "    x_set, y_set, f_XY = XY\n",
    "    mean = E(XY, g)\n",
    "    return np.sum([(g(x_i, y_j)-mean)**2 * f_XY(x_i, y_j) for x_i in x_set for y_j in y_set])"
   ]
  },
  {
   "cell_type": "code",
   "execution_count": 74,
   "id": "8cd4ffcb",
   "metadata": {},
   "outputs": [
    {
     "data": {
      "text/plain": [
       "4.444444444444444"
      ]
     },
     "execution_count": 74,
     "metadata": {},
     "output_type": "execute_result"
    }
   ],
   "source": [
    "var_X = V(XY, g=lambda x, y: x)\n",
    "var_X"
   ]
  },
  {
   "cell_type": "code",
   "execution_count": 75,
   "id": "dc0d6a78",
   "metadata": {},
   "outputs": [
    {
     "data": {
      "text/plain": [
       "2.2222222222222223"
      ]
     },
     "execution_count": 75,
     "metadata": {},
     "output_type": "execute_result"
    }
   ],
   "source": [
    "var_Y = V(XY, g=lambda x, y: y)\n",
    "var_Y"
   ]
  },
  {
   "cell_type": "code",
   "execution_count": 79,
   "id": "a2e07cba",
   "metadata": {},
   "outputs": [],
   "source": [
    "def Cov(XY):\n",
    "    x_set, y_set, f_XY = XY\n",
    "    mean_X = E(XY, lambda x, y : x)\n",
    "    mean_Y = E(XY, lambda x, y : y)\n",
    "    return np.sum([(x_i - mean_X) * (y_j - mean_Y) * f_XY(x_i,y_j) for x_i in x_set for y_j in y_set])"
   ]
  },
  {
   "cell_type": "code",
   "execution_count": 77,
   "id": "a3d77010",
   "metadata": {},
   "outputs": [
    {
     "data": {
      "text/plain": [
       "2.222222222222222"
      ]
     },
     "execution_count": 77,
     "metadata": {},
     "output_type": "execute_result"
    }
   ],
   "source": [
    "cov_XY = Cov(XY)\n",
    "cov_XY"
   ]
  },
  {
   "cell_type": "code",
   "execution_count": 78,
   "id": "34c9c7a9",
   "metadata": {},
   "outputs": [
    {
     "data": {
      "text/plain": [
       "64.44444444444444"
      ]
     },
     "execution_count": 78,
     "metadata": {},
     "output_type": "execute_result"
    }
   ],
   "source": [
    "a, b = 2, 3\n",
    "V(XY, lambda x, y : a*x + b*y)"
   ]
  },
  {
   "cell_type": "code",
   "execution_count": 79,
   "id": "f13db90c",
   "metadata": {},
   "outputs": [
    {
     "data": {
      "text/plain": [
       "64.44444444444443"
      ]
     },
     "execution_count": 79,
     "metadata": {},
     "output_type": "execute_result"
    }
   ],
   "source": [
    "a**2*var_X + b**2*var_Y + 2*a*b*cov_XY"
   ]
  },
  {
   "cell_type": "code",
   "execution_count": 80,
   "id": "1ebfd89f",
   "metadata": {},
   "outputs": [
    {
     "data": {
      "text/plain": [
       "0.7071067811865474"
      ]
     },
     "execution_count": 80,
     "metadata": {},
     "output_type": "execute_result"
    }
   ],
   "source": [
    "cov_XY / np.sqrt(var_X*var_Y)"
   ]
  },
  {
   "cell_type": "code",
   "execution_count": 87,
   "id": "28dee54c",
   "metadata": {},
   "outputs": [],
   "source": [
    "linestyle = ['-', '--', ':']\n",
    "\n",
    "def E(X, g=lambda x: x):\n",
    "    x_set, f = X\n",
    "    return np.sum([g(x_k)*f(x_k) for x_k in x_set])\n",
    "\n",
    "def V(X, g=lambda x: x):\n",
    "    x_set, f = X\n",
    "    mean = E(X, g)\n",
    "    return np.sum([(g(x_k)-mean)**2 * f(x_k) for x_k in x_set])\n",
    "\n",
    "def check_prob(X):\n",
    "    x_set, f = X\n",
    "    prob = np.array([f(x_k) for x_k in x_set])\n",
    "    assert np.all(prob >= 0), 'Minus probability'\n",
    "    prob_sum = np.round(np.sum(prob), 6)\n",
    "    assert prob_sum == 1, f'Sum of probability {prob_sum}'\n",
    "    print(f'Expected value: {E(X):.4}')\n",
    "    print(f'Variance : {V(X):.4}')\n",
    "    \n",
    "def plot_prob(X):\n",
    "    x_set, f = X\n",
    "    prob = np.array([f(x_k) for x_k in x_set])\n",
    "    \n",
    "    fig = plt.figure(figsize=(10,6))\n",
    "    ax = fig.add_subplot(111)\n",
    "    ax.bar(x_set, prob, label='Prob')\n",
    "    ax.vlines(E(X), 0, 1, label='Mean', colors='black')\n",
    "    ax.set_xticks(np.append(x_set, E(X)))\n",
    "    ax.set_ylim(0, prob.max()*1.2)\n",
    "    ax.legend()\n",
    "    \n",
    "    plt.show()"
   ]
  },
  {
   "cell_type": "code",
   "execution_count": 82,
   "id": "91e26a95",
   "metadata": {},
   "outputs": [],
   "source": [
    "# 베르누이 분포\n",
    "def Bern(p):\n",
    "    x_set = np.array([0,1])\n",
    "    def f(x):\n",
    "        if x in x_set:\n",
    "            return p**x * (1-p)**(1-x)\n",
    "        else:\n",
    "            return 0\n",
    "    return x_set, f"
   ]
  },
  {
   "cell_type": "code",
   "execution_count": 89,
   "id": "891321f0",
   "metadata": {},
   "outputs": [
    {
     "data": {
      "text/plain": [
       "(array([0, 1]), <function __main__.Bern.<locals>.f(x)>)"
      ]
     },
     "execution_count": 89,
     "metadata": {},
     "output_type": "execute_result"
    }
   ],
   "source": [
    "p = 0.3\n",
    "X = Bern(p)\n",
    "X"
   ]
  },
  {
   "cell_type": "code",
   "execution_count": 90,
   "id": "41b9610a",
   "metadata": {},
   "outputs": [
    {
     "name": "stdout",
     "output_type": "stream",
     "text": [
      "Expected value: 0.3\n",
      "Variance : 0.21\n"
     ]
    }
   ],
   "source": [
    "check_prob(X)"
   ]
  },
  {
   "cell_type": "code",
   "execution_count": 91,
   "id": "eb73ea09",
   "metadata": {},
   "outputs": [
    {
     "data": {
      "image/png": "[encoded data removed]",
      "text/plain": [
       "<Figure size 720x432 with 1 Axes>"
      ]
     },
     "metadata": {
      "needs_background": "light"
     },
     "output_type": "display_data"
    }
   ],
   "source": [
    "plot_prob(X)"
   ]
  },
  {
   "cell_type": "code",
   "execution_count": 95,
   "id": "898ddf65",
   "metadata": {},
   "outputs": [
    {
     "data": {
      "text/plain": [
       "<scipy.stats._distn_infrastructure.rv_frozen at 0x7f9c1f488340>"
      ]
     },
     "execution_count": 95,
     "metadata": {},
     "output_type": "execute_result"
    }
   ],
   "source": [
    "rv = stats.bernoulli(p)\n",
    "rv"
   ]
  },
  {
   "cell_type": "code",
   "execution_count": 96,
   "id": "0dac2fe3",
   "metadata": {},
   "outputs": [
    {
     "data": {
      "text/plain": [
       "(0.7000000000000001, 0.3)"
      ]
     },
     "execution_count": 96,
     "metadata": {},
     "output_type": "execute_result"
    }
   ],
   "source": [
    "# pmf 메서드는 확률함수 계산\n",
    "rv.pmf(0), rv.pmf(1)"
   ]
  },
  {
   "cell_type": "code",
   "execution_count": 97,
   "id": "8ba271de",
   "metadata": {},
   "outputs": [
    {
     "data": {
      "text/plain": [
       "array([0.7, 0.3])"
      ]
     },
     "execution_count": 97,
     "metadata": {},
     "output_type": "execute_result"
    }
   ],
   "source": [
    "rv.pmf([0,1])"
   ]
  },
  {
   "cell_type": "code",
   "execution_count": 98,
   "id": "b7196fb9",
   "metadata": {},
   "outputs": [
    {
     "data": {
      "text/plain": [
       "array([0.7, 1. ])"
      ]
     },
     "execution_count": 98,
     "metadata": {},
     "output_type": "execute_result"
    }
   ],
   "source": [
    "# cdf 메서드는 누적밀도함수 계산\n",
    "rv.cdf([0,1])"
   ]
  },
  {
   "cell_type": "code",
   "execution_count": 99,
   "id": "d8c70430",
   "metadata": {},
   "outputs": [
    {
     "data": {
      "text/plain": [
       "(0.3, 0.21)"
      ]
     },
     "execution_count": 99,
     "metadata": {},
     "output_type": "execute_result"
    }
   ],
   "source": [
    "# mean, var 메서드로 기댓값, 분산 계산\n",
    "rv.mean(), rv.var()"
   ]
  },
  {
   "cell_type": "code",
   "execution_count": 102,
   "id": "bdab69d6",
   "metadata": {},
   "outputs": [],
   "source": [
    "from scipy.special import comb\n",
    "\n",
    "# 이항분포\n",
    "def Bin(n, p):\n",
    "    x_set = np.arange(n+1)\n",
    "    def f(x):\n",
    "        if x in x_set:\n",
    "            return comb(n,x) * p**x * (1-p)**(n-x)\n",
    "        else:\n",
    "            return 0\n",
    "    return x_set, f"
   ]
  },
  {
   "cell_type": "code",
   "execution_count": 103,
   "id": "f3a07b34",
   "metadata": {},
   "outputs": [],
   "source": [
    "n = 10\n",
    "p = 0.3\n",
    "X = Bin(n, p)"
   ]
  },
  {
   "cell_type": "code",
   "execution_count": 104,
   "id": "fd95406e",
   "metadata": {},
   "outputs": [
    {
     "name": "stdout",
     "output_type": "stream",
     "text": [
      "Expected value: 3.0\n",
      "Variance : 2.1\n"
     ]
    }
   ],
   "source": [
    "check_prob(X)"
   ]
  },
  {
   "cell_type": "code",
   "execution_count": 105,
   "id": "e9f08c38",
   "metadata": {},
   "outputs": [
    {
     "data": {
      "image/png": "[encoded data removed]",
      "text/plain": [
       "<Figure size 720x432 with 1 Axes>"
      ]
     },
     "metadata": {
      "needs_background": "light"
     },
     "output_type": "display_data"
    }
   ],
   "source": [
    "plot_prob(X)"
   ]
  },
  {
   "cell_type": "code",
   "execution_count": 106,
   "id": "56aa3765",
   "metadata": {},
   "outputs": [
    {
     "data": {
      "image/png": "[encoded data removed]",
      "text/plain": [
       "<Figure size 720x432 with 1 Axes>"
      ]
     },
     "metadata": {
      "needs_background": "light"
     },
     "output_type": "display_data"
    }
   ],
   "source": [
    "fig = plt.figure(figsize=(10,6))\n",
    "ax = fig.add_subplot(111)\n",
    "\n",
    "x_set = np.arange(n+1)\n",
    "for p, ls in zip([0.3, 0.5, 0.7], linestyle):\n",
    "    rv = stats.binom(n, p)\n",
    "    ax.plot(x_set, rv.pmf(x_set), label=f'p: {p}', ls=ls, color='gray')\n",
    "    \n",
    "ax.set_xticks(x_set)\n",
    "ax.legend()\n",
    "plt.show()"
   ]
  },
  {
   "cell_type": "code",
   "execution_count": 113,
   "id": "3a6d2781",
   "metadata": {},
   "outputs": [
    {
     "data": {
      "text/plain": [
       "array([0.02824752, 0.12106082])"
      ]
     },
     "execution_count": 113,
     "metadata": {},
     "output_type": "execute_result"
    }
   ],
   "source": [
    "x_set = np.arange(11)\n",
    "rv = stats.binom(10, 0.3)\n",
    "rv.pmf(x_set)\n",
    "rv.pmf([0,1])"
   ]
  },
  {
   "cell_type": "code",
   "execution_count": 121,
   "id": "22866652",
   "metadata": {},
   "outputs": [],
   "source": [
    "# 기하분포\n",
    "def Ge(p):\n",
    "    x_set = np.arange(1,30)\n",
    "    def f(x):\n",
    "        if x in x_set:\n",
    "            return p * (1-p)**(x-1)\n",
    "        else:\n",
    "            return 0\n",
    "    return x_set, f"
   ]
  },
  {
   "cell_type": "code",
   "execution_count": 122,
   "id": "aa7c89b5",
   "metadata": {},
   "outputs": [],
   "source": [
    "p = 0.5\n",
    "X = Ge(p)"
   ]
  },
  {
   "cell_type": "code",
   "execution_count": 123,
   "id": "81524c4d",
   "metadata": {},
   "outputs": [
    {
     "name": "stdout",
     "output_type": "stream",
     "text": [
      "Expected value: 2.0\n",
      "Variance : 2.0\n"
     ]
    }
   ],
   "source": [
    "check_prob(X)"
   ]
  },
  {
   "cell_type": "code",
   "execution_count": 124,
   "id": "c8a686b3",
   "metadata": {},
   "outputs": [
    {
     "data": {
      "image/png": "[encoded data removed]",
      "text/plain": [
       "<Figure size 720x432 with 1 Axes>"
      ]
     },
     "metadata": {
      "needs_background": "light"
     },
     "output_type": "display_data"
    }
   ],
   "source": [
    "plot_prob(X)"
   ]
  },
  {
   "cell_type": "code",
   "execution_count": 126,
   "id": "8983887c",
   "metadata": {},
   "outputs": [
    {
     "data": {
      "image/png": "[encoded data removed]",
      "text/plain": [
       "<Figure size 720x432 with 1 Axes>"
      ]
     },
     "metadata": {
      "needs_background": "light"
     },
     "output_type": "display_data"
    }
   ],
   "source": [
    "fig = plt.figure(figsize=(10,6))\n",
    "ax = fig.add_subplot(111)\n",
    "\n",
    "x_set = np.arange(1, 15)\n",
    "\n",
    "for p, ls in zip([0.2, 0.5, 0.8], linestyle):\n",
    "    rv = stats.geom(p)\n",
    "    ax.plot(x_set, rv.pmf(x_set), label=f'p: {p}', ls=ls, color='gray')    \n",
    "    \n",
    "ax.set_xticks(x_set)\n",
    "ax.legend()\n",
    "plt.show()"
   ]
  },
  {
   "cell_type": "code",
   "execution_count": 127,
   "id": "2406da01",
   "metadata": {},
   "outputs": [],
   "source": [
    "from scipy.special import factorial\n",
    "\n",
    "# 포아송 분포\n",
    "def Poi(lam):\n",
    "    x_set = np.arange(20)\n",
    "    def f(x):\n",
    "        if x in x_set:\n",
    "            return np.power(lam, x) / factorial(x) * np.exp(-lam)\n",
    "        else:\n",
    "            return 0\n",
    "    return x_set, f"
   ]
  },
  {
   "cell_type": "code",
   "execution_count": 129,
   "id": "0807e698",
   "metadata": {},
   "outputs": [],
   "source": [
    "lam = 3\n",
    "X = Poi(lam)"
   ]
  },
  {
   "cell_type": "code",
   "execution_count": 130,
   "id": "2b51f94c",
   "metadata": {},
   "outputs": [
    {
     "name": "stdout",
     "output_type": "stream",
     "text": [
      "Expected value: 3.0\n",
      "Variance : 3.0\n"
     ]
    }
   ],
   "source": [
    "check_prob(X)"
   ]
  },
  {
   "cell_type": "code",
   "execution_count": 131,
   "id": "7dcb0bc5",
   "metadata": {},
   "outputs": [
    {
     "data": {
      "image/png": "[encoded data removed]",
      "text/plain": [
       "<Figure size 720x432 with 1 Axes>"
      ]
     },
     "metadata": {
      "needs_background": "light"
     },
     "output_type": "display_data"
    }
   ],
   "source": [
    "plot_prob(X)"
   ]
  },
  {
   "cell_type": "code",
   "execution_count": 2,
   "id": "8b134e47",
   "metadata": {},
   "outputs": [],
   "source": [
    "from scipy import integrate\n",
    "import warnings\n",
    "\n",
    "warnings.filterwarnings('ignore', category=integrate.IntegrationWarning)"
   ]
  },
  {
   "cell_type": "code",
   "execution_count": 134,
   "id": "5bcc7f9d",
   "metadata": {},
   "outputs": [],
   "source": [
    "x_range = np.array([0,1])"
   ]
  },
  {
   "cell_type": "code",
   "execution_count": 135,
   "id": "5990aaa2",
   "metadata": {},
   "outputs": [],
   "source": [
    "def f(x):\n",
    "    if x_range[0] <= x <= x_range[1]:\n",
    "        return 2*x\n",
    "    else:\n",
    "        return 0"
   ]
  },
  {
   "cell_type": "code",
   "execution_count": 136,
   "id": "7db2d85d",
   "metadata": {},
   "outputs": [],
   "source": [
    "X = [x_range, f]"
   ]
  },
  {
   "cell_type": "code",
   "execution_count": 141,
   "id": "4a9a85e5",
   "metadata": {},
   "outputs": [
    {
     "data": {
      "image/png": "[encoded data removed]",
      "text/plain": [
       "<Figure size 720x432 with 1 Axes>"
      ]
     },
     "metadata": {
      "needs_background": "light"
     },
     "output_type": "display_data"
    }
   ],
   "source": [
    "xs = np.linspace(x_range[0], x_range[1], 100)\n",
    "\n",
    "fig = plt.figure(figsize=(10,6))\n",
    "ax = fig.add_subplot(111)\n",
    "\n",
    "ax.plot(xs, [f(x) for x in xs], label='f(x)', color='gray')\n",
    "ax.hlines(0, -0.2, 1.2, alpha=0.3)\n",
    "ax.vlines(0, -0.2, 2.2, alpha=0.3)\n",
    "ax.vlines(xs.max(), 0, 2.2, linestyle=':', color='gray')\n",
    "\n",
    "xs = np.linspace(0.4, 0.6, 100)\n",
    "ax.fill_between(xs, [f(x) for x in xs], label='Prob')\n",
    "ax.set_xticks(np.arange(-0.2, 1.3, 0.1))\n",
    "ax.set_xlim(-0.1, 1.1)\n",
    "ax.set_ylim(-0.2, 2.1)\n",
    "ax.legend()\n",
    "\n",
    "plt.show()"
   ]
  },
  {
   "cell_type": "code",
   "execution_count": 142,
   "id": "d117a6ee",
   "metadata": {},
   "outputs": [
    {
     "data": {
      "text/plain": [
       "(0.19999999999999996, 2.2204460492503127e-15)"
      ]
     },
     "execution_count": 142,
     "metadata": {},
     "output_type": "execute_result"
    }
   ],
   "source": [
    "integrate.quad(f, 0.4, 0.6)"
   ]
  },
  {
   "cell_type": "code",
   "execution_count": 10,
   "id": "8d1acf58",
   "metadata": {},
   "outputs": [
    {
     "ename": "NameError",
     "evalue": "name 'f' is not defined",
     "output_type": "error",
     "traceback": [
      "\u001b[0;31m---------------------------------------------------------------------------\u001b[0m",
      "\u001b[0;31mNameError\u001b[0m                                 Traceback (most recent call last)",
      "\u001b[0;32m<ipython-input-10-81d876b66e09>\u001b[0m in \u001b[0;36m<module>\u001b[0;34m\u001b[0m\n\u001b[1;32m      1\u001b[0m \u001b[0;32mfrom\u001b[0m \u001b[0mscipy\u001b[0m\u001b[0;34m.\u001b[0m\u001b[0moptimize\u001b[0m \u001b[0;32mimport\u001b[0m \u001b[0mminimize_scalar\u001b[0m\u001b[0;34m\u001b[0m\u001b[0;34m\u001b[0m\u001b[0m\n\u001b[0;32m----> 2\u001b[0;31m \u001b[0mres\u001b[0m \u001b[0;34m=\u001b[0m \u001b[0mminimize_scalar\u001b[0m\u001b[0;34m(\u001b[0m\u001b[0mf\u001b[0m\u001b[0;34m)\u001b[0m\u001b[0;34m\u001b[0m\u001b[0;34m\u001b[0m\u001b[0m\n\u001b[0m\u001b[1;32m      3\u001b[0m \u001b[0mres\u001b[0m\u001b[0;34m.\u001b[0m\u001b[0mfun\u001b[0m\u001b[0;34m\u001b[0m\u001b[0;34m\u001b[0m\u001b[0m\n",
      "\u001b[0;31mNameError\u001b[0m: name 'f' is not defined"
     ]
    }
   ],
   "source": [
    "from scipy.optimize import minimize_scalar\n",
    "res = minimize_scalar(f)\n",
    "res.fun"
   ]
  },
  {
   "cell_type": "code",
   "execution_count": 144,
   "id": "6662ef23",
   "metadata": {},
   "outputs": [
    {
     "data": {
      "text/plain": [
       "(1.0, 2.5284034865791227e-09)"
      ]
     },
     "execution_count": 144,
     "metadata": {},
     "output_type": "execute_result"
    }
   ],
   "source": [
    "integrate.quad(f, -np.inf, np.inf)"
   ]
  },
  {
   "cell_type": "code",
   "execution_count": 149,
   "id": "7d4e94d0",
   "metadata": {},
   "outputs": [],
   "source": [
    "def F(x):\n",
    "    return integrate.quad(f, -np.inf, x)[0]"
   ]
  },
  {
   "cell_type": "code",
   "execution_count": 150,
   "id": "20933f2e",
   "metadata": {},
   "outputs": [
    {
     "data": {
      "text/plain": [
       "0.20000000000014648"
      ]
     },
     "execution_count": 150,
     "metadata": {},
     "output_type": "execute_result"
    }
   ],
   "source": [
    "F(0.6)-F(0.4)"
   ]
  },
  {
   "cell_type": "code",
   "execution_count": 151,
   "id": "843f9620",
   "metadata": {},
   "outputs": [],
   "source": [
    "def integrand(x):\n",
    "    return x * f(x)"
   ]
  },
  {
   "cell_type": "code",
   "execution_count": 152,
   "id": "0aa32b24",
   "metadata": {},
   "outputs": [
    {
     "data": {
      "text/plain": [
       "0.6666666666666666"
      ]
     },
     "execution_count": 152,
     "metadata": {},
     "output_type": "execute_result"
    }
   ],
   "source": [
    "integrate.quad(integrand, -np.inf, np.inf)[0]"
   ]
  },
  {
   "cell_type": "code",
   "execution_count": 153,
   "id": "edef7dac",
   "metadata": {},
   "outputs": [],
   "source": [
    "def E(X, g=lambda x: x):\n",
    "    x_range, f = X\n",
    "    def integrand(x):\n",
    "        return g(x)*f(x)\n",
    "    return integrate.quad(integrand, -np.inf, np.inf)[0]"
   ]
  },
  {
   "cell_type": "code",
   "execution_count": 154,
   "id": "37ea26a0",
   "metadata": {},
   "outputs": [
    {
     "data": {
      "text/plain": [
       "0.6666666666666666"
      ]
     },
     "execution_count": 154,
     "metadata": {},
     "output_type": "execute_result"
    }
   ],
   "source": [
    "E(X)"
   ]
  },
  {
   "cell_type": "code",
   "execution_count": 155,
   "id": "61557bb5",
   "metadata": {},
   "outputs": [
    {
     "data": {
      "text/plain": [
       "4.333333333333334"
      ]
     },
     "execution_count": 155,
     "metadata": {},
     "output_type": "execute_result"
    }
   ],
   "source": [
    "E(X, g=lambda x: 2*x + 3)"
   ]
  },
  {
   "cell_type": "code",
   "execution_count": 156,
   "id": "1a9686b4",
   "metadata": {},
   "outputs": [
    {
     "data": {
      "text/plain": [
       "0.05555555555555556"
      ]
     },
     "execution_count": 156,
     "metadata": {},
     "output_type": "execute_result"
    }
   ],
   "source": [
    "mean = E(X)\n",
    "def integrand(x):\n",
    "    return (x - mean)**2 * f(x)\n",
    "\n",
    "integrate.quad(integrand, -np.inf, np.inf)[0]"
   ]
  },
  {
   "cell_type": "code",
   "execution_count": 161,
   "id": "e1046a25",
   "metadata": {},
   "outputs": [],
   "source": [
    "def V(X, g=lambda x: x):\n",
    "    x_ragne, f = X\n",
    "    mean = E(X,g)\n",
    "    def intergrand(x):\n",
    "        return (g(x)-mean)**2 * f(x)\n",
    "    return integrate.quad(intergrand, -np.inf, np.inf)[0]"
   ]
  },
  {
   "cell_type": "code",
   "execution_count": 162,
   "id": "61d2fcfc",
   "metadata": {},
   "outputs": [
    {
     "data": {
      "text/plain": [
       "0.05555555555555556"
      ]
     },
     "execution_count": 162,
     "metadata": {},
     "output_type": "execute_result"
    }
   ],
   "source": [
    "V(X)"
   ]
  },
  {
   "cell_type": "code",
   "execution_count": 163,
   "id": "abf4a79d",
   "metadata": {},
   "outputs": [
    {
     "data": {
      "text/plain": [
       "0.22222222222222224"
      ]
     },
     "execution_count": 163,
     "metadata": {},
     "output_type": "execute_result"
    }
   ],
   "source": [
    "V(X, lambda x: 2*x + 3)"
   ]
  },
  {
   "cell_type": "code",
   "execution_count": 164,
   "id": "d268f3d7",
   "metadata": {},
   "outputs": [
    {
     "data": {
      "text/plain": [
       "0.22222222222222224"
      ]
     },
     "execution_count": 164,
     "metadata": {},
     "output_type": "execute_result"
    }
   ],
   "source": [
    "2**2*V(X)"
   ]
  },
  {
   "cell_type": "code",
   "execution_count": 37,
   "id": "d0362bcd",
   "metadata": {},
   "outputs": [],
   "source": [
    "linestyles = ['-', '--', ':']\n",
    "\n",
    "def E(X, g=lambda x: x):\n",
    "    x_range, f = X\n",
    "    def integrand(x):\n",
    "        return g(x) * f(x)\n",
    "    return integrate.quad(integrand, -np.inf, np.inf)[0]\n",
    "\n",
    "def V(X, g=lambda x: x):\n",
    "    x_tange, f = X\n",
    "    mean = E(X, g)\n",
    "    def integrand(x):\n",
    "        return (g(x)-mean) ** 2 * f(x)\n",
    "    return integrate.quad(integrand, -np.inf, np.inf)[0]\n",
    "\n",
    "def check_prob(x):\n",
    "    x_range, f =X\n",
    "    f_min = minimize_scalar(f).fun\n",
    "    assert f_min >= 0, 'density function is minus value'\n",
    "    prob_sum = np.round(integrate.quad(f, -np.inf, np.inf)[0], 6)\n",
    "    assert prob_sum == 1, f'sum of probability is {prob_sum}'\n",
    "    print(f'expectd value: {E(X):.3f}')\n",
    "    print(f'variance: {V(X):.3f}')\n",
    "    \n",
    "def plot_prob(X, x_min, x_max):\n",
    "    x_range, f = X\n",
    "    def F(x):\n",
    "        return integrate.quad(f, -np.inf, x)[0]\n",
    "    \n",
    "    xs = np.linspace(x_min, x_max, 100)\n",
    "    \n",
    "    fig = plt.figure(figsize=(10,6))\n",
    "    ax = fig.add_subplot(111)\n",
    "    ax.plot(xs, [f(x) for x in xs], label='f(x)', color='gray')\n",
    "    ax.plot(xs, [F(x) for x in xs], label='F(x)', ls='--', color='gray')\n",
    "    \n",
    "    ax.legend()\n",
    "    plt.show()"
   ]
  },
  {
   "cell_type": "code",
   "execution_count": 12,
   "id": "9417d554",
   "metadata": {},
   "outputs": [],
   "source": [
    "# 정규 분포\n",
    "def N(mu, sigma):\n",
    "    x_range = [-np.inf, np.inf]\n",
    "    def f(x):\n",
    "        return 1 / np.sqrt(2 * np.pi * sigma**2) * np.exp(-(x-mu)**2 / (2 * sigma ** 2))\n",
    "    return x_range , f"
   ]
  },
  {
   "cell_type": "code",
   "execution_count": 13,
   "id": "4f56eda0",
   "metadata": {},
   "outputs": [],
   "source": [
    "mu, sigma = 2, 0.5\n",
    "X = N(mu, sigma)"
   ]
  },
  {
   "cell_type": "code",
   "execution_count": 14,
   "id": "97f66d4a",
   "metadata": {},
   "outputs": [
    {
     "name": "stdout",
     "output_type": "stream",
     "text": [
      "expectd value: 2.000\n",
      "variance: 0.250\n"
     ]
    }
   ],
   "source": [
    "check_prob(X)"
   ]
  },
  {
   "cell_type": "code",
   "execution_count": 16,
   "id": "eee987b3",
   "metadata": {},
   "outputs": [
    {
     "data": {
      "image/png": "[encoded data removed]",
      "text/plain": [
       "<Figure size 720x432 with 1 Axes>"
      ]
     },
     "metadata": {
      "needs_background": "light"
     },
     "output_type": "display_data"
    }
   ],
   "source": [
    "plot_prob(X, 0, 4)"
   ]
  },
  {
   "cell_type": "code",
   "execution_count": 19,
   "id": "2249970c",
   "metadata": {},
   "outputs": [
    {
     "data": {
      "text/plain": [
       "(2.0, 0.25)"
      ]
     },
     "execution_count": 19,
     "metadata": {},
     "output_type": "execute_result"
    }
   ],
   "source": [
    "rv = stats.norm(mu, sigma)\n",
    "rv.mean(), rv.var()"
   ]
  },
  {
   "cell_type": "code",
   "execution_count": 23,
   "id": "1fe97dfe",
   "metadata": {},
   "outputs": [
    {
     "data": {
      "text/plain": [
       "0.7978845608028654"
      ]
     },
     "execution_count": 23,
     "metadata": {},
     "output_type": "execute_result"
    }
   ],
   "source": [
    "rv.pdf(2)"
   ]
  },
  {
   "cell_type": "code",
   "execution_count": 21,
   "id": "bbbb77e2",
   "metadata": {},
   "outputs": [
    {
     "data": {
      "text/plain": [
       "0.5"
      ]
     },
     "execution_count": 21,
     "metadata": {},
     "output_type": "execute_result"
    }
   ],
   "source": [
    "rv.cdf(2)"
   ]
  },
  {
   "cell_type": "code",
   "execution_count": 25,
   "id": "7320c75b",
   "metadata": {},
   "outputs": [
    {
     "data": {
      "text/plain": [
       "2.0"
      ]
     },
     "execution_count": 25,
     "metadata": {},
     "output_type": "execute_result"
    }
   ],
   "source": [
    "rv.isf(0.5)"
   ]
  },
  {
   "cell_type": "code",
   "execution_count": 31,
   "id": "8386542c",
   "metadata": {},
   "outputs": [
    {
     "data": {
      "text/plain": [
       "(1.515955577060731, 2.4840444229392693)"
      ]
     },
     "execution_count": 31,
     "metadata": {},
     "output_type": "execute_result"
    }
   ],
   "source": [
    "rv.interval(0.667)"
   ]
  },
  {
   "cell_type": "code",
   "execution_count": 38,
   "id": "f4ddb2b3",
   "metadata": {},
   "outputs": [
    {
     "data": {
      "image/png": "[encoded data removed]",
      "text/plain": [
       "<Figure size 720x432 with 1 Axes>"
      ]
     },
     "metadata": {
      "needs_background": "light"
     },
     "output_type": "display_data"
    }
   ],
   "source": [
    "fig = plt.figure(figsize=(10,6))\n",
    "ax = fig.add_subplot(111)\n",
    "\n",
    "xs = np.linspace(-5, 5, 100)\n",
    "params = [(0,1), (0,2), (1,1)]\n",
    "\n",
    "for param, ls in zip(params, linestyles):\n",
    "    mu, sigma = param\n",
    "    rv = stats.norm(mu, sigma)\n",
    "    ax.plot(xs, rv.pdf(xs), label=f'N({mu}, {sigma**2})', ls=ls, color='gray')\n",
    "    \n",
    "ax.legend()\n",
    "plt.show()"
   ]
  },
  {
   "cell_type": "code",
   "execution_count": 41,
   "id": "b1084495",
   "metadata": {},
   "outputs": [],
   "source": [
    "# 지수 분포\n",
    "def Ex(lam):\n",
    "    x_range = [0, np.inf]\n",
    "    def f(x):\n",
    "        if x >= 0:\n",
    "            return lam * np.exp(-lam * x)\n",
    "        else:\n",
    "            return 0\n",
    "    return x_range, f"
   ]
  },
  {
   "cell_type": "code",
   "execution_count": 42,
   "id": "eb032cde",
   "metadata": {},
   "outputs": [],
   "source": [
    "lam = 3\n",
    "X = Ex(lam)"
   ]
  },
  {
   "cell_type": "code",
   "execution_count": 43,
   "id": "57a1d9e3",
   "metadata": {},
   "outputs": [
    {
     "name": "stdout",
     "output_type": "stream",
     "text": [
      "expectd value: 0.333\n",
      "variance: 0.111\n"
     ]
    }
   ],
   "source": [
    "check_prob(X)"
   ]
  },
  {
   "cell_type": "code",
   "execution_count": 47,
   "id": "e61700ce",
   "metadata": {},
   "outputs": [
    {
     "data": {
      "image/png": "[encoded data removed]",
      "text/plain": [
       "<Figure size 720x432 with 1 Axes>"
      ]
     },
     "metadata": {
      "needs_background": "light"
     },
     "output_type": "display_data"
    }
   ],
   "source": [
    "plot_prob(X, 0, 2)"
   ]
  },
  {
   "cell_type": "code",
   "execution_count": 49,
   "id": "b5e72b41",
   "metadata": {},
   "outputs": [
    {
     "data": {
      "image/png": "[encoded data removed]",
      "text/plain": [
       "<Figure size 720x432 with 1 Axes>"
      ]
     },
     "metadata": {
      "needs_background": "light"
     },
     "output_type": "display_data"
    }
   ],
   "source": [
    "fig = plt.figure(figsize=(10,6))\n",
    "ax = fig.add_subplot(111)\n",
    "\n",
    "xs = np.linspace(0, 3, 100)\n",
    "for lam, ls in zip([1,2,3], linestyles):\n",
    "    rv = stats.expon(scale=1/lam)\n",
    "    ax.plot(xs, rv.pdf(xs), label=f'lambda: {lam}', ls=ls, color='gray')\n",
    "    \n",
    "ax.legend()\n",
    "plt.show()"
   ]
  },
  {
   "cell_type": "code",
   "execution_count": 52,
   "id": "7c50c37a",
   "metadata": {},
   "outputs": [
    {
     "data": {
      "text/plain": [
       "array([ 3.12724247, 11.74813367, 16.4782999 , ..., 13.79350907,\n",
       "       13.53915866, 10.38846696])"
      ]
     },
     "execution_count": 52,
     "metadata": {},
     "output_type": "execute_result"
    }
   ],
   "source": [
    "# 카이제곱분포\n",
    "n = 10\n",
    "rv = stats.norm()\n",
    "sample_size = int(1e6)\n",
    "Zs_sample = rv.rvs((n, sample_size))\n",
    "chi2_sample = np.sum(Zs_sample**2, axis=0)\n",
    "chi2_sample"
   ]
  },
  {
   "cell_type": "code",
   "execution_count": 53,
   "id": "cf194ee2",
   "metadata": {},
   "outputs": [
    {
     "data": {
      "image/png": "[encoded data removed]",
      "text/plain": [
       "<Figure size 720x432 with 1 Axes>"
      ]
     },
     "metadata": {
      "needs_background": "light"
     },
     "output_type": "display_data"
    }
   ],
   "source": [
    "fig = plt.figure(figsize=(10,6))\n",
    "ax = fig.add_subplot(111)\n",
    "\n",
    "rv_true =  stats.chi2(n)\n",
    "xs = np.linspace(0, 30, 100)\n",
    "ax.hist(chi2_sample, bins=100, density=True, alpha=0.5, label='chi2_sample')\n",
    "ax.plot(xs, rv_true.pdf(xs), label=f'chi2({n})', color='gray')\n",
    "\n",
    "ax.legend()\n",
    "ax.set_xlim(0,30)\n",
    "plt.show()"
   ]
  },
  {
   "cell_type": "code",
   "execution_count": 54,
   "id": "33f25282",
   "metadata": {},
   "outputs": [
    {
     "data": {
      "image/png": "[encoded data removed]",
      "text/plain": [
       "<Figure size 720x432 with 1 Axes>"
      ]
     },
     "metadata": {
      "needs_background": "light"
     },
     "output_type": "display_data"
    }
   ],
   "source": [
    "fig = plt.figure(figsize=(10,6))\n",
    "ax = fig.add_subplot(111)\n",
    "\n",
    "xs = np.linspace(0, 20, 500)\n",
    "for n, ls in zip([3, 5, 10], linestyles):\n",
    "    rv = stats.chi2(n)\n",
    "    ax.plot(xs, rv.pdf(xs), label=f'chi2({n})', ls=ls, color='gray')\n",
    "    \n",
    "ax.legend()\n",
    "plt.show()"
   ]
  },
  {
   "cell_type": "code",
   "execution_count": 61,
   "id": "b875932f",
   "metadata": {},
   "outputs": [],
   "source": [
    "# t 분포\n",
    "n = 10\n",
    "rv1 = stats.norm()\n",
    "rv2 = stats.chi2(n)\n",
    "\n",
    "sample_size = int(1e6)\n",
    "Z_sample = rv1.rvs(sample_size)\n",
    "chi2_sample = rv2.rvs(sample_size)\n",
    "\n",
    "t_sample = Z_sample / np.sqrt(chi2_sample/n)"
   ]
  },
  {
   "cell_type": "code",
   "execution_count": 64,
   "id": "6730f244",
   "metadata": {},
   "outputs": [
    {
     "data": {
      "image/png": "[encoded data removed]",
      "text/plain": [
       "<Figure size 720x432 with 1 Axes>"
      ]
     },
     "metadata": {
      "needs_background": "light"
     },
     "output_type": "display_data"
    }
   ],
   "source": [
    "fig = plt.figure(figsize=(10,6))\n",
    "ax = fig.add_subplot(111)\n",
    "\n",
    "rv = stats.t(n)\n",
    "xs = np.linspace(-3, 3, 100)\n",
    "ax.hist(t_sample, bins=100, range=(-3,3), density=True, alpha=0.5, label='t_sample')\n",
    "ax.plot(xs, rv.pdf(xs), label=f't({n})', color='gray')\n",
    "ax.legend()\n",
    "ax.set_xlim(-3,3)\n",
    "plt.show()"
   ]
  },
  {
   "cell_type": "code",
   "execution_count": 65,
   "id": "a503097a",
   "metadata": {},
   "outputs": [
    {
     "data": {
      "text/plain": [
       "2.0150483726691575"
      ]
     },
     "execution_count": 65,
     "metadata": {},
     "output_type": "execute_result"
    }
   ],
   "source": [
    "rv = stats.t(5)\n",
    "rv.isf(0.05)"
   ]
  },
  {
   "cell_type": "code",
   "execution_count": 69,
   "id": "12e703b5",
   "metadata": {},
   "outputs": [],
   "source": [
    "# F 분포\n",
    "n1 = 5\n",
    "n2 = 10\n",
    "rv1 = stats.chi2(n1)\n",
    "rv2 = stats.chi2(n2)\n",
    "\n",
    "sample_size = int(1e6)\n",
    "sample1 = rv1.rvs(sample_size)\n",
    "sample2 = rv2.rvs(sample_size)\n",
    "\n",
    "f_sample = (sample1/n1)/(sample2/n2)"
   ]
  },
  {
   "cell_type": "code",
   "execution_count": 71,
   "id": "3b10fe2c",
   "metadata": {},
   "outputs": [
    {
     "data": {
      "image/png": "[encoded data removed]",
      "text/plain": [
       "<Figure size 720x432 with 1 Axes>"
      ]
     },
     "metadata": {
      "needs_background": "light"
     },
     "output_type": "display_data"
    }
   ],
   "source": [
    "fig = plt.figure(figsize=(10,6))\n",
    "ax = fig.add_subplot(111)\n",
    "\n",
    "rv = stats.f(n1, n2)\n",
    "xs = np.linspace(0, 6, 200)[1:]\n",
    "ax.hist(f_sample, bins=100, range=(0,6), density=True, alpha=0.5, label='f_sample')\n",
    "ax.plot(xs, rv.pdf(xs), label=f'F({n1}, {n2})', color='gray')\n",
    "ax.legend()\n",
    "ax.set_xlim(0,6)\n",
    "plt.show()"
   ]
  },
  {
   "cell_type": "code",
   "execution_count": 73,
   "id": "2d7efdb9",
   "metadata": {},
   "outputs": [],
   "source": [
    "x_set = np.array([1,2,3,4,5,6])\n",
    "y_set = np.array([1,2,3,4,5,6])\n",
    "\n",
    "def f_XY(x,y):\n",
    "    if x in x_set and y in y_set:\n",
    "        return x * y / 441\n",
    "    else:\n",
    "        return 0\n",
    "    \n",
    "XY = [x_set, y_set, f_XY]"
   ]
  },
  {
   "cell_type": "code",
   "execution_count": 80,
   "id": "a72b3b11",
   "metadata": {},
   "outputs": [
    {
     "data": {
      "text/plain": [
       "-8.326672684688674e-17"
      ]
     },
     "execution_count": 80,
     "metadata": {},
     "output_type": "execute_result"
    }
   ],
   "source": [
    "Cov(XY)"
   ]
  },
  {
   "cell_type": "code",
   "execution_count": 81,
   "id": "c5dac211",
   "metadata": {},
   "outputs": [],
   "source": [
    "x_set = np.array([0,1])\n",
    "y_set = np.array([-1,0,1])\n",
    "\n",
    "def f_XY(x,y):\n",
    "    if (x, y) in [(0,0), (1,1), (1,-1)]:\n",
    "        return 1/3\n",
    "    else:\n",
    "        return 0\n",
    "    \n",
    "XY = [x_set, y_set, f_XY]"
   ]
  },
  {
   "cell_type": "code",
   "execution_count": 82,
   "id": "e5287a58",
   "metadata": {},
   "outputs": [
    {
     "data": {
      "text/plain": [
       "0.0"
      ]
     },
     "execution_count": 82,
     "metadata": {},
     "output_type": "execute_result"
    }
   ],
   "source": [
    "Cov(XY)"
   ]
  },
  {
   "cell_type": "code",
   "execution_count": 88,
   "id": "1ee316f8",
   "metadata": {},
   "outputs": [
    {
     "data": {
      "text/plain": [
       "(0.3333333333333333, 0.1111111111111111)"
      ]
     },
     "execution_count": 88,
     "metadata": {},
     "output_type": "execute_result"
    }
   ],
   "source": [
    "f_XY(0,0), f_X(0)*f_Y(0)"
   ]
  },
  {
   "cell_type": "code",
   "execution_count": 89,
   "id": "b34dfd9d",
   "metadata": {},
   "outputs": [],
   "source": [
    "rv1 = stats.norm(1,np.sqrt(2))\n",
    "rv2 = stats.norm(2,np.sqrt(3))"
   ]
  },
  {
   "cell_type": "code",
   "execution_count": 96,
   "id": "8d83429f",
   "metadata": {},
   "outputs": [
    {
     "data": {
      "text/plain": [
       "(3.0005543167989255, 4.994058740574891)"
      ]
     },
     "execution_count": 96,
     "metadata": {},
     "output_type": "execute_result"
    }
   ],
   "source": [
    "sample_size = int(1e6)\n",
    "X_sample = rv1.rvs(sample_size)\n",
    "Y_sample = rv2.rvs(sample_size)\n",
    "sum_sample = X_sample + Y_sample\n",
    "\n",
    "np.mean(sum_sample), np.var(sum_sample)"
   ]
  },
  {
   "cell_type": "code",
   "execution_count": 99,
   "id": "13e36c37",
   "metadata": {},
   "outputs": [
    {
     "data": {
      "image/png": "[encoded data removed]",
      "text/plain": [
       "<Figure size 720x432 with 1 Axes>"
      ]
     },
     "metadata": {
      "needs_background": "light"
     },
     "output_type": "display_data"
    }
   ],
   "source": [
    "fig = plt.figure(figsize=(10,6))\n",
    "ax = fig.add_subplot(111)\n",
    "\n",
    "rv = stats.norm(3, np.sqrt(5))\n",
    "xs = np.linspace(rv.isf(0.995), rv.isf(0.005), 100)\n",
    "\n",
    "ax.hist(sum_sample, bins=100, density=True, alpha=0.5, label='N(1,2) + N(2,3)')\n",
    "\n",
    "ax.plot(xs, rv.pdf(xs), label='N(3,5)', color='gray')\n",
    "ax.plot(xs, rv1.pdf(xs), label='N(1,2)', ls='--', color='gray')\n",
    "ax.plot(xs, rv2.pdf(xs), label='N(2,3)', ls=':', color='gray')\n",
    "\n",
    "ax.legend()\n",
    "ax.set_xlim(rv.isf(0.995), rv.isf(0.005))\n",
    "plt.show()"
   ]
  },
  {
   "cell_type": "code",
   "execution_count": 101,
   "id": "dea88057",
   "metadata": {},
   "outputs": [
    {
     "data": {
      "text/plain": [
       "(7.002124, 6.992705488624001)"
      ]
     },
     "execution_count": 101,
     "metadata": {},
     "output_type": "execute_result"
    }
   ],
   "source": [
    "rv1 = stats.poisson(3)\n",
    "rv2 = stats.poisson(4)\n",
    "\n",
    "sample_szie = int(1e6)\n",
    "\n",
    "X_sample = rv1.rvs(sample_size)\n",
    "Y_sample = rv2.rvs(sample_size)\n",
    "sum_sample = X_sample + Y_sample\n",
    "\n",
    "np.mean(sum_sample), np.var(sum_sample)"
   ]
  },
  {
   "cell_type": "code",
   "execution_count": 105,
   "id": "0a969e89",
   "metadata": {},
   "outputs": [
    {
     "name": "stderr",
     "output_type": "stream",
     "text": [
      "<ipython-input-105-d4397b29818b>:7: VisibleDeprecationWarning: Passing `normed=True` on non-uniform bins has always been broken, and computes neither the probability density function nor the probability mass function. The result is only correct if the bins are uniform, when density=True will produce the same result anyway. The argument will be removed in a future version of numpy.\n",
      "  hist, _ = np.histogram(sum_sample, bins=20, range=(0,20), normed=True)\n"
     ]
    },
    {
     "data": {
      "image/png": "[encoded data removed]",
      "text/plain": [
       "<Figure size 720x432 with 1 Axes>"
      ]
     },
     "metadata": {
      "needs_background": "light"
     },
     "output_type": "display_data"
    }
   ],
   "source": [
    "fig = plt.figure(figsize=(10,6))\n",
    "ax = fig.add_subplot(111)\n",
    "\n",
    "rv = stats.poisson(7)\n",
    "xs = np.arange(20)\n",
    "\n",
    "hist, _ = np.histogram(sum_sample, bins=20, range=(0,20), normed=True)\n",
    "\n",
    "ax.bar(xs, hist, alpha=0.5, label='Poi(3)+Poi(4)')\n",
    "ax.plot(xs, rv.pmf(xs), label='Poi(7)', color='gray')\n",
    "ax.plot(xs, rv1.pmf(xs), label='Poi(3)', ls='--', color='gray')\n",
    "ax.plot(xs, rv2.pmf(xs), label='Poi(4)', ls=':', color='gray')\n",
    "\n",
    "ax.legend()\n",
    "ax.set_xlim(-0.5,20)\n",
    "ax.set_xticks(np.arange(20))\n",
    "plt.show()"
   ]
  },
  {
   "cell_type": "code",
   "execution_count": 109,
   "id": "9a93617c",
   "metadata": {},
   "outputs": [
    {
     "data": {
      "text/plain": [
       "(3.002988, 2.095305071856)"
      ]
     },
     "execution_count": 109,
     "metadata": {},
     "output_type": "execute_result"
    }
   ],
   "source": [
    "p = 0.3\n",
    "rv = stats.bernoulli(p)\n",
    "\n",
    "sample_szie = int(1e6)\n",
    "Xs_sample = rv.rvs((10, sample_size))\n",
    "sum_sample = np.sum(Xs_sample, axis=0)\n",
    "\n",
    "np.mean(sum_sample), np.var(sum_sample)"
   ]
  },
  {
   "cell_type": "code",
   "execution_count": 111,
   "id": "154fc827",
   "metadata": {},
   "outputs": [
    {
     "data": {
      "text/plain": [
       "(1.0002006969979271, 0.20026612078869557)"
      ]
     },
     "execution_count": 111,
     "metadata": {},
     "output_type": "execute_result"
    }
   ],
   "source": [
    "mean = 1\n",
    "var = 2\n",
    "rv = stats.norm(mean, np.sqrt(var))\n",
    "\n",
    "n = 10\n",
    "\n",
    "sample_size = int(1e6)\n",
    "Xs_sample = rv.rvs((n, sample_size))\n",
    "sample_mean = np.mean(Xs_sample, axis=0)\n",
    "np.mean(sample_mean), np.var(sample_mean)"
   ]
  },
  {
   "cell_type": "code",
   "execution_count": 133,
   "id": "ff8afa0c",
   "metadata": {},
   "outputs": [],
   "source": [
    "p = 1/6\n",
    "rv = stats.bernoulli(p)\n",
    "\n",
    "n = int(1e5)\n",
    "sample = rv.rvs((n,4))\n",
    "space = np.linspace(100, n, 50).astype(int)\n",
    "plot_list = np.array([np.mean(sample[:sp], axis=0) for sp in space]).T"
   ]
  },
  {
   "cell_type": "code",
   "execution_count": 134,
   "id": "bd9a2407",
   "metadata": {},
   "outputs": [
    {
     "data": {
      "image/png": "[encoded data removed]",
      "text/plain": [
       "<Figure size 720x432 with 1 Axes>"
      ]
     },
     "metadata": {
      "needs_background": "light"
     },
     "output_type": "display_data"
    }
   ],
   "source": [
    "fig = plt.figure(figsize=(10,6))\n",
    "ax = fig.add_subplot(111)\n",
    "\n",
    "for pl, ls in zip(plot_list, linestyles):\n",
    "    ax.plot(space, pl, ls=ls, color='gray')\n",
    "    \n",
    "ax.hlines(p, -1, n, 'k')\n",
    "ax.set_xlabel('sample size')\n",
    "ax.set_ylabel('sample mean')\n",
    "plt.show()"
   ]
  },
  {
   "cell_type": "code",
   "execution_count": null,
   "id": "a4975289",
   "metadata": {},
   "outputs": [],
   "source": []
  }
 ],
 "metadata": {
  "kernelspec": {
   "display_name": "Python 3",
   "language": "python",
   "name": "python3"
  },
  "language_info": {
   "codemirror_mode": {
    "name": "ipython",
    "version": 3
   },
   "file_extension": ".py",
   "mimetype": "text/x-python",
   "name": "python",
   "nbconvert_exporter": "python",
   "pygments_lexer": "ipython3",
   "version": "3.8.8"
  }
 },
 "nbformat": 4,
 "nbformat_minor": 5
}
