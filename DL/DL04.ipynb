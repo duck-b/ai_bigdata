{
 "cells": [
  {
   "cell_type": "code",
   "execution_count": 10,
   "id": "56da79cc",
   "metadata": {},
   "outputs": [
    {
     "data": {
      "text/plain": [
       "32"
      ]
     },
     "execution_count": 10,
     "metadata": {},
     "output_type": "execute_result"
    }
   ],
   "source": [
    "import numpy as np\n",
    "a = np.array([1,2,3])\n",
    "b = np.array([4,5,6])\n",
    "# c = np.sum(a*b)\n",
    "c = np.dot(a,b)\n",
    "c"
   ]
  },
  {
   "cell_type": "code",
   "execution_count": 13,
   "id": "4f8f8ddf",
   "metadata": {},
   "outputs": [
    {
     "data": {
      "text/plain": [
       "array([ 32,  77, 122])"
      ]
     },
     "execution_count": 13,
     "metadata": {},
     "output_type": "execute_result"
    }
   ],
   "source": [
    "a = np.array([[1,2,3], [4,5,6], [7,8,9]])\n",
    "b = np.array([4,5,6])\n",
    "c = np.dot(a,b)\n",
    "c"
   ]
  },
  {
   "cell_type": "code",
   "execution_count": 15,
   "id": "707f75fb",
   "metadata": {},
   "outputs": [
    {
     "data": {
      "text/plain": [
       "array([[ 40,  46],\n",
       "       [ 94, 109]])"
      ]
     },
     "execution_count": 15,
     "metadata": {},
     "output_type": "execute_result"
    }
   ],
   "source": [
    "a = np.array([[1,2,3], [4,5,6]])\n",
    "b = np.array([[4,5], [6,7], [8,9]])\n",
    "c = np.dot(a,b)\n",
    "c"
   ]
  },
  {
   "cell_type": "code",
   "execution_count": 24,
   "id": "0fad39de",
   "metadata": {},
   "outputs": [
    {
     "name": "stdout",
     "output_type": "stream",
     "text": [
      "[1 2 3]\n"
     ]
    },
    {
     "data": {
      "text/plain": [
       "array([[1],\n",
       "       [2],\n",
       "       [3]])"
      ]
     },
     "execution_count": 24,
     "metadata": {},
     "output_type": "execute_result"
    }
   ],
   "source": [
    "a = np.array([1,2,3])\n",
    "print(a.T)\n",
    "b = a.copy()\n",
    "b.reshape(-1,1)"
   ]
  },
  {
   "cell_type": "code",
   "execution_count": 25,
   "id": "cd24707b",
   "metadata": {},
   "outputs": [],
   "source": [
    "import numpy as np\n",
    "import matplotlib.pyplot as plt"
   ]
  },
  {
   "cell_type": "code",
   "execution_count": 27,
   "id": "82e847ce",
   "metadata": {},
   "outputs": [],
   "source": [
    "from sklearn.datasets import load_breast_cancer\n",
    "from sklearn.model_selection import train_test_split"
   ]
  },
  {
   "cell_type": "code",
   "execution_count": 28,
   "id": "b621eff0",
   "metadata": {},
   "outputs": [],
   "source": [
    "cancer = load_breast_cancer()\n",
    "x = cancer.data\n",
    "y = cancer.target\n",
    "\n",
    "x_train_all, x_test, y_train_all, y_test = train_test_split(x, y, stratify=y, test_size=0.2, random_state=42)\n",
    "x_train, x_val, y_train, y_val = train_test_split(x_train_all, y_train_all, stratify=y_train_all, test_size=0.2, random_state=42)"
   ]
  },
  {
   "cell_type": "code",
   "execution_count": 34,
   "id": "3439d0cf",
   "metadata": {},
   "outputs": [
    {
     "name": "stdout",
     "output_type": "stream",
     "text": [
      "(364, 30)\n",
      "(364,)\n"
     ]
    }
   ],
   "source": [
    "print(x_train.shape)\n",
    "print(y_train.shape)"
   ]
  },
  {
   "cell_type": "code",
   "execution_count": 35,
   "id": "bd5832ce",
   "metadata": {},
   "outputs": [
    {
     "name": "stdout",
     "output_type": "stream",
     "text": [
      "(364,)\n"
     ]
    }
   ],
   "source": [
    "a = x_train[:,1]\n",
    "print(a.shape)"
   ]
  },
  {
   "cell_type": "code",
   "execution_count": 36,
   "id": "6335e61a",
   "metadata": {},
   "outputs": [
    {
     "name": "stdout",
     "output_type": "stream",
     "text": [
      "(364,)\n"
     ]
    }
   ],
   "source": [
    "err = a - y_train\n",
    "print(err.shape)"
   ]
  },
  {
   "cell_type": "code",
   "execution_count": 61,
   "id": "caf13311",
   "metadata": {},
   "outputs": [],
   "source": [
    "class SingleLayer:\n",
    "    def __init__(self, learning_rate = 0.01,l1=0,l2=0):  ##\n",
    "        self.w = None\n",
    "        self.b = None\n",
    "        self.losses = []\n",
    "        self.w_history = []        \n",
    "        self.lr = learning_rate    \n",
    "        self.val_losses = []\n",
    "        self.l1=l1\n",
    "        self.l2=l2\n",
    "        \n",
    "    def forpass(self,x):\n",
    "        #z = np.sum(x * self.w)+ self.b\n",
    "        z = np.dot(x, self.w) + self.b\n",
    "        return z\n",
    "    \n",
    "    def activation(self,z):\n",
    "        z = np.clip(z,-100, None)\n",
    "        a = 1 / (1 + np.exp(-z))\n",
    "        return a\n",
    "    \n",
    "    def backprop(self, x, err):\n",
    "        #w_grad = x * err\n",
    "        #b_grad = 1 * err\n",
    "        #mse\n",
    "        m = len(x)\n",
    "        w_grad = np.dot(x.T,err) /m\n",
    "        b_grad = np.sum(err)/m\n",
    "        return w_grad, b_grad\n",
    "    \n",
    "    def fit(self,x,y,epochs=100,x_val=None, y_val=None):\n",
    "        y = y.reshape(-1,1)\n",
    "        y_val = y_val.reshape(-1,1)\n",
    "        m = len(x)\n",
    "        self.w = np.ones((x.shape[1],1))\n",
    "        \n",
    "        self.b = 0\n",
    "        self.w_history.append(self.w.copy())\n",
    "        np.random.seed(42)\n",
    "        for i in range(epochs):\n",
    "            #loss = 0\n",
    "            #indexes = np.random.permutation(np.arange(len(x)))\n",
    "            #for i in indexes:\n",
    "            #z = self.forpass(x[i])\n",
    "            z = self.forpass(x)\n",
    "            a = self.activation(z)\n",
    "            err = a - y\n",
    "            #w_grad,b_grad = self.backprop(x[i],err)\n",
    "            w_grad,b_grad = self.backprop(x,err)\n",
    "\n",
    "\n",
    "            w_grad += (self.l1 * np.sign(self.w) + self.l2 * self.w) / m\n",
    "            self.w -= self.lr * w_grad           ##        \n",
    "            self.b -= self.lr * b_grad\n",
    "\n",
    "            self.w_history.append(self.w.copy())  \n",
    "            a = np.clip(a, 1e-10, 1-1e-10)\n",
    "            loss = np.sum(-(y*np.log(a) + (1-y)*np.log(1-a)))\n",
    "\n",
    "            self.losses.append((loss + self.reg_loss())/m)  ##\n",
    "            self.update_val_loss(x_val,y_val)\n",
    "            \n",
    "    def reg_loss(self):  \n",
    "        return self.l1 * np.sum(np.abs(self.w)) + self.l2 / 2 * np.sum(self.w**2)  \n",
    "    \n",
    "    def update_val_loss(self,x_val,y_val):\n",
    "        #if x_val is None:\n",
    "        #    return\n",
    "        #val_loss = 0\n",
    "        #for i in range(len(x_val)):\n",
    "        #    z = self.forpass(x_val[i])\n",
    "            z = self.forpass(x_val)\n",
    "            a = self.activation(z)\n",
    "            a = np.clip(a,1e-10, 1-1e-10)\n",
    "            val_loss = np.sum(-(y_val*np.log(a) + (1-y_val)*np.log(1-a)))\n",
    "            self.val_losses.append((val_loss+ self.reg_loss())/len(y_val))\n",
    "            \n",
    "    def predict(self,x):\n",
    "        #z = [self.forpass(x_i) for x_i in x]\n",
    "        z = self.forpass(x)\n",
    "        return z > 0\n",
    "    \n",
    "    def score(self,x,y):\n",
    "        return np.mean(self.predict(x) == y.reshape(-1,1))"
   ]
  },
  {
   "cell_type": "code",
   "execution_count": 62,
   "id": "742cc3b2",
   "metadata": {},
   "outputs": [],
   "source": [
    "from sklearn.preprocessing import StandardScaler"
   ]
  },
  {
   "cell_type": "code",
   "execution_count": 63,
   "id": "b834e0b3",
   "metadata": {},
   "outputs": [],
   "source": [
    "scaler = StandardScaler()\n",
    "scaler.fit(x_train)\n",
    "x_train_scaled = scaler.transform(x_train)\n",
    "x_val_scaled = scaler.transform(x_val)"
   ]
  },
  {
   "cell_type": "code",
   "execution_count": 66,
   "id": "ccf6098a",
   "metadata": {},
   "outputs": [
    {
     "data": {
      "text/plain": [
       "0.978021978021978"
      ]
     },
     "execution_count": 66,
     "metadata": {},
     "output_type": "execute_result"
    }
   ],
   "source": [
    "single_layer = SingleLayer(l2=0.01)\n",
    "single_layer.fit(x_train_scaled, y_train, x_val=x_val_scaled, y_val=y_val, epochs=10000)\n",
    "single_layer.score(x_val_scaled, y_val)"
   ]
  },
  {
   "cell_type": "code",
   "execution_count": 67,
   "id": "20bf618b",
   "metadata": {},
   "outputs": [
    {
     "data": {
      "image/png": "[encoded data removed]",
      "text/plain": [
       "<Figure size 432x288 with 1 Axes>"
      ]
     },
     "metadata": {
      "needs_background": "light"
     },
     "output_type": "display_data"
    }
   ],
   "source": [
    "plt.ylim(0, 0.3)\n",
    "plt.plot(single_layer.losses)\n",
    "plt.plot(single_layer.val_losses)\n",
    "plt.ylabel('loss')\n",
    "plt.xlabel('epoch')\n",
    "plt.legend(['train_loss', 'val_loss'])\n",
    "plt.show()"
   ]
  },
  {
   "cell_type": "code",
   "execution_count": 70,
   "id": "537824ae",
   "metadata": {},
   "outputs": [
    {
     "data": {
      "image/png": "[encoded data removed]",
      "text/plain": [
       "<Figure size 432x288 with 1 Axes>"
      ]
     },
     "metadata": {
      "needs_background": "light"
     },
     "output_type": "display_data"
    }
   ],
   "source": [
    "w2 = []\n",
    "w3 = []\n",
    "for w in single_layer.w_history:\n",
    "    w2.append(w[2])\n",
    "    w3.append(w[3])\n",
    "plt.plot(w2, w3)\n",
    "plt.plot(w2[-1], w3[-1], 'ro')\n",
    "plt.xlabel('w[2]')\n",
    "plt.ylabel('w[2]')\n",
    "plt.show()"
   ]
  },
  {
   "cell_type": "code",
   "execution_count": 71,
   "id": "689d97e7",
   "metadata": {},
   "outputs": [],
   "source": [
    "class DualLayer(SingleLayer):\n",
    "    \n",
    "    def __init__(self, units=10, learning_rate=0.1, l1=0, l2=0):\n",
    "        self.units = units         \n",
    "        self.w1 = None             \n",
    "        self.b1 = None             \n",
    "        self.w2 = None             \n",
    "        self.b2 = None             \n",
    "        self.a1 = None             \n",
    "        self.losses = []           \n",
    "        self.val_losses = []       \n",
    "        self.lr = learning_rate    \n",
    "        self.l1 = l1               \n",
    "        self.l2 = l2               \n",
    "\n",
    "    def forpass(self, x):\n",
    "        z1 = np.dot(x, self.w1) + self.b1        \n",
    "        self.a1 = self.activation(z1)            \n",
    "        z2 = np.dot(self.a1, self.w2) + self.b2  \n",
    "        return z2\n",
    "\n",
    "    def backprop(self, x, err):\n",
    "        m = len(x)       \n",
    "        \n",
    "        w2_grad = np.dot(self.a1.T, err) / m\n",
    "        b2_grad = np.sum(err) / m\n",
    "        \n",
    "        err_to_hidden = np.dot(err, self.w2.T) * self.a1 * (1 - self.a1)\n",
    "        \n",
    "        w1_grad = np.dot(x.T, err_to_hidden) / m\n",
    "        b1_grad = np.sum(err_to_hidden, axis=0) / m\n",
    "        return w1_grad, b1_grad, w2_grad, b2_grad\n",
    "\n",
    "    def init_weights(self, n_features):\n",
    "        self.w1 = np.ones((n_features, self.units))  \n",
    "        self.b1 = np.zeros(self.units)               \n",
    "        self.w2 = np.ones((self.units, 1))           \n",
    "        self.b2 = 0\n",
    "        \n",
    "    def fit(self, x, y, epochs=100, x_val=None, y_val=None):\n",
    "        y = y.reshape(-1, 1)          \n",
    "        y_val = y_val.reshape(-1, 1)\n",
    "        m = len(x)                    \n",
    "        self.init_weights(x.shape[1]) \n",
    "        \n",
    "        for i in range(epochs):\n",
    "            a = self.training(x, y, m)\n",
    "            \n",
    "            a = np.clip(a, 1e-10, 1-1e-10)\n",
    "            \n",
    "            loss = np.sum(-(y*np.log(a) + (1-y)*np.log(1-a)))\n",
    "            self.losses.append((loss + self.reg_loss()) / m)\n",
    "            \n",
    "            self.update_val_loss(x_val, y_val)\n",
    "            \n",
    "    def training(self, x, y, m):\n",
    "        z = self.forpass(x)       \n",
    "        a = self.activation(z)    \n",
    "        err = -(y - a)            \n",
    "        \n",
    "        w1_grad, b1_grad, w2_grad, b2_grad = self.backprop(x, err)\n",
    "        \n",
    "        w1_grad += (self.l1 * np.sign(self.w1) + self.l2 * self.w1) / m\n",
    "        w2_grad += (self.l1 * np.sign(self.w2) + self.l2 * self.w2) / m\n",
    "        \n",
    "        self.w1 -= self.lr * w1_grad\n",
    "        self.b1 -= self.lr * b1_grad\n",
    "        \n",
    "        self.w2 -= self.lr * w2_grad\n",
    "        self.b2 -= self.lr * b2_grad\n",
    "        return a\n",
    "    \n",
    "    def reg_loss(self):\n",
    "        return self.l1 * (np.sum(np.abs(self.w1)) + np.sum(np.abs(self.w2))) + \\\n",
    "               self.l2 / 2 * (np.sum(self.w1**2) + np.sum(self.w2**2))"
   ]
  },
  {
   "cell_type": "code",
   "execution_count": 72,
   "id": "c7b7399d",
   "metadata": {},
   "outputs": [
    {
     "data": {
      "text/plain": [
       "0.978021978021978"
      ]
     },
     "execution_count": 72,
     "metadata": {},
     "output_type": "execute_result"
    }
   ],
   "source": [
    "dual_layer = DualLayer(l2=0.01)\n",
    "dual_layer.fit(x_train_scaled, y_train, \n",
    "               x_val=x_val_scaled, y_val=y_val, epochs=20000)\n",
    "dual_layer.score(x_val_scaled, y_val)"
   ]
  },
  {
   "cell_type": "code",
   "execution_count": 73,
   "id": "e675203d",
   "metadata": {},
   "outputs": [
    {
     "data": {
      "image/png": "[encoded data removed]",
      "text/plain": [
       "<Figure size 432x288 with 1 Axes>"
      ]
     },
     "metadata": {
      "needs_background": "light"
     },
     "output_type": "display_data"
    }
   ],
   "source": [
    "plt.ylim(0, 0.3)\n",
    "plt.plot(dual_layer.losses)\n",
    "plt.plot(dual_layer.val_losses)\n",
    "plt.ylabel('loss')\n",
    "plt.xlabel('epoch')\n",
    "plt.legend(['train_loss', 'val_loss'])\n",
    "plt.show()"
   ]
  },
  {
   "cell_type": "code",
   "execution_count": 74,
   "id": "a5d39204",
   "metadata": {},
   "outputs": [],
   "source": [
    "class RandomInitNetwork(DualLayer):\n",
    "    \n",
    "    def init_weights(self, n_features):\n",
    "        np.random.seed(42)\n",
    "        self.w1 = np.random.normal(0, 1, \n",
    "                                   (n_features, self.units))  # (특성 개수, 은닉층의 크기)\n",
    "        self.b1 = np.zeros(self.units)                        # 은닉층의 크기\n",
    "        self.w2 = np.random.normal(0, 1, \n",
    "                                   (self.units, 1))           # (은닉층의 크기, 1)\n",
    "        self.b2 = 0"
   ]
  },
  {
   "cell_type": "code",
   "execution_count": 75,
   "id": "0cba2180",
   "metadata": {},
   "outputs": [],
   "source": [
    "random_init_net = RandomInitNetwork(l2=0.01)\n",
    "random_init_net.fit(x_train_scaled, y_train,\n",
    "                    x_val=x_val_scaled, y_val=y_val, epochs=500)"
   ]
  },
  {
   "cell_type": "code",
   "execution_count": 76,
   "id": "554ab3f1",
   "metadata": {},
   "outputs": [
    {
     "data": {
      "image/png": "[encoded data removed]",
      "text/plain": [
       "<Figure size 432x288 with 1 Axes>"
      ]
     },
     "metadata": {
      "needs_background": "light"
     },
     "output_type": "display_data"
    }
   ],
   "source": [
    "plt.plot(random_init_net.losses)\n",
    "plt.plot(random_init_net.val_losses)\n",
    "plt.ylabel('loss')\n",
    "plt.xlabel('epoch')\n",
    "plt.legend(['train_loss', 'val_loss'])\n",
    "plt.show()"
   ]
  },
  {
   "cell_type": "code",
   "execution_count": 1,
   "id": "dc4f3637",
   "metadata": {},
   "outputs": [],
   "source": [
    "# 층화추출법\n",
    "import seaborn as sns\n",
    "iris = sns.load_dataset('iris')\n",
    "x = iris.iloc[:, :-1]\n",
    "y = iris.iloc[:, -1]\n",
    "from sklearn.model_selection import train_test_split\n",
    "x_train, x_test, y_train, y_test = train_test_split(x, y, test_size=0.3)"
   ]
  },
  {
   "cell_type": "code",
   "execution_count": 3,
   "id": "d40c067e",
   "metadata": {},
   "outputs": [
    {
     "data": {
      "text/plain": [
       "((105, 4), (45, 4), (105,), (45,))"
      ]
     },
     "execution_count": 3,
     "metadata": {},
     "output_type": "execute_result"
    }
   ],
   "source": [
    "x_train.shape, x_test.shape, y_train.shape, y_test.shape"
   ]
  },
  {
   "cell_type": "code",
   "execution_count": 4,
   "id": "18eb5da8",
   "metadata": {},
   "outputs": [
    {
     "data": {
      "text/plain": [
       "virginica     17\n",
       "setosa        16\n",
       "versicolor    12\n",
       "Name: species, dtype: int64"
      ]
     },
     "execution_count": 4,
     "metadata": {},
     "output_type": "execute_result"
    }
   ],
   "source": [
    "y_test.value_counts()"
   ]
  },
  {
   "cell_type": "code",
   "execution_count": 5,
   "id": "fbaa482d",
   "metadata": {},
   "outputs": [],
   "source": [
    "x_train, x_test, y_train, y_test = train_test_split(x, y, test_size=0.3, stratify=y)"
   ]
  },
  {
   "cell_type": "code",
   "execution_count": 6,
   "id": "3bbcb8e7",
   "metadata": {},
   "outputs": [
    {
     "data": {
      "text/plain": [
       "versicolor    50\n",
       "virginica     50\n",
       "setosa        50\n",
       "Name: species, dtype: int64"
      ]
     },
     "execution_count": 6,
     "metadata": {},
     "output_type": "execute_result"
    }
   ],
   "source": [
    "y.value_counts()"
   ]
  },
  {
   "cell_type": "code",
   "execution_count": 7,
   "id": "0594a353",
   "metadata": {},
   "outputs": [
    {
     "data": {
      "text/plain": [
       "virginica     15\n",
       "setosa        15\n",
       "versicolor    15\n",
       "Name: species, dtype: int64"
      ]
     },
     "execution_count": 7,
     "metadata": {},
     "output_type": "execute_result"
    }
   ],
   "source": [
    "y_test.value_counts()"
   ]
  },
  {
   "cell_type": "code",
   "execution_count": 12,
   "id": "211ea364",
   "metadata": {},
   "outputs": [
    {
     "data": {
      "text/plain": [
       "array([[0.5868206 , 0.26105188, 0.15212752],\n",
       "       [0.73535983, 0.18315997, 0.08148019]])"
      ]
     },
     "execution_count": 12,
     "metadata": {},
     "output_type": "execute_result"
    }
   ],
   "source": [
    "import numpy as np\n",
    "temp = np.array([[2.20, 1.39, 0.85], [0.00, -1.39, -2.20]])\n",
    "exp_temp = np.exp(temp)\n",
    "ret = exp_temp/np.sum(exp_temp, axis=1).reshape(-1,1)\n",
    "ret"
   ]
  },
  {
   "cell_type": "code",
   "execution_count": 36,
   "id": "984b50bc",
   "metadata": {},
   "outputs": [],
   "source": [
    "# import numpy as np\n",
    "# class MultiClassNetwork:\n",
    "#     def __init__(self, units=10, batch_size=32, learning_rate=0.01, l1=0, l2=0):\n",
    "#         self.units = units\n",
    "#         self.batch_size = batch_size\n",
    "#         self.w1 = None\n",
    "#         self.b1 = None\n",
    "#         self.w2 = None\n",
    "#         self.b2 = None\n",
    "#         self.losses = []\n",
    "#         self.val_losses = []\n",
    "#         self.lr = learning_rate\n",
    "#         self.l1 = l1\n",
    "#         self.l2 = l2\n",
    "    \n",
    "#     def forpass(self, x):\n",
    "#         z1 = np.dot(x, self.w1) + self.b1\n",
    "#         self.a1 = self.sigmoid(z1)\n",
    "#         z2 = np.dot(self.a1, self.w2) + self.b2\n",
    "#         return z2\n",
    "        \n",
    "#     def backprop(self, x, err):\n",
    "#         m = len(x)\n",
    "        \n",
    "#         w2_grad = np.dot(self.a1.T, err) / m\n",
    "#         b2_grad = np.sum(err) / m\n",
    "        \n",
    "#         err_to_hidden = np.dot(err, self.w2.T) * self.a1 * (1- self.a1)        \n",
    "#         w1_grad = np.dot(x.T, err_to_hidden)\n",
    "#         b1_grad = np.sum(err_to_hidden, axis=0) / m\n",
    "#         return w1_grad, b1_grad, w2_grad, b2_grad\n",
    "    \n",
    "#     def sigmoid(self, z):\n",
    "#         z = np.clip(z, -100, None)\n",
    "#         a = 1 / (1 + np.exp(-z))\n",
    "#         return a\n",
    "    \n",
    "#     def sortmax(self, z):\n",
    "#         z = np.clip(z, -100, None)\n",
    "#         exp_z = np.exp(z)\n",
    "#         return exp_z / np.sum(exp_z, axis=1).reshape(-1,1)\n",
    "    \n",
    "#     def init_weights(self, n_features, n_classes):\n",
    "#         self.w1 = np.random.normal(0,1, (n_features, self.units))\n",
    "#         self.b1 = np.zeros(self.units)\n",
    "#         self.w2 = np.random.normal(0,1, (self.units, n_classes))\n",
    "#         self.b2 = np.zeros(n_classes)\n",
    "        \n",
    "#     def fit(self, x, y, epochs=100, x_val=None, y_val=None):\n",
    "#         np.random.seed(42)\n",
    "#         self.init_weights(x.shape[1], y.shape[1])\n",
    "        \n",
    "#         for i in range(epochs):\n",
    "#             loss = 0\n",
    "#             print('.', end=' ')\n",
    "#             for x_batch, y_batch in self.gen_batch(x, y):\n",
    "#                 a = self.training(x_batch, y_batch)\n",
    "#                 a = np.clip(a, 1e-10, 1-1e-10)\n",
    "#                 loss += np.sum(-y_batch*np.log(a))\n",
    "#             self.losses.append((loss + self.reg_loss()) / len(x))\n",
    "#             self.update_val_loss(x_val, y_val)\n",
    "            \n",
    "#     def gen_batch(self, x, y):\n",
    "#         length = len(x)\n",
    "#         bins = length // self.batch_size\n",
    "#         if length % self.batch_size:\n",
    "#             bins += 1\n",
    "#         indexes = np.random.permutation(np.arange(len(x)))\n",
    "#         x = x[indexes]\n",
    "#         y = y[indexes]\n",
    "#         for i in range(bins):\n",
    "#             start = self.batch_size * i\n",
    "#             end = self.batch_size * (i + 1)\n",
    "#             yield x[start:end], y[start:end]\n",
    "            \n",
    "#     def training(self, x, y):\n",
    "#         m = len(x)\n",
    "#         z = self.forpass(x)\n",
    "#         a = self.softmax(z)\n",
    "#         err = (a - y)\n",
    "#         w1_grad, b1_grad, w2_grad, b2_grad = self.backprop(x, err)\n",
    "#         w1_grad += (self.l1 * np.sign(self.w1)+ self.l2 * self.w1) / m\n",
    "#         w2_grad += (self.l1 * np.sign(self.w2)+ self.l2 * self.w2) / m\n",
    "        \n",
    "#         self.w1 -= self.lr * w1_grad\n",
    "#         self.w2 -= self.lr * w2_grad\n",
    "        \n",
    "#     def predict(self, x):\n",
    "#         z = self.fopass(x)\n",
    "#         return np.argmax(z, axis=1)\n",
    "    \n",
    "#     def score(self, x, y):\n",
    "#         return np.mean(self.predict(x) == np.argmax(y, axis=1))\n",
    "    \n",
    "#     def reg_loss(self):\n",
    "#         return self.l1 * (np.sum(np.abs(self.w1)) + np.sum(np.abs(self.w2))) + self.l2 / 2 * (np.sum(self.w1**2) + np.sum()self.w2**2)\n",
    "    \n",
    "#     def update_val_loss(self, x_val, y_val):\n",
    "#         z = self.forpass(x_val)\n",
    "#         a = self.softmax(z)\n",
    "#         a = np.clip(a, 1e-10, 1-1e-10)\n",
    "#         val_loss = np.sum(-y_val*np.log(a))\n",
    "#         self.val_losses.append((val_loss. self.reg_loss()) / len(y_val))\n",
    "        \n",
    "import numpy as np\n",
    "class MultiClassNetwork:\n",
    "    \n",
    "    def __init__(self, units=10, batch_size=32, learning_rate=0.1, l1=0, l2=0):\n",
    "        self.units = units         # 은닉층의 뉴런 개수\n",
    "        self.batch_size = batch_size     # 배치 크기\n",
    "        self.w1 = None             # 은닉층의 가중치\n",
    "        self.b1 = None             # 은닉층의 절편\n",
    "        self.w2 = None             # 출력층의 가중치\n",
    "        self.b2 = None             # 출력층의 절편\n",
    "        self.a1 = None             # 은닉층의 활성화 출력\n",
    "        self.losses = []           # 훈련 손실\n",
    "        self.val_losses = []       # 검증 손실\n",
    "        self.lr = learning_rate    # 학습률\n",
    "        self.l1 = l1               # L1 손실 하이퍼파라미터\n",
    "        self.l2 = l2               # L2 손실 하이퍼파라미터\n",
    "\n",
    "    def forpass(self, x):\n",
    "        z1 = np.dot(x, self.w1) + self.b1        # 첫 번째 층의 선형 식을 계산합니다\n",
    "        self.a1 = self.sigmoid(z1)               # 활성화 함수를 적용합니다\n",
    "        z2 = np.dot(self.a1, self.w2) + self.b2  # 두 번째 층의 선형 식을 계산합니다.\n",
    "        return z2\n",
    "\n",
    "    def backprop(self, x, err):\n",
    "        m = len(x)       # 샘플 개수\n",
    "        # 출력층의 가중치와 절편에 대한 그래디언트를 계산합니다.\n",
    "        w2_grad = np.dot(self.a1.T, err) / m\n",
    "        b2_grad = np.sum(err) / m\n",
    "        # 시그모이드 함수까지 그래디언트를 계산합니다.\n",
    "        err_to_hidden = np.dot(err, self.w2.T) * self.a1 * (1 - self.a1)\n",
    "        # 은닉층의 가중치와 절편에 대한 그래디언트를 계산합니다.\n",
    "        w1_grad = np.dot(x.T, err_to_hidden) / m\n",
    "        b1_grad = np.sum(err_to_hidden, axis=0) / m\n",
    "        return w1_grad, b1_grad, w2_grad, b2_grad\n",
    "    \n",
    "    def sigmoid(self, z):\n",
    "        z = np.clip(z, -100, None)            # 안전한 np.exp() 계산을 위해\n",
    "        a = 1 / (1 + np.exp(-z))              # 시그모이드 계산\n",
    "        return a\n",
    "    \n",
    "    def softmax(self, z):\n",
    "        # 소프트맥스 함수\n",
    "        z = np.clip(z, -100, None)            # 안전한 np.exp() 계산을 위해\n",
    "        exp_z = np.exp(z)\n",
    "        return exp_z / np.sum(exp_z, axis=1).reshape(-1, 1)\n",
    " \n",
    "    def init_weights(self, n_features, n_classes):\n",
    "        self.w1 = np.random.normal(0, 1, \n",
    "                                   (n_features, self.units))  # (특성 개수, 은닉층의 크기)\n",
    "        self.b1 = np.zeros(self.units)                        # 은닉층의 크기\n",
    "        self.w2 = np.random.normal(0, 1, \n",
    "                                   (self.units, n_classes))   # (은닉층의 크기, 클래스 개수)\n",
    "        self.b2 = np.zeros(n_classes)\n",
    "        \n",
    "    def fit(self, x, y, epochs=100, x_val=None, y_val=None):\n",
    "        np.random.seed(42)\n",
    "        self.init_weights(x.shape[1], y.shape[1])    # 은닉층과 출력층의 가중치를 초기화합니다.\n",
    "        # epochs만큼 반복합니다.\n",
    "        for i in range(epochs):\n",
    "            loss = 0\n",
    "            print('.', end='')\n",
    "            # 제너레이터 함수에서 반환한 미니배치를 순환합니다.\n",
    "            for x_batch, y_batch in self.gen_batch(x, y):\n",
    "                a = self.training(x_batch, y_batch)\n",
    "                # 안전한 로그 계산을 위해 클리핑합니다.\n",
    "                a = np.clip(a, 1e-10, 1-1e-10)\n",
    "                # 로그 손실과 규제 손실을 더하여 리스트에 추가합니다.\n",
    "                loss += np.sum(-y_batch*np.log(a))\n",
    "            self.losses.append((loss + self.reg_loss()) / len(x))\n",
    "            # 검증 세트에 대한 손실을 계산합니다.\n",
    "            self.update_val_loss(x_val, y_val)\n",
    "\n",
    "    # 미니배치 제너레이터 함수\n",
    "    def gen_batch(self, x, y):\n",
    "        length = len(x)\n",
    "        bins = length // self.batch_size # 미니배치 횟수\n",
    "        if length % self.batch_size:\n",
    "            bins += 1                    # 나누어 떨어지지 않을 때\n",
    "        indexes = np.random.permutation(np.arange(len(x))) # 인덱스를 섞습니다.\n",
    "        x = x[indexes]\n",
    "        y = y[indexes]\n",
    "        for i in range(bins):\n",
    "            start = self.batch_size * i\n",
    "            end = self.batch_size * (i + 1)\n",
    "            yield x[start:end], y[start:end]   # batch_size만큼 슬라이싱하여 반환합니다.\n",
    "            \n",
    "    def training(self, x, y):\n",
    "        m = len(x)                # 샘플 개수를 저장합니다.\n",
    "        z = self.forpass(x)       # 정방향 계산을 수행합니다.\n",
    "        a = self.softmax(z)       # 활성화 함수를 적용합니다.\n",
    "        err = (a - y)            # 오차를 계산합니다.\n",
    "        # 오차를 역전파하여 그래디언트를 계산합니다.\n",
    "        w1_grad, b1_grad, w2_grad, b2_grad = self.backprop(x, err)\n",
    "        # 그래디언트에서 페널티 항의 미분 값을 뺍니다\n",
    "        w1_grad += (self.l1 * np.sign(self.w1) + self.l2 * self.w1) / m\n",
    "        w2_grad += (self.l1 * np.sign(self.w2) + self.l2 * self.w2) / m\n",
    "        # 은닉층의 가중치와 절편을 업데이트합니다.\n",
    "        self.w1 -= self.lr * w1_grad\n",
    "        self.b1 -= self.lr * b1_grad\n",
    "        # 출력층의 가중치와 절편을 업데이트합니다.\n",
    "        self.w2 -= self.lr * w2_grad\n",
    "        self.b2 -= self.lr * b2_grad\n",
    "        return a\n",
    "   \n",
    "    def predict(self, x):\n",
    "        z = self.forpass(x)          # 정방향 계산을 수행합니다.\n",
    "        return np.argmax(z, axis=1)  # 가장 큰 값의 인덱스를 반환합니다.\n",
    "    \n",
    "    def score(self, x, y):\n",
    "        # 예측과 타깃 열 벡터를 비교하여 True의 비율을 반환합니다.\n",
    "        return np.mean(self.predict(x) == np.argmax(y, axis=1))\n",
    "\n",
    "    def reg_loss(self):\n",
    "        # 은닉층과 출력층의 가중치에 규제를 적용합니다.\n",
    "        return self.l1 * (np.sum(np.abs(self.w1)) + np.sum(np.abs(self.w2))) + \\\n",
    "               self.l2 / 2 * (np.sum(self.w1**2) + np.sum(self.w2**2))\n",
    "\n",
    "    def update_val_loss(self, x_val, y_val):\n",
    "        z = self.forpass(x_val)            # 정방향 계산을 수행합니다.\n",
    "        a = self.softmax(z)                # 활성화 함수를 적용합니다.\n",
    "        a = np.clip(a, 1e-10, 1-1e-10)     # 출력 값을 클리핑합니다.\n",
    "        # 크로스 엔트로피 손실과 규제 손실을 더하여 리스트에 추가합니다.\n",
    "        val_loss = np.sum(-y_val*np.log(a))\n",
    "        self.val_losses.append((val_loss + self.reg_loss()) / len(y_val))"
   ]
  },
  {
   "cell_type": "code",
   "execution_count": 37,
   "id": "0e62fdfc",
   "metadata": {},
   "outputs": [
    {
     "data": {
      "text/plain": [
       "'2.3.0'"
      ]
     },
     "execution_count": 37,
     "metadata": {},
     "output_type": "execute_result"
    }
   ],
   "source": [
    "import tensorflow as tf\n",
    "tf.__version__"
   ]
  },
  {
   "cell_type": "code",
   "execution_count": 38,
   "id": "e22991e8",
   "metadata": {},
   "outputs": [],
   "source": [
    "(x_train_all, y_train_all), (x_test, y_test) = tf.keras.datasets.fashion_mnist.load_data()"
   ]
  },
  {
   "cell_type": "code",
   "execution_count": 39,
   "id": "be19e776",
   "metadata": {},
   "outputs": [
    {
     "name": "stdout",
     "output_type": "stream",
     "text": [
      "(60000, 28, 28) (60000,)\n"
     ]
    }
   ],
   "source": [
    "print(x_train_all.shape, y_train_all.shape)"
   ]
  },
  {
   "cell_type": "code",
   "execution_count": 40,
   "id": "08c09f3b",
   "metadata": {},
   "outputs": [
    {
     "data": {
      "image/png": "[encoded data removed]",
      "text/plain": [
       "<Figure size 432x288 with 1 Axes>"
      ]
     },
     "metadata": {
      "needs_background": "light"
     },
     "output_type": "display_data"
    }
   ],
   "source": [
    "import matplotlib.pyplot as plt\n",
    "plt.imshow(x_train_all[0], cmap='gray')\n",
    "plt.show()"
   ]
  },
  {
   "cell_type": "code",
   "execution_count": 41,
   "id": "06d41a4b",
   "metadata": {},
   "outputs": [],
   "source": [
    "from sklearn.model_selection import train_test_split\n",
    "x_train, x_val, y_train, y_val = train_test_split(x_train_all, y_train_all, stratify=y_train_all, test_size=0.2, random_state=42)"
   ]
  },
  {
   "cell_type": "code",
   "execution_count": 42,
   "id": "14c55262",
   "metadata": {},
   "outputs": [],
   "source": [
    "x_train = x_train/255\n",
    "x_val = x_val/255"
   ]
  },
  {
   "cell_type": "code",
   "execution_count": 43,
   "id": "c7e4b949",
   "metadata": {},
   "outputs": [],
   "source": [
    "x_train = x_train.reshape(-1, 784)\n",
    "x_val = x_val.reshape(-1, 784)"
   ]
  },
  {
   "cell_type": "code",
   "execution_count": 46,
   "id": "3743f713",
   "metadata": {},
   "outputs": [
    {
     "data": {
      "text/plain": [
       "(48000, 10)"
      ]
     },
     "execution_count": 46,
     "metadata": {},
     "output_type": "execute_result"
    }
   ],
   "source": [
    "y_train_encoded = tf.keras.utils.to_categorical(y_train)\n",
    "y_val_encoded = tf.keras.utils.to_categorical(y_val)\n",
    "y_train_encoded.shape"
   ]
  },
  {
   "cell_type": "code",
   "execution_count": 47,
   "id": "6d7041ac",
   "metadata": {},
   "outputs": [
    {
     "name": "stdout",
     "output_type": "stream",
     "text": [
      "........................................"
     ]
    },
    {
     "data": {
      "image/png": "[encoded data removed]",
      "text/plain": [
       "<Figure size 432x288 with 1 Axes>"
      ]
     },
     "metadata": {
      "needs_background": "light"
     },
     "output_type": "display_data"
    }
   ],
   "source": [
    "fc = MultiClassNetwork(units=100, batch_size=256)\n",
    "fc.fit(x_train, y_train_encoded, x_val=x_val, y_val=y_val_encoded, epochs=40)\n",
    "plt.plot(fc.losses)\n",
    "plt.plot(fc.val_losses)\n",
    "plt.ylabel('loss')\n",
    "plt.xlabel('iteration')\n",
    "plt.legend(['train_loss', 'val_loss'])\n",
    "plt.show()"
   ]
  },
  {
   "cell_type": "code",
   "execution_count": 48,
   "id": "a2e72c5a",
   "metadata": {},
   "outputs": [],
   "source": [
    "from tensorflow.keras import Sequential\n",
    "from tensorflow.keras.layers import Dense\n",
    "model = Sequential()"
   ]
  },
  {
   "cell_type": "code",
   "execution_count": 50,
   "id": "ddc5935a",
   "metadata": {},
   "outputs": [],
   "source": [
    "model.add(Dense(100, activation='sigmoid', input_shape=(784,)))\n",
    "model.add(Dense(10, activation='softmax'))"
   ]
  },
  {
   "cell_type": "code",
   "execution_count": 51,
   "id": "78c96877",
   "metadata": {},
   "outputs": [],
   "source": [
    "model.compile(optimizer='sgd', loss='categorical_crossentropy', metrics=['accuracy'])"
   ]
  },
  {
   "cell_type": "code",
   "execution_count": 52,
   "id": "b68a13f6",
   "metadata": {},
   "outputs": [
    {
     "name": "stdout",
     "output_type": "stream",
     "text": [
      "Epoch 1/40\n",
      "1500/1500 [==============================] - 2s 1ms/step - loss: 1.3850 - accuracy: 0.6352 - val_loss: 0.9602 - val_accuracy: 0.7326\n",
      "Epoch 2/40\n",
      "1500/1500 [==============================] - 1s 889us/step - loss: 0.8427 - accuracy: 0.7425 - val_loss: 0.7514 - val_accuracy: 0.7614\n",
      "Epoch 3/40\n",
      "1500/1500 [==============================] - 1s 888us/step - loss: 0.7132 - accuracy: 0.7627 - val_loss: 0.6663 - val_accuracy: 0.7808\n",
      "Epoch 4/40\n",
      "1500/1500 [==============================] - 1s 851us/step - loss: 0.6494 - accuracy: 0.7771 - val_loss: 0.6152 - val_accuracy: 0.7900\n",
      "Epoch 5/40\n",
      "1500/1500 [==============================] - 1s 875us/step - loss: 0.6084 - accuracy: 0.7904 - val_loss: 0.5794 - val_accuracy: 0.8008\n",
      "Epoch 6/40\n",
      "1500/1500 [==============================] - 2s 1ms/step - loss: 0.5786 - accuracy: 0.8001 - val_loss: 0.5539 - val_accuracy: 0.8098\n",
      "Epoch 7/40\n",
      "1500/1500 [==============================] - 1s 915us/step - loss: 0.5556 - accuracy: 0.8081 - val_loss: 0.5326 - val_accuracy: 0.8146\n",
      "Epoch 8/40\n",
      "1500/1500 [==============================] - 1s 923us/step - loss: 0.5373 - accuracy: 0.8148 - val_loss: 0.5184 - val_accuracy: 0.8188\n",
      "Epoch 9/40\n",
      "1500/1500 [==============================] - 2s 1ms/step - loss: 0.5225 - accuracy: 0.8199 - val_loss: 0.5037 - val_accuracy: 0.8261\n",
      "Epoch 10/40\n",
      "1500/1500 [==============================] - 1s 887us/step - loss: 0.5101 - accuracy: 0.8240 - val_loss: 0.4933 - val_accuracy: 0.8285\n",
      "Epoch 11/40\n",
      "1500/1500 [==============================] - 1s 913us/step - loss: 0.4993 - accuracy: 0.8272 - val_loss: 0.4813 - val_accuracy: 0.8320\n",
      "Epoch 12/40\n",
      "1500/1500 [==============================] - 1s 906us/step - loss: 0.4902 - accuracy: 0.8300 - val_loss: 0.4732 - val_accuracy: 0.8338\n",
      "Epoch 13/40\n",
      "1500/1500 [==============================] - 1s 870us/step - loss: 0.4820 - accuracy: 0.8328 - val_loss: 0.4653 - val_accuracy: 0.8371\n",
      "Epoch 14/40\n",
      "1500/1500 [==============================] - 1s 899us/step - loss: 0.4746 - accuracy: 0.8350 - val_loss: 0.4607 - val_accuracy: 0.8381\n",
      "Epoch 15/40\n",
      "1500/1500 [==============================] - 1s 869us/step - loss: 0.4682 - accuracy: 0.8373 - val_loss: 0.4551 - val_accuracy: 0.8395\n",
      "Epoch 16/40\n",
      "1500/1500 [==============================] - 1s 842us/step - loss: 0.4623 - accuracy: 0.8380 - val_loss: 0.4484 - val_accuracy: 0.8396\n",
      "Epoch 17/40\n",
      "1500/1500 [==============================] - 1s 886us/step - loss: 0.4569 - accuracy: 0.8405 - val_loss: 0.4424 - val_accuracy: 0.8426\n",
      "Epoch 18/40\n",
      "1500/1500 [==============================] - 1s 901us/step - loss: 0.4518 - accuracy: 0.8421 - val_loss: 0.4384 - val_accuracy: 0.8453\n",
      "Epoch 19/40\n",
      "1500/1500 [==============================] - 1s 874us/step - loss: 0.4469 - accuracy: 0.8435 - val_loss: 0.4338 - val_accuracy: 0.8467\n",
      "Epoch 20/40\n",
      "1500/1500 [==============================] - 2s 1ms/step - loss: 0.4428 - accuracy: 0.8455 - val_loss: 0.4299 - val_accuracy: 0.8482\n",
      "Epoch 21/40\n",
      "1500/1500 [==============================] - 2s 1ms/step - loss: 0.4386 - accuracy: 0.8472 - val_loss: 0.4270 - val_accuracy: 0.8497\n",
      "Epoch 22/40\n",
      "1500/1500 [==============================] - 1s 954us/step - loss: 0.4348 - accuracy: 0.8473 - val_loss: 0.4242 - val_accuracy: 0.8499\n",
      "Epoch 23/40\n",
      "1500/1500 [==============================] - 2s 1ms/step - loss: 0.4311 - accuracy: 0.8492 - val_loss: 0.4221 - val_accuracy: 0.8508\n",
      "Epoch 24/40\n",
      "1500/1500 [==============================] - 1s 928us/step - loss: 0.4278 - accuracy: 0.8499 - val_loss: 0.4176 - val_accuracy: 0.8522\n",
      "Epoch 25/40\n",
      "1500/1500 [==============================] - 1s 987us/step - loss: 0.4245 - accuracy: 0.8510 - val_loss: 0.4142 - val_accuracy: 0.8534\n",
      "Epoch 26/40\n",
      "1500/1500 [==============================] - 2s 1ms/step - loss: 0.4213 - accuracy: 0.8519 - val_loss: 0.4116 - val_accuracy: 0.8537\n",
      "Epoch 27/40\n",
      "1500/1500 [==============================] - 2s 1ms/step - loss: 0.4186 - accuracy: 0.8530 - val_loss: 0.4109 - val_accuracy: 0.8557\n",
      "Epoch 28/40\n",
      "1500/1500 [==============================] - 1s 920us/step - loss: 0.4156 - accuracy: 0.8536 - val_loss: 0.4070 - val_accuracy: 0.8558\n",
      "Epoch 29/40\n",
      "1500/1500 [==============================] - 1s 953us/step - loss: 0.4127 - accuracy: 0.8549 - val_loss: 0.4049 - val_accuracy: 0.8573\n",
      "Epoch 30/40\n",
      "1500/1500 [==============================] - 1s 972us/step - loss: 0.4104 - accuracy: 0.8559 - val_loss: 0.4044 - val_accuracy: 0.8570\n",
      "Epoch 31/40\n",
      "1500/1500 [==============================] - 1s 981us/step - loss: 0.4080 - accuracy: 0.8564 - val_loss: 0.4003 - val_accuracy: 0.8573\n",
      "Epoch 32/40\n",
      "1500/1500 [==============================] - 1s 962us/step - loss: 0.4055 - accuracy: 0.8569 - val_loss: 0.4007 - val_accuracy: 0.8575\n",
      "Epoch 33/40\n",
      "1500/1500 [==============================] - 1s 908us/step - loss: 0.4032 - accuracy: 0.8576 - val_loss: 0.3978 - val_accuracy: 0.8608\n",
      "Epoch 34/40\n",
      "1500/1500 [==============================] - 1s 907us/step - loss: 0.4008 - accuracy: 0.8590 - val_loss: 0.3959 - val_accuracy: 0.8612\n",
      "Epoch 35/40\n",
      "1500/1500 [==============================] - 1s 901us/step - loss: 0.3990 - accuracy: 0.8581 - val_loss: 0.3926 - val_accuracy: 0.8621\n",
      "Epoch 36/40\n",
      "1500/1500 [==============================] - 1s 908us/step - loss: 0.3967 - accuracy: 0.8601 - val_loss: 0.3932 - val_accuracy: 0.8627\n",
      "Epoch 37/40\n",
      "1500/1500 [==============================] - 1s 878us/step - loss: 0.3948 - accuracy: 0.8605 - val_loss: 0.3915 - val_accuracy: 0.8629\n",
      "Epoch 38/40\n",
      "1500/1500 [==============================] - 1s 937us/step - loss: 0.3929 - accuracy: 0.8615 - val_loss: 0.3895 - val_accuracy: 0.8639\n",
      "Epoch 39/40\n",
      "1500/1500 [==============================] - 2s 1ms/step - loss: 0.3911 - accuracy: 0.8614 - val_loss: 0.3868 - val_accuracy: 0.8635\n",
      "Epoch 40/40\n",
      "1500/1500 [==============================] - 1s 867us/step - loss: 0.3890 - accuracy: 0.8618 - val_loss: 0.3863 - val_accuracy: 0.8632\n"
     ]
    }
   ],
   "source": [
    "history = model.fit(x_train, y_train_encoded, epochs=40, validation_data=(x_val, y_val_encoded))"
   ]
  },
  {
   "cell_type": "code",
   "execution_count": 53,
   "id": "d3fed211",
   "metadata": {},
   "outputs": [
    {
     "name": "stdout",
     "output_type": "stream",
     "text": [
      "dict_keys(['loss', 'accuracy', 'val_loss', 'val_accuracy'])\n"
     ]
    }
   ],
   "source": [
    "print(history.history.keys())"
   ]
  },
  {
   "cell_type": "code",
   "execution_count": 54,
   "id": "c750c4f1",
   "metadata": {},
   "outputs": [
    {
     "data": {
      "image/png": "[encoded data removed]",
      "text/plain": [
       "<Figure size 432x288 with 1 Axes>"
      ]
     },
     "metadata": {
      "needs_background": "light"
     },
     "output_type": "display_data"
    }
   ],
   "source": [
    "plt.plot(history.history['loss'])\n",
    "plt.plot(history.history['val_loss'])\n",
    "plt.ylabel('loss')\n",
    "plt.xlabel('epoch')\n",
    "plt.legend(['train_loss', 'val_loss'])\n",
    "plt.show()"
   ]
  },
  {
   "cell_type": "code",
   "execution_count": 55,
   "id": "f01974e9",
   "metadata": {},
   "outputs": [
    {
     "name": "stdout",
     "output_type": "stream",
     "text": [
      "0.8631666898727417\n"
     ]
    }
   ],
   "source": [
    "loss, accuracy = model.evaluate(x_val, y_val_encoded, verbose=0)\n",
    "print(accuracy)"
   ]
  },
  {
   "cell_type": "code",
   "execution_count": null,
   "id": "c61fd4d5",
   "metadata": {},
   "outputs": [],
   "source": []
  }
 ],
 "metadata": {
  "kernelspec": {
   "display_name": "Python 3",
   "language": "python",
   "name": "python3"
  },
  "language_info": {
   "codemirror_mode": {
    "name": "ipython",
    "version": 3
   },
   "file_extension": ".py",
   "mimetype": "text/x-python",
   "name": "python",
   "nbconvert_exporter": "python",
   "pygments_lexer": "ipython3",
   "version": "3.8.8"
  }
 },
 "nbformat": 4,
 "nbformat_minor": 5
}
