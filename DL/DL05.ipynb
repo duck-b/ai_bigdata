{
 "cells": [
  {
   "cell_type": "markdown",
   "id": "985cbac9",
   "metadata": {},
   "source": [
    "# 합성곱 연산"
   ]
  },
  {
   "cell_type": "code",
   "execution_count": 1,
   "id": "9452d95a",
   "metadata": {},
   "outputs": [],
   "source": [
    "import numpy as np\n",
    "x = np.array([2, 8, 3, 7, 1, 2, 0, 4, 5])\n",
    "w = np.array([2, 1, 5, 3])"
   ]
  },
  {
   "cell_type": "code",
   "execution_count": 2,
   "id": "ade29d4e",
   "metadata": {},
   "outputs": [
    {
     "data": {
      "text/plain": [
       "array([3, 5, 1, 2])"
      ]
     },
     "execution_count": 2,
     "metadata": {},
     "output_type": "execute_result"
    }
   ],
   "source": [
    "w_r = np.flip(w)\n",
    "w_r"
   ]
  },
  {
   "cell_type": "code",
   "execution_count": 10,
   "id": "bc7baf99",
   "metadata": {},
   "outputs": [
    {
     "name": "stdout",
     "output_type": "stream",
     "text": [
      "[63]\n",
      "[48]\n",
      "[49]\n",
      "[28]\n",
      "[21]\n",
      "[20]\n"
     ]
    }
   ],
   "source": [
    "for i in range(6):\n",
    "    print(np.dot(x[i:i+4], w_r.reshape(-1,1)))"
   ]
  },
  {
   "cell_type": "markdown",
   "id": "f4fe1fdf",
   "metadata": {},
   "source": [
    "---\n",
    "#### 합성곱"
   ]
  },
  {
   "cell_type": "code",
   "execution_count": 11,
   "id": "d30d4a2a",
   "metadata": {},
   "outputs": [
    {
     "data": {
      "text/plain": [
       "array([63, 48, 49, 28, 21, 20])"
      ]
     },
     "execution_count": 11,
     "metadata": {},
     "output_type": "execute_result"
    }
   ],
   "source": [
    "from scipy.signal import convolve\n",
    "convolve(x, w, mode='valid')"
   ]
  },
  {
   "cell_type": "markdown",
   "id": "6d3efc8b",
   "metadata": {},
   "source": [
    "---\n",
    "#### 교차상관"
   ]
  },
  {
   "cell_type": "code",
   "execution_count": 12,
   "id": "ea0e6894",
   "metadata": {},
   "outputs": [
    {
     "data": {
      "text/plain": [
       "array([48, 57, 24, 25, 16, 39])"
      ]
     },
     "execution_count": 12,
     "metadata": {},
     "output_type": "execute_result"
    }
   ],
   "source": [
    "from scipy.signal import correlate\n",
    "correlate(x, w, mode='valid')"
   ]
  },
  {
   "cell_type": "markdown",
   "id": "b28dfcc7",
   "metadata": {},
   "source": [
    "---\n",
    "#### 패딩과 스트라이드\n",
    "* 풀 패딩은 원본 배열의 원소의 연산 참여도를 동일하게 만든다"
   ]
  },
  {
   "cell_type": "code",
   "execution_count": 13,
   "id": "9a4a54fa",
   "metadata": {},
   "outputs": [
    {
     "data": {
      "text/plain": [
       "array([ 6, 34, 51, 48, 57, 24, 25, 16, 39, 29, 13, 10])"
      ]
     },
     "execution_count": 13,
     "metadata": {},
     "output_type": "execute_result"
    }
   ],
   "source": [
    "correlate(x, w, mode='full')"
   ]
  },
  {
   "cell_type": "markdown",
   "id": "78d99c79",
   "metadata": {},
   "source": [
    "* 세임 패딩은 출력 배열의 길이를 원본 배열의 원소의 길이와 동일하게 만든다"
   ]
  },
  {
   "cell_type": "code",
   "execution_count": 16,
   "id": "c4ab3029",
   "metadata": {},
   "outputs": [
    {
     "data": {
      "text/plain": [
       "array([34, 51, 48, 57, 24, 25, 16, 39, 29])"
      ]
     },
     "execution_count": 16,
     "metadata": {},
     "output_type": "execute_result"
    }
   ],
   "source": [
    "correlate(x, w, mode='same')"
   ]
  },
  {
   "cell_type": "markdown",
   "id": "236d8193",
   "metadata": {},
   "source": [
    "* 스트라이드는 미끄러지는 간격을 조정한다"
   ]
  },
  {
   "cell_type": "markdown",
   "id": "066ac3d4",
   "metadata": {},
   "source": [
    "---\n",
    "#### 2차원 배열에서 합성곱 수행"
   ]
  },
  {
   "cell_type": "code",
   "execution_count": 21,
   "id": "6c48ccbc",
   "metadata": {},
   "outputs": [
    {
     "data": {
      "text/plain": [
       "array([[ 2,  4],\n",
       "       [ 8, 10]])"
      ]
     },
     "execution_count": 21,
     "metadata": {},
     "output_type": "execute_result"
    }
   ],
   "source": [
    "x = np.array([[1,2,3], \n",
    "              [4,5,6], \n",
    "              [7,8,9]])\n",
    "w = np.array([[2,0], \n",
    "              [0,0]])\n",
    "from scipy.signal import correlate2d\n",
    "correlate2d(x, w, mode='valid')"
   ]
  },
  {
   "cell_type": "markdown",
   "id": "55e87acb",
   "metadata": {},
   "source": [
    "* 2차원 배열에서 Same Padding"
   ]
  },
  {
   "cell_type": "code",
   "execution_count": 22,
   "id": "f635cce2",
   "metadata": {},
   "outputs": [
    {
     "data": {
      "text/plain": [
       "array([[ 2,  4,  6],\n",
       "       [ 8, 10, 12],\n",
       "       [14, 16, 18]])"
      ]
     },
     "execution_count": 22,
     "metadata": {},
     "output_type": "execute_result"
    }
   ],
   "source": [
    "correlate2d(x, w, mode='same')"
   ]
  },
  {
   "cell_type": "code",
   "execution_count": 27,
   "id": "33e67a12",
   "metadata": {},
   "outputs": [
    {
     "name": "stdout",
     "output_type": "stream",
     "text": [
      "(1, 3, 3, 1)\n"
     ]
    },
    {
     "data": {
      "text/plain": [
       "<matplotlib.image.AxesImage at 0x7fcbeaf68d00>"
      ]
     },
     "execution_count": 27,
     "metadata": {},
     "output_type": "execute_result"
    },
    {
     "data": {
      "image/png": "[encoded data removed]",
      "text/plain": [
       "<Figure size 432x288 with 1 Axes>"
      ]
     },
     "metadata": {
      "needs_background": "light"
     },
     "output_type": "display_data"
    }
   ],
   "source": [
    "import tensorflow as tf\n",
    "import numpy as np\n",
    "import keras\n",
    "from keras.layers import *\n",
    "import matplotlib.pyplot as plt\n",
    "image = tf.constant([[[[1],[2],[3]], \n",
    "                      [[4],[5],[6]], \n",
    "                      [[7],[8],[9]]]], dtype=np.float32)\n",
    "print(image.shape)\n",
    "plt.imshow(image.numpy().reshape(3,3), cmap='gray')"
   ]
  },
  {
   "cell_type": "code",
   "execution_count": 39,
   "id": "e4fe52b1",
   "metadata": {},
   "outputs": [
    {
     "name": "stdout",
     "output_type": "stream",
     "text": [
      "[1 2] \n",
      "\n",
      "len(a):  2\n",
      "a.ndim:  1\n",
      "a.shape:  (2,)\n"
     ]
    }
   ],
   "source": [
    "# 1차원 배열\n",
    "a = np.array([1,2])\n",
    "print(a,'\\n')\n",
    "print('len(a): ', len(a))\n",
    "print('a.ndim: ', a.ndim)\n",
    "print('a.shape: ', a.shape)"
   ]
  },
  {
   "cell_type": "code",
   "execution_count": 42,
   "id": "3da46381",
   "metadata": {},
   "outputs": [
    {
     "name": "stdout",
     "output_type": "stream",
     "text": [
      "[[1 2]\n",
      " [3 4]] \n",
      "\n",
      "len(a):  2\n",
      "a.ndim:  2\n",
      "a.shape:  (2, 2)\n"
     ]
    }
   ],
   "source": [
    "# 2차원 배열\n",
    "a = np.array([[1,2], \n",
    "              [3,4]])\n",
    "print(a, '\\n')\n",
    "print('len(a): ', len(a))\n",
    "print('a.ndim: ', a.ndim)\n",
    "print('a.shape: ', a.shape)"
   ]
  },
  {
   "cell_type": "code",
   "execution_count": 43,
   "id": "5b8fe200",
   "metadata": {},
   "outputs": [
    {
     "name": "stdout",
     "output_type": "stream",
     "text": [
      "[[[1 2]\n",
      "  [3 4]]\n",
      "\n",
      " [[5 6]\n",
      "  [7 8]]] \n",
      "\n",
      "len(a):  2\n",
      "a.ndim:  3\n",
      "a.shape:  (2, 2, 2)\n"
     ]
    }
   ],
   "source": [
    "# 3차원 배열\n",
    "a = np.array([[[1,2],\n",
    "               [3,4]],\n",
    "              \n",
    "              [[5,6],\n",
    "               [7,8]]])\n",
    "print(a, '\\n')\n",
    "print('len(a): ', len(a))\n",
    "print('a.ndim: ', a.ndim)\n",
    "print('a.shape: ', a.shape)"
   ]
  },
  {
   "cell_type": "code",
   "execution_count": 50,
   "id": "4bf0e6c5",
   "metadata": {},
   "outputs": [
    {
     "name": "stdout",
     "output_type": "stream",
     "text": [
      "[[[[1]\n",
      "   [2]]\n",
      "\n",
      "  [[3]\n",
      "   [4]]]\n",
      "\n",
      "\n",
      " [[[5]\n",
      "   [6]]\n",
      "\n",
      "  [[7]\n",
      "   [8]]]] \n",
      "\n",
      "len(a):  2\n",
      "a.ndim:  4\n",
      "a.shape:  (2, 2, 2, 1)\n"
     ]
    }
   ],
   "source": [
    "# 4차원 배열\n",
    "a = np.array([[[[1],\n",
    "                [2]],\n",
    "               \n",
    "               [[3],\n",
    "                [4]]],\n",
    "              \n",
    "              [[[5],\n",
    "                [6]],\n",
    "               \n",
    "               [[7],\n",
    "                [8]]]])\n",
    "print(a, '\\n')\n",
    "print('len(a): ', len(a))\n",
    "print('a.ndim: ', a.ndim)\n",
    "print('a.shape: ', a.shape)"
   ]
  },
  {
   "cell_type": "code",
   "execution_count": 52,
   "id": "371a35f5",
   "metadata": {},
   "outputs": [
    {
     "name": "stdout",
     "output_type": "stream",
     "text": [
      "[[[[1]\n",
      "   [2]\n",
      "   [3]]\n",
      "\n",
      "  [[4]\n",
      "   [5]\n",
      "   [6]]\n",
      "\n",
      "  [[7]\n",
      "   [8]\n",
      "   [9]]]] \n",
      "\n",
      "len(a):  1\n",
      "a.ndim:  4\n",
      "a.shape:  (1, 3, 3, 1)\n"
     ]
    }
   ],
   "source": [
    "a = np.array([[[[1],[2],[3]],\n",
    "               [[4],[5],[6]],\n",
    "               [[7],[8],[9]]]])\n",
    "print(a, '\\n')\n",
    "print('len(a): ', len(a))\n",
    "print('a.ndim: ', a.ndim)\n",
    "print('a.shape: ', a.shape)"
   ]
  },
  {
   "cell_type": "code",
   "execution_count": 62,
   "id": "ee8badf3",
   "metadata": {},
   "outputs": [
    {
     "name": "stdout",
     "output_type": "stream",
     "text": [
      "conv2d.shape (1, 3, 3, 1)\n",
      "[[12. 16.  9.]\n",
      " [24. 28. 15.]\n",
      " [15. 17.  9.]]\n"
     ]
    },
    {
     "data": {
      "image/png": "[encoded data removed]",
      "text/plain": [
       "<Figure size 432x288 with 1 Axes>"
      ]
     },
     "metadata": {
      "needs_background": "light"
     },
     "output_type": "display_data"
    }
   ],
   "source": [
    "weight = np.array([[[[1.],[1.]]],[[[1.],[1.]]]])\n",
    "weight_init = tf.constant_initializer(weight)\n",
    "conv2d = tf.keras.layers.Conv2D(filters=1, kernel_size=2, padding='same', kernel_initializer=weight_init)(image)\n",
    "print('conv2d.shape', conv2d.shape)\n",
    "print(conv2d.numpy().reshape(3,3))\n",
    "plt.imshow(conv2d.numpy().reshape(3,3), cmap='gray')\n",
    "plt.show()"
   ]
  },
  {
   "cell_type": "code",
   "execution_count": null,
   "id": "8b6905a8",
   "metadata": {},
   "outputs": [],
   "source": []
  }
 ],
 "metadata": {
  "kernelspec": {
   "display_name": "Python 3",
   "language": "python",
   "name": "python3"
  },
  "language_info": {
   "codemirror_mode": {
    "name": "ipython",
    "version": 3
   },
   "file_extension": ".py",
   "mimetype": "text/x-python",
   "name": "python",
   "nbconvert_exporter": "python",
   "pygments_lexer": "ipython3",
   "version": "3.8.8"
  }
 },
 "nbformat": 4,
 "nbformat_minor": 5
}
