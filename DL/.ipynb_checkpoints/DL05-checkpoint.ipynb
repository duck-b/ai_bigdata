{
 "cells": [
  {
   "cell_type": "markdown",
   "id": "985cbac9",
   "metadata": {},
   "source": [
    "# 합성곱 연산"
   ]
  },
  {
   "cell_type": "code",
   "execution_count": 1,
   "id": "9452d95a",
   "metadata": {},
   "outputs": [],
   "source": [
    "import numpy as np\n",
    "x = np.array([2, 8, 3, 7, 1, 2, 0, 4, 5])\n",
    "w = np.array([2, 1, 5, 3])"
   ]
  },
  {
   "cell_type": "code",
   "execution_count": 2,
   "id": "ade29d4e",
   "metadata": {},
   "outputs": [
    {
     "data": {
      "text/plain": [
       "array([3, 5, 1, 2])"
      ]
     },
     "execution_count": 2,
     "metadata": {},
     "output_type": "execute_result"
    }
   ],
   "source": [
    "w_r = np.flip(w)\n",
    "w_r"
   ]
  },
  {
   "cell_type": "code",
   "execution_count": 3,
   "id": "bc7baf99",
   "metadata": {},
   "outputs": [
    {
     "name": "stdout",
     "output_type": "stream",
     "text": [
      "[63]\n",
      "[48]\n",
      "[49]\n",
      "[28]\n",
      "[21]\n",
      "[20]\n"
     ]
    }
   ],
   "source": [
    "for i in range(6):\n",
    "    print(np.dot(x[i:i+4], w_r.reshape(-1,1)))"
   ]
  },
  {
   "cell_type": "markdown",
   "id": "f4fe1fdf",
   "metadata": {},
   "source": [
    "---\n",
    "#### 합성곱"
   ]
  },
  {
   "cell_type": "code",
   "execution_count": 4,
   "id": "d30d4a2a",
   "metadata": {},
   "outputs": [
    {
     "data": {
      "text/plain": [
       "array([63, 48, 49, 28, 21, 20])"
      ]
     },
     "execution_count": 4,
     "metadata": {},
     "output_type": "execute_result"
    }
   ],
   "source": [
    "from scipy.signal import convolve\n",
    "convolve(x, w, mode='valid')"
   ]
  },
  {
   "cell_type": "markdown",
   "id": "6d3efc8b",
   "metadata": {},
   "source": [
    "---\n",
    "#### 교차상관"
   ]
  },
  {
   "cell_type": "code",
   "execution_count": 5,
   "id": "ea0e6894",
   "metadata": {},
   "outputs": [
    {
     "data": {
      "text/plain": [
       "array([48, 57, 24, 25, 16, 39])"
      ]
     },
     "execution_count": 5,
     "metadata": {},
     "output_type": "execute_result"
    }
   ],
   "source": [
    "from scipy.signal import correlate\n",
    "correlate(x, w, mode='valid')"
   ]
  },
  {
   "cell_type": "markdown",
   "id": "b28dfcc7",
   "metadata": {},
   "source": [
    "---\n",
    "#### 패딩과 스트라이드\n",
    "* 풀 패딩은 원본 배열의 원소의 연산 참여도를 동일하게 만든다"
   ]
  },
  {
   "cell_type": "code",
   "execution_count": 6,
   "id": "9a4a54fa",
   "metadata": {},
   "outputs": [
    {
     "data": {
      "text/plain": [
       "array([ 6, 34, 51, 48, 57, 24, 25, 16, 39, 29, 13, 10])"
      ]
     },
     "execution_count": 6,
     "metadata": {},
     "output_type": "execute_result"
    }
   ],
   "source": [
    "correlate(x, w, mode='full')"
   ]
  },
  {
   "cell_type": "markdown",
   "id": "78d99c79",
   "metadata": {},
   "source": [
    "* 세임 패딩은 출력 배열의 길이를 원본 배열의 원소의 길이와 동일하게 만든다"
   ]
  },
  {
   "cell_type": "code",
   "execution_count": 7,
   "id": "c4ab3029",
   "metadata": {},
   "outputs": [
    {
     "data": {
      "text/plain": [
       "array([34, 51, 48, 57, 24, 25, 16, 39, 29])"
      ]
     },
     "execution_count": 7,
     "metadata": {},
     "output_type": "execute_result"
    }
   ],
   "source": [
    "correlate(x, w, mode='same')"
   ]
  },
  {
   "cell_type": "markdown",
   "id": "236d8193",
   "metadata": {},
   "source": [
    "* 스트라이드는 미끄러지는 간격을 조정한다"
   ]
  },
  {
   "cell_type": "markdown",
   "id": "066ac3d4",
   "metadata": {},
   "source": [
    "---\n",
    "#### 2차원 배열에서 합성곱 수행"
   ]
  },
  {
   "cell_type": "code",
   "execution_count": 8,
   "id": "6c48ccbc",
   "metadata": {},
   "outputs": [
    {
     "data": {
      "text/plain": [
       "array([[ 2,  4],\n",
       "       [ 8, 10]])"
      ]
     },
     "execution_count": 8,
     "metadata": {},
     "output_type": "execute_result"
    }
   ],
   "source": [
    "x = np.array([[1,2,3], \n",
    "              [4,5,6], \n",
    "              [7,8,9]])\n",
    "w = np.array([[2,0], \n",
    "              [0,0]])\n",
    "from scipy.signal import correlate2d\n",
    "correlate2d(x, w, mode='valid')"
   ]
  },
  {
   "cell_type": "markdown",
   "id": "55e87acb",
   "metadata": {},
   "source": [
    "* 2차원 배열에서 Same Padding"
   ]
  },
  {
   "cell_type": "code",
   "execution_count": 9,
   "id": "f635cce2",
   "metadata": {},
   "outputs": [
    {
     "data": {
      "text/plain": [
       "array([[ 2,  4,  6],\n",
       "       [ 8, 10, 12],\n",
       "       [14, 16, 18]])"
      ]
     },
     "execution_count": 9,
     "metadata": {},
     "output_type": "execute_result"
    }
   ],
   "source": [
    "correlate2d(x, w, mode='same')"
   ]
  },
  {
   "cell_type": "code",
   "execution_count": 10,
   "id": "33e67a12",
   "metadata": {},
   "outputs": [
    {
     "name": "stdout",
     "output_type": "stream",
     "text": [
      "(1, 3, 3, 1)\n"
     ]
    },
    {
     "data": {
      "text/plain": [
       "<matplotlib.image.AxesImage at 0x7ff26b4da970>"
      ]
     },
     "execution_count": 10,
     "metadata": {},
     "output_type": "execute_result"
    },
    {
     "data": {
      "image/png": "[encoded data removed]",
      "text/plain": [
       "<Figure size 432x288 with 1 Axes>"
      ]
     },
     "metadata": {
      "needs_background": "light"
     },
     "output_type": "display_data"
    }
   ],
   "source": [
    "import tensorflow as tf\n",
    "import numpy as np\n",
    "import keras\n",
    "from keras.layers import *\n",
    "import matplotlib.pyplot as plt\n",
    "image = tf.constant([[[[1],[2],[3]], \n",
    "                      [[4],[5],[6]], \n",
    "                      [[7],[8],[9]]]], dtype=np.float32)\n",
    "print(image.shape)\n",
    "plt.imshow(image.numpy().reshape(3,3), cmap='gray')"
   ]
  },
  {
   "cell_type": "code",
   "execution_count": 11,
   "id": "e4fe52b1",
   "metadata": {},
   "outputs": [
    {
     "name": "stdout",
     "output_type": "stream",
     "text": [
      "[1 2] \n",
      "\n",
      "len(a):  2\n",
      "a.ndim:  1\n",
      "a.shape:  (2,)\n"
     ]
    }
   ],
   "source": [
    "# 1차원 배열\n",
    "a = np.array([1,2])\n",
    "print(a,'\\n')\n",
    "print('len(a): ', len(a))\n",
    "print('a.ndim: ', a.ndim)\n",
    "print('a.shape: ', a.shape)"
   ]
  },
  {
   "cell_type": "code",
   "execution_count": 12,
   "id": "3da46381",
   "metadata": {},
   "outputs": [
    {
     "name": "stdout",
     "output_type": "stream",
     "text": [
      "[[1 2]\n",
      " [3 4]] \n",
      "\n",
      "len(a):  2\n",
      "a.ndim:  2\n",
      "a.shape:  (2, 2)\n"
     ]
    }
   ],
   "source": [
    "# 2차원 배열\n",
    "a = np.array([[1,2], \n",
    "              [3,4]])\n",
    "print(a, '\\n')\n",
    "print('len(a): ', len(a))\n",
    "print('a.ndim: ', a.ndim)\n",
    "print('a.shape: ', a.shape)"
   ]
  },
  {
   "cell_type": "code",
   "execution_count": 13,
   "id": "5b8fe200",
   "metadata": {},
   "outputs": [
    {
     "name": "stdout",
     "output_type": "stream",
     "text": [
      "[[[1 2]\n",
      "  [3 4]]\n",
      "\n",
      " [[5 6]\n",
      "  [7 8]]] \n",
      "\n",
      "len(a):  2\n",
      "a.ndim:  3\n",
      "a.shape:  (2, 2, 2)\n"
     ]
    }
   ],
   "source": [
    "# 3차원 배열\n",
    "a = np.array([[[1,2],\n",
    "               [3,4]],\n",
    "              \n",
    "              [[5,6],\n",
    "               [7,8]]])\n",
    "print(a, '\\n')\n",
    "print('len(a): ', len(a))\n",
    "print('a.ndim: ', a.ndim)\n",
    "print('a.shape: ', a.shape)"
   ]
  },
  {
   "cell_type": "code",
   "execution_count": 14,
   "id": "4bf0e6c5",
   "metadata": {},
   "outputs": [
    {
     "name": "stdout",
     "output_type": "stream",
     "text": [
      "[[[[1]\n",
      "   [2]]\n",
      "\n",
      "  [[3]\n",
      "   [4]]]\n",
      "\n",
      "\n",
      " [[[5]\n",
      "   [6]]\n",
      "\n",
      "  [[7]\n",
      "   [8]]]] \n",
      "\n",
      "len(a):  2\n",
      "a.ndim:  4\n",
      "a.shape:  (2, 2, 2, 1)\n"
     ]
    }
   ],
   "source": [
    "# 4차원 배열\n",
    "a = np.array([[[[1],\n",
    "                [2]],\n",
    "               \n",
    "               [[3],\n",
    "                [4]]],\n",
    "              \n",
    "              [[[5],\n",
    "                [6]],\n",
    "               \n",
    "               [[7],\n",
    "                [8]]]])\n",
    "print(a, '\\n')\n",
    "print('len(a): ', len(a))\n",
    "print('a.ndim: ', a.ndim)\n",
    "print('a.shape: ', a.shape)"
   ]
  },
  {
   "cell_type": "code",
   "execution_count": 15,
   "id": "371a35f5",
   "metadata": {},
   "outputs": [
    {
     "name": "stdout",
     "output_type": "stream",
     "text": [
      "[[[[1]\n",
      "   [2]\n",
      "   [3]]\n",
      "\n",
      "  [[4]\n",
      "   [5]\n",
      "   [6]]\n",
      "\n",
      "  [[7]\n",
      "   [8]\n",
      "   [9]]]] \n",
      "\n",
      "len(a):  1\n",
      "a.ndim:  4\n",
      "a.shape:  (1, 3, 3, 1)\n"
     ]
    }
   ],
   "source": [
    "a = np.array([[[[1],[2],[3]],\n",
    "               [[4],[5],[6]],\n",
    "               [[7],[8],[9]]]])\n",
    "print(a, '\\n')\n",
    "print('len(a): ', len(a))\n",
    "print('a.ndim: ', a.ndim)\n",
    "print('a.shape: ', a.shape)"
   ]
  },
  {
   "cell_type": "code",
   "execution_count": 16,
   "id": "ee8badf3",
   "metadata": {},
   "outputs": [
    {
     "name": "stdout",
     "output_type": "stream",
     "text": [
      "conv2d.shape (1, 3, 3, 1)\n",
      "[[12. 16.  9.]\n",
      " [24. 28. 15.]\n",
      " [15. 17.  9.]]\n"
     ]
    },
    {
     "data": {
      "image/png": "[encoded data removed]",
      "text/plain": [
       "<Figure size 432x288 with 1 Axes>"
      ]
     },
     "metadata": {
      "needs_background": "light"
     },
     "output_type": "display_data"
    }
   ],
   "source": [
    "weight = np.array([[[[1.],[1.]]],[[[1.],[1.]]]])\n",
    "weight_init = tf.constant_initializer(weight)\n",
    "conv2d = tf.keras.layers.Conv2D(filters=1, kernel_size=2, padding='same', kernel_initializer=weight_init)(image)\n",
    "print('conv2d.shape', conv2d.shape)\n",
    "print(conv2d.numpy().reshape(3,3))\n",
    "plt.imshow(conv2d.numpy().reshape(3,3), cmap='gray')\n",
    "plt.show()"
   ]
  },
  {
   "cell_type": "code",
   "execution_count": 18,
   "id": "8b6905a8",
   "metadata": {},
   "outputs": [
    {
     "name": "stdout",
     "output_type": "stream",
     "text": [
      "image.shpe (1, 3, 3, 1)\n",
      "weight.shpe (2, 2, 1, 3)\n",
      "conv2d.shape (1, 3, 3, 3)\n",
      "[[12. 16.  9.]\n",
      " [24. 28. 15.]\n",
      " [15. 17.  9.]]\n",
      "[[120. 160.  90.]\n",
      " [240. 280. 150.]\n",
      " [150. 170.  90.]]\n",
      "[[-12. -16.  -9.]\n",
      " [-24. -28. -15.]\n",
      " [-15. -17.  -9.]]\n"
     ]
    },
    {
     "data": {
      "image/png": "[encoded data removed]",
      "text/plain": [
       "<Figure size 432x288 with 3 Axes>"
      ]
     },
     "metadata": {
      "needs_background": "light"
     },
     "output_type": "display_data"
    }
   ],
   "source": [
    "print(\"image.shpe\", image.shape)\n",
    "weight = np.array([[[[1.,10.,-1.]],[[1.,10.,-1.]]],[[[1.,10.,-1.]],[[1.,10.,-1.]]]])\n",
    "print(\"weight.shpe\", weight.shape)\n",
    "weight_init = tf.constant_initializer(weight)\n",
    "conv2d = tf.keras.layers.Conv2D(filters=3, kernel_size=2, padding='same', kernel_initializer=weight_init)(image)\n",
    "print(\"conv2d.shape\", conv2d.shape)\n",
    "feature_maps = np.swapaxes(conv2d, 0, 3)\n",
    "for i, feature_map in enumerate(feature_maps):\n",
    "    print(feature_map.reshape(3,3))\n",
    "    plt.subplot(1,3,i+1), plt.imshow(feature_map.reshape(3,3), cmap='gray')\n",
    "plt.show()"
   ]
  },
  {
   "cell_type": "code",
   "execution_count": 19,
   "id": "c1756dba",
   "metadata": {},
   "outputs": [],
   "source": [
    "# 2차원 배열 전치\n",
    "a = np.array([[1,2],[3,4]])"
   ]
  },
  {
   "cell_type": "code",
   "execution_count": 20,
   "id": "73fbb868",
   "metadata": {},
   "outputs": [
    {
     "data": {
      "text/plain": [
       "array([[1, 3],\n",
       "       [2, 4]])"
      ]
     },
     "execution_count": 20,
     "metadata": {},
     "output_type": "execute_result"
    }
   ],
   "source": [
    "np.swapaxes(a, 0, 1)"
   ]
  },
  {
   "cell_type": "code",
   "execution_count": 21,
   "id": "b0a30d5a",
   "metadata": {},
   "outputs": [
    {
     "data": {
      "text/plain": [
       "array([[1, 3],\n",
       "       [2, 4]])"
      ]
     },
     "execution_count": 21,
     "metadata": {},
     "output_type": "execute_result"
    }
   ],
   "source": [
    "a.T"
   ]
  },
  {
   "cell_type": "code",
   "execution_count": 22,
   "id": "21c3109a",
   "metadata": {},
   "outputs": [],
   "source": [
    "# 3차원 배열 전치\n",
    "a = np.arange(24).reshape(2,3,4)"
   ]
  },
  {
   "cell_type": "code",
   "execution_count": 23,
   "id": "a608bc92",
   "metadata": {},
   "outputs": [
    {
     "data": {
      "text/plain": [
       "array([[[ 0, 12],\n",
       "        [ 4, 16],\n",
       "        [ 8, 20]],\n",
       "\n",
       "       [[ 1, 13],\n",
       "        [ 5, 17],\n",
       "        [ 9, 21]],\n",
       "\n",
       "       [[ 2, 14],\n",
       "        [ 6, 18],\n",
       "        [10, 22]],\n",
       "\n",
       "       [[ 3, 15],\n",
       "        [ 7, 19],\n",
       "        [11, 23]]])"
      ]
     },
     "execution_count": 23,
     "metadata": {},
     "output_type": "execute_result"
    }
   ],
   "source": [
    "np.swapaxes(a, 0, 2)"
   ]
  },
  {
   "cell_type": "code",
   "execution_count": 24,
   "id": "0dee30d7",
   "metadata": {},
   "outputs": [],
   "source": [
    "# 4차원 배열 전치\n",
    "a = np.arange(27).reshape(1,3,3,3)"
   ]
  },
  {
   "cell_type": "code",
   "execution_count": 25,
   "id": "10802a5a",
   "metadata": {},
   "outputs": [
    {
     "data": {
      "text/plain": [
       "array([[[[ 0],\n",
       "         [ 3],\n",
       "         [ 6]],\n",
       "\n",
       "        [[ 9],\n",
       "         [12],\n",
       "         [15]],\n",
       "\n",
       "        [[18],\n",
       "         [21],\n",
       "         [24]]],\n",
       "\n",
       "\n",
       "       [[[ 1],\n",
       "         [ 4],\n",
       "         [ 7]],\n",
       "\n",
       "        [[10],\n",
       "         [13],\n",
       "         [16]],\n",
       "\n",
       "        [[19],\n",
       "         [22],\n",
       "         [25]]],\n",
       "\n",
       "\n",
       "       [[[ 2],\n",
       "         [ 5],\n",
       "         [ 8]],\n",
       "\n",
       "        [[11],\n",
       "         [14],\n",
       "         [17]],\n",
       "\n",
       "        [[20],\n",
       "         [23],\n",
       "         [26]]]])"
      ]
     },
     "execution_count": 25,
     "metadata": {},
     "output_type": "execute_result"
    }
   ],
   "source": [
    "np.swapaxes(a, 0, 3)"
   ]
  },
  {
   "cell_type": "code",
   "execution_count": 26,
   "id": "8311a192",
   "metadata": {},
   "outputs": [
    {
     "data": {
      "text/plain": [
       "array([[[[ 0,  1,  2]],\n",
       "\n",
       "        [[ 9, 10, 11]],\n",
       "\n",
       "        [[18, 19, 20]]],\n",
       "\n",
       "\n",
       "       [[[ 3,  4,  5]],\n",
       "\n",
       "        [[12, 13, 14]],\n",
       "\n",
       "        [[21, 22, 23]]],\n",
       "\n",
       "\n",
       "       [[[ 6,  7,  8]],\n",
       "\n",
       "        [[15, 16, 17]],\n",
       "\n",
       "        [[24, 25, 26]]]])"
      ]
     },
     "execution_count": 26,
     "metadata": {},
     "output_type": "execute_result"
    }
   ],
   "source": [
    "np.swapaxes(a, 0, 2)"
   ]
  },
  {
   "cell_type": "code",
   "execution_count": 27,
   "id": "c8116c2a",
   "metadata": {},
   "outputs": [
    {
     "data": {
      "text/plain": [
       "array([[[[ 0,  9, 18],\n",
       "         [ 3, 12, 21],\n",
       "         [ 6, 15, 24]],\n",
       "\n",
       "        [[ 1, 10, 19],\n",
       "         [ 4, 13, 22],\n",
       "         [ 7, 16, 25]],\n",
       "\n",
       "        [[ 2, 11, 20],\n",
       "         [ 5, 14, 23],\n",
       "         [ 8, 17, 26]]]])"
      ]
     },
     "execution_count": 27,
     "metadata": {},
     "output_type": "execute_result"
    }
   ],
   "source": [
    "np.swapaxes(a, 1, 3)"
   ]
  },
  {
   "cell_type": "code",
   "execution_count": 28,
   "id": "271ab01a",
   "metadata": {},
   "outputs": [],
   "source": [
    "image = tf.constant([[\n",
    "    [[1,0,1],[1,1,1],[1,1,1],[0,0,1],[0,1,0]],\n",
    "    [[0,0,1],[1,1,1],[1,1,1],[1,1,1],[0,0,0]],\n",
    "    [[0,0,0],[0,0,0],[1,1,0],[1,1,1],[1,0,1]],\n",
    "    [[0,0,0],[0,0,1],[1,1,1],[1,1,1],[0,1,0]],\n",
    "    [[0,1,0],[1,1,1],[1,1,1],[0,0,0],[0,0,0]]\n",
    "]], dtype=np.float32)"
   ]
  },
  {
   "cell_type": "code",
   "execution_count": 29,
   "id": "ce0c2252",
   "metadata": {},
   "outputs": [
    {
     "name": "stdout",
     "output_type": "stream",
     "text": [
      "[[1. 1. 1. 0. 0.]\n",
      " [0. 1. 1. 1. 0.]\n",
      " [0. 0. 1. 1. 1.]\n",
      " [0. 0. 1. 1. 0.]\n",
      " [0. 1. 1. 0. 0.]]\n",
      "[[0. 1. 1. 0. 1.]\n",
      " [0. 1. 1. 1. 0.]\n",
      " [0. 0. 1. 1. 0.]\n",
      " [0. 0. 1. 1. 1.]\n",
      " [1. 1. 1. 0. 0.]]\n",
      "[[1. 1. 1. 1. 0.]\n",
      " [1. 1. 1. 1. 0.]\n",
      " [0. 0. 0. 1. 1.]\n",
      " [0. 1. 1. 1. 0.]\n",
      " [0. 1. 1. 0. 0.]]\n"
     ]
    }
   ],
   "source": [
    "image = tf.constant([[\n",
    "    [[1,0,1],[1,1,1],[1,1,1],[0,0,1],[0,1,0]],\n",
    "    [[0,0,1],[1,1,1],[1,1,1],[1,1,1],[0,0,0]],\n",
    "    [[0,0,0],[0,0,0],[1,1,0],[1,1,1],[1,0,1]],\n",
    "    [[0,0,0],[0,0,1],[1,1,1],[1,1,1],[0,1,0]],\n",
    "    [[0,1,0],[1,1,1],[1,1,1],[0,0,0],[0,0,0]]\n",
    "]], dtype=np.float32)\n",
    "maps = np.swapaxes(image, 0, 3)\n",
    "for i, map in enumerate(maps):\n",
    "    print(map.reshape(5,5))"
   ]
  },
  {
   "cell_type": "code",
   "execution_count": 31,
   "id": "18b7836e",
   "metadata": {},
   "outputs": [
    {
     "name": "stdout",
     "output_type": "stream",
     "text": [
      "[[1 0 1]\n",
      " [0 1 0]\n",
      " [1 0 1]]\n",
      "[[ 0 -1  0]\n",
      " [-1  1 -1]\n",
      " [ 1 -1  0]]\n",
      "[[-1  0  0]\n",
      " [ 0  1  0]\n",
      " [ 0  0 -1]]\n"
     ]
    }
   ],
   "source": [
    "weight = np.array([\n",
    "    [\n",
    "        [[1],[0],[-1]],\n",
    "         [[0],[-1],[0]],\n",
    "         [[1],[0],[0]]],\n",
    "        [[[0],[-1],[0]],\n",
    "         [[1],[1],[1]],\n",
    "         [[0],[-1],[0]]],\n",
    "        [[[1],[1],[0]],\n",
    "         [[0],[-1],[0]],\n",
    "         [[1],[0],[-1]]\n",
    "    ]\n",
    "])\n",
    "maps = np.swapaxes(weight, 1, 2)\n",
    "maps = np.swapaxes(maps, 0, 1)\n",
    "for i, map in enumerate(maps):\n",
    "    print(map.reshape(3,3))"
   ]
  },
  {
   "cell_type": "code",
   "execution_count": 32,
   "id": "5cb5a00d",
   "metadata": {},
   "outputs": [
    {
     "name": "stdout",
     "output_type": "stream",
     "text": [
      "conv2d.shape (1, 3, 3, 1)\n",
      "[[ 3. -1.  3.]\n",
      " [-2.  0.  2.]\n",
      " [ 1.  3.  4.]]\n"
     ]
    }
   ],
   "source": [
    "weight_init = tf.constant_initializer(weight)\n",
    "conv2d = tf.keras.layers.Conv2D(filters=1, kernel_size=3, padding='valid', kernel_initializer=weight_init)(image)\n",
    "print(\"conv2d.shape\", conv2d.shape)\n",
    "feature_maps = np.swapaxes(conv2d, 0, 3)\n",
    "for i, feature_map in enumerate(feature_maps):\n",
    "    print(feature_map.reshape(3,3))"
   ]
  },
  {
   "cell_type": "code",
   "execution_count": 36,
   "id": "843bfd75",
   "metadata": {},
   "outputs": [
    {
     "name": "stdout",
     "output_type": "stream",
     "text": [
      "[[1 0 1]\n",
      " [0 1 0]\n",
      " [1 0 1]]\n",
      "[[1 0 1]\n",
      " [0 1 0]\n",
      " [1 0 1]]\n",
      "[[ 0 -1  0]\n",
      " [-1  1 -1]\n",
      " [ 1 -1  0]]\n",
      "[[1 0 1]\n",
      " [0 1 0]\n",
      " [1 0 1]]\n",
      "[[-1  0  0]\n",
      " [ 0  1  0]\n",
      " [ 0  0 -1]]\n",
      "[[-1  0  0]\n",
      " [ 0  1  0]\n",
      " [ 0  0 -1]]\n"
     ]
    }
   ],
   "source": [
    "weight = np.array([\n",
    "    [\n",
    "        [[1,1],[0,1],[-1,-1]],\n",
    "         [[0,0],[-1,0],[0,0]],\n",
    "         [[1,1],[0,1],[0,0]]],\n",
    "        [[[0,0],[-1,0],[0,0]],\n",
    "         [[1,1],[1,1],[1,1]],\n",
    "         [[0,0],[-1,0],[0,0]]],\n",
    "        [[[1,1],[1,1],[0,0]],\n",
    "         [[0,0],[-1,0],[0,0]],\n",
    "         [[1,1],[0,1],[-1,-1]]\n",
    "    ]\n",
    "])\n",
    "maps = np.swapaxes(weight, 1, 2)\n",
    "maps = np.swapaxes(maps, 0, 1)\n",
    "for map in maps:\n",
    "    map = np.swapaxes(map, 1, 2)\n",
    "    map = np.swapaxes(map, 0, 1)\n",
    "    for filter in map:\n",
    "        print(filter)"
   ]
  },
  {
   "cell_type": "code",
   "execution_count": null,
   "id": "f974c045",
   "metadata": {},
   "outputs": [],
   "source": []
  }
 ],
 "metadata": {
  "kernelspec": {
   "display_name": "Python 3",
   "language": "python",
   "name": "python3"
  },
  "language_info": {
   "codemirror_mode": {
    "name": "ipython",
    "version": 3
   },
   "file_extension": ".py",
   "mimetype": "text/x-python",
   "name": "python",
   "nbconvert_exporter": "python",
   "pygments_lexer": "ipython3",
   "version": "3.8.8"
  }
 },
 "nbformat": 4,
 "nbformat_minor": 5
}
