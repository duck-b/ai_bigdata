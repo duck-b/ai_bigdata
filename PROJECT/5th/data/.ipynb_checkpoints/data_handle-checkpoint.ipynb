{
 "cells": [
  {
   "cell_type": "code",
   "execution_count": 2,
   "id": "11d07950",
   "metadata": {},
   "outputs": [],
   "source": [
    "import pandas as pd"
   ]
  },
  {
   "cell_type": "code",
   "execution_count": 19,
   "id": "7e7b15e0",
   "metadata": {},
   "outputs": [],
   "source": [
    "comment = pd.read_csv('./m_coment.csv', encoding='CP949')"
   ]
  },
  {
   "cell_type": "code",
   "execution_count": 20,
   "id": "a360b6d2",
   "metadata": {},
   "outputs": [
    {
     "data": {
      "text/html": [
       "<div>\n",
       "<style scoped>\n",
       "    .dataframe tbody tr th:only-of-type {\n",
       "        vertical-align: middle;\n",
       "    }\n",
       "\n",
       "    .dataframe tbody tr th {\n",
       "        vertical-align: top;\n",
       "    }\n",
       "\n",
       "    .dataframe thead th {\n",
       "        text-align: right;\n",
       "    }\n",
       "</style>\n",
       "<table border=\"1\" class=\"dataframe\">\n",
       "  <thead>\n",
       "    <tr style=\"text-align: right;\">\n",
       "      <th></th>\n",
       "      <th>id</th>\n",
       "      <th>title</th>\n",
       "      <th>user_id</th>\n",
       "      <th>user_name</th>\n",
       "      <th>reple_score</th>\n",
       "      <th>text</th>\n",
       "    </tr>\n",
       "  </thead>\n",
       "  <tbody>\n",
       "    <tr>\n",
       "      <th>0</th>\n",
       "      <td>213746</td>\n",
       "      <td>장민호 드라마 최종회</td>\n",
       "      <td>17923077</td>\n",
       "      <td>은하수(kys6****)</td>\n",
       "      <td>10</td>\n",
       "      <td>콘서트에서 느낀 감정과 또 다르게 감동적이었습니다 외모 연기 가창력짙은 호소력 어느...</td>\n",
       "    </tr>\n",
       "    <tr>\n",
       "      <th>1</th>\n",
       "      <td>213746</td>\n",
       "      <td>장민호 드라마 최종회</td>\n",
       "      <td>17923103</td>\n",
       "      <td>09s(09st****)</td>\n",
       "      <td>10</td>\n",
       "      <td>멋진 외모에 안구정화, 감성 깊은 노래에 귀정화최고의 감동이예요^^</td>\n",
       "    </tr>\n",
       "    <tr>\n",
       "      <th>2</th>\n",
       "      <td>213746</td>\n",
       "      <td>장민호 드라마 최종회</td>\n",
       "      <td>17923073</td>\n",
       "      <td>폴에버리치(opch****)</td>\n",
       "      <td>10</td>\n",
       "      <td>노래할 때 세밀한 표정 가 볼 수 있어 너무 좋았어요 여기 최고의 가수</td>\n",
       "    </tr>\n",
       "    <tr>\n",
       "      <th>3</th>\n",
       "      <td>213746</td>\n",
       "      <td>장민호 드라마 최종회</td>\n",
       "      <td>17923060</td>\n",
       "      <td>라나(8794****)</td>\n",
       "      <td>10</td>\n",
       "      <td>재미와 감동이있습니다</td>\n",
       "    </tr>\n",
       "    <tr>\n",
       "      <th>4</th>\n",
       "      <td>213746</td>\n",
       "      <td>장민호 드라마 최종회</td>\n",
       "      <td>17923054</td>\n",
       "      <td>현서(jizw****)</td>\n",
       "      <td>10</td>\n",
       "      <td>너무 재밌었어요!! 제가 아는 노래가 많이 나와서 엄청 좋았어요!! 엄마한테 겨우 ...</td>\n",
       "    </tr>\n",
       "  </tbody>\n",
       "</table>\n",
       "</div>"
      ],
      "text/plain": [
       "       id        title   user_id        user_name  reple_score  \\\n",
       "0  213746  장민호 드라마 최종회  17923077    은하수(kys6****)           10   \n",
       "1  213746  장민호 드라마 최종회  17923103    09s(09st****)           10   \n",
       "2  213746  장민호 드라마 최종회  17923073  폴에버리치(opch****)           10   \n",
       "3  213746  장민호 드라마 최종회  17923060     라나(8794****)           10   \n",
       "4  213746  장민호 드라마 최종회  17923054     현서(jizw****)           10   \n",
       "\n",
       "                                                text  \n",
       "0  콘서트에서 느낀 감정과 또 다르게 감동적이었습니다 외모 연기 가창력짙은 호소력 어느...  \n",
       "1              멋진 외모에 안구정화, 감성 깊은 노래에 귀정화최고의 감동이예요^^  \n",
       "2            노래할 때 세밀한 표정 가 볼 수 있어 너무 좋았어요 여기 최고의 가수  \n",
       "3                                        재미와 감동이있습니다  \n",
       "4  너무 재밌었어요!! 제가 아는 노래가 많이 나와서 엄청 좋았어요!! 엄마한테 겨우 ...  "
      ]
     },
     "execution_count": 20,
     "metadata": {},
     "output_type": "execute_result"
    }
   ],
   "source": [
    "comment.head()"
   ]
  },
  {
   "cell_type": "code",
   "execution_count": 63,
   "id": "9bcfc988",
   "metadata": {},
   "outputs": [],
   "source": [
    "comment['user_id'] = comment['user_id'].str.replace(',','')"
   ]
  },
  {
   "cell_type": "code",
   "execution_count": 64,
   "id": "ba9c49ab",
   "metadata": {},
   "outputs": [],
   "source": [
    "comment['text'] = comment['text'].str.replace(',','')"
   ]
  },
  {
   "cell_type": "code",
   "execution_count": 69,
   "id": "0a62a1b6",
   "metadata": {},
   "outputs": [],
   "source": [
    "comment.rename(columns={'id': 'movie_id',\n",
    "                        'user_id': 'comment_userId',\n",
    "                        'user_name': 'comment_userName',\n",
    "                        'reple_score': 'comment_point',\n",
    "                        'text': 'comment_contents'}, inplace=True)"
   ]
  },
  {
   "cell_type": "code",
   "execution_count": null,
   "id": "6a3066aa",
   "metadata": {},
   "outputs": [],
   "source": []
  }
 ],
 "metadata": {
  "kernelspec": {
   "display_name": "Python 3",
   "language": "python",
   "name": "python3"
  },
  "language_info": {
   "codemirror_mode": {
    "name": "ipython",
    "version": 3
   },
   "file_extension": ".py",
   "mimetype": "text/x-python",
   "name": "python",
   "nbconvert_exporter": "python",
   "pygments_lexer": "ipython3",
   "version": "3.8.8"
  }
 },
 "nbformat": 4,
 "nbformat_minor": 5
}
