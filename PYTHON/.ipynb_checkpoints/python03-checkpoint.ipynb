{
 "cells": [
  {
   "cell_type": "code",
   "execution_count": 4,
   "id": "9363ee8d",
   "metadata": {},
   "outputs": [],
   "source": [
    "class Person:\n",
    "    def greeting(self):\n",
    "        print('Hello')"
   ]
  },
  {
   "cell_type": "code",
   "execution_count": 5,
   "id": "25a26e19",
   "metadata": {},
   "outputs": [],
   "source": [
    "james = Person()"
   ]
  },
  {
   "cell_type": "code",
   "execution_count": 9,
   "id": "c93dfc17",
   "metadata": {},
   "outputs": [
    {
     "data": {
      "text/plain": [
       "<__main__.Person at 0x7fdbe829c2b0>"
      ]
     },
     "execution_count": 9,
     "metadata": {},
     "output_type": "execute_result"
    }
   ],
   "source": [
    "james"
   ]
  },
  {
   "cell_type": "code",
   "execution_count": 10,
   "id": "b272d44f",
   "metadata": {},
   "outputs": [
    {
     "name": "stdout",
     "output_type": "stream",
     "text": [
      "Hello\n"
     ]
    }
   ],
   "source": [
    "james.greeting()"
   ]
  },
  {
   "cell_type": "code",
   "execution_count": 11,
   "id": "f9fb760f",
   "metadata": {},
   "outputs": [],
   "source": [
    "james.test = 'test'"
   ]
  },
  {
   "cell_type": "code",
   "execution_count": 13,
   "id": "da1f32c9",
   "metadata": {},
   "outputs": [
    {
     "data": {
      "text/plain": [
       "{'test': 'test'}"
      ]
     },
     "execution_count": 13,
     "metadata": {},
     "output_type": "execute_result"
    }
   ],
   "source": [
    "james.__dict__"
   ]
  },
  {
   "cell_type": "code",
   "execution_count": 15,
   "id": "cfeda617",
   "metadata": {},
   "outputs": [
    {
     "name": "stdout",
     "output_type": "stream",
     "text": [
      "Hello\n",
      "global test\n"
     ]
    }
   ],
   "source": [
    "class Person:\n",
    "    def greeting(self):\n",
    "        print('Hello')\n",
    "    def hello(self):\n",
    "        self.greeting()\n",
    "        \n",
    "def test():\n",
    "    print('global test')\n",
    "    \n",
    "james = Person()\n",
    "james.hello()\n",
    "james.hello = test\n",
    "james.hello()"
   ]
  },
  {
   "cell_type": "code",
   "execution_count": 19,
   "id": "979baf99",
   "metadata": {},
   "outputs": [
    {
     "data": {
      "text/plain": [
       "mappingproxy({'__module__': '__main__',\n",
       "              'greeting': <function __main__.Person.greeting(self)>,\n",
       "              'hello': <function __main__.Person.hello(self)>,\n",
       "              '__dict__': <attribute '__dict__' of 'Person' objects>,\n",
       "              '__weakref__': <attribute '__weakref__' of 'Person' objects>,\n",
       "              '__doc__': None})"
      ]
     },
     "execution_count": 19,
     "metadata": {},
     "output_type": "execute_result"
    }
   ],
   "source": [
    "Person.__dict__"
   ]
  },
  {
   "cell_type": "code",
   "execution_count": 25,
   "id": "1b2d89d0",
   "metadata": {},
   "outputs": [
    {
     "name": "stdout",
     "output_type": "stream",
     "text": [
      "안녕하세요\n"
     ]
    }
   ],
   "source": [
    "class Person:\n",
    "    def __init__(self):\n",
    "        self.hello = '안녕하세요'\n",
    "    def greeting(self):\n",
    "        print(self.hello)\n",
    "        \n",
    "a = Person()\n",
    "a.greeting()"
   ]
  },
  {
   "cell_type": "code",
   "execution_count": 29,
   "id": "4562982c",
   "metadata": {},
   "outputs": [],
   "source": [
    "class Person:\n",
    "    def __init__(self, name, age, address):\n",
    "        self.name = name\n",
    "        self.age = age\n",
    "        self.address = address\n",
    "    def info(self):\n",
    "        print('{0}, {1}, {2}'.format(self.name, self.age, self.address))\n",
    "\n",
    "maria = Person('마리아', 20, '서울시 서초구 반포동')"
   ]
  },
  {
   "cell_type": "code",
   "execution_count": 30,
   "id": "b5ff9caa",
   "metadata": {},
   "outputs": [
    {
     "name": "stdout",
     "output_type": "stream",
     "text": [
      "마리아, 20, 서울시 서초구 반포동\n"
     ]
    }
   ],
   "source": [
    "maria.info()"
   ]
  },
  {
   "cell_type": "code",
   "execution_count": 32,
   "id": "60115eda",
   "metadata": {},
   "outputs": [],
   "source": [
    "class Person:\n",
    "    def __init__(self, *args):\n",
    "        self.name = args[0]\n",
    "        self.age = args[1]\n",
    "        self.address = args[2]\n",
    "\n",
    "maria = Person(*['마리아', 20, '서울시 서초구 반포동'])"
   ]
  },
  {
   "cell_type": "code",
   "execution_count": 36,
   "id": "e980eb30",
   "metadata": {},
   "outputs": [],
   "source": [
    "class Person:\n",
    "    def __init__(self, **kwargs):\n",
    "        self.name = kwargs['name']\n",
    "        self.age = kwargs['age']\n",
    "        self.address = kwargs['address']\n",
    "\n",
    "maria = Person(**{'name': '마리아', 'age': 20, 'address': '서울시 서초구 반포동'})"
   ]
  },
  {
   "cell_type": "code",
   "execution_count": 40,
   "id": "0802154d",
   "metadata": {},
   "outputs": [
    {
     "data": {
      "text/plain": [
       "('마리아', 30)"
      ]
     },
     "execution_count": 40,
     "metadata": {},
     "output_type": "execute_result"
    }
   ],
   "source": [
    "class Person:\n",
    "    __slots__ = ['name', 'age']\n",
    "    pass\n",
    "\n",
    "\n",
    "maria = Person()\n",
    "maria.name = '마리아'\n",
    "maria.age = 30\n",
    "maria.name, maria.age"
   ]
  },
  {
   "cell_type": "code",
   "execution_count": 41,
   "id": "cb90879e",
   "metadata": {},
   "outputs": [
    {
     "ename": "AttributeError",
     "evalue": "'Person' object has no attribute 'address'",
     "output_type": "error",
     "traceback": [
      "\u001b[0;31m---------------------------------------------------------------------------\u001b[0m",
      "\u001b[0;31mAttributeError\u001b[0m                            Traceback (most recent call last)",
      "\u001b[0;32m<ipython-input-41-f6348d034f1d>\u001b[0m in \u001b[0;36m<module>\u001b[0;34m\u001b[0m\n\u001b[0;32m----> 1\u001b[0;31m \u001b[0mmaria\u001b[0m\u001b[0;34m.\u001b[0m\u001b[0maddress\u001b[0m \u001b[0;34m=\u001b[0m \u001b[0;34m'서울시'\u001b[0m\u001b[0;34m\u001b[0m\u001b[0;34m\u001b[0m\u001b[0m\n\u001b[0m",
      "\u001b[0;31mAttributeError\u001b[0m: 'Person' object has no attribute 'address'"
     ]
    }
   ],
   "source": [
    "maria.address = '서울시'"
   ]
  },
  {
   "cell_type": "code",
   "execution_count": 48,
   "id": "a3f08109",
   "metadata": {},
   "outputs": [
    {
     "data": {
      "text/plain": [
       "'마리아'"
      ]
     },
     "execution_count": 48,
     "metadata": {},
     "output_type": "execute_result"
    }
   ],
   "source": [
    "class Person:\n",
    "    def __init__(self, name, age, address, wallet):\n",
    "        self.hello = '안녕하세요'\n",
    "        self.name = name\n",
    "        self.age = age\n",
    "        self.address = address\n",
    "        self.__wallet = wallet\n",
    "        \n",
    "    def pay(self, amount):\n",
    "        self.__wallet -= amount\n",
    "        print('이제 {0}원 남았네요.'.format(self.__wallet))\n",
    "        \n",
    "maria = Person('마리아', 20, '서울시', 10000)\n",
    "maria.name"
   ]
  },
  {
   "cell_type": "code",
   "execution_count": 49,
   "id": "b3b875b3",
   "metadata": {},
   "outputs": [
    {
     "ename": "AttributeError",
     "evalue": "'Person' object has no attribute '__wallet'",
     "output_type": "error",
     "traceback": [
      "\u001b[0;31m---------------------------------------------------------------------------\u001b[0m",
      "\u001b[0;31mAttributeError\u001b[0m                            Traceback (most recent call last)",
      "\u001b[0;32m<ipython-input-49-6b6e500fdd58>\u001b[0m in \u001b[0;36m<module>\u001b[0;34m\u001b[0m\n\u001b[0;32m----> 1\u001b[0;31m \u001b[0mmaria\u001b[0m\u001b[0;34m.\u001b[0m\u001b[0m__wallet\u001b[0m \u001b[0;34m-=\u001b[0m \u001b[0;36m3000\u001b[0m\u001b[0;34m\u001b[0m\u001b[0;34m\u001b[0m\u001b[0m\n\u001b[0m",
      "\u001b[0;31mAttributeError\u001b[0m: 'Person' object has no attribute '__wallet'"
     ]
    }
   ],
   "source": [
    "maria.__wallet -= 3000"
   ]
  },
  {
   "cell_type": "code",
   "execution_count": 50,
   "id": "243529e9",
   "metadata": {},
   "outputs": [
    {
     "name": "stdout",
     "output_type": "stream",
     "text": [
      "이제 7000원 남았네요.\n"
     ]
    }
   ],
   "source": [
    "maria.pay(3000)"
   ]
  },
  {
   "cell_type": "code",
   "execution_count": 51,
   "id": "a3c97af8",
   "metadata": {},
   "outputs": [],
   "source": [
    "class Person:\n",
    "    bag = []\n",
    "    \n",
    "    def put_bag(self, stuff):\n",
    "        self.bag.append(stuff)\n",
    "        \n",
    "james = Person()"
   ]
  },
  {
   "cell_type": "code",
   "execution_count": 53,
   "id": "fb3c0cfb",
   "metadata": {},
   "outputs": [],
   "source": [
    "james.put_bag('책')"
   ]
  },
  {
   "cell_type": "code",
   "execution_count": 56,
   "id": "f8ad9e7b",
   "metadata": {},
   "outputs": [
    {
     "data": {
      "text/plain": [
       "['책']"
      ]
     },
     "execution_count": 56,
     "metadata": {},
     "output_type": "execute_result"
    }
   ],
   "source": [
    "james.bag"
   ]
  },
  {
   "cell_type": "code",
   "execution_count": 57,
   "id": "eee1630a",
   "metadata": {},
   "outputs": [
    {
     "data": {
      "text/plain": [
       "['책', '열쇠']"
      ]
     },
     "execution_count": 57,
     "metadata": {},
     "output_type": "execute_result"
    }
   ],
   "source": [
    "maria = Person()\n",
    "maria.put_bag('열쇠')\n",
    "maria.bag"
   ]
  },
  {
   "cell_type": "code",
   "execution_count": 58,
   "id": "92222775",
   "metadata": {},
   "outputs": [
    {
     "name": "stdout",
     "output_type": "stream",
     "text": [
      "10\n"
     ]
    }
   ],
   "source": [
    "class Knight:\n",
    "    __item_limit = 10\n",
    "    \n",
    "    def print_item_limit(self):\n",
    "        print(Knight.__item_limit)\n",
    "        \n",
    "x = Knight()\n",
    "x.print_item_limit()"
   ]
  },
  {
   "cell_type": "code",
   "execution_count": 60,
   "id": "4f026649",
   "metadata": {},
   "outputs": [
    {
     "ename": "AttributeError",
     "evalue": "type object 'Knight' has no attribute '__item_limit'",
     "output_type": "error",
     "traceback": [
      "\u001b[0;31m---------------------------------------------------------------------------\u001b[0m",
      "\u001b[0;31mAttributeError\u001b[0m                            Traceback (most recent call last)",
      "\u001b[0;32m<ipython-input-60-86b37496d773>\u001b[0m in \u001b[0;36m<module>\u001b[0;34m\u001b[0m\n\u001b[0;32m----> 1\u001b[0;31m \u001b[0mprint\u001b[0m\u001b[0;34m(\u001b[0m\u001b[0mKnight\u001b[0m\u001b[0;34m.\u001b[0m\u001b[0m__item_limit\u001b[0m\u001b[0;34m)\u001b[0m\u001b[0;34m\u001b[0m\u001b[0;34m\u001b[0m\u001b[0m\n\u001b[0m",
      "\u001b[0;31mAttributeError\u001b[0m: type object 'Knight' has no attribute '__item_limit'"
     ]
    }
   ],
   "source": [
    "print(Knight.__item_limit)"
   ]
  },
  {
   "cell_type": "code",
   "execution_count": 63,
   "id": "f58a2e47",
   "metadata": {},
   "outputs": [
    {
     "name": "stdout",
     "output_type": "stream",
     "text": [
      "30\n"
     ]
    }
   ],
   "source": [
    "class Clac:\n",
    "    @staticmethod\n",
    "    def add(a, b):\n",
    "        print(a + b)\n",
    "    \n",
    "    @staticmethod\n",
    "    def mul(a, b):\n",
    "        print(a * b)\n",
    "        \n",
    "Clac.add(10, 20)"
   ]
  },
  {
   "cell_type": "code",
   "execution_count": 65,
   "id": "4d6c7dc4",
   "metadata": {},
   "outputs": [
    {
     "data": {
      "text/plain": [
       "{1, 2, 3, 4, 5}"
      ]
     },
     "execution_count": 65,
     "metadata": {},
     "output_type": "execute_result"
    }
   ],
   "source": [
    "a = {1, 2, 3, 4}\n",
    "a.update({5})\n",
    "a"
   ]
  },
  {
   "cell_type": "code",
   "execution_count": 66,
   "id": "9d1b3402",
   "metadata": {},
   "outputs": [
    {
     "data": {
      "text/plain": [
       "{1, 2, 3, 4}"
      ]
     },
     "execution_count": 66,
     "metadata": {},
     "output_type": "execute_result"
    }
   ],
   "source": [
    "a = set([1, 2, 3, 4])\n",
    "a"
   ]
  },
  {
   "cell_type": "code",
   "execution_count": 67,
   "id": "11c46c69",
   "metadata": {},
   "outputs": [
    {
     "data": {
      "text/plain": [
       "{1, 2, 3, 4, 5}"
      ]
     },
     "execution_count": 67,
     "metadata": {},
     "output_type": "execute_result"
    }
   ],
   "source": [
    "set.union({1, 2, 3, 4}, {5})"
   ]
  },
  {
   "cell_type": "code",
   "execution_count": 68,
   "id": "c8d57ba3",
   "metadata": {},
   "outputs": [],
   "source": [
    "class Person:\n",
    "    count = 0\n",
    "    \n",
    "    def __init__(self):\n",
    "        Person.count += 1\n",
    "        \n",
    "    @classmethod\n",
    "    def print_count(cls):\n",
    "        print('{0}명 생성'.format(cls.count))\n",
    "        \n",
    "jaems = Person()\n",
    "maria = Person()"
   ]
  },
  {
   "cell_type": "code",
   "execution_count": 69,
   "id": "990f3c7d",
   "metadata": {},
   "outputs": [
    {
     "name": "stdout",
     "output_type": "stream",
     "text": [
      "2명 생성\n"
     ]
    }
   ],
   "source": [
    "Person.print_count()"
   ]
  },
  {
   "cell_type": "code",
   "execution_count": 3,
   "id": "0af3d29a",
   "metadata": {},
   "outputs": [],
   "source": [
    "class Person:\n",
    "    def greeting(self):\n",
    "        print('안녕하세요')\n",
    "        \n",
    "class Student(Person):\n",
    "    def study(self):\n",
    "        print('공부하기')\n",
    "        "
   ]
  },
  {
   "cell_type": "code",
   "execution_count": 4,
   "id": "1d79b435",
   "metadata": {},
   "outputs": [
    {
     "name": "stdout",
     "output_type": "stream",
     "text": [
      "공부하기\n"
     ]
    }
   ],
   "source": [
    "james = Student()\n",
    "james.study()"
   ]
  },
  {
   "cell_type": "code",
   "execution_count": 5,
   "id": "fa9fbb3e",
   "metadata": {},
   "outputs": [
    {
     "name": "stdout",
     "output_type": "stream",
     "text": [
      "안녕하세요\n"
     ]
    }
   ],
   "source": [
    "james.greeting()"
   ]
  },
  {
   "cell_type": "code",
   "execution_count": 33,
   "id": "da221721",
   "metadata": {},
   "outputs": [],
   "source": [
    "class Person:\n",
    "    def __init__(self, name):\n",
    "        self.name = name\n",
    "    def greeting(self):\n",
    "        print('안녕하세요')\n",
    "    def print_name(self):\n",
    "        print('{0} 입니다.'.format(self.name))\n",
    "        \n",
    "class PersonList:\n",
    "    def __init__(self):\n",
    "        self.person_list = []\n",
    "    def append_person(self, person):\n",
    "        self.person_list.append(person)\n",
    "    def print_person_list(self):\n",
    "        for i in self.person_list:\n",
    "            print(i.name)\n",
    "        \n",
    "a = Person('철수')\n",
    "b = Person('영희')\n",
    "c = Person('민수')"
   ]
  },
  {
   "cell_type": "code",
   "execution_count": 34,
   "id": "dc4fcefc",
   "metadata": {},
   "outputs": [],
   "source": [
    "L = PersonList()\n",
    "L.append_person(a)\n",
    "L.append_person(b)\n",
    "L.append_person(c)"
   ]
  },
  {
   "cell_type": "code",
   "execution_count": 35,
   "id": "f1fa9fec",
   "metadata": {},
   "outputs": [
    {
     "name": "stdout",
     "output_type": "stream",
     "text": [
      "민수 입니다.\n"
     ]
    }
   ],
   "source": [
    "c.print_name()"
   ]
  },
  {
   "cell_type": "code",
   "execution_count": 36,
   "id": "1d94c272",
   "metadata": {},
   "outputs": [
    {
     "name": "stdout",
     "output_type": "stream",
     "text": [
      "철수\n",
      "영희\n",
      "민수\n"
     ]
    }
   ],
   "source": [
    "L.print_person_list()"
   ]
  },
  {
   "cell_type": "code",
   "execution_count": 38,
   "id": "1162e594",
   "metadata": {},
   "outputs": [
    {
     "name": "stdout",
     "output_type": "stream",
     "text": [
      "Student __init__\n"
     ]
    },
    {
     "ename": "AttributeError",
     "evalue": "'Student' object has no attribute 'hello'",
     "output_type": "error",
     "traceback": [
      "\u001b[0;31m---------------------------------------------------------------------------\u001b[0m",
      "\u001b[0;31mAttributeError\u001b[0m                            Traceback (most recent call last)",
      "\u001b[0;32m<ipython-input-38-f3628d97a1ab>\u001b[0m in \u001b[0;36m<module>\u001b[0;34m\u001b[0m\n\u001b[1;32m     12\u001b[0m \u001b[0;34m\u001b[0m\u001b[0m\n\u001b[1;32m     13\u001b[0m \u001b[0ms1\u001b[0m \u001b[0;34m=\u001b[0m \u001b[0mStudent\u001b[0m\u001b[0;34m(\u001b[0m\u001b[0;34m)\u001b[0m\u001b[0;34m\u001b[0m\u001b[0;34m\u001b[0m\u001b[0m\n\u001b[0;32m---> 14\u001b[0;31m \u001b[0ms1\u001b[0m\u001b[0;34m.\u001b[0m\u001b[0mhello\u001b[0m\u001b[0;34m\u001b[0m\u001b[0;34m\u001b[0m\u001b[0m\n\u001b[0m",
      "\u001b[0;31mAttributeError\u001b[0m: 'Student' object has no attribute 'hello'"
     ]
    }
   ],
   "source": [
    "class Person:\n",
    "    def __init__(self):\n",
    "        print('Person __init__')\n",
    "        self.hello = '안녕하세요'\n",
    "        \n",
    "class Student(Person):\n",
    "    def __init__(self):\n",
    "        print('Student __init__')\n",
    "        self.school = '파이썬 코딩 도장'\n",
    "    def study():\n",
    "        print('공부 합니다.')\n",
    "        \n",
    "s1 = Student()\n",
    "s1.hello"
   ]
  },
  {
   "cell_type": "code",
   "execution_count": 39,
   "id": "235c8978",
   "metadata": {},
   "outputs": [
    {
     "name": "stdout",
     "output_type": "stream",
     "text": [
      "Student __init__\n",
      "Person __init__\n"
     ]
    },
    {
     "data": {
      "text/plain": [
       "'안녕하세요'"
      ]
     },
     "execution_count": 39,
     "metadata": {},
     "output_type": "execute_result"
    }
   ],
   "source": [
    "class Person:\n",
    "    def __init__(self):\n",
    "        print('Person __init__')\n",
    "        self.hello = '안녕하세요'\n",
    "        \n",
    "class Student(Person):\n",
    "    def __init__(self):\n",
    "        print('Student __init__')\n",
    "        super().__init__()\n",
    "        self.school = '파이썬 코딩 도장'\n",
    "    def study():\n",
    "        print('공부 합니다.')\n",
    "        \n",
    "s1 = Student()\n",
    "s1.hello"
   ]
  },
  {
   "cell_type": "code",
   "execution_count": 40,
   "id": "4f9e4d07",
   "metadata": {},
   "outputs": [
    {
     "name": "stdout",
     "output_type": "stream",
     "text": [
      "안녕하세요. 저는 파이썬 코딩 도장 학생입니다.\n"
     ]
    }
   ],
   "source": [
    "class Person:\n",
    "    def greeting(self):\n",
    "        print('안녕하세요')\n",
    "        \n",
    "class Student(Person):\n",
    "    def greeting(self):\n",
    "        print('안녕하세요. 저는 파이썬 코딩 도장 학생입니다.')\n",
    "        \n",
    "james = Student()\n",
    "james.greeting()"
   ]
  },
  {
   "cell_type": "code",
   "execution_count": 44,
   "id": "0f5f98c9",
   "metadata": {},
   "outputs": [
    {
     "name": "stdout",
     "output_type": "stream",
     "text": [
      "안녕하세요\n",
      "안녕하세요. 저는 파이썬 코딩 도장 학생입니다.\n"
     ]
    }
   ],
   "source": [
    "class Person:\n",
    "    def greeting(self):\n",
    "        print('안녕하세요')\n",
    "    @classmethod\n",
    "    def func(cls):\n",
    "        print('class method func')\n",
    "    \n",
    "class Student(Person):\n",
    "    def greeting(self):\n",
    "        super().greeting()\n",
    "        print('안녕하세요. 저는 파이썬 코딩 도장 학생입니다.')\n",
    "        \n",
    "james = Student()\n",
    "james.greeting()"
   ]
  },
  {
   "cell_type": "code",
   "execution_count": 45,
   "id": "4f6f2d46",
   "metadata": {},
   "outputs": [
    {
     "name": "stdout",
     "output_type": "stream",
     "text": [
      "class method func\n"
     ]
    }
   ],
   "source": [
    "Person.func()"
   ]
  },
  {
   "cell_type": "code",
   "execution_count": 46,
   "id": "f602151e",
   "metadata": {},
   "outputs": [
    {
     "name": "stdout",
     "output_type": "stream",
     "text": [
      "class method func\n"
     ]
    }
   ],
   "source": [
    "p = Person()\n",
    "p.func()"
   ]
  },
  {
   "cell_type": "code",
   "execution_count": 47,
   "id": "e34f69d6",
   "metadata": {},
   "outputs": [
    {
     "name": "stdout",
     "output_type": "stream",
     "text": [
      "안녕하세요\n",
      "학점 관리\n",
      "공부 하기\n"
     ]
    }
   ],
   "source": [
    "class Person:\n",
    "    def greeting(self):\n",
    "        print('안녕하세요')\n",
    "        \n",
    "class University:\n",
    "    def manage_credit(self):\n",
    "        print('학점 관리')\n",
    "        \n",
    "class Undergraduate(Person, University):\n",
    "    def study(self):\n",
    "        print('공부 하기')\n",
    "        \n",
    "james = Undergraduate()\n",
    "james.greeting()\n",
    "james.manage_credit()\n",
    "james.study()"
   ]
  },
  {
   "cell_type": "code",
   "execution_count": 51,
   "id": "36bf85ad",
   "metadata": {},
   "outputs": [
    {
     "name": "stdout",
     "output_type": "stream",
     "text": [
      "안녕하세요 B입니다.\n"
     ]
    }
   ],
   "source": [
    "class A:\n",
    "    def greeting(self):\n",
    "        print('안녕하세요 A입니다.')\n",
    "        \n",
    "class B(A):\n",
    "    def greeting(self):\n",
    "        print('안녕하세요 B입니다.')\n",
    "        \n",
    "class C(A):\n",
    "    def greeting(self):\n",
    "        print('안녕하세요 C입니다.')\n",
    "        \n",
    "class D(B, C):\n",
    "    pass\n",
    "\n",
    "x = D()\n",
    "x.greeting()"
   ]
  },
  {
   "cell_type": "code",
   "execution_count": 52,
   "id": "5026befd",
   "metadata": {},
   "outputs": [
    {
     "data": {
      "text/plain": [
       "[__main__.D, __main__.B, __main__.C, __main__.A, object]"
      ]
     },
     "execution_count": 52,
     "metadata": {},
     "output_type": "execute_result"
    }
   ],
   "source": [
    "D.mro()"
   ]
  },
  {
   "cell_type": "code",
   "execution_count": 53,
   "id": "3f45826b",
   "metadata": {},
   "outputs": [],
   "source": [
    "from abc import *"
   ]
  },
  {
   "cell_type": "code",
   "execution_count": 63,
   "id": "e4ca6e6e",
   "metadata": {},
   "outputs": [
    {
     "name": "stdout",
     "output_type": "stream",
     "text": [
      "수학하기\n",
      "버스로\n",
      "산수하기\n",
      "걸어서\n",
      "놀기\n"
     ]
    }
   ],
   "source": [
    "class StudentBase(metaclass=ABCMeta):\n",
    "    @abstractmethod\n",
    "    def study(self):\n",
    "        pass\n",
    "    \n",
    "    @abstractmethod\n",
    "    def go_to_school(self):\n",
    "        pass\n",
    "    \n",
    "class MiddleStudent(StudentBase):\n",
    "    def study(self):\n",
    "        print('수학하기')\n",
    "        \n",
    "    def go_to_school(self):\n",
    "        print('버스로')\n",
    "\n",
    "class ElementStudent(StudentBase):\n",
    "    def study(self):\n",
    "        print('산수하기')\n",
    "        \n",
    "    def go_to_school(self):\n",
    "        print('걸어서')\n",
    "        \n",
    "        \n",
    "james = MiddleStudent()\n",
    "james.study()\n",
    "james.go_to_school()\n",
    "\n",
    "john = ElementStudent()\n",
    "john.study()\n",
    "john.go_to_school()\n"
   ]
  },
  {
   "cell_type": "code",
   "execution_count": 72,
   "id": "3f651909",
   "metadata": {},
   "outputs": [
    {
     "name": "stdout",
     "output_type": "stream",
     "text": [
      "p1: 30 20\n",
      "p2: 60 50\n",
      "x: 30, y: 20\n",
      "global def\n",
      "x: 30, y: 20\n",
      "classmethod\n",
      "x: 30, y: 20\n",
      "staticmethod\n",
      "x: 30, y: 20\n"
     ]
    }
   ],
   "source": [
    "class Point2D:\n",
    "    def __init__(self, x, y):\n",
    "        self.x = x\n",
    "        self.y = y\n",
    "    def print_val1(self):\n",
    "        print('x: {}, y: {}'.format(self.x, self.y))\n",
    "        \n",
    "        \n",
    "def print_val2(point):\n",
    "    print('global def')\n",
    "    print('x: {}, y: {}'.format(point.x, point.y))\n",
    "\n",
    "class PrintPoint:\n",
    "    @classmethod\n",
    "    def print_val3(cls, point):\n",
    "        print('classmethod')\n",
    "        print('x: {}, y: {}'.format(point.x, point.y))\n",
    "    \n",
    "    @staticmethod\n",
    "    def print_val4(point):\n",
    "        print('staticmethod')\n",
    "        print('x: {}, y: {}'.format(point.x, point.y))\n",
    "        \n",
    "p1 = Point2D(x=30, y=20)\n",
    "p2 = Point2D(x=60, y=50)\n",
    "\n",
    "print('p1: {} {}'.format(p1.x, p1.y))\n",
    "print('p2: {} {}'.format(p2.x, p2.y))\n",
    "\n",
    "p1.print_val1()\n",
    "print_val2(p1)\n",
    "PrintPoint.print_val3(p1)\n",
    "PrintPoint.print_val4(p1)"
   ]
  },
  {
   "cell_type": "code",
   "execution_count": 75,
   "id": "e9a8c00c",
   "metadata": {},
   "outputs": [
    {
     "name": "stdout",
     "output_type": "stream",
     "text": [
      "42.42640687119285\n",
      "42.42640687119285\n"
     ]
    }
   ],
   "source": [
    "import math\n",
    "\n",
    "class Point2D:\n",
    "    def __init__(self, x, y):\n",
    "        self.x = x\n",
    "        self.y = y\n",
    "    def distance(self, point):\n",
    "        self.a = point.x - self.x\n",
    "        self.b = point.y - self.y\n",
    "        print(math.sqrt(math.pow(self.a, 2)+math.pow(self.b,2)))\n",
    "        \n",
    "p1 = Point2D(x=30, y=20)\n",
    "p2 = Point2D(x=60, y=50)\n",
    "\n",
    "a = p2.x - p1.x\n",
    "b = p2.y - p1.y\n",
    "\n",
    "c = math.sqrt(math.pow(a, 2)+math.pow(b,2))\n",
    "print(c)\n",
    "\n",
    "p1.distance(p2)"
   ]
  },
  {
   "cell_type": "code",
   "execution_count": 76,
   "id": "e0883b00",
   "metadata": {},
   "outputs": [
    {
     "name": "stdout",
     "output_type": "stream",
     "text": [
      "42.42640687119285\n"
     ]
    }
   ],
   "source": [
    "def distance(p1, p2):\n",
    "    a = p2.x - p1.x\n",
    "    b = p2.y - p1.y\n",
    "    c = math.sqrt(math.pow(a, 2)+math.pow(b,2))\n",
    "    print(c)\n",
    "    \n",
    "distance(p1, p2)"
   ]
  },
  {
   "cell_type": "code",
   "execution_count": 77,
   "id": "bbcddf43",
   "metadata": {},
   "outputs": [],
   "source": [
    "def ten_div(x):\n",
    "    return 10 / x"
   ]
  },
  {
   "cell_type": "code",
   "execution_count": 82,
   "id": "b25d01d4",
   "metadata": {},
   "outputs": [
    {
     "name": "stdout",
     "output_type": "stream",
     "text": [
      "5\n",
      "2.0\n",
      "종료\n"
     ]
    }
   ],
   "source": [
    "try:\n",
    "    n = int(input())\n",
    "    x = ten_div(n)\n",
    "    print(x)\n",
    "except:\n",
    "    print('예외 발생')\n",
    "    \n",
    "print('종료')"
   ]
  },
  {
   "cell_type": "code",
   "execution_count": 84,
   "id": "724a695d",
   "metadata": {},
   "outputs": [
    {
     "name": "stdout",
     "output_type": "stream",
     "text": [
      "1\n",
      "10.0\n"
     ]
    }
   ],
   "source": [
    "try:\n",
    "    n = int(input())\n",
    "    x = ten_div(n)\n",
    "    print(x)\n",
    "except ZeroDivisionError:\n",
    "    print('숫자를 0으로 나눌 수 없습니다.')\n",
    "except IndexError:\n",
    "    print('잘못된 인덱스입니다.')    \n"
   ]
  },
  {
   "cell_type": "code",
   "execution_count": 88,
   "id": "dda275a2",
   "metadata": {},
   "outputs": [
    {
     "name": "stdout",
     "output_type": "stream",
     "text": [
      "인데스와 나눌 숫자를 입력하세요: 1, 2\n",
      "예외가 발생했습니다. invalid literal for int() with base 10: '1,'\n"
     ]
    }
   ],
   "source": [
    "y = [10, 20, 30]\n",
    "\n",
    "try:\n",
    "    index, x = map(int, input('인데스와 나눌 숫자를 입력하세요: ').split())\n",
    "    print(y[index]/x)\n",
    "except ZeroDivisionError as e:\n",
    "    print('숫자를 0으로 나눌 수 없습니다.', e)\n",
    "except IndexError as e:\n",
    "    print('잘못된 인덱스입니다.', e)\n",
    "except Exception as e:\n",
    "    print('예외가 발생했습니다.', e)"
   ]
  },
  {
   "cell_type": "code",
   "execution_count": 93,
   "id": "3ecfdacb",
   "metadata": {},
   "outputs": [
    {
     "name": "stdout",
     "output_type": "stream",
     "text": [
      "나눌 숫자를 입력하세요: 33\n",
      "0.30303030303030304\n",
      "종료\n"
     ]
    }
   ],
   "source": [
    "try:\n",
    "    x = int(input('나눌 숫자를 입력하세요: '))\n",
    "    y = 10 / x\n",
    "except ZeroDivisionError as e:\n",
    "    print('0으로 나눌 수 없어요', e)\n",
    "else:\n",
    "    print(y)\n",
    "finally:\n",
    "    print('종료')"
   ]
  },
  {
   "cell_type": "code",
   "execution_count": 95,
   "id": "f5ab0dc2",
   "metadata": {},
   "outputs": [
    {
     "name": "stdout",
     "output_type": "stream",
     "text": [
      "3의 배수를 입력하세요: 2\n",
      "예외가 발생했습니다. 3의 배수가 아닙니다.\n"
     ]
    }
   ],
   "source": [
    "try:\n",
    "    x = int(input('3의 배수를 입력하세요: '))\n",
    "    if x % 3 != 0:\n",
    "        raise Exception('3의 배수가 아닙니다.')\n",
    "    print(x)\n",
    "except Exception as e:\n",
    "    print('예외가 발생했습니다.', e)"
   ]
  },
  {
   "cell_type": "code",
   "execution_count": 98,
   "id": "1d1d09c4",
   "metadata": {},
   "outputs": [],
   "source": [
    "def three_multiple():\n",
    "    x = int(input('3의 배수를 입력하세요: '))\n",
    "    if x % 3 != 0:\n",
    "        raise Exception('3의 배수가 아닙니다.')\n",
    "    print(x)    "
   ]
  },
  {
   "cell_type": "code",
   "execution_count": 99,
   "id": "e9e55c8f",
   "metadata": {},
   "outputs": [
    {
     "name": "stdout",
     "output_type": "stream",
     "text": [
      "3의 배수를 입력하세요: 1\n",
      "예외가 발생했습니다. 3의 배수가 아닙니다.\n"
     ]
    }
   ],
   "source": [
    "try:\n",
    "    three_multiple()\n",
    "except Exception as e:\n",
    "    print('예외가 발생했습니다.', e)"
   ]
  },
  {
   "cell_type": "code",
   "execution_count": 100,
   "id": "9c599a67",
   "metadata": {},
   "outputs": [
    {
     "name": "stdout",
     "output_type": "stream",
     "text": [
      "3의 배수를 입력하세요: 1\n"
     ]
    },
    {
     "ename": "AssertionError",
     "evalue": "3의 배수가 아닙니다.",
     "output_type": "error",
     "traceback": [
      "\u001b[0;31m---------------------------------------------------------------------------\u001b[0m",
      "\u001b[0;31mAssertionError\u001b[0m                            Traceback (most recent call last)",
      "\u001b[0;32m<ipython-input-100-5060e820ea60>\u001b[0m in \u001b[0;36m<module>\u001b[0;34m\u001b[0m\n\u001b[1;32m      1\u001b[0m \u001b[0mx\u001b[0m \u001b[0;34m=\u001b[0m \u001b[0mint\u001b[0m\u001b[0;34m(\u001b[0m\u001b[0minput\u001b[0m\u001b[0;34m(\u001b[0m\u001b[0;34m'3의 배수를 입력하세요: '\u001b[0m\u001b[0;34m)\u001b[0m\u001b[0;34m)\u001b[0m\u001b[0;34m\u001b[0m\u001b[0;34m\u001b[0m\u001b[0m\n\u001b[0;32m----> 2\u001b[0;31m \u001b[0;32massert\u001b[0m \u001b[0mx\u001b[0m \u001b[0;34m%\u001b[0m \u001b[0;36m3\u001b[0m \u001b[0;34m==\u001b[0m \u001b[0;36m0\u001b[0m\u001b[0;34m,\u001b[0m \u001b[0;34m'3의 배수가 아닙니다.'\u001b[0m\u001b[0;34m\u001b[0m\u001b[0;34m\u001b[0m\u001b[0m\n\u001b[0m\u001b[1;32m      3\u001b[0m \u001b[0mprint\u001b[0m\u001b[0;34m(\u001b[0m\u001b[0mx\u001b[0m\u001b[0;34m)\u001b[0m\u001b[0;34m\u001b[0m\u001b[0;34m\u001b[0m\u001b[0m\n",
      "\u001b[0;31mAssertionError\u001b[0m: 3의 배수가 아닙니다."
     ]
    }
   ],
   "source": [
    "x = int(input('3의 배수를 입력하세요: '))\n",
    "assert x % 3 == 0, '3의 배수가 아닙니다.'\n",
    "print(x)"
   ]
  },
  {
   "cell_type": "code",
   "execution_count": 102,
   "id": "40ff8e6d",
   "metadata": {},
   "outputs": [
    {
     "name": "stdout",
     "output_type": "stream",
     "text": [
      "3의 배수를 입력하세요: 1\n",
      "예외가 발생했습니다. 3의 배수가 아닙니다.\n"
     ]
    }
   ],
   "source": [
    "class NotThreeMultipleError(Exception):\n",
    "    def __init__(self):\n",
    "        super().__init__('3의 배수가 아닙니다.')\n",
    "\n",
    "def three_multiple():\n",
    "    try:\n",
    "        x = int(input('3의 배수를 입력하세요: '))\n",
    "        if x % 3 != 0:\n",
    "            raise NotThreeMultipleError\n",
    "        print(x)\n",
    "    except Exception as e:\n",
    "        print('예외가 발생했습니다.', e)\n",
    "\n",
    "three_multiple()"
   ]
  },
  {
   "cell_type": "code",
   "execution_count": null,
   "id": "c680852e",
   "metadata": {},
   "outputs": [],
   "source": []
  },
  {
   "cell_type": "code",
   "execution_count": null,
   "id": "e5516903",
   "metadata": {},
   "outputs": [],
   "source": []
  },
  {
   "cell_type": "code",
   "execution_count": null,
   "id": "b6b40795",
   "metadata": {},
   "outputs": [],
   "source": []
  },
  {
   "cell_type": "code",
   "execution_count": null,
   "id": "e3a950c2",
   "metadata": {},
   "outputs": [],
   "source": []
  },
  {
   "cell_type": "code",
   "execution_count": null,
   "id": "0141db43",
   "metadata": {},
   "outputs": [],
   "source": []
  }
 ],
 "metadata": {
  "kernelspec": {
   "display_name": "Python 3",
   "language": "python",
   "name": "python3"
  },
  "language_info": {
   "codemirror_mode": {
    "name": "ipython",
    "version": 3
   },
   "file_extension": ".py",
   "mimetype": "text/x-python",
   "name": "python",
   "nbconvert_exporter": "python",
   "pygments_lexer": "ipython3",
   "version": "3.8.8"
  }
 },
 "nbformat": 4,
 "nbformat_minor": 5
}
