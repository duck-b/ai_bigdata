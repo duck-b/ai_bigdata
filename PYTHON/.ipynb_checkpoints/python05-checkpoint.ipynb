{
 "cells": [
  {
   "cell_type": "code",
   "execution_count": null,
   "id": "b453f0b4",
   "metadata": {},
   "outputs": [],
   "source": [
    "bin(13)"
   ]
  },
  {
   "cell_type": "code",
   "execution_count": null,
   "id": "77d64d34",
   "metadata": {},
   "outputs": [],
   "source": [
    "0b1101"
   ]
  },
  {
   "cell_type": "code",
   "execution_count": null,
   "id": "fe7aeed5",
   "metadata": {},
   "outputs": [],
   "source": [
    "int('1101', 2)"
   ]
  },
  {
   "cell_type": "code",
   "execution_count": null,
   "id": "348b40d8",
   "metadata": {},
   "outputs": [],
   "source": [
    "a = 1\n",
    "b = 6\n",
    "\n",
    "a >> b"
   ]
  },
  {
   "cell_type": "code",
   "execution_count": null,
   "id": "1903c92f",
   "metadata": {},
   "outputs": [],
   "source": [
    "a << b"
   ]
  },
  {
   "cell_type": "code",
   "execution_count": null,
   "id": "49d6fcde",
   "metadata": {},
   "outputs": [],
   "source": [
    "bytes(10)"
   ]
  },
  {
   "cell_type": "code",
   "execution_count": null,
   "id": "92b5f9d5",
   "metadata": {},
   "outputs": [],
   "source": [
    "bytes([10, 20, 30, 40, 50])"
   ]
  },
  {
   "cell_type": "code",
   "execution_count": null,
   "id": "f30ea395",
   "metadata": {},
   "outputs": [],
   "source": [
    "'안녕'.encode('euc-kr')"
   ]
  },
  {
   "cell_type": "code",
   "execution_count": null,
   "id": "f1888f52",
   "metadata": {},
   "outputs": [],
   "source": [
    "flag = 0\n",
    "flag = flag | 1\n",
    "flag = flag | 8\n",
    "'''\n",
    "if flag & 0001 << 0 == 1:\n",
    "    print('%d ' % 0, end=' ')\n",
    "    \n",
    "if flag & 0010 << 1 == 1:\n",
    "    print('%d ' % 1, end=' ')\n",
    "    \n",
    "if flag & 0100 << 2 == 1:\n",
    "    print('%d ' % 2, end=' ')\n",
    "    \n",
    "if flag & 1000 << 3 == 1:\n",
    "    print('%d ' % 3, end=' ')\n",
    "    \n",
    "'''\n",
    "# for i in range(4):\n",
    "#     if (((flag & 1 << i) >> i) == 1):\n",
    "#         print('%d ' % i, end='')\n",
    "for i in range(4):\n",
    "    if flag & 1 << i:\n",
    "        print('%d ' % i, end='')\n"
   ]
  },
  {
   "cell_type": "code",
   "execution_count": null,
   "id": "672eda67",
   "metadata": {},
   "outputs": [],
   "source": [
    "# 방만들기\n",
    "flag = []\n",
    "for i in range(16):\n",
    "    flag.append(0)\n",
    "# 70번 80번 채우기\n",
    "flag[70//64] |= 1 << (70 % 64)\n",
    "flag[80//64] |= 1 << (80 % 64)\n",
    "\n",
    "# 확인\n",
    "for i in range(len(flag)*64):\n",
    "    if flag[int(i//64)] & (1 << (i % 64)):\n",
    "        print('%d ' % i, end='')\n",
    "# 80번 빼기        \n",
    "flag[80//64] &= ~(1 << 80 % 64)\n",
    "#확인\n",
    "print('')\n",
    "print('='*10)\n",
    "for i in range(len(flag)*64):\n",
    "    if flag[int(i//64)] & (1 << (i % 64)):\n",
    "        print('%d ' % i, end='')"
   ]
  },
  {
   "cell_type": "code",
   "execution_count": null,
   "id": "3826e30f",
   "metadata": {},
   "outputs": [],
   "source": [
    "def Bit():\n",
    "    flag = []\n",
    "    for i in range(16):\n",
    "        flag.append(0)\n",
    "    return flag\n",
    "\n",
    "def bit_set(index):\n",
    "    flag[index//64] |= 1 << (index % 64)\n",
    "\n",
    "def bit_clear(index):\n",
    "    flag[index//64] &= ~(1 << index % 64)\n",
    "\n",
    "def bit_isset(index):\n",
    "    return flag[int(index//64)] & (1 << (index % 64))\n",
    "    \n",
    "flag = Bit()\n",
    "\n",
    "bit_set(80)\n",
    "bit_set(900)\n",
    "\n",
    "for i in range(len(flag)*64):\n",
    "    if bit_isset(i):\n",
    "        print('%d ' % i, end='')\n",
    "        \n",
    "bit_clear(80)\n",
    "print('')\n",
    "print('='*10)\n",
    "for i in range(len(flag)*64):\n",
    "    if bit_isset(i):\n",
    "        print('%d ' % i, end='')"
   ]
  },
  {
   "cell_type": "code",
   "execution_count": null,
   "id": "93bba24d",
   "metadata": {},
   "outputs": [],
   "source": [
    "def main():\n",
    "    flag = Bit()\n",
    "\n",
    "    bit_set(80)\n",
    "    bit_set(900)\n",
    "\n",
    "    for i in range(len(flag)*64):\n",
    "        if bit_isset(i):\n",
    "            print('%d ' % i, end='')\n",
    "\n",
    "    bit_clear(80)\n",
    "    \n",
    "    print('')\n",
    "    print('='*10)\n",
    "    for i in range(len(flag)*64):\n",
    "        if bit_isset(i):\n",
    "            print('%d ' % i, end='')\n",
    "            \n",
    "if __name__ == '__main__':\n",
    "    main()"
   ]
  },
  {
   "cell_type": "code",
   "execution_count": 4,
   "id": "805a751b",
   "metadata": {},
   "outputs": [
    {
     "ename": "SyntaxError",
     "evalue": "invalid syntax (<ipython-input-4-2608043bb5c0>, line 1)",
     "output_type": "error",
     "traceback": [
      "\u001b[0;36m  File \u001b[0;32m\"<ipython-input-4-2608043bb5c0>\"\u001b[0;36m, line \u001b[0;32m1\u001b[0m\n\u001b[0;31m    import pythonlib/bit\u001b[0m\n\u001b[0m                    ^\u001b[0m\n\u001b[0;31mSyntaxError\u001b[0m\u001b[0;31m:\u001b[0m invalid syntax\n"
     ]
    }
   ],
   "source": []
  },
  {
   "cell_type": "code",
   "execution_count": null,
   "id": "2726ef1f",
   "metadata": {},
   "outputs": [],
   "source": [
    "import pythonlib/bit\n",
    "def main():\n",
    "    flag = Bit()\n",
    "\n",
    "    bit_set(80)\n",
    "    bit_set(900)\n",
    "\n",
    "    for i in range(len(flag)*64):\n",
    "        if bit_isset(i):\n",
    "            print('%d ' % i, end='')\n",
    "\n",
    "    bit_clear(80)\n",
    "    \n",
    "    print('')\n",
    "    print('='*10)\n",
    "    for i in range(len(flag)*64):\n",
    "        if bit_isset(i):\n",
    "            print('%d ' % i, end='')\n",
    "            \n",
    "if __name__ == '__main__':\n",
    "    main()"
   ]
  },
  {
   "cell_type": "code",
   "execution_count": null,
   "id": "75b9fa4f",
   "metadata": {},
   "outputs": [],
   "source": []
  }
 ],
 "metadata": {
  "kernelspec": {
   "display_name": "Python 3",
   "language": "python",
   "name": "python3"
  },
  "language_info": {
   "codemirror_mode": {
    "name": "ipython",
    "version": 3
   },
   "file_extension": ".py",
   "mimetype": "text/x-python",
   "name": "python",
   "nbconvert_exporter": "python",
   "pygments_lexer": "ipython3",
   "version": "3.8.8"
  }
 },
 "nbformat": 4,
 "nbformat_minor": 5
}
