{
 "cells": [
  {
   "cell_type": "code",
   "execution_count": null,
   "id": "b7f1c42c",
   "metadata": {},
   "outputs": [],
   "source": [
    "bin(13)"
   ]
  },
  {
   "cell_type": "code",
   "execution_count": null,
   "id": "f89a4bed",
   "metadata": {},
   "outputs": [],
   "source": [
    "0b1101"
   ]
  },
  {
   "cell_type": "code",
   "execution_count": null,
   "id": "49f719c7",
   "metadata": {},
   "outputs": [],
   "source": [
    "int('1101', 2)"
   ]
  },
  {
   "cell_type": "code",
   "execution_count": null,
   "id": "678211ba",
   "metadata": {},
   "outputs": [],
   "source": [
    "a = 1\n",
    "b = 6\n",
    "\n",
    "a >> b"
   ]
  },
  {
   "cell_type": "code",
   "execution_count": null,
   "id": "478c742d",
   "metadata": {},
   "outputs": [],
   "source": [
    "a << b"
   ]
  },
  {
   "cell_type": "code",
   "execution_count": null,
   "id": "956d0cbe",
   "metadata": {},
   "outputs": [],
   "source": [
    "bytes(10)"
   ]
  },
  {
   "cell_type": "code",
   "execution_count": null,
   "id": "4ea9c39d",
   "metadata": {},
   "outputs": [],
   "source": [
    "bytes([10, 20, 30, 40, 50])"
   ]
  },
  {
   "cell_type": "code",
   "execution_count": null,
   "id": "8c8ff556",
   "metadata": {},
   "outputs": [],
   "source": [
    "'안녕'.encode('euc-kr')"
   ]
  },
  {
   "cell_type": "code",
   "execution_count": null,
   "id": "db360d32",
   "metadata": {},
   "outputs": [],
   "source": [
    "flag = 0\n",
    "flag = flag | 1\n",
    "flag = flag | 8\n",
    "'''\n",
    "if flag & 0001 << 0 == 1:\n",
    "    print('%d ' % 0, end=' ')\n",
    "    \n",
    "if flag & 0010 << 1 == 1:\n",
    "    print('%d ' % 1, end=' ')\n",
    "    \n",
    "if flag & 0100 << 2 == 1:\n",
    "    print('%d ' % 2, end=' ')\n",
    "    \n",
    "if flag & 1000 << 3 == 1:\n",
    "    print('%d ' % 3, end=' ')\n",
    "    \n",
    "'''\n",
    "# for i in range(4):\n",
    "#     if (((flag & 1 << i) >> i) == 1):\n",
    "#         print('%d ' % i, end='')\n",
    "for i in range(4):\n",
    "    if flag & 1 << i:\n",
    "        print('%d ' % i, end='')\n"
   ]
  },
  {
   "cell_type": "code",
   "execution_count": null,
   "id": "235d9f4e",
   "metadata": {},
   "outputs": [],
   "source": [
    "# 방만들기\n",
    "flag = []\n",
    "for i in range(16):\n",
    "    flag.append(0)\n",
    "# 70번 80번 채우기\n",
    "flag[70//64] |= 1 << (70 % 64)\n",
    "flag[80//64] |= 1 << (80 % 64)\n",
    "\n",
    "# 확인\n",
    "for i in range(len(flag)*64):\n",
    "    if flag[int(i//64)] & (1 << (i % 64)):\n",
    "        print('%d ' % i, end='')\n",
    "# 80번 빼기        \n",
    "flag[80//64] &= ~(1 << 80 % 64)\n",
    "#확인\n",
    "print('')\n",
    "print('='*10)\n",
    "for i in range(len(flag)*64):\n",
    "    if flag[int(i//64)] & (1 << (i % 64)):\n",
    "        print('%d ' % i, end='')"
   ]
  },
  {
   "cell_type": "code",
   "execution_count": null,
   "id": "f729562a",
   "metadata": {},
   "outputs": [],
   "source": [
    "def Bit():\n",
    "    flag = []\n",
    "    for i in range(16):\n",
    "        flag.append(0)\n",
    "    return flag\n",
    "\n",
    "def bit_set(index):\n",
    "    flag[index//64] |= 1 << (index % 64)\n",
    "\n",
    "def bit_clear(index):\n",
    "    flag[index//64] &= ~(1 << index % 64)\n",
    "\n",
    "def bit_isset(index):\n",
    "    return flag[int(index//64)] & (1 << (index % 64))\n",
    "    \n",
    "flag = Bit()\n",
    "\n",
    "bit_set(80)\n",
    "bit_set(900)\n",
    "\n",
    "for i in range(len(flag)*64):\n",
    "    if bit_isset(i):\n",
    "        print('%d ' % i, end='')\n",
    "        \n",
    "bit_clear(80)\n",
    "print('')\n",
    "print('='*10)\n",
    "for i in range(len(flag)*64):\n",
    "    if bit_isset(i):\n",
    "        print('%d ' % i, end='')"
   ]
  },
  {
   "cell_type": "code",
   "execution_count": null,
   "id": "ca31c01e",
   "metadata": {},
   "outputs": [],
   "source": [
    "def main():\n",
    "    flag = Bit()\n",
    "\n",
    "    bit_set(80)\n",
    "    bit_set(900)\n",
    "\n",
    "    for i in range(len(flag)*64):\n",
    "        if bit_isset(i):\n",
    "            print('%d ' % i, end='')\n",
    "\n",
    "    bit_clear(80)\n",
    "    \n",
    "    print('')\n",
    "    print('='*10)\n",
    "    for i in range(len(flag)*64):\n",
    "        if bit_isset(i):\n",
    "            print('%d ' % i, end='')\n",
    "            \n",
    "if __name__ == '__main__':\n",
    "    main()"
   ]
  },
  {
   "cell_type": "code",
   "execution_count": 2,
   "id": "3d677e12",
   "metadata": {},
   "outputs": [
    {
     "data": {
      "text/plain": [
       "['/Users/jaehyeong/Documents/code/python-project/PYTHON',\n",
       " '/Users/jaehyeong/opt/anaconda3/lib/python38.zip',\n",
       " '/Users/jaehyeong/opt/anaconda3/lib/python3.8',\n",
       " '/Users/jaehyeong/opt/anaconda3/lib/python3.8/lib-dynload',\n",
       " '',\n",
       " '/Users/jaehyeong/.local/lib/python3.8/site-packages',\n",
       " '/Users/jaehyeong/opt/anaconda3/lib/python3.8/site-packages',\n",
       " '/Users/jaehyeong/opt/anaconda3/lib/python3.8/site-packages/aeosa',\n",
       " '/Users/jaehyeong/opt/anaconda3/lib/python3.8/site-packages/locket-0.2.1-py3.8.egg',\n",
       " '/Users/jaehyeong/opt/anaconda3/lib/python3.8/site-packages/IPython/extensions',\n",
       " '/Users/jaehyeong/.ipython']"
      ]
     },
     "execution_count": 2,
     "metadata": {},
     "output_type": "execute_result"
    }
   ],
   "source": [
    "import sys\n",
    "sys.path"
   ]
  },
  {
   "cell_type": "code",
   "execution_count": null,
   "id": "dd2bcded",
   "metadata": {},
   "outputs": [],
   "source": [
    "sys.path.append('/Users/jaehyeong/Documents/code/python-project/PYTHON/pythonlib')"
   ]
  },
  {
   "cell_type": "code",
   "execution_count": 1,
   "id": "b5c044cb",
   "metadata": {},
   "outputs": [
    {
     "name": "stdout",
     "output_type": "stream",
     "text": [
      "80 900 \n",
      "==========\n",
      "900 "
     ]
    }
   ],
   "source": [
    "import pythonlib.bit\n",
    "\n",
    "def main():\n",
    "    flag = pythonlib.bit.Bit()\n",
    "\n",
    "    pythonlib.bit.bit_set(flag, 80)\n",
    "    pythonlib.bit.bit_set(flag, 900)\n",
    "\n",
    "    for i in range(len(flag)*64):\n",
    "        if pythonlib.bit.bit_isset(flag, i):\n",
    "            print('%d ' % i, end='')\n",
    "\n",
    "    pythonlib.bit.bit_clear(flag, 80)\n",
    "    \n",
    "    print('')\n",
    "    print('='*10)\n",
    "    for i in range(len(flag)*64):\n",
    "        if pythonlib.bit.bit_isset(flag, i):\n",
    "            print('%d ' % i, end='')\n",
    "            \n",
    "if __name__ == '__main__':\n",
    "    main()"
   ]
  },
  {
   "cell_type": "code",
   "execution_count": null,
   "id": "7ace663b",
   "metadata": {},
   "outputs": [],
   "source": []
  }
 ],
 "metadata": {
  "kernelspec": {
   "display_name": "Python 3",
   "language": "python",
   "name": "python3"
  },
  "language_info": {
   "codemirror_mode": {
    "name": "ipython",
    "version": 3
   },
   "file_extension": ".py",
   "mimetype": "text/x-python",
   "name": "python",
   "nbconvert_exporter": "python",
   "pygments_lexer": "ipython3",
   "version": "3.8.8"
  }
 },
 "nbformat": 4,
 "nbformat_minor": 5
}
