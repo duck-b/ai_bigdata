{
 "cells": [
  {
   "cell_type": "code",
   "execution_count": 69,
   "id": "1678fee2",
   "metadata": {},
   "outputs": [
    {
     "name": "stdout",
     "output_type": "stream",
     "text": [
      "Hello World!\n"
     ]
    }
   ],
   "source": [
    "# 주석 처리\n",
    "# 실행 명령은 shift + enter\n",
    "# 연속 실행은 control + enter\n",
    "print('Hello World!')"
   ]
  },
  {
   "cell_type": "code",
   "execution_count": 29,
   "id": "4475375c",
   "metadata": {},
   "outputs": [
    {
     "name": "stdout",
     "output_type": "stream",
     "text": [
      "Hello!\n",
      "1234\n"
     ]
    }
   ],
   "source": [
    "# 세미콜론\n",
    "print('Hello!');print('1234')"
   ]
  },
  {
   "cell_type": "code",
   "execution_count": 12,
   "id": "386fb27c",
   "metadata": {},
   "outputs": [
    {
     "name": "stdout",
     "output_type": "stream",
     "text": [
      "1234\n"
     ]
    }
   ],
   "source": [
    "print('1234')"
   ]
  },
  {
   "cell_type": "code",
   "execution_count": 56,
   "id": "ad7b12cc",
   "metadata": {},
   "outputs": [
    {
     "name": "stdout",
     "output_type": "stream",
     "text": [
      "a는 10입니다.\n",
      "정말10\n",
      "끝\n"
     ]
    }
   ],
   "source": [
    "# 들여쓰기\n",
    "a = 10\n",
    "\n",
    "if a == 10:\n",
    "    print('a는 10입니다.')\n",
    "    print('정말10')\n",
    "    \n",
    "print('끝')"
   ]
  },
  {
   "cell_type": "code",
   "execution_count": 91,
   "id": "60056462",
   "metadata": {},
   "outputs": [
    {
     "data": {
      "text/plain": [
       "1"
      ]
     },
     "execution_count": 91,
     "metadata": {},
     "output_type": "execute_result"
    }
   ],
   "source": [
    "# 사칙연산\n",
    "1+1 # 덧셈\n",
    "1-2 # 뺄셈\n",
    "1*3 # 곱셈\n",
    "5/2 # 나눗셈\n",
    "5//2 # 나눗셈의 몫\n",
    "5%2 # 나눗셈의 나머지"
   ]
  },
  {
   "cell_type": "code",
   "execution_count": 93,
   "id": "83acab24",
   "metadata": {},
   "outputs": [
    {
     "data": {
      "text/plain": [
       "8"
      ]
     },
     "execution_count": 93,
     "metadata": {},
     "output_type": "execute_result"
    }
   ],
   "source": [
    "# 거듭제곱\n",
    "2**3"
   ]
  },
  {
   "cell_type": "code",
   "execution_count": 107,
   "id": "1a5f5c53",
   "metadata": {},
   "outputs": [
    {
     "data": {
      "text/plain": [
       "10"
      ]
     },
     "execution_count": 107,
     "metadata": {},
     "output_type": "execute_result"
    }
   ],
   "source": [
    "# 값을 정수로 만들기\n",
    "int(3.3)\n",
    "int(5/2)\n",
    "int('10')"
   ]
  },
  {
   "cell_type": "code",
   "execution_count": 120,
   "id": "f69d31ea",
   "metadata": {},
   "outputs": [
    {
     "data": {
      "text/plain": [
       "str"
      ]
     },
     "execution_count": 120,
     "metadata": {},
     "output_type": "execute_result"
    }
   ],
   "source": [
    "# 객체의 자료형 알아내기\n",
    "type(10)\n",
    "type('10')"
   ]
  },
  {
   "cell_type": "code",
   "execution_count": 126,
   "id": "aec7c119",
   "metadata": {},
   "outputs": [
    {
     "name": "stdout",
     "output_type": "stream",
     "text": [
      "2 1\n"
     ]
    }
   ],
   "source": [
    "# 몫과 나머지를 함께 구하기\n",
    "quot, rem = divmod(5, 2)\n",
    "print(quot, rem)"
   ]
  },
  {
   "cell_type": "code",
   "execution_count": 130,
   "id": "c75d864c",
   "metadata": {},
   "outputs": [
    {
     "name": "stdout",
     "output_type": "stream",
     "text": [
      "3\n",
      "8\n",
      "15\n"
     ]
    }
   ],
   "source": [
    "# 2진수(0b), 8진수(0o), 16진수(0X)\n",
    "0b11\n",
    "0o10\n",
    "0xF"
   ]
  },
  {
   "cell_type": "code",
   "execution_count": 137,
   "id": "0769f697",
   "metadata": {},
   "outputs": [
    {
     "data": {
      "text/plain": [
       "float"
      ]
     },
     "execution_count": 137,
     "metadata": {},
     "output_type": "execute_result"
    }
   ],
   "source": [
    "# 값을 실수로 만들기\n",
    "float(5)\n",
    "float('5.3')"
   ]
  },
  {
   "cell_type": "code",
   "execution_count": 139,
   "id": "d16700e5",
   "metadata": {},
   "outputs": [
    {
     "data": {
      "text/plain": [
       "72"
      ]
     },
     "execution_count": 139,
     "metadata": {},
     "output_type": "execute_result"
    }
   ],
   "source": [
    "# 괄호 사용하기\n",
    "35 + 1 * 2\n",
    "(35 + 1) * 2"
   ]
  },
  {
   "cell_type": "code",
   "execution_count": 162,
   "id": "c1ec51e5",
   "metadata": {
    "scrolled": true
   },
   "outputs": [
    {
     "data": {
      "text/plain": [
       "'Hello, world!'"
      ]
     },
     "execution_count": 162,
     "metadata": {},
     "output_type": "execute_result"
    }
   ],
   "source": [
    "# 변수 할당\n",
    "x = 10\n",
    "x\n",
    "y = 'Hello, world!'\n",
    "y"
   ]
  },
  {
   "cell_type": "code",
   "execution_count": 164,
   "id": "3a84c8de",
   "metadata": {},
   "outputs": [
    {
     "data": {
      "text/plain": [
       "str"
      ]
     },
     "execution_count": 164,
     "metadata": {},
     "output_type": "execute_result"
    }
   ],
   "source": [
    "# 변수의 자료형 알아내기\n",
    "type(x)\n",
    "type(y)"
   ]
  },
  {
   "cell_type": "code",
   "execution_count": 155,
   "id": "7a68f6a1",
   "metadata": {},
   "outputs": [
    {
     "data": {
      "text/plain": [
       "str"
      ]
     },
     "execution_count": 155,
     "metadata": {},
     "output_type": "execute_result"
    }
   ],
   "source": []
  },
  {
   "cell_type": "code",
   "execution_count": 165,
   "id": "e8d8ecdc",
   "metadata": {},
   "outputs": [
    {
     "name": "stdout",
     "output_type": "stream",
     "text": [
      "10 20 30\n"
     ]
    }
   ],
   "source": [
    "# 변수 여러개를 한 번에 만들기\n",
    "x, y, z = 10, 20, 30\n",
    "print(x, y, z)"
   ]
  },
  {
   "cell_type": "code",
   "execution_count": 166,
   "id": "64e5e09b",
   "metadata": {},
   "outputs": [
    {
     "name": "stdout",
     "output_type": "stream",
     "text": [
      "10 10 10\n"
     ]
    }
   ],
   "source": [
    "# 변수의 값이 모두 같을 때\n",
    "x = y = z = 10\n",
    "print(x, y, z)"
   ]
  },
  {
   "cell_type": "code",
   "execution_count": 167,
   "id": "d49a96ff",
   "metadata": {},
   "outputs": [
    {
     "name": "stdout",
     "output_type": "stream",
     "text": [
      "20 10\n"
     ]
    }
   ],
   "source": [
    "# 변수의 값을 바꿀 때\n",
    "x, y = 10, 20\n",
    "x, y = y, x\n",
    "print(x, y)"
   ]
  },
  {
   "cell_type": "code",
   "execution_count": 168,
   "id": "08a72f33",
   "metadata": {},
   "outputs": [
    {
     "ename": "NameError",
     "evalue": "name 'x' is not defined",
     "output_type": "error",
     "traceback": [
      "\u001b[0;31m---------------------------------------------------------------------------\u001b[0m",
      "\u001b[0;31mNameError\u001b[0m                                 Traceback (most recent call last)",
      "\u001b[0;32m<ipython-input-168-427730c5aec8>\u001b[0m in \u001b[0;36m<module>\u001b[0;34m\u001b[0m\n\u001b[1;32m      2\u001b[0m \u001b[0mx\u001b[0m \u001b[0;34m=\u001b[0m \u001b[0;36m10\u001b[0m\u001b[0;34m\u001b[0m\u001b[0;34m\u001b[0m\u001b[0m\n\u001b[1;32m      3\u001b[0m \u001b[0;32mdel\u001b[0m \u001b[0mx\u001b[0m\u001b[0;34m\u001b[0m\u001b[0;34m\u001b[0m\u001b[0m\n\u001b[0;32m----> 4\u001b[0;31m \u001b[0mprint\u001b[0m\u001b[0;34m(\u001b[0m\u001b[0mx\u001b[0m\u001b[0;34m)\u001b[0m\u001b[0;34m\u001b[0m\u001b[0;34m\u001b[0m\u001b[0m\n\u001b[0m",
      "\u001b[0;31mNameError\u001b[0m: name 'x' is not defined"
     ]
    }
   ],
   "source": [
    "# 변수 삭제하기\n",
    "x = 10\n",
    "del x\n",
    "print(x)"
   ]
  },
  {
   "cell_type": "code",
   "execution_count": 172,
   "id": "be1a2ca9",
   "metadata": {},
   "outputs": [
    {
     "name": "stdout",
     "output_type": "stream",
     "text": [
      "None\n"
     ]
    }
   ],
   "source": [
    "# 빈 변수 만들기\n",
    "x = None\n",
    "print(x)"
   ]
  },
  {
   "cell_type": "code",
   "execution_count": 182,
   "id": "df94ff7f",
   "metadata": {},
   "outputs": [
    {
     "name": "stdout",
     "output_type": "stream",
     "text": [
      "30\n"
     ]
    }
   ],
   "source": [
    "# 변수로 계산하기\n",
    "a, b = 10, 20\n",
    "c = a + b\n",
    "print(c)"
   ]
  },
  {
   "cell_type": "code",
   "execution_count": 183,
   "id": "cdffea09",
   "metadata": {},
   "outputs": [
    {
     "name": "stdout",
     "output_type": "stream",
     "text": [
      "10\n",
      "30\n",
      "30\n"
     ]
    }
   ],
   "source": [
    "# 산술 연산 후 할당 연산자 사용하기\n",
    "a = 10\n",
    "a + 20\n",
    "print(a)\n",
    "\n",
    "a = 10\n",
    "a = a + 20\n",
    "print(a)\n",
    "\n",
    "a = 10\n",
    "a += 20 # a = a + 20과 같음\n",
    "print(a)"
   ]
  },
  {
   "cell_type": "code",
   "execution_count": null,
   "id": "f623aa8a",
   "metadata": {},
   "outputs": [],
   "source": []
  },
  {
   "cell_type": "code",
   "execution_count": 185,
   "id": "42d13fe1",
   "metadata": {},
   "outputs": [
    {
     "name": "stdout",
     "output_type": "stream",
     "text": [
      "Hello World!\n"
     ]
    },
    {
     "data": {
      "text/plain": [
       "'Hello World!'"
      ]
     },
     "execution_count": 185,
     "metadata": {},
     "output_type": "execute_result"
    }
   ],
   "source": [
    "# 입력 값 받기\n",
    "input()"
   ]
  },
  {
   "cell_type": "code",
   "execution_count": 189,
   "id": "1ee1686d",
   "metadata": {},
   "outputs": [
    {
     "name": "stdout",
     "output_type": "stream",
     "text": [
      "Hello World!\n"
     ]
    }
   ],
   "source": [
    "# 입력 값 변수에 저장하기\n",
    "x = input()"
   ]
  },
  {
   "cell_type": "code",
   "execution_count": 188,
   "id": "359eaa72",
   "metadata": {},
   "outputs": [
    {
     "data": {
      "text/plain": [
       "'Hello, world!'"
      ]
     },
     "execution_count": 188,
     "metadata": {},
     "output_type": "execute_result"
    }
   ],
   "source": [
    "x"
   ]
  },
  {
   "cell_type": "code",
   "execution_count": 191,
   "id": "21b1b59e",
   "metadata": {},
   "outputs": [
    {
     "name": "stdout",
     "output_type": "stream",
     "text": [
      "문자열을 입력하세요: Hello, World!\n"
     ]
    }
   ],
   "source": [
    "# 안내 문구 추가\n",
    "x = input('문자열을 입력하세요: ')"
   ]
  },
  {
   "cell_type": "code",
   "execution_count": 192,
   "id": "ec2edd27",
   "metadata": {},
   "outputs": [
    {
     "data": {
      "text/plain": [
       "'Hello, World!'"
      ]
     },
     "execution_count": 192,
     "metadata": {},
     "output_type": "execute_result"
    }
   ],
   "source": [
    "x"
   ]
  },
  {
   "cell_type": "code",
   "execution_count": 197,
   "id": "9cae3e90",
   "metadata": {},
   "outputs": [
    {
     "name": "stdout",
     "output_type": "stream",
     "text": [
      "첫 번째 숫자를 입력하세요: 10\n",
      "두 번째 숫자를 입력하세요: 20\n",
      "1020\n"
     ]
    }
   ],
   "source": [
    "# 두 숫자의 합 구하기\n",
    "a = input('첫 번째 숫자를 입력하세요: ')\n",
    "b = input('두 번째 숫자를 입력하세요: ')\n",
    "\n",
    "print(a+b)"
   ]
  },
  {
   "cell_type": "code",
   "execution_count": 198,
   "id": "ad4dcb7c",
   "metadata": {},
   "outputs": [
    {
     "name": "stdout",
     "output_type": "stream",
     "text": [
      "첫 번째 숫자를 입력하세요: 10\n",
      "두 번째 숫자를 입력하세요: 200\n",
      "210\n"
     ]
    }
   ],
   "source": [
    "a = int(input('첫 번째 숫자를 입력하세요: '))\n",
    "b = int(input('두 번째 숫자를 입력하세요: '))\n",
    "\n",
    "print(a+b)"
   ]
  },
  {
   "cell_type": "code",
   "execution_count": 209,
   "id": "7a2a78ae",
   "metadata": {},
   "outputs": [
    {
     "name": "stdout",
     "output_type": "stream",
     "text": [
      "문자열 두 개를 입력하세요.Hello Python!\n",
      "Hello\n",
      "Python!\n"
     ]
    }
   ],
   "source": [
    "# 입력 값을 변수 두개에 저장하기\n",
    "a, b = input('문자열 두 개를 입력하세요.').split()\n",
    "print(a)\n",
    "print(b)"
   ]
  },
  {
   "cell_type": "code",
   "execution_count": 222,
   "id": "411fb9ad",
   "metadata": {},
   "outputs": [
    {
     "name": "stdout",
     "output_type": "stream",
     "text": [
      "Hello\n",
      "Python!\n",
      "Hello\n",
      "Python!\n"
     ]
    }
   ],
   "source": [
    "a, b = 'Hello Python!'.split()\n",
    "print(a)\n",
    "print(b)\n",
    "a, b = ['Hello', 'Python!']\n",
    "print(a)\n",
    "print(b)"
   ]
  },
  {
   "cell_type": "code",
   "execution_count": 213,
   "id": "c8e00f5f",
   "metadata": {},
   "outputs": [
    {
     "name": "stdout",
     "output_type": "stream",
     "text": [
      "Hello\n",
      "Python!\n"
     ]
    }
   ],
   "source": [
    "x"
   ]
  },
  {
   "cell_type": "code",
   "execution_count": 223,
   "id": "2b95cae0",
   "metadata": {},
   "outputs": [
    {
     "data": {
      "text/plain": [
       "3"
      ]
     },
     "execution_count": 223,
     "metadata": {},
     "output_type": "execute_result"
    }
   ],
   "source": [
    "a = 'Hello World'\n",
    "a.count('l')"
   ]
  },
  {
   "cell_type": "code",
   "execution_count": 243,
   "id": "7bad28fa",
   "metadata": {
    "scrolled": false
   },
   "outputs": [
    {
     "name": "stdout",
     "output_type": "stream",
     "text": [
      "숫자 두 개를 입력하세요: 10 20\n",
      "30\n"
     ]
    }
   ],
   "source": [
    "# map(function, list) 리스트 내용을 하나씩 함수에 넣음\n",
    "a, b = map(int, input('숫자 두 개를 입력하세요: ').split())\n",
    "print(a + b)"
   ]
  },
  {
   "cell_type": "code",
   "execution_count": 247,
   "id": "03a8e7e0",
   "metadata": {},
   "outputs": [
    {
     "name": "stdout",
     "output_type": "stream",
     "text": [
      "숫자 두 개를 콤마(,)로 구분하여 입력하세요: 10,20\n",
      "30\n"
     ]
    }
   ],
   "source": [
    "# 구분자로 문자열 분리\n",
    "'H/e/l/l/o'.split('/')\n",
    "a, b = map(int, input('숫자 두 개를 콤마(,)로 구분하여 입력하세요: ').split(','))\n",
    "print(a + b)"
   ]
  },
  {
   "cell_type": "code",
   "execution_count": 1,
   "id": "4bb8f4dc",
   "metadata": {},
   "outputs": [
    {
     "data": {
      "text/plain": [
       "10"
      ]
     },
     "execution_count": 1,
     "metadata": {},
     "output_type": "execute_result"
    }
   ],
   "source": [
    "# 변수에 함수도 넣을 수 있다.\n",
    "k = int\n",
    "k('10') # int('10')과 같음"
   ]
  },
  {
   "cell_type": "code",
   "execution_count": 73,
   "id": "d718cc61",
   "metadata": {},
   "outputs": [
    {
     "name": "stdout",
     "output_type": "stream",
     "text": [
      "1\n",
      "2\n",
      "3\n",
      "4\t5\t6\n",
      "7\t8끝"
     ]
    }
   ],
   "source": [
    "# 값 출력하기\n",
    "print('1', '2', '3', sep='\\n')\n",
    "print('4', '5', '6', sep='\\t')\n",
    "print('7', '8', sep='\\t' ,end='끝')"
   ]
  },
  {
   "cell_type": "code",
   "execution_count": 91,
   "id": "72b24a54",
   "metadata": {},
   "outputs": [
    {
     "name": "stdout",
     "output_type": "stream",
     "text": [
      "True\n"
     ]
    }
   ],
   "source": [
    "# 불과 비교 연산자\n",
    "# True\n",
    "# False\n",
    "# > , <  >=, <=, ==, !=\n",
    "# 단항연산자: 항이 하나만 필요, 다항연산자: 항이 두개가 필요\n",
    "print(1 != 2)"
   ]
  },
  {
   "cell_type": "code",
   "execution_count": 96,
   "id": "0d851411",
   "metadata": {},
   "outputs": [
    {
     "name": "stdout",
     "output_type": "stream",
     "text": [
      "a == b:  True\n",
      "a is b: False\n"
     ]
    }
   ],
   "source": [
    "# is, is not는 객체가 같은지 비교\n",
    "a = 1\n",
    "b = 1.0\n",
    "print('a == b: ', a == b)\n",
    "print('a is b:', a is b)"
   ]
  },
  {
   "cell_type": "code",
   "execution_count": 126,
   "id": "06882bd7",
   "metadata": {},
   "outputs": [
    {
     "name": "stdout",
     "output_type": "stream",
     "text": [
      "True and True: \t\tTrue\n",
      "True and False: \tFalse\n",
      "False and True: \tFalse\n",
      "False and False: \tFalse\n",
      "\n",
      "True or True: \t\tTrue\n",
      "True or False: \t\tTrue\n",
      "False or True: \t\tTrue\n",
      "False or False: \tFalse\n",
      "\n",
      "not True: \t\tFalse\n",
      "not False: \t\tTrue\n",
      "\n",
      "True\n",
      "True\n"
     ]
    }
   ],
   "source": [
    "# 논리 연산자\n",
    "print('True and True: ', True and True, sep='\\t\\t')\n",
    "print('True and False: ', True and False, sep='\\t')\n",
    "print('False and True: ', False and True, sep='\\t')\n",
    "print('False and False: ', False and False, sep='\\t', end='\\n\\n')\n",
    "print('True or True: ', True or True, sep='\\t\\t')\n",
    "print('True or False: ', True or False, sep='\\t\\t')\n",
    "print('False or True: ', False or True, sep='\\t\\t')\n",
    "print('False or False: ', False or False, sep='\\t', end='\\n\\n')\n",
    "print('not True: ', not True, sep='\\t\\t')\n",
    "print('not False: ', not False, sep='\\t\\t', end='\\n\\n')\n",
    "\n",
    "# 우선순위 not, and, or\n",
    "print(not True and False or not False)\n",
    "# not True and False or not False\n",
    "# False and False or True\n",
    "# False or True\n",
    "# True\n",
    "print(not True and False or not False and not True and not False or not True)\n",
    "#False and False or True and False and True or False\n",
    "#False or False and True or False\n",
    "#False or False or False\n",
    "#False"
   ]
  },
  {
   "cell_type": "code",
   "execution_count": 146,
   "id": "0f5d00d9",
   "metadata": {},
   "outputs": [
    {
     "name": "stdout",
     "output_type": "stream",
     "text": [
      "10 == 10 and 10 != 5: \tTrue\n",
      "10 > 5 and 10 < 3:\tFalse\n",
      "not 10 > 5: \t\tFalse\n"
     ]
    }
   ],
   "source": [
    "# 논리 연산자와 비교 연산자를 한께 사용하기\n",
    "print('10 == 10 and 10 != 5: ', 10 == 10 and 10 != 5, sep='\\t')\n",
    "print('10 > 5 and 10 < 3:', 10 > 5 and 10 < 3, sep='\\t')\n",
    "print('not 10 > 5: ', not 10 > 5, sep='\\t\\t')"
   ]
  },
  {
   "cell_type": "code",
   "execution_count": 150,
   "id": "6aa6a0b8",
   "metadata": {},
   "outputs": [
    {
     "name": "stdout",
     "output_type": "stream",
     "text": [
      "Python\n",
      "False\n",
      "Python\n",
      "Python\n",
      "0\n"
     ]
    }
   ],
   "source": [
    "# 단락 평가\n",
    "# 첫 번째 값만으로 결과가 확실할 때 두 번째 값은 확인하지 않는 방법\n",
    "# 첫 번째 값만으로 결과가 확실할 때 첫 번째 값을 반환함\n",
    "# 두 번째 값까지 확인해야 한다면 두 번째 값이 반환됩니다.\n",
    "print(True and 'Python')\n",
    "print(False and 'Python')\n",
    "print('Python' or True)\n",
    "print('Python' or False)\n",
    "print(0 and 'Python')"
   ]
  },
  {
   "cell_type": "code",
   "execution_count": 183,
   "id": "dced3a60",
   "metadata": {},
   "outputs": [
    {
     "name": "stdout",
     "output_type": "stream",
     "text": [
      "He's Legendo\n",
      "He is \"Legendo\"\n",
      "He's \"Legendo\"\n",
      "He\n",
      "is\n",
      "Legendo\n",
      "\n"
     ]
    }
   ],
   "source": [
    "# 문자열 사용하기\n",
    "msg = \"He's Legendo\"\n",
    "print(msg)\n",
    "msg2 = 'He is \"Legendo\"'\n",
    "print(msg2)\n",
    "msg3 = 'He\\'s \"Legendo\"'\n",
    "print(msg3)\n",
    "msg4 = '''He\n",
    "is\n",
    "Legendo\n",
    "'''\n",
    "print(msg4)"
   ]
  },
  {
   "cell_type": "code",
   "execution_count": 205,
   "id": "013c2d2a",
   "metadata": {},
   "outputs": [
    {
     "name": "stdout",
     "output_type": "stream",
     "text": [
      "[38, 21, 53, 62, 19]\n",
      "['james', 17, 175.3, True]\n"
     ]
    }
   ],
   "source": [
    "# 리스트\n",
    "a = [38, 21, 53, 62, 19]\n",
    "print(a)\n",
    "person = ['james', 17, 175.3, True]\n",
    "print(person)"
   ]
  },
  {
   "cell_type": "code",
   "execution_count": 206,
   "id": "9f2d374c",
   "metadata": {},
   "outputs": [
    {
     "name": "stdout",
     "output_type": "stream",
     "text": [
      "[]\n",
      "[]\n",
      "[0, 1, 2, 3, 4, 5, 6, 7, 8, 9]\n",
      "[5, 6, 7, 8, 9, 10, 11]\n",
      "[-4, -2, 0, 2, 4, 6, 8]\n",
      "[10, 9, 8, 7, 6, 5, 4, 3, 2, 1]\n"
     ]
    }
   ],
   "source": [
    "# 빈 리스트 만들기\n",
    "a = []\n",
    "print(a)\n",
    "b = list()\n",
    "print(b)\n",
    "# range를 사용하여 리스트 만들기\n",
    "# range(시작, 끝, 증가폭)\n",
    "c = list(range(10))\n",
    "print(c)\n",
    "d = list(range(5, 12))\n",
    "print(d)\n",
    "e = list(range(-4, 10, 2))\n",
    "print(e)\n",
    "f = list(range(10, 0, -1))\n",
    "print(f)"
   ]
  },
  {
   "cell_type": "code",
   "execution_count": 207,
   "id": "b3f23747",
   "metadata": {},
   "outputs": [
    {
     "name": "stdout",
     "output_type": "stream",
     "text": [
      "(38, 21, 53, 62, 19)\n",
      "('james', 17, 175.3, True)\n"
     ]
    }
   ],
   "source": [
    "# 튜플: 저장된 요소를 변경, 추가, 삭제를 할 수 없음\n",
    "a = (38, 21, 53, 62, 19)\n",
    "print(a)\n",
    "person = ('james', 17, 175.3, True)\n",
    "print(person)"
   ]
  },
  {
   "cell_type": "code",
   "execution_count": 227,
   "id": "512bb66a",
   "metadata": {},
   "outputs": [
    {
     "data": {
      "text/plain": [
       "(0, 1, 2, 3, 4, 5, 6, 7, 8, 9)"
      ]
     },
     "execution_count": 227,
     "metadata": {},
     "output_type": "execute_result"
    }
   ],
   "source": [
    "# 요소가 한 개 들어있는 튜플\n",
    "a = (38,)\n",
    "a\n",
    "# 리스트를 튜플로 만들기\n",
    "b = list(range(10))\n",
    "b = tuple(b)\n",
    "b"
   ]
  },
  {
   "cell_type": "code",
   "execution_count": 228,
   "id": "4d97357d",
   "metadata": {},
   "outputs": [
    {
     "data": {
      "text/plain": [
       "False"
      ]
     },
     "execution_count": 228,
     "metadata": {},
     "output_type": "execute_result"
    }
   ],
   "source": [
    "# 특정 값이 있는지 확인\n",
    "a = [0, 10, 20, 30, 40]\n",
    "30 in a\n",
    "100 not in a\n",
    "b = 'Hello'\n",
    "'h' in b"
   ]
  },
  {
   "cell_type": "code",
   "execution_count": 255,
   "id": "1554bfc1",
   "metadata": {},
   "outputs": [
    {
     "name": "stdout",
     "output_type": "stream",
     "text": [
      "[0, 10, 20, 30, 9, 8, 7, 6]\n",
      "Hello, World!\n"
     ]
    },
    {
     "data": {
      "text/plain": [
       "[0, 1, 2, 3, 4, 5, 6]"
      ]
     },
     "execution_count": 255,
     "metadata": {},
     "output_type": "execute_result"
    }
   ],
   "source": [
    "# 시퀀스 객체 연결하기\n",
    "a = list(range(0, 40, 10))\n",
    "b = list(range(9, 5, -1))\n",
    "print(a + b)\n",
    "c = 'Hello, '\n",
    "d = 'World!'\n",
    "print(c + d)\n",
    "# range(0,3) + range(3,7): X\n",
    "list(range(0,3)) + list(range(3,7))"
   ]
  },
  {
   "cell_type": "code",
   "execution_count": 257,
   "id": "58bf93fd",
   "metadata": {},
   "outputs": [
    {
     "name": "stdout",
     "output_type": "stream",
     "text": [
      "[0, 10, 20, 30, 0, 10, 20, 30, 0, 10, 20, 30]\n",
      "Hello, Hello, Hello, Hello, \n"
     ]
    }
   ],
   "source": [
    "# 시퀀스 객체 반복하기\n",
    "a = list(range(0, 40, 10))\n",
    "print(a*3) # a + a + a\n",
    "# range(0, 40, 10) * 3: X\n",
    "list(range(0, 40, 10)) * 3\n",
    "\n",
    "b = 'Hello, '\n",
    "print(b*4)"
   ]
  },
  {
   "cell_type": "code",
   "execution_count": 258,
   "id": "95e80531",
   "metadata": {},
   "outputs": [
    {
     "name": "stdout",
     "output_type": "stream",
     "text": [
      "10\n",
      "5\n"
     ]
    }
   ],
   "source": [
    "# 시퀀스 객체의 요소 개수 구하기\n",
    "a = list(range(0, 100, 10))\n",
    "print(len(a))\n",
    "print(len(range(0, 10, 2))) # len(range(0, 10, 2)): O"
   ]
  },
  {
   "cell_type": "code",
   "execution_count": 268,
   "id": "2ee72456",
   "metadata": {},
   "outputs": [
    {
     "name": "stdout",
     "output_type": "stream",
     "text": [
      "38 53 19\n",
      "38 62\n",
      "6\n",
      "w\n"
     ]
    }
   ],
   "source": [
    "# 인덱스\n",
    "a = [38, 21, 53, 62, 19]\n",
    "print(a[0], a[2], a[4])\n",
    "b = (38, 21, 53, 62, 19)\n",
    "print(b[0], b[3])\n",
    "c = range(0, 10, 2)\n",
    "print(c[3]) # range()[]: O\n",
    "d = 'Hello, world!'\n",
    "print(d[7])"
   ]
  },
  {
   "cell_type": "code",
   "execution_count": 272,
   "id": "42c5de44",
   "metadata": {},
   "outputs": [
    {
     "data": {
      "text/plain": [
       "53"
      ]
     },
     "execution_count": 272,
     "metadata": {},
     "output_type": "execute_result"
    }
   ],
   "source": [
    "# __getitem__메세드\n",
    "a = [38, 21, 53, 62, 19]\n",
    "a.__getitem__(2)"
   ]
  },
  {
   "cell_type": "code",
   "execution_count": 274,
   "id": "a3edc166",
   "metadata": {},
   "outputs": [
    {
     "data": {
      "text/plain": [
       "19"
      ]
     },
     "execution_count": 274,
     "metadata": {},
     "output_type": "execute_result"
    }
   ],
   "source": [
    "# 음수 인덱스\n",
    "a = [38, 21, 53, 62, 19]\n",
    "a[-1]\n",
    "\n",
    "# 마지막 요소에 접근하기\n",
    "a[len(a)-1]"
   ]
  },
  {
   "cell_type": "code",
   "execution_count": 279,
   "id": "490bb7e5",
   "metadata": {},
   "outputs": [
    {
     "name": "stdout",
     "output_type": "stream",
     "text": [
      "[38, 21, 53]\n"
     ]
    }
   ],
   "source": [
    "# 요소에 값 할당하기\n",
    "a = [0, 0, 0]\n",
    "a[0] = 38\n",
    "a[1] = 21\n",
    "a[2] = 53\n",
    "print(a)\n",
    "# a[4] = 33: 범위를 벗어난 인덱스에 값을 할당하여 에러 발생\n",
    "b = (0, 0, 0)\n",
    "# b[0] = 38: tuple 객체는 값 할당을 지원하지 않음\n",
    "c = range(0, 10, 2)\n",
    "# c[0] = 3: range 객체는 값 할당을 지원하지 않음\n",
    "d = 'Hello, world!'\n",
    "# d[0] = 'A': str 객체는 값 할당을 지원하지 않음"
   ]
  },
  {
   "cell_type": "code",
   "execution_count": 280,
   "id": "a17b27bb",
   "metadata": {},
   "outputs": [
    {
     "data": {
      "text/plain": [
       "[38, 21, 62, 19]"
      ]
     },
     "execution_count": 280,
     "metadata": {},
     "output_type": "execute_result"
    }
   ],
   "source": [
    "# 요소 삭제하기\n",
    "a = [38, 21, 53, 62, 19]\n",
    "del a[2]\n",
    "a\n",
    "b = (38, 21, 53, 62, 19)\n",
    "# del b[2]: tuple 객체는 값 삭제를 지원하지 않음\n",
    "c = range(0, 10, 2)\n",
    "# del c[2]: range 객체는 값 삭제를 지원하지 않음\n",
    "d = 'Hello, world!'\n",
    "# del d[2]: str 객체는 값 삭제를 지원하지 않음"
   ]
  },
  {
   "cell_type": "code",
   "execution_count": 292,
   "id": "5a20e456",
   "metadata": {},
   "outputs": [
    {
     "name": "stdout",
     "output_type": "stream",
     "text": [
      "[0, 10, 20, 30]\n",
      "[40, 50, 60, 70, 80]\n",
      "[20, 50]\n",
      "[0, 10, 20, 30, 40, 50, 60]\n",
      "[70, 80, 90]\n",
      "[90, 80, 70, 60, 50]\n",
      "[90, 80, 70, 60, 50, 40, 30, 20, 10, 0]\n"
     ]
    }
   ],
   "source": [
    "# 슬라이스\n",
    "a = list(range(0, 100, 10))\n",
    "print(a[0:4]) # 끝 인덱스는 가져오려는 범위에 포함되지 않음\n",
    "print(a[4:-1]) # 음수 인덱스 사용가능\n",
    "print(a[2:8:3]) # 인덱스 2부터 3씩 증가시키면서 인덱스 7까지 가져옴\n",
    "print(a[:7]) # 시작 인덱스를 생략하면 처음 요소부터 가져옴\n",
    "print(a[7:]) # 끝 인덱스를 생략하면 마지막 요소까지 가져옴\n",
    "print(a[-1:4:-1])\n",
    "print(a[::-1])"
   ]
  },
  {
   "cell_type": "code",
   "execution_count": 295,
   "id": "594a7a87",
   "metadata": {},
   "outputs": [
    {
     "name": "stdout",
     "output_type": "stream",
     "text": [
      "[0, 10, 50, 60, 70, 80, 90]\n",
      "[0, 10, 30, 50, 70, 80, 90]\n"
     ]
    }
   ],
   "source": [
    "# del로 슬라이스 삭제하기\n",
    "a = list(range(0, 100, 10))\n",
    "del a[2:5]\n",
    "print(a)\n",
    "b = list(range(0, 100, 10))\n",
    "del b[2:7:2]\n",
    "print(b)"
   ]
  },
  {
   "cell_type": "code",
   "execution_count": 297,
   "id": "39830c7b",
   "metadata": {},
   "outputs": [
    {
     "data": {
      "text/plain": [
       "490"
      ]
     },
     "execution_count": 297,
     "metadata": {},
     "output_type": "execute_result"
    }
   ],
   "source": [
    "# 딕셔너리 사용하기\n",
    "lux = {'health': 490, 'mana': 334, 'melee': 550, 'armor': 18.72}\n",
    "lux['health']"
   ]
  },
  {
   "cell_type": "code",
   "execution_count": 312,
   "id": "f5697e6d",
   "metadata": {},
   "outputs": [
    {
     "name": "stdout",
     "output_type": "stream",
     "text": [
      "{'health': 490, 'mana': 334, 'melee': 550, 'armor': 18.72}\n",
      "{'health': 490, 'mana': 334, 'melee': 550, 'armor': 18.72}\n",
      "{'health': 490, 'mana': 334, 'melee': 550, 'armor': 18.72}\n",
      "{'health': 490, 'mana': 334, 'melee': 550, 'armor': 18.72}\n"
     ]
    }
   ],
   "source": [
    "# dict로 딕셔너리 만들기\n",
    "lux1 = dict(health=490, mana=334, melee=550, armor=18.72)\n",
    "print(lux1)\n",
    "lux2 = dict(zip(['health', 'mana', 'melee','armor'],[490, 334, 550, 18.72]))\n",
    "print(lux2)\n",
    "lux3 = dict([('health', 490), ('mana', 334), ('melee', 550), ('armor', 18.72)])\n",
    "print(lux3)\n",
    "lux4 = dict({'health': 490, 'mana': 334, 'melee': 550, 'armor': 18.72})\n",
    "print(lux4)"
   ]
  },
  {
   "cell_type": "code",
   "execution_count": 313,
   "id": "a1343fa2",
   "metadata": {},
   "outputs": [
    {
     "data": {
      "text/plain": [
       "{'health': 490, 'mana': 1184, 'melee': 550, 'armor': 18.72, 'mana_regen': 3.28}"
      ]
     },
     "execution_count": 313,
     "metadata": {},
     "output_type": "execute_result"
    }
   ],
   "source": [
    "# 딕셔너리의 키에 값 할당하기\n",
    "lux = {'health': 490, 'mana': 334, 'melee': 550, 'armor': 18.72}\n",
    "lux['mana'] = 1184\n",
    "lux['mana_regen'] = 3.28\n",
    "lux"
   ]
  },
  {
   "cell_type": "code",
   "execution_count": 322,
   "id": "2189d479",
   "metadata": {},
   "outputs": [
    {
     "name": "stdout",
     "output_type": "stream",
     "text": [
      "True\n",
      "True\n",
      "False\n"
     ]
    }
   ],
   "source": [
    "# 딕셔너리에 키가 있는지 확인하기\n",
    "lux = {'health': 490, 'mana': 334, 'melee': 550, 'armor': 18.72}\n",
    "print('health' in lux)\n",
    "print('attack_speed' not in lux)\n",
    "print(334 in lux)"
   ]
  },
  {
   "cell_type": "code",
   "execution_count": 323,
   "id": "e2af6463",
   "metadata": {},
   "outputs": [
    {
     "data": {
      "text/plain": [
       "4"
      ]
     },
     "execution_count": 323,
     "metadata": {},
     "output_type": "execute_result"
    }
   ],
   "source": [
    "# 딕셔너리의 키 개수 구하기\n",
    "lux = {'health': 490, 'mana': 334, 'melee': 550, 'armor': 18.72}\n",
    "len(lux)"
   ]
  },
  {
   "cell_type": "code",
   "execution_count": 339,
   "id": "8a309ff8",
   "metadata": {},
   "outputs": [
    {
     "name": "stdout",
     "output_type": "stream",
     "text": [
      "x는 10\n"
     ]
    }
   ],
   "source": [
    "# 조건문\n",
    "x = 10\n",
    "\n",
    "if x == 10:\n",
    "    print('x는 10')"
   ]
  },
  {
   "cell_type": "code",
   "execution_count": 347,
   "id": "a6ab0f77",
   "metadata": {},
   "outputs": [
    {
     "name": "stdout",
     "output_type": "stream",
     "text": [
      "-1\n",
      "x는 음수 입니다.\n"
     ]
    }
   ],
   "source": [
    "# 사용자가 입력한 값에 조건문 사용하기\n",
    "x = int(input())\n",
    "\n",
    "if x > 0:\n",
    "    print('x는 양수 입니다.')\n",
    "elif x < 0:\n",
    "    print('x는 음수 입니다.')\n",
    "else:\n",
    "    print('x는 0입니다.')"
   ]
  },
  {
   "cell_type": "code",
   "execution_count": 376,
   "id": "57475647",
   "metadata": {},
   "outputs": [
    {
     "name": "stdout",
     "output_type": "stream",
     "text": [
      "반복할 횟수를 입력하세요: 2\n",
      "Hello World! : 1\n",
      "Hello World! : 2\n",
      "end\n"
     ]
    }
   ],
   "source": [
    "# 반복문(for)\n",
    "count = int(input('반복할 횟수를 입력하세요: '))\n",
    "for i in range(count):\n",
    "    print('Hello World!',i+1 , sep=' : ')\n",
    "print('End')"
   ]
  },
  {
   "cell_type": "code",
   "execution_count": 381,
   "id": "e9adb5cc",
   "metadata": {},
   "outputs": [
    {
     "name": "stdout",
     "output_type": "stream",
     "text": [
      "Hello World! : 1\n",
      "Hello World! : 2\n",
      "Hello World! : 3\n",
      "Hello World! : 4\n",
      "Hello World! : 5\n",
      "end\n"
     ]
    }
   ],
   "source": [
    "# 반복문 (while)\n",
    "i = 0\n",
    "while i < 5:\n",
    "    print('Hello World!', i+1, sep=\" : \")\n",
    "    i += 1\n",
    "print('End')"
   ]
  },
  {
   "cell_type": "code",
   "execution_count": 383,
   "id": "d8016e71",
   "metadata": {},
   "outputs": [
    {
     "name": "stdout",
     "output_type": "stream",
     "text": [
      "3\n",
      "Hello World!\n",
      "Hello World!\n",
      "Hello World!\n",
      "End\n"
     ]
    }
   ],
   "source": [
    "end = int(input())\n",
    "\n",
    "i = 0\n",
    "while i < end:\n",
    "    print('Hello World!')\n",
    "    i += 1\n",
    "    \n",
    "print('End')"
   ]
  },
  {
   "cell_type": "code",
   "execution_count": 395,
   "id": "35f76d68",
   "metadata": {},
   "outputs": [
    {
     "name": "stdout",
     "output_type": "stream",
     "text": [
      "몇번 돌리고 싶으세요: 3\n",
      "몇번하고 싶으세요: 2\n",
      "\tHello World!\t1의 1번째\n",
      "\tHello World!\t1의 2번째\n",
      "몇번하고 싶으세요: 5\n",
      "\tHello World!\t2의 1번째\n",
      "\tHello World!\t2의 2번째\n",
      "\tHello World!\t2의 3번째\n",
      "\tHello World!\t2의 4번째\n",
      "\tHello World!\t2의 5번째\n",
      "몇번하고 싶으세요: 1\n",
      "\tHello World!\t3의 1번째\n",
      "End\n"
     ]
    }
   ],
   "source": [
    "# 연습\n",
    "x = int(input('몇번 돌리고 싶으세요: '))\n",
    "\n",
    "for i in range(x):\n",
    "    y = int(input('몇번하고 싶으세요: '))\n",
    "    for j in range(y):\n",
    "        print('\\tHello World!', str(i+1)+'의 '+str(j+1)+'번째', sep='\\t')\n",
    "print('End')"
   ]
  },
  {
   "cell_type": "code",
   "execution_count": 397,
   "id": "91b90c30",
   "metadata": {},
   "outputs": [
    {
     "name": "stdout",
     "output_type": "stream",
     "text": [
      "몇번 돌리고 싶으세요: 3\n",
      "몇번하고 싶으세요: 2\n",
      "\tHello World!\t1의 1번째\n",
      "\tHello World!\t1의 2번째\n",
      "몇번하고 싶으세요: 1\n",
      "\tHello World!\t2의 1번째\n",
      "몇번하고 싶으세요: 3\n",
      "\tHello World!\t3의 1번째\n",
      "\tHello World!\t3의 2번째\n",
      "\tHello World!\t3의 3번째\n",
      "End\n"
     ]
    }
   ],
   "source": [
    "# 연습 2\n",
    "x = int(input('몇번 돌리고 싶으세요: '))\n",
    "\n",
    "i = 0\n",
    "while i < x:\n",
    "    y = int(input('몇번하고 싶으세요: '))\n",
    "    j = 0;\n",
    "    while j < y:\n",
    "        print('\\tHello World!', str(i+1)+'의 '+str(j+1)+'번째', sep='\\t')\n",
    "        j += 1\n",
    "    i += 1\n",
    "print('End')"
   ]
  },
  {
   "cell_type": "code",
   "execution_count": 7,
   "id": "0a6c235d",
   "metadata": {},
   "outputs": [],
   "source": [
    "# 난수 생성\n",
    "import random"
   ]
  },
  {
   "cell_type": "code",
   "execution_count": 6,
   "id": "43073f4c",
   "metadata": {},
   "outputs": [
    {
     "ename": "NameError",
     "evalue": "name 'random' is not defined",
     "output_type": "error",
     "traceback": [
      "\u001b[0;31m---------------------------------------------------------------------------\u001b[0m",
      "\u001b[0;31mNameError\u001b[0m                                 Traceback (most recent call last)",
      "\u001b[0;32m<ipython-input-6-1e16b7152bea>\u001b[0m in \u001b[0;36m<module>\u001b[0;34m\u001b[0m\n\u001b[0;32m----> 1\u001b[0;31m \u001b[0mrandom\u001b[0m\u001b[0;34m.\u001b[0m\u001b[0mrandom\u001b[0m\u001b[0;34m(\u001b[0m\u001b[0;34m)\u001b[0m\u001b[0;34m\u001b[0m\u001b[0;34m\u001b[0m\u001b[0m\n\u001b[0m",
      "\u001b[0;31mNameError\u001b[0m: name 'random' is not defined"
     ]
    }
   ],
   "source": [
    "random.random()"
   ]
  },
  {
   "cell_type": "code",
   "execution_count": 67,
   "id": "3ca708da",
   "metadata": {},
   "outputs": [
    {
     "name": "stdout",
     "output_type": "stream",
     "text": [
      "[4, 12, 19, 20, 23, 35]\n"
     ]
    }
   ],
   "source": [
    "# 로또 번호 뽑기\n",
    "allNumber = list(range(1, 46))\n",
    "selectNumber = []\n",
    "for i in range(0, 6):\n",
    "    thisNumber = random.randint(1, len(allNumber)) - 1\n",
    "    selectNumber.append(allNumber[thisNumber])\n",
    "    allNumber.pop(thisNumber)\n",
    "\n",
    "selectNumber.sort()\n",
    "print(selectNumber)"
   ]
  },
  {
   "cell_type": "code",
   "execution_count": 450,
   "id": "1e508f4c",
   "metadata": {},
   "outputs": [
    {
     "name": "stdout",
     "output_type": "stream",
     "text": [
      "0\n",
      "1\n",
      "2\n",
      "3\n",
      "4\n"
     ]
    }
   ],
   "source": [
    "# break로 반복문 제어\n",
    "i = 0\n",
    "while True: # 무한 루프\n",
    "    print(i)\n",
    "    i += 1\n",
    "    if i == 5:\n",
    "        break"
   ]
  },
  {
   "cell_type": "code",
   "execution_count": 461,
   "id": "daa8ca6b",
   "metadata": {},
   "outputs": [
    {
     "name": "stdout",
     "output_type": "stream",
     "text": [
      "1\n",
      "3\n",
      "5\n",
      "7\n",
      "9\n"
     ]
    }
   ],
   "source": [
    "# continue로 반복문 제어\n",
    "for i in range(10):\n",
    "    if i % 2 == 0:\n",
    "        continue\n",
    "    print(i)"
   ]
  },
  {
   "cell_type": "code",
   "execution_count": 468,
   "id": "6a32b320",
   "metadata": {},
   "outputs": [
    {
     "name": "stdout",
     "output_type": "stream",
     "text": [
      "*\n",
      "**\n",
      "***\n",
      "****\n",
      "*****\n"
     ]
    }
   ],
   "source": [
    "# 계단식으로 별 출력하기\n",
    "for i in range(5):\n",
    "    print('*'*(i+1))"
   ]
  },
  {
   "cell_type": "code",
   "execution_count": 501,
   "id": "560e1599",
   "metadata": {},
   "outputs": [
    {
     "name": "stdout",
     "output_type": "stream",
     "text": [
      "*\n",
      "**\n",
      "***\n",
      "****\n",
      "*****\n"
     ]
    }
   ],
   "source": [
    "# 계단식으로 별 출력하기 2\n",
    "for i in range(5):\n",
    "    for j in range(i+1):\n",
    "        print('*', end='')\n",
    "    print()"
   ]
  },
  {
   "cell_type": "code",
   "execution_count": 518,
   "id": "8a16c7fc",
   "metadata": {},
   "outputs": [
    {
     "name": "stdout",
     "output_type": "stream",
     "text": [
      "*\n",
      "**\n",
      "***\n",
      "****\n",
      "*****\n"
     ]
    }
   ],
   "source": [
    "# 계단식으로 별 출력하기 3\n",
    "for i in range(5):\n",
    "    for j in range(5):\n",
    "        if i >= j:\n",
    "            print('*', end='')\n",
    "    print()"
   ]
  },
  {
   "cell_type": "code",
   "execution_count": 520,
   "id": "5f00235c",
   "metadata": {},
   "outputs": [
    {
     "name": "stdout",
     "output_type": "stream",
     "text": [
      "*****\n",
      " ****\n",
      "  ***\n",
      "   **\n",
      "    *\n"
     ]
    }
   ],
   "source": [
    "# 계단식으로 별 출력하기 4\n",
    "for i in range(5):\n",
    "    for j in range(5):\n",
    "        if i <= j:\n",
    "            print('*', end='')\n",
    "        else :\n",
    "            print(' ', end='')\n",
    "    print()"
   ]
  },
  {
   "cell_type": "code",
   "execution_count": 503,
   "id": "d8df46e3",
   "metadata": {},
   "outputs": [
    {
     "name": "stdout",
     "output_type": "stream",
     "text": [
      "*    \n",
      " *   \n",
      "  *  \n",
      "   * \n",
      "    *\n"
     ]
    }
   ],
   "source": [
    "# 대각선으로 별 출력하기\n",
    "for i in range(5):\n",
    "    for j in range(5):\n",
    "        if i == j:\n",
    "            print('*', end='')\n",
    "        else:\n",
    "            print(' ', end='')\n",
    "    print()"
   ]
  },
  {
   "cell_type": "code",
   "execution_count": 517,
   "id": "8be08693",
   "metadata": {},
   "outputs": [
    {
     "name": "stdout",
     "output_type": "stream",
     "text": [
      "*   *\n",
      " * * \n",
      "  *  \n",
      " * * \n",
      "*   *\n"
     ]
    }
   ],
   "source": [
    "# X로 별 출력하기\n",
    "for i in range(5):\n",
    "    for j in range(5):\n",
    "        if i == j or i + j == 4:\n",
    "            print('*', end='')\n",
    "        else:\n",
    "            print(' ', end='')\n",
    "    print()"
   ]
  },
  {
   "cell_type": "code",
   "execution_count": 1,
   "id": "a3c9a787",
   "metadata": {},
   "outputs": [
    {
     "name": "stdout",
     "output_type": "stream",
     "text": [
      "산의 높이를 설정해주세요: 5\n",
      "     *    \n",
      "    ***   \n",
      "   *****  \n",
      "  ******* \n",
      " *********\n"
     ]
    }
   ],
   "source": [
    "# 산모양으로 별 출력하기\n",
    "x = int(input('산의 높이를 설정해주세요: '))\n",
    "for i in range(x):\n",
    "    for j in range(2*x):\n",
    "        if j >= x - i and j <= x + i:\n",
    "            print('*', end='')\n",
    "        else : \n",
    "            print(' ', end='')\n",
    "    print()"
   ]
  },
  {
   "cell_type": "code",
   "execution_count": 539,
   "id": "9b7bc034",
   "metadata": {},
   "outputs": [],
   "source": [
    "# 터틀 그래픽스로 그림 그리기\n",
    "import turtle as t"
   ]
  },
  {
   "cell_type": "code",
   "execution_count": 29,
   "id": "125a20a6",
   "metadata": {},
   "outputs": [
    {
     "name": "stdout",
     "output_type": "stream",
     "text": [
      "[10, 20, 30, 500]\n",
      "4\n"
     ]
    }
   ],
   "source": [
    "# 리스트에 요소 하나를 추가\n",
    "a = [10, 20, 30]\n",
    "a.append(500)\n",
    "print(a)\n",
    "print(len(a))"
   ]
  },
  {
   "cell_type": "code",
   "execution_count": 13,
   "id": "73841b98",
   "metadata": {},
   "outputs": [],
   "source": [
    "# 사용할 수 있는 함수의 목록\n",
    "# dir(a)\n",
    "# a.__dir__()"
   ]
  },
  {
   "cell_type": "code",
   "execution_count": 30,
   "id": "aba876ff",
   "metadata": {},
   "outputs": [
    {
     "name": "stdout",
     "output_type": "stream",
     "text": [
      "[10, 20, 30, [500, 600]]\n",
      "4\n",
      "600\n"
     ]
    }
   ],
   "source": [
    "# 리스트에 리스트를 추가\n",
    "a = [10, 20, 30]\n",
    "a.append([500, 600])\n",
    "print(a)\n",
    "print(len(a))\n",
    "print(a[3][1])"
   ]
  },
  {
   "cell_type": "code",
   "execution_count": 31,
   "id": "492ba74f",
   "metadata": {},
   "outputs": [
    {
     "name": "stdout",
     "output_type": "stream",
     "text": [
      "[10, 20, 30, 500, 600]\n",
      "5\n"
     ]
    }
   ],
   "source": [
    "# 리스트 확장하기\n",
    "a = [10, 20 ,30]\n",
    "a.extend([500, 600])\n",
    "print(a)\n",
    "print(len(a))"
   ]
  },
  {
   "cell_type": "code",
   "execution_count": 32,
   "id": "68bbc4c5",
   "metadata": {},
   "outputs": [
    {
     "name": "stdout",
     "output_type": "stream",
     "text": [
      "[10, 20, 500, 30]\n",
      "4\n"
     ]
    }
   ],
   "source": [
    "# 리스트의 특정 인덱스에 요소 추가하기\n",
    "a = [10, 20, 30]\n",
    "a.insert(2, 500)\n",
    "print(a)\n",
    "print(len(a))"
   ]
  },
  {
   "cell_type": "code",
   "execution_count": 36,
   "id": "a6613050",
   "metadata": {},
   "outputs": [
    {
     "name": "stdout",
     "output_type": "stream",
     "text": [
      "[10, 20, 30, 500]\n",
      "4\n",
      "[10, [500, 600], 20, 30]\n"
     ]
    }
   ],
   "source": [
    "# 리스트 맨 뒤에 요소 추가\n",
    "a = [10, 20, 30]\n",
    "a.insert(len(a), 500)\n",
    "print(a)\n",
    "print(len(a))\n",
    "\n",
    "b = [10, 20, 30]\n",
    "b.insert(1, [500, 600])\n",
    "print(b)"
   ]
  },
  {
   "cell_type": "code",
   "execution_count": 39,
   "id": "a134d4fc",
   "metadata": {},
   "outputs": [
    {
     "name": "stdout",
     "output_type": "stream",
     "text": [
      "[10, 500, 600, 20, 30]\n"
     ]
    }
   ],
   "source": [
    "# 슬라이스를 사용하여 특정 인덱스에 요소추가\n",
    "a = [10, 20, 30]\n",
    "a[1:1] = [500, 600]\n",
    "print(a)"
   ]
  },
  {
   "cell_type": "code",
   "execution_count": 44,
   "id": "1f4fc999",
   "metadata": {},
   "outputs": [
    {
     "name": "stdout",
     "output_type": "stream",
     "text": [
      "[10, 20]\n",
      "[10, 30]\n"
     ]
    }
   ],
   "source": [
    "# 리스트에서 마지막 인덱스의 요소를 삭제하기\n",
    "a = [10, 20, 30]\n",
    "a.pop()\n",
    "print(a)\n",
    "\n",
    "# 리스트에서 특정 인덱스의 요소를 삭제하기\n",
    "b = [10, 20, 30]\n",
    "b.pop(1) # del b[1]과 같음\n",
    "print(b)"
   ]
  },
  {
   "cell_type": "code",
   "execution_count": 47,
   "id": "e3d7e28a",
   "metadata": {},
   "outputs": [
    {
     "name": "stdout",
     "output_type": "stream",
     "text": [
      "[10, 30]\n",
      "[10, 30, 20]\n"
     ]
    }
   ],
   "source": [
    "# 리스트에서 특정 값을 찾아서 삭제하기\n",
    "a = [10, 20, 30]\n",
    "a.remove(20)\n",
    "print(a)\n",
    "\n",
    "b = [10, 20, 30, 20]\n",
    "b.remove(20)\n",
    "print(b)"
   ]
  },
  {
   "cell_type": "code",
   "execution_count": 50,
   "id": "4ab51803",
   "metadata": {},
   "outputs": [
    {
     "name": "stdout",
     "output_type": "stream",
     "text": [
      "몇개의 값을 입력하시나요: 5\n",
      "값을 입력해주세요: 1\n",
      "0 번째 값입력됨\n",
      "값을 입력해주세요: 2\n",
      "1 번째 값입력됨\n",
      "값을 입력해주세요: 3\n",
      "2 번째 값입력됨\n",
      "값을 입력해주세요: 4\n",
      "3 번째 값입력됨\n",
      "값을 입력해주세요: 5\n",
      "4 번째 값입력됨\n",
      "입력된 값을 수택구조로 출력하겠습니다.\n",
      "5\n",
      "4\n",
      "3\n",
      "2\n",
      "1\n"
     ]
    }
   ],
   "source": [
    "# FILO(Frist In Last Out)\n",
    "a = []\n",
    "cnt = int(input(\"몇개의 값을 입력하시나요: \"))\n",
    "for i in range(cnt):\n",
    "    val = int(input(\"값을 입력해주세요: \"))\n",
    "    a.append(val)\n",
    "    print(i+1,\"번째 값입력됨\")\n",
    "\n",
    "print(\"입력된 값을 스택구조로 출력하겠습니다.\")\n",
    "\n",
    "for i in range(len(a)):\n",
    "    print(a.pop())"
   ]
  },
  {
   "cell_type": "code",
   "execution_count": 59,
   "id": "bdc2ee9e",
   "metadata": {},
   "outputs": [
    {
     "name": "stdout",
     "output_type": "stream",
     "text": [
      "몇개의 값을 입력하시나요: 5\n",
      "값을 입력해주세요: 1\n",
      "1 번째 값입력됨\n",
      "값을 입력해주세요: 2\n",
      "2 번째 값입력됨\n",
      "값을 입력해주세요: 3\n",
      "3 번째 값입력됨\n",
      "값을 입력해주세요: 4\n",
      "4 번째 값입력됨\n",
      "값을 입력해주세요: 5\n",
      "5 번째 값입력됨\n",
      "입력된 값을 스택구조로 출력하겠습니다.\n",
      "1\n",
      "2\n",
      "3\n",
      "4\n",
      "5\n"
     ]
    }
   ],
   "source": [
    "# FIFO(Frist In Frist Out)\n",
    "a = []\n",
    "cnt = int(input(\"몇개의 값을 입력하시나요: \"))\n",
    "for i in range(cnt):\n",
    "    val = int(input(\"값을 입력해주세요: \"))\n",
    "    a.append(val)\n",
    "    print(i+1,\"번째 값입력됨\")\n",
    "\n",
    "print(\"입력된 값을 스택구조로 출력하겠습니다.\")\n",
    "\n",
    "for i in range(len(a)):\n",
    "    print(a.pop(0))"
   ]
  },
  {
   "cell_type": "code",
   "execution_count": 61,
   "id": "d056ac0b",
   "metadata": {},
   "outputs": [
    {
     "data": {
      "text/plain": [
       "1"
      ]
     },
     "execution_count": 61,
     "metadata": {},
     "output_type": "execute_result"
    }
   ],
   "source": [
    "# 리스트에서 특정 값의 인덱스 구하기\n",
    "a = [10, 20, 30, 15, 20, 40]\n",
    "a.index(20)"
   ]
  },
  {
   "cell_type": "code",
   "execution_count": 62,
   "id": "6c35a11a",
   "metadata": {},
   "outputs": [
    {
     "data": {
      "text/plain": [
       "2"
      ]
     },
     "execution_count": 62,
     "metadata": {},
     "output_type": "execute_result"
    }
   ],
   "source": [
    "# 리스트에서 특정 값의 개수 구하기\n",
    "a = [10, 20, 30, 15, 20, 40]\n",
    "a.count(20)"
   ]
  },
  {
   "cell_type": "code",
   "execution_count": 64,
   "id": "ed362e4f",
   "metadata": {},
   "outputs": [
    {
     "data": {
      "text/plain": [
       "[40, 20, 15, 30, 20, 10]"
      ]
     },
     "execution_count": 64,
     "metadata": {},
     "output_type": "execute_result"
    }
   ],
   "source": [
    "# 리스트의 순서를 뒤집기\n",
    "a = [10, 20, 30, 15, 20, 40]\n",
    "a.reverse()\n",
    "a"
   ]
  },
  {
   "cell_type": "code",
   "execution_count": 83,
   "id": "ccdd9e0f",
   "metadata": {},
   "outputs": [
    {
     "name": "stdout",
     "output_type": "stream",
     "text": [
      "[10, 15, 20, 20, 30, 40]\n",
      "[40, 30, 20, 20, 15, 10]\n",
      "[10, 15, 20, 20, 30, 40]\n"
     ]
    }
   ],
   "source": [
    "# 리스트의 요소를 정렬하기\n",
    "a = [10, 20, 30, 15, 20, 40]\n",
    "a.sort() # a의 내용을 변경하여 저장\n",
    "print(a)\n",
    "a.sort(reverse=True) # 내림차순\n",
    "print(a)\n",
    "b = sorted(a) # 정렬된 새 리스트를 생성\n",
    "print(b)"
   ]
  },
  {
   "cell_type": "code",
   "execution_count": 81,
   "id": "bc057189",
   "metadata": {},
   "outputs": [
    {
     "data": {
      "text/plain": [
       "[]"
      ]
     },
     "execution_count": 81,
     "metadata": {},
     "output_type": "execute_result"
    }
   ],
   "source": [
    "# 리스트의 모든 요소를 삭제\n",
    "a = [10, 20, 30]\n",
    "a.clear() # del a[:]과 같음\n",
    "a"
   ]
  },
  {
   "cell_type": "code",
   "execution_count": 112,
   "id": "912db4a9",
   "metadata": {},
   "outputs": [
    {
     "name": "stdout",
     "output_type": "stream",
     "text": [
      "a is b:  True\n",
      "a == b:  True\n",
      "a is c:  False\n",
      "a == c:  True\n",
      "a's ID:  140671078389952\n",
      "b's ID:  140671078389952\n",
      "c's ID:  140671078390592\n"
     ]
    }
   ],
   "source": [
    "a = [0, 0, 0, 0, 0]\n",
    "b = a\n",
    "print('a is b: ', a is b)\n",
    "print('a == b: ', a == b)\n",
    "c = a.copy()\n",
    "print('a is c: ', a is c)\n",
    "print('a == c: ', a == c)\n",
    "\n",
    "print('a\\'s ID: ', id(a))\n",
    "print('b\\'s ID: ', id(b))\n",
    "print('c\\'s ID: ', id(c))"
   ]
  },
  {
   "cell_type": "code",
   "execution_count": 116,
   "id": "54b9c3e7",
   "metadata": {},
   "outputs": [
    {
     "name": "stdout",
     "output_type": "stream",
     "text": [
      "1 38\n",
      "2 21\n",
      "3 53\n",
      "4 62\n",
      "5 19\n"
     ]
    }
   ],
   "source": [
    "# 인덱스와 요소를 함께 출력하기\n",
    "a = [38, 21, 53, 62, 19]\n",
    "for index, value in enumerate(a, start = 1):\n",
    "    print(index, value)"
   ]
  },
  {
   "cell_type": "code",
   "execution_count": 118,
   "id": "7aca982e",
   "metadata": {},
   "outputs": [
    {
     "name": "stdout",
     "output_type": "stream",
     "text": [
      "38\n",
      "21\n",
      "53\n",
      "62\n",
      "19\n"
     ]
    }
   ],
   "source": [
    "a = [38, 21, 53, 62, 19]\n",
    "i = 0\n",
    "while i < len(a):\n",
    "    print(a[i])\n",
    "    i += 1"
   ]
  },
  {
   "cell_type": "code",
   "execution_count": 128,
   "id": "ad3467d5",
   "metadata": {},
   "outputs": [
    {
     "name": "stdout",
     "output_type": "stream",
     "text": [
      "반복문을 이용하여 구하기\n",
      "min:  19\n",
      "max:  62\n",
      "\n",
      "정렬을 이용하여 구하기\n",
      "min:  19\n",
      "max:  62\n",
      "\n",
      "함수를 이용하여 구하기\n",
      "min:  19\n",
      "max:  62\n",
      "\n",
      "합 구하기\n",
      "sum:  204\n"
     ]
    }
   ],
   "source": [
    "# 최소값 최대값 구하기\n",
    "print('반복문을 이용하여 구하기')\n",
    "a = [38, 32, 53, 62, 19]\n",
    "smallest = a[0]\n",
    "i = 1\n",
    "while i < len(a):\n",
    "    if smallest > a[i]:\n",
    "        smallest = a[i]\n",
    "    i += 1\n",
    "\n",
    "print('min: ', smallest)\n",
    "\n",
    "largest = a[0]\n",
    "for i in a:\n",
    "    if i > largest:\n",
    "        largest = i\n",
    "print('max: ', largest)\n",
    "\n",
    "print('\\n정렬을 이용하여 구하기')\n",
    "a.sort()\n",
    "print('min: ', a[0])\n",
    "a.sort(reverse=True)\n",
    "print('max: ', a[0])\n",
    "\n",
    "print('\\n함수를 이용하여 구하기')\n",
    "print('min: ', min(a))\n",
    "print('max: ', max(a))\n",
    "\n",
    "# 요소의 합계 구하기\n",
    "print('\\n합 구하기')\n",
    "print('sum: ', sum(a))"
   ]
  },
  {
   "cell_type": "code",
   "execution_count": 151,
   "id": "1223cb9c",
   "metadata": {},
   "outputs": [
    {
     "name": "stdout",
     "output_type": "stream",
     "text": [
      "[1, 2, 3, 4, 5]\n",
      "[2, 4, 6, 8, 10]\n",
      "[0, 2, 4, 6, 8]\n",
      "[2, 4, 6, 8, 10, 12, 14, 16, 18, 3, 6, 9, 12, 15, 18, 21, 24, 27, 4, 8, 12, 16, 20, 24, 28, 32, 36, 5, 10, 15, 20, 25, 30, 35, 40, 45, 6, 12, 18, 24, 30, 36, 42, 48, 54, 7, 14, 21, 28, 35, 42, 49, 56, 63, 8, 16, 24, 32, 40, 48, 56, 64, 72, 9, 18, 27, 36, 45, 54, 63, 72, 81]\n"
     ]
    }
   ],
   "source": [
    "a = [i for i in range(1,6)]\n",
    "b = [i * 2 for i in range(1,6)]\n",
    "c = [i for i in range(10) if i % 2 == 0]\n",
    "d = [j * i for j in range(2,10) for i in range(1,10)]\n",
    "print(a)\n",
    "print(b)\n",
    "print(c)\n",
    "print(d)"
   ]
  },
  {
   "cell_type": "code",
   "execution_count": 162,
   "id": "9e06c554",
   "metadata": {},
   "outputs": [
    {
     "data": {
      "text/plain": [
       "[[10, 20], [30, 40], [50, [100, 200]]]"
      ]
     },
     "execution_count": 162,
     "metadata": {},
     "output_type": "execute_result"
    }
   ],
   "source": [
    "a = [\n",
    "        [10, 20],\n",
    "        [30, 40],\n",
    "        [50, 60]\n",
    "    ]\n",
    "a[2][1] = [100, 200]\n",
    "a"
   ]
  },
  {
   "cell_type": "code",
   "execution_count": 171,
   "id": "ff5fb69c",
   "metadata": {},
   "outputs": [
    {
     "name": "stdout",
     "output_type": "stream",
     "text": [
      "10 20\n",
      "30 40\n",
      "50 60\n",
      "10 20 30\n",
      "40 50 60\n",
      "70 80 90\n"
     ]
    }
   ],
   "source": [
    "# 반복문으로 2차원 리스트의 요소를 모두 출력하기\n",
    "a = [[10, 20], [30, 40], [50, 60]]\n",
    "for x, y in a:\n",
    "    print(x, y)\n",
    "    \n",
    "b = [[10, 20, 30], [40, 50, 60], [70, 80, 90]]\n",
    "for x, y, z in b:\n",
    "    print(x, y, z)"
   ]
  },
  {
   "cell_type": "code",
   "execution_count": 173,
   "id": "84605c37",
   "metadata": {},
   "outputs": [
    {
     "data": {
      "text/plain": [
       "[[0, 0], [0, 0], [0, 0]]"
      ]
     },
     "execution_count": 173,
     "metadata": {},
     "output_type": "execute_result"
    }
   ],
   "source": [
    "# 리스트 표현식으로 2차원 리스트 만들기\n",
    "a = [[ 0 for j in range(2)] for i in range(3)]\n",
    "a"
   ]
  },
  {
   "cell_type": "code",
   "execution_count": 177,
   "id": "259e9e2b",
   "metadata": {},
   "outputs": [
    {
     "name": "stdout",
     "output_type": "stream",
     "text": [
      "[[500, 20], [30, 40]]\n",
      "[[500, 20], [30, 40]]\n"
     ]
    }
   ],
   "source": [
    "a = [[10, 20], [30, 40]]\n",
    "b = a.copy()\n",
    "b[0][0] = 500\n",
    "print(a)\n",
    "print(b)"
   ]
  },
  {
   "cell_type": "code",
   "execution_count": 180,
   "id": "f54bdaee",
   "metadata": {},
   "outputs": [
    {
     "name": "stdout",
     "output_type": "stream",
     "text": [
      "[[10, 20], [30, 40]]\n",
      "[[500, 20], [30, 40]]\n"
     ]
    }
   ],
   "source": [
    "import copy\n",
    "a = [[10, 20], [30, 40]]\n",
    "b = copy.deepcopy(a)\n",
    "b[0][0] = 500\n",
    "print(a)\n",
    "print(b)"
   ]
  },
  {
   "cell_type": "code",
   "execution_count": 186,
   "id": "02599416",
   "metadata": {},
   "outputs": [
    {
     "name": "stdout",
     "output_type": "stream",
     "text": [
      "Hello, Python!\n"
     ]
    }
   ],
   "source": [
    "# 문자열 바꾸기\n",
    "s = 'Hello, World!'\n",
    "s = s.replace('World', 'Python')\n",
    "print(s)"
   ]
  },
  {
   "cell_type": "code",
   "execution_count": 191,
   "id": "ffd6399c",
   "metadata": {},
   "outputs": [
    {
     "data": {
      "text/plain": [
       "'1ppl2'"
      ]
     },
     "execution_count": 191,
     "metadata": {},
     "output_type": "execute_result"
    }
   ],
   "source": [
    "table = str.maketrans('aeiou', '12345')\n",
    "'apple'.translate(table)"
   ]
  },
  {
   "cell_type": "code",
   "execution_count": 192,
   "id": "5027c6cb",
   "metadata": {},
   "outputs": [
    {
     "data": {
      "text/plain": [
       "['apple', 'pear', 'grape', 'pinepple', 'orange']"
      ]
     },
     "execution_count": 192,
     "metadata": {},
     "output_type": "execute_result"
    }
   ],
   "source": [
    "# 문자열 분리하기\n",
    "'apple pear grape pinepple orange'.split()"
   ]
  },
  {
   "cell_type": "code",
   "execution_count": 197,
   "id": "63d1d2c1",
   "metadata": {},
   "outputs": [
    {
     "data": {
      "text/plain": [
       "'apple-pear-grape-pinepple-orange'"
      ]
     },
     "execution_count": 197,
     "metadata": {},
     "output_type": "execute_result"
    }
   ],
   "source": [
    "# 구분자 문자열과 문자열 리스트 연결하기\n",
    "'-'.join(['apple', 'pear', 'grape', 'pinepple', 'orange'])"
   ]
  },
  {
   "cell_type": "code",
   "execution_count": 216,
   "id": "45781394",
   "metadata": {},
   "outputs": [
    {
     "data": {
      "text/plain": [
       "'  python  '"
      ]
     },
     "execution_count": 216,
     "metadata": {},
     "output_type": "execute_result"
    }
   ],
   "source": [
    "# 소문자를 대문자로 바꾸기\n",
    "'python'.upper()\n",
    "# 대문자를 소문자로 바꾸기\n",
    "'PYTHON'.lower()\n",
    "# 왼쪽 공백 삭제하기\n",
    "'    Python    '.lstrip()\n",
    "# 오른쪽 공백 삭제하기\n",
    "'    Python    '.rstrip()\n",
    "# 양쪽 공백 삭제하기\n",
    "'    Python    '.strip()\n",
    "# 왼쪽 특정 문자 삭제하기\n",
    "', Python.'.lstrip(',.')\n",
    "# 오른쪽 특정 문자 삭제하기\n",
    "', Python.'.rstrip(',.')\n",
    "# 양쪽 특정 문자 삭제하기\n",
    "', Python.'.strip(',.')\n",
    "# 문자열을 왼쪽으로 정렬하기\n",
    "'python'.ljust(10)\n",
    "# 문자열을 오른쪽으로 정렬하기\n",
    "'python'.rjust(10)\n",
    "# 문자열을 중앙으로 정렬하기\n",
    "'python'.center(10)"
   ]
  },
  {
   "cell_type": "code",
   "execution_count": 217,
   "id": "5b34a301",
   "metadata": {},
   "outputs": [
    {
     "data": {
      "text/plain": [
       "'  PYTHON  '"
      ]
     },
     "execution_count": 217,
     "metadata": {},
     "output_type": "execute_result"
    }
   ],
   "source": [
    "# 매서드 체이닝\n",
    "'python'.center(10).upper()"
   ]
  },
  {
   "cell_type": "code",
   "execution_count": 233,
   "id": "47b6aabb",
   "metadata": {},
   "outputs": [
    {
     "data": {
      "text/plain": [
       "'Today is 9월 15일. 파이는 3.141592'"
      ]
     },
     "execution_count": 233,
     "metadata": {},
     "output_type": "execute_result"
    }
   ],
   "source": [
    "# 서식 지정자로 문자열 안에 값 여러 개 넣기\n",
    "'Today is %s %d일. 파이는 %f' % ('9월', 15, 3.141592)"
   ]
  },
  {
   "cell_type": "code",
   "execution_count": null,
   "id": "f2a047ff",
   "metadata": {},
   "outputs": [],
   "source": []
  }
 ],
 "metadata": {
  "kernelspec": {
   "display_name": "Python 3",
   "language": "python",
   "name": "python3"
  },
  "language_info": {
   "codemirror_mode": {
    "name": "ipython",
    "version": 3
   },
   "file_extension": ".py",
   "mimetype": "text/x-python",
   "name": "python",
   "nbconvert_exporter": "python",
   "pygments_lexer": "ipython3",
   "version": "3.8.8"
  }
 },
 "nbformat": 4,
 "nbformat_minor": 5
}
