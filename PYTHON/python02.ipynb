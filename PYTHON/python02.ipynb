{
 "cells": [
  {
   "cell_type": "code",
   "execution_count": null,
   "id": "072899fa",
   "metadata": {},
   "outputs": [],
   "source": [
    "# 파일에 문자열 쓰기\n",
    "file = open('hello.txt', 'w')\n",
    "file.write('Hello, World!')\n",
    "file.close()"
   ]
  },
  {
   "cell_type": "code",
   "execution_count": null,
   "id": "6c264c7d",
   "metadata": {},
   "outputs": [],
   "source": [
    "# 파일에 문자열 읽기\n",
    "file = open('hello.txt', 'r')\n",
    "s = file.read()\n",
    "print(s)\n",
    "file.close()"
   ]
  },
  {
   "cell_type": "code",
   "execution_count": null,
   "id": "1b1ee13e",
   "metadata": {},
   "outputs": [],
   "source": [
    "# 자동으로 파일 객체 닫기\n",
    "with open('hello.txt', 'r') as file:\n",
    "    s = file.read()\n",
    "    print(s)"
   ]
  },
  {
   "cell_type": "code",
   "execution_count": null,
   "id": "1ccf8fc4",
   "metadata": {},
   "outputs": [],
   "source": [
    "# 반복문으로 문자열 여러 줄을 파일에 쓰기\n",
    "with open('hello.txt', 'w') as file:\n",
    "    for i in range(3):\n",
    "        file.write('Hello, World {0}, {1}\\n'.format(i, i+1))"
   ]
  },
  {
   "cell_type": "code",
   "execution_count": null,
   "id": "c8f453c2",
   "metadata": {},
   "outputs": [],
   "source": [
    "# 리스트에 들어있는 문자열을 파일에 쓰기\n",
    "lines = ['안녕하세요\\n', '파이썬\\n', '코딩 도장입니다.\\n']\n",
    "\n",
    "with open('hello.txt', 'w') as file:\n",
    "    file.writelines(lines)"
   ]
  },
  {
   "cell_type": "code",
   "execution_count": null,
   "id": "aa2c801c",
   "metadata": {},
   "outputs": [],
   "source": [
    "# 파일의 내용을 한 줄씩 리스트로 가져오기\n",
    "with open('hello.txt', 'r') as file:\n",
    "    lines = file.readlines()\n",
    "    print(lines)"
   ]
  },
  {
   "cell_type": "code",
   "execution_count": null,
   "id": "6e9418ff",
   "metadata": {},
   "outputs": [],
   "source": [
    "# 여러 줄 일때 파일의 내용을 전체 읽기\n",
    "with open('hello.txt', 'r') as file:\n",
    "    line = file.read()\n",
    "    print(line)"
   ]
  },
  {
   "cell_type": "code",
   "execution_count": null,
   "id": "fac5a4a6",
   "metadata": {},
   "outputs": [],
   "source": [
    "# 파일의 내용을 한 줄씩 읽기\n",
    "with open('hello.txt', 'r') as file:\n",
    "    line = None\n",
    "    while line != '':\n",
    "        line = file.readline()\n",
    "        print(line, end='') # print(line.strip('\\n'))"
   ]
  },
  {
   "cell_type": "code",
   "execution_count": null,
   "id": "5fa25c9d",
   "metadata": {},
   "outputs": [],
   "source": [
    "file = open('hello.txt', 'r')\n",
    "a, b, c = file\n",
    "print(a, b, c)"
   ]
  },
  {
   "cell_type": "code",
   "execution_count": null,
   "id": "537b9f78",
   "metadata": {},
   "outputs": [],
   "source": [
    "with open('hello.txt', 'r') as file:\n",
    "    for line in file:\n",
    "        print(line, end='')"
   ]
  },
  {
   "cell_type": "code",
   "execution_count": null,
   "id": "47a96406",
   "metadata": {},
   "outputs": [],
   "source": [
    "# 파이썬 객체를 파일에 저장하기\n",
    "import pickle\n",
    "\n",
    "name = 'james'\n",
    "age = 17\n",
    "address = '서울시 서초구 반포동'\n",
    "scores = {'korea': 90, 'english': 95, 'mathematics': 85, 'science': 82}\n",
    "\n",
    "with open('james.p', 'wb') as file:\n",
    "    pickle.dump(name, file)\n",
    "    pickle.dump(age, file)\n",
    "    pickle.dump(address, file)\n",
    "    pickle.dump(scores, file)"
   ]
  },
  {
   "cell_type": "code",
   "execution_count": null,
   "id": "041db938",
   "metadata": {},
   "outputs": [],
   "source": [
    "data = {}\n",
    "with open('james.p', 'rb') as file:\n",
    "    data['name'] = pickle.load(file)\n",
    "    data['age'] = pickle.load(file)\n",
    "    data['address'] = pickle.load(file)\n",
    "    data['scores'] = pickle.load(file)\n",
    "    \n",
    "print(data)"
   ]
  },
  {
   "cell_type": "code",
   "execution_count": null,
   "id": "1512b2d8",
   "metadata": {},
   "outputs": [],
   "source": [
    "s = zip([1, 2, 3, 4], ['a', 'b', 'c', 'd'])\n",
    "for i in s:\n",
    "    print(i)"
   ]
  },
  {
   "cell_type": "code",
   "execution_count": null,
   "id": "489d1cf9",
   "metadata": {},
   "outputs": [],
   "source": [
    "text = 'hello'\n",
    "[text[i:] for i in range(3)]"
   ]
  },
  {
   "cell_type": "code",
   "execution_count": null,
   "id": "66975434",
   "metadata": {},
   "outputs": [],
   "source": [
    "list(zip([text[i:] for i in range(3)]))"
   ]
  },
  {
   "cell_type": "code",
   "execution_count": null,
   "id": "127e330e",
   "metadata": {},
   "outputs": [],
   "source": [
    "list(zip(*[text[i:] for i in range(3)]))\n",
    "\n"
   ]
  },
  {
   "cell_type": "code",
   "execution_count": null,
   "id": "c5b76022",
   "metadata": {},
   "outputs": [],
   "source": [
    "# 함수 만들기\n",
    "def hello():\n",
    "    print('Hello World!')\n",
    "\n",
    "hello()"
   ]
  },
  {
   "cell_type": "code",
   "execution_count": null,
   "id": "7c63826f",
   "metadata": {},
   "outputs": [],
   "source": [
    "# 빈 함수 만들기\n",
    "def hello():\n",
    "    pass"
   ]
  },
  {
   "cell_type": "code",
   "execution_count": null,
   "id": "e14f6588",
   "metadata": {},
   "outputs": [],
   "source": [
    "# 덧셈 함수 만들기\n",
    "def add(a, b):\n",
    "    \"\"\"이 함수는 a와 b를 더한 뒤 결과를 반환하는 함수입니다.\"\"\"\n",
    "    print(a + b)\n",
    "add(10, 20)\n",
    "help(add)"
   ]
  },
  {
   "cell_type": "code",
   "execution_count": null,
   "id": "ffc6349f",
   "metadata": {},
   "outputs": [],
   "source": [
    "# 함수의 결과를 반환하기\n",
    "def add(a, b):\n",
    "    return a + b\n",
    "\n",
    "x = add(1, 2)\n",
    "print(x)"
   ]
  },
  {
   "cell_type": "code",
   "execution_count": null,
   "id": "b6b32655",
   "metadata": {},
   "outputs": [],
   "source": [
    "def add_sub(a, b):\n",
    "    return (a + b, b - a)\n",
    "\n",
    "x, y = add_sub(10, 20)\n",
    "print(x, y)"
   ]
  },
  {
   "cell_type": "code",
   "execution_count": null,
   "id": "f8b24e3f",
   "metadata": {},
   "outputs": [],
   "source": [
    "def add(a, b):\n",
    "    return a + b\n",
    "\n",
    "def sub(a, b):\n",
    "    return a - b\n",
    "\n",
    "def add_sub(a, b):\n",
    "    return add(a, b), sub(a, b)\n",
    "    \n",
    "x = add(10, 20)\n",
    "y = sub(10, 20)\n",
    "z = add_sub(10, 20)\n",
    "\n",
    "print(x, y, z)"
   ]
  },
  {
   "cell_type": "code",
   "execution_count": null,
   "id": "856548a3",
   "metadata": {},
   "outputs": [],
   "source": [
    "s = []\n",
    "def stack_push(a):\n",
    "    if len(s) < 5:\n",
    "        s.append(a)\n",
    "    else:\n",
    "        print('스택이 꽉찼습니다.')\n",
    "    return\n",
    "\n",
    "def stack_pop():\n",
    "    if len(s) == 0:\n",
    "        print('스택이 비었습니다.')\n",
    "    else:\n",
    "        s.pop()\n",
    "    return"
   ]
  },
  {
   "cell_type": "code",
   "execution_count": null,
   "id": "0e93b746",
   "metadata": {},
   "outputs": [],
   "source": [
    "stack_push(1)\n",
    "stack_push(2)\n",
    "stack_push(3)\n",
    "stack_push(4)\n",
    "stack_push(5)\n",
    "stack_push(6)\n",
    "print(s)\n",
    "stack_pop()\n",
    "print(s)\n",
    "stack_pop()\n",
    "print(s)\n",
    "stack_pop()\n",
    "print(s)\n",
    "stack_pop()\n",
    "print(s)\n",
    "stack_pop()\n",
    "stack_pop()\n",
    "stack_pop()\n",
    "stack_pop()\n",
    "stack_pop()\n",
    "print(s)"
   ]
  },
  {
   "cell_type": "code",
   "execution_count": null,
   "id": "7a026d8f",
   "metadata": {},
   "outputs": [],
   "source": [
    "# 언패킹 사용하기\n",
    "def print_numbers(a, b, c):\n",
    "    print(a)\n",
    "    print(b)\n",
    "    print(c)\n",
    "\n",
    "x = [10, 20, 30]\n",
    "print_numbers(*x)"
   ]
  },
  {
   "cell_type": "code",
   "execution_count": null,
   "id": "b4a7ed4c",
   "metadata": {},
   "outputs": [],
   "source": [
    "# 가변 인수 함수 만들기\n",
    "def print_numbers(a, *args):\n",
    "    print(a)\n",
    "    for arg in args:\n",
    "        print(arg)\n",
    "        \n",
    "print_numbers(1,10, 20, 30, 40, 50)"
   ]
  },
  {
   "cell_type": "code",
   "execution_count": null,
   "id": "1969721c",
   "metadata": {},
   "outputs": [],
   "source": [
    "# 키워드 인수와 딕셔너리 언패킹 사용하기\n",
    "def person_info(name, age, address):\n",
    "    print('이름: ', name)\n",
    "    print('나이: ', age)\n",
    "    print('주소: ', address)\n",
    "    \n",
    "person_info(name = '홍길동', address = '서울시 용산구 이촌동', age = 29)\n",
    "\n",
    "x = {'name': '홍길동', 'age': 30, 'address': '서울시 용산구 이촌동'}\n",
    "person_info(**x)"
   ]
  },
  {
   "cell_type": "code",
   "execution_count": null,
   "id": "3724d4ea",
   "metadata": {},
   "outputs": [],
   "source": [
    "def personal_info(**kwargs):\n",
    "    for kw, arg in kwargs.items():\n",
    "        print(kw,': ',arg, sep='')\n",
    "\n",
    "x = {'name': '홍길동', 'age': 30, 'address': '서울시 용산구 이촌동'}\n",
    "personal_info(**x)"
   ]
  },
  {
   "cell_type": "code",
   "execution_count": null,
   "id": "3e49fea6",
   "metadata": {},
   "outputs": [],
   "source": [
    "def personal_info(a, *args, **kwargs):\n",
    "    print(type(a))\n",
    "    print('(a) ', a, sep='')\n",
    "    \n",
    "    print(type(args))\n",
    "    for arg in args:\n",
    "        print('(*args) ', arg, sep='')\n",
    "        \n",
    "    print(type(kwargs))\n",
    "    for kw, arg in kwargs.items():\n",
    "        print('(*kwargs) ', kw,': ',arg, sep='')\n",
    "        \n",
    "x = {'name': '홍길동', 'age': 30, 'address': '서울시 용산구 이촌동'}\n",
    "personal_info(1, 2, 3, 4, *[5, 6, 7], **{'z': 100,'y': 200}, **x)"
   ]
  },
  {
   "cell_type": "code",
   "execution_count": null,
   "id": "cdeb9b2f",
   "metadata": {},
   "outputs": [],
   "source": [
    "# 재귀함수\n",
    "cnt = 0\n",
    "def hello():\n",
    "    global cnt\n",
    "    if cnt == 5:\n",
    "        return\n",
    "    cnt += 1\n",
    "    print('pre cnt:', cnt)\n",
    "    hello()\n",
    "    print('post cnt: ', cnt)\n",
    "    cnt -= 1"
   ]
  },
  {
   "cell_type": "code",
   "execution_count": null,
   "id": "af12eea9",
   "metadata": {},
   "outputs": [],
   "source": [
    "hello()"
   ]
  },
  {
   "cell_type": "code",
   "execution_count": null,
   "id": "8dfa827c",
   "metadata": {},
   "outputs": [],
   "source": [
    "print(cnt)"
   ]
  },
  {
   "cell_type": "code",
   "execution_count": null,
   "id": "65d1164c",
   "metadata": {},
   "outputs": [],
   "source": [
    "def factorial(n):\n",
    "    if n < 0:\n",
    "        return('Error')\n",
    "    if n == 1 or n == 0:\n",
    "        return 1\n",
    "    return n * factorial(n-1)\n",
    "\n",
    "print(factorial(7))"
   ]
  },
  {
   "cell_type": "code",
   "execution_count": null,
   "id": "55a7db2d",
   "metadata": {},
   "outputs": [],
   "source": [
    "# 람다 함수(익명 함수)\n",
    "plus_ten = lambda x : x + 10\n",
    "plus_ten(1)"
   ]
  },
  {
   "cell_type": "code",
   "execution_count": null,
   "id": "46f3aa8d",
   "metadata": {},
   "outputs": [],
   "source": [
    "(lambda x : x + 10)(1)"
   ]
  },
  {
   "cell_type": "code",
   "execution_count": null,
   "id": "e7328903",
   "metadata": {},
   "outputs": [],
   "source": [
    "def three(x):\n",
    "    if x % 3 == 0:\n",
    "        x = str(x)\n",
    "        return x\n",
    "    else:\n",
    "        return x"
   ]
  },
  {
   "cell_type": "code",
   "execution_count": null,
   "id": "7dd61db4",
   "metadata": {},
   "outputs": [],
   "source": [
    "a = list(range(1, 11))\n",
    "b = []\n",
    "for i in a:\n",
    "    c = three(i)\n",
    "    b.append(c)\n",
    "b"
   ]
  },
  {
   "cell_type": "code",
   "execution_count": null,
   "id": "1735a6c7",
   "metadata": {},
   "outputs": [],
   "source": [
    "a = list(range(1, 11))\n",
    "b = list(map(lambda x: str(x) if x % 3 == 0 else x, a))\n",
    "b"
   ]
  },
  {
   "cell_type": "code",
   "execution_count": null,
   "id": "36155892",
   "metadata": {},
   "outputs": [],
   "source": [
    "# filter 사용하기\n",
    "def f(x):\n",
    "    return x > 5 and x < 10\n",
    "\n",
    "a = [8, 3, 2, 10, 15, 7, 1, 9, 0, 11]\n",
    "list(filter(f, a))"
   ]
  },
  {
   "cell_type": "code",
   "execution_count": null,
   "id": "4323c90a",
   "metadata": {},
   "outputs": [],
   "source": [
    "a = [8, 3, 2, 10, 15, 7, 1, 9, 0, 11]\n",
    "list(filter(lambda x: x > 5 and x < 10, a))"
   ]
  },
  {
   "cell_type": "code",
   "execution_count": null,
   "id": "842acf91",
   "metadata": {},
   "outputs": [],
   "source": [
    "a = [8, 3, 2, 10, 15, 7, 1, 9, 0, 11]\n",
    "def test_filter(func, data):\n",
    "    val = []\n",
    "    for i in data:\n",
    "        b = func(i)\n",
    "        if b :\n",
    "            val.append(i)\n",
    "    return val\n",
    "b = test_filter(lambda x: x > 5 and x < 10, a)\n",
    "b"
   ]
  },
  {
   "cell_type": "code",
   "execution_count": null,
   "id": "df1cee0b",
   "metadata": {},
   "outputs": [],
   "source": [
    "# reduce 사용하기\n",
    "from functools import reduce\n",
    "\n",
    "def f(x, y):\n",
    "    return x + y\n",
    "\n",
    "a = [1, 2, 3, 4, 5]\n",
    "reduce(f, a)"
   ]
  },
  {
   "cell_type": "code",
   "execution_count": null,
   "id": "cc9e094b",
   "metadata": {},
   "outputs": [],
   "source": [
    "# 전역 변수 / 지역 변수\n",
    "x = 10\n",
    "def foo():\n",
    "    global x\n",
    "    x = 20\n",
    "    print(x)\n",
    "\n",
    "foo()\n",
    "print(x)"
   ]
  },
  {
   "cell_type": "code",
   "execution_count": null,
   "id": "ea9ccc14",
   "metadata": {},
   "outputs": [],
   "source": [
    "a = foo\n",
    "a()"
   ]
  },
  {
   "cell_type": "code",
   "execution_count": 3,
   "id": "1e3d4fc1",
   "metadata": {},
   "outputs": [
    {
     "data": {
      "text/plain": [
       "{'__name__': '__main__',\n",
       " '__doc__': 'Automatically created module for IPython interactive environment',\n",
       " '__package__': None,\n",
       " '__loader__': None,\n",
       " '__spec__': None,\n",
       " '__builtin__': <module 'builtins' (built-in)>,\n",
       " '__builtins__': <module 'builtins' (built-in)>,\n",
       " '_ih': ['', 'locals()', \"locals()['__name__']\", 'locals()'],\n",
       " '_oh': {1: {...}, 2: '__main__'},\n",
       " '_dh': ['/Users/jaehyeong/Documents/code/python-project/Part_1'],\n",
       " 'In': ['', 'locals()', \"locals()['__name__']\", 'locals()'],\n",
       " 'Out': {1: {...}, 2: '__main__'},\n",
       " 'get_ipython': <bound method InteractiveShell.get_ipython of <ipykernel.zmqshell.ZMQInteractiveShell object at 0x7fa5cb8a8610>>,\n",
       " 'exit': <IPython.core.autocall.ZMQExitAutocall at 0x7fa5cb902d60>,\n",
       " 'quit': <IPython.core.autocall.ZMQExitAutocall at 0x7fa5cb902d60>,\n",
       " '_': '__main__',\n",
       " '__': {...},\n",
       " '___': '',\n",
       " '_i': \"locals()['__name__']\",\n",
       " '_ii': 'locals()',\n",
       " '_iii': '',\n",
       " '_i1': 'locals()',\n",
       " '_1': {...},\n",
       " '_i2': \"locals()['__name__']\",\n",
       " '_2': '__main__',\n",
       " '_i3': 'locals()'}"
      ]
     },
     "execution_count": 3,
     "metadata": {},
     "output_type": "execute_result"
    }
   ],
   "source": [
    "locals()"
   ]
  },
  {
   "cell_type": "code",
   "execution_count": 5,
   "id": "36656348",
   "metadata": {},
   "outputs": [
    {
     "name": "stdout",
     "output_type": "stream",
     "text": [
      "local hello\n"
     ]
    }
   ],
   "source": [
    "hello = 'global hello'\n",
    "def print_hello():\n",
    "    hello = 'Hello, world!'\n",
    "    def print_message():\n",
    "        hello = 'local hello'\n",
    "        print(hello)\n",
    "    print_message()\n",
    "\n",
    "print_hello()"
   ]
  },
  {
   "cell_type": "code",
   "execution_count": 6,
   "id": "75079757",
   "metadata": {},
   "outputs": [
    {
     "name": "stdout",
     "output_type": "stream",
     "text": [
      "10\n"
     ]
    }
   ],
   "source": [
    "def A():\n",
    "    x = 10\n",
    "    def B():\n",
    "        x = 20\n",
    "    B()\n",
    "    print(x)\n",
    "A()"
   ]
  },
  {
   "cell_type": "code",
   "execution_count": 14,
   "id": "0542d54c",
   "metadata": {},
   "outputs": [
    {
     "name": "stdout",
     "output_type": "stream",
     "text": [
      "20\n"
     ]
    }
   ],
   "source": [
    "x = 5\n",
    "def A():\n",
    "    x = 10\n",
    "    def B():\n",
    "        nonlocal x\n",
    "        x = 20\n",
    "    B()\n",
    "    print(x)\n",
    "A()"
   ]
  },
  {
   "cell_type": "code",
   "execution_count": 15,
   "id": "f6ecc0f4",
   "metadata": {},
   "outputs": [
    {
     "name": "stdout",
     "output_type": "stream",
     "text": [
      "31\n"
     ]
    }
   ],
   "source": [
    "x = 1\n",
    "def A():\n",
    "    x = 10\n",
    "    def B():\n",
    "        x = 20\n",
    "        def C():\n",
    "            global x\n",
    "            x = x + 30\n",
    "            print(x)\n",
    "        C()\n",
    "    B()\n",
    "A()"
   ]
  },
  {
   "cell_type": "code",
   "execution_count": 24,
   "id": "0f2fd651",
   "metadata": {},
   "outputs": [
    {
     "data": {
      "text/plain": [
       "8"
      ]
     },
     "execution_count": 24,
     "metadata": {},
     "output_type": "execute_result"
    }
   ],
   "source": [
    "def calc():\n",
    "    a = 3\n",
    "    b = 5\n",
    "    def mul_add(x):\n",
    "        return a * x + b\n",
    "    return mul_add\n",
    "\n",
    "c = calc()\n",
    "c(1)"
   ]
  },
  {
   "cell_type": "code",
   "execution_count": 29,
   "id": "33f84e56",
   "metadata": {},
   "outputs": [
    {
     "name": "stdout",
     "output_type": "stream",
     "text": [
      "8\n"
     ]
    }
   ],
   "source": [
    "def calc():\n",
    "    a = 3\n",
    "    b = 5\n",
    "    total = 0\n",
    "    def mul_add(x):\n",
    "        nonlocal total\n",
    "        total = total + a * x + b\n",
    "        print(total)\n",
    "    return mul_add\n",
    "\n",
    "c = calc()\n",
    "c(1)"
   ]
  },
  {
   "cell_type": "code",
   "execution_count": 61,
   "id": "f215d20e",
   "metadata": {},
   "outputs": [],
   "source": [
    "# 클래스 = 데이터 + 함수\n",
    "# 클래스 내부에서는 데이터 = 속성, 함수 = 메소드\n",
    "\n",
    "class test:\n",
    "    a = 10\n",
    "    def prt(self):\n",
    "        print(test.a)\n",
    "        \n",
    "var = 10"
   ]
  },
  {
   "cell_type": "code",
   "execution_count": 62,
   "id": "d97433e9",
   "metadata": {},
   "outputs": [
    {
     "name": "stdout",
     "output_type": "stream",
     "text": [
      "10\n"
     ]
    }
   ],
   "source": [
    "x = test()\n",
    "x.prt()"
   ]
  },
  {
   "cell_type": "code",
   "execution_count": 63,
   "id": "dfcdb180",
   "metadata": {},
   "outputs": [],
   "source": [
    "class Person:\n",
    "    def greeting(self):\n",
    "        print('Hello')\n",
    "        \n",
    "james = Person()"
   ]
  },
  {
   "cell_type": "code",
   "execution_count": 64,
   "id": "9be98072",
   "metadata": {},
   "outputs": [
    {
     "name": "stdout",
     "output_type": "stream",
     "text": [
      "Hello\n"
     ]
    }
   ],
   "source": [
    "james.greeting()"
   ]
  },
  {
   "cell_type": "code",
   "execution_count": 67,
   "id": "5fdd4026",
   "metadata": {},
   "outputs": [],
   "source": [
    "class Person:\n",
    "    pass"
   ]
  },
  {
   "cell_type": "code",
   "execution_count": 68,
   "id": "471cffa0",
   "metadata": {},
   "outputs": [
    {
     "data": {
      "text/plain": [
       "mappingproxy({'__module__': '__main__',\n",
       "              '__dict__': <attribute '__dict__' of 'Person' objects>,\n",
       "              '__weakref__': <attribute '__weakref__' of 'Person' objects>,\n",
       "              '__doc__': None})"
      ]
     },
     "execution_count": 68,
     "metadata": {},
     "output_type": "execute_result"
    }
   ],
   "source": [
    "Person.__dict__"
   ]
  },
  {
   "cell_type": "code",
   "execution_count": 82,
   "id": "d5c7070b",
   "metadata": {},
   "outputs": [],
   "source": [
    "class Person:\n",
    "    var = 300\n",
    "    def __init__(self):\n",
    "        self.hello = '안녕하세요.'\n",
    "    def greeting(self):\n",
    "        print(self.hello)"
   ]
  },
  {
   "cell_type": "code",
   "execution_count": 79,
   "id": "ded901d0",
   "metadata": {
    "scrolled": true
   },
   "outputs": [
    {
     "ename": "NameError",
     "evalue": "name 'Person' is not defined",
     "output_type": "error",
     "traceback": [
      "\u001b[0;31m---------------------------------------------------------------------------\u001b[0m",
      "\u001b[0;31mNameError\u001b[0m                                 Traceback (most recent call last)",
      "\u001b[0;32m<ipython-input-79-ab533b3835a3>\u001b[0m in \u001b[0;36m<module>\u001b[0;34m\u001b[0m\n\u001b[0;32m----> 1\u001b[0;31m \u001b[0mPerson\u001b[0m\u001b[0;34m.\u001b[0m\u001b[0m__dict__\u001b[0m\u001b[0;34m\u001b[0m\u001b[0;34m\u001b[0m\u001b[0m\n\u001b[0m",
      "\u001b[0;31mNameError\u001b[0m: name 'Person' is not defined"
     ]
    }
   ],
   "source": [
    "Person.__dict__"
   ]
  },
  {
   "cell_type": "code",
   "execution_count": 78,
   "id": "c9fc6812",
   "metadata": {},
   "outputs": [],
   "source": [
    "del Person"
   ]
  },
  {
   "cell_type": "code",
   "execution_count": 84,
   "id": "2de4fcd9",
   "metadata": {},
   "outputs": [
    {
     "data": {
      "text/plain": [
       "{'hello': '안녕하세요.'}"
      ]
     },
     "execution_count": 84,
     "metadata": {},
     "output_type": "execute_result"
    }
   ],
   "source": [
    "one = Person()\n",
    "one.__dict__"
   ]
  },
  {
   "cell_type": "code",
   "execution_count": 85,
   "id": "8b8845ed",
   "metadata": {},
   "outputs": [
    {
     "data": {
      "text/plain": [
       "300"
      ]
     },
     "execution_count": 85,
     "metadata": {},
     "output_type": "execute_result"
    }
   ],
   "source": [
    "one.var"
   ]
  },
  {
   "cell_type": "code",
   "execution_count": 92,
   "id": "5cb8a7b3",
   "metadata": {},
   "outputs": [
    {
     "data": {
      "text/plain": [
       "{'hello': '안녕하세요.', 'aaa': '이것은 원이다.'}"
      ]
     },
     "execution_count": 92,
     "metadata": {},
     "output_type": "execute_result"
    }
   ],
   "source": [
    "one.aaa = '이것은 원이다.'\n",
    "one.__dict__"
   ]
  },
  {
   "cell_type": "code",
   "execution_count": 89,
   "id": "2e8ae6b9",
   "metadata": {},
   "outputs": [],
   "source": [
    "two = Person()"
   ]
  },
  {
   "cell_type": "code",
   "execution_count": 91,
   "id": "44f344ad",
   "metadata": {},
   "outputs": [
    {
     "data": {
      "text/plain": [
       "{'hello': '안녕하세요.'}"
      ]
     },
     "execution_count": 91,
     "metadata": {},
     "output_type": "execute_result"
    }
   ],
   "source": [
    "two.__dict__"
   ]
  },
  {
   "cell_type": "code",
   "execution_count": 95,
   "id": "2482d2ce",
   "metadata": {},
   "outputs": [
    {
     "ename": "AttributeError",
     "evalue": "'Person' object has no attribute 'aaa'",
     "output_type": "error",
     "traceback": [
      "\u001b[0;31m---------------------------------------------------------------------------\u001b[0m",
      "\u001b[0;31mAttributeError\u001b[0m                            Traceback (most recent call last)",
      "\u001b[0;32m<ipython-input-95-ba2127f7ef80>\u001b[0m in \u001b[0;36m<module>\u001b[0;34m\u001b[0m\n\u001b[0;32m----> 1\u001b[0;31m \u001b[0mtwo\u001b[0m\u001b[0;34m.\u001b[0m\u001b[0maaa\u001b[0m\u001b[0;34m\u001b[0m\u001b[0;34m\u001b[0m\u001b[0m\n\u001b[0m",
      "\u001b[0;31mAttributeError\u001b[0m: 'Person' object has no attribute 'aaa'"
     ]
    }
   ],
   "source": [
    "two.aaa"
   ]
  }
 ],
 "metadata": {
  "kernelspec": {
   "display_name": "Python 3",
   "language": "python",
   "name": "python3"
  },
  "language_info": {
   "codemirror_mode": {
    "name": "ipython",
    "version": 3
   },
   "file_extension": ".py",
   "mimetype": "text/x-python",
   "name": "python",
   "nbconvert_exporter": "python",
   "pygments_lexer": "ipython3",
   "version": "3.8.8"
  }
 },
 "nbformat": 4,
 "nbformat_minor": 5
}
