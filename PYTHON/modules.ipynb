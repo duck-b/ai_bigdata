{
 "cells": [
  {
   "cell_type": "code",
   "execution_count": null,
   "id": "352145dc",
   "metadata": {},
   "outputs": [],
   "source": [
    "print('hello 모듈 시작')\n",
    "print('__name__: ', __name__)\n",
    "print('hello 모듈 종료')"
   ]
  },
  {
   "cell_type": "code",
   "execution_count": null,
   "id": "1f3e8cbe",
   "metadata": {},
   "outputs": [],
   "source": [
    "import hello\n",
    "\n",
    "print('main.py __name__: ',__name__)"
   ]
  },
  {
   "cell_type": "code",
   "execution_count": null,
   "id": "50044049",
   "metadata": {},
   "outputs": [],
   "source": [
    "del hello"
   ]
  },
  {
   "cell_type": "code",
   "execution_count": 1,
   "id": "e5c0ca88",
   "metadata": {},
   "outputs": [
    {
     "name": "stdout",
     "output_type": "stream",
     "text": [
      "hello 모듈 시작\n",
      "__name__:  hello\n",
      "hello 모듈 종료\n",
      "main.py __name__:  __main__\n",
      "a:  20\n",
      "hello.a:  10\n"
     ]
    }
   ],
   "source": [
    "import hello\n",
    "a = 20\n",
    "print('main.py __name__: ',__name__)\n",
    "print('a: ', a)\n",
    "print('hello.a: ', hello.a)"
   ]
  },
  {
   "cell_type": "code",
   "execution_count": 2,
   "id": "4d0ec192",
   "metadata": {},
   "outputs": [],
   "source": [
    "import calcpkg.operation\n",
    "import calcpkg.geometry"
   ]
  },
  {
   "cell_type": "code",
   "execution_count": 5,
   "id": "8baa1a6f",
   "metadata": {},
   "outputs": [
    {
     "name": "stdout",
     "output_type": "stream",
     "text": [
      "30\n",
      "200\n",
      "600.0\n",
      "1200\n"
     ]
    }
   ],
   "source": [
    "print(calcpkg.operation.add(10, 20))\n",
    "print(calcpkg.operation.mul(10, 20))\n",
    "\n",
    "print(calcpkg.geometry.triangle_area(30, 40))\n",
    "print(calcpkg.geometry.rectangle_area(30, 40))"
   ]
  },
  {
   "cell_type": "code",
   "execution_count": 1,
   "id": "113077b2",
   "metadata": {},
   "outputs": [
    {
     "data": {
      "text/plain": [
       "['/Users/jaehyeong/Documents/code/python-project/PYTHON',\n",
       " '/Users/jaehyeong/opt/anaconda3/lib/python38.zip',\n",
       " '/Users/jaehyeong/opt/anaconda3/lib/python3.8',\n",
       " '/Users/jaehyeong/opt/anaconda3/lib/python3.8/lib-dynload',\n",
       " '',\n",
       " '/Users/jaehyeong/.local/lib/python3.8/site-packages',\n",
       " '/Users/jaehyeong/opt/anaconda3/lib/python3.8/site-packages',\n",
       " '/Users/jaehyeong/opt/anaconda3/lib/python3.8/site-packages/aeosa',\n",
       " '/Users/jaehyeong/opt/anaconda3/lib/python3.8/site-packages/locket-0.2.1-py3.8.egg',\n",
       " '/Users/jaehyeong/opt/anaconda3/lib/python3.8/site-packages/IPython/extensions',\n",
       " '/Users/jaehyeong/.ipython']"
      ]
     },
     "execution_count": 1,
     "metadata": {},
     "output_type": "execute_result"
    }
   ],
   "source": [
    "import sys\n",
    "sys.path"
   ]
  },
  {
   "cell_type": "code",
   "execution_count": 2,
   "id": "c25c5a68",
   "metadata": {},
   "outputs": [
    {
     "data": {
      "text/plain": [
       "6"
      ]
     },
     "execution_count": 2,
     "metadata": {},
     "output_type": "execute_result"
    }
   ],
   "source": [
    "a = 3\n",
    "b = 1\n",
    "a << b"
   ]
  },
  {
   "cell_type": "code",
   "execution_count": null,
   "id": "e27231d7",
   "metadata": {},
   "outputs": [],
   "source": []
  }
 ],
 "metadata": {
  "kernelspec": {
   "display_name": "Python 3",
   "language": "python",
   "name": "python3"
  },
  "language_info": {
   "codemirror_mode": {
    "name": "ipython",
    "version": 3
   },
   "file_extension": ".py",
   "mimetype": "text/x-python",
   "name": "python",
   "nbconvert_exporter": "python",
   "pygments_lexer": "ipython3",
   "version": "3.8.8"
  }
 },
 "nbformat": 4,
 "nbformat_minor": 5
}
